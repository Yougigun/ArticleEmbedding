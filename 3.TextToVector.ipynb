{
 "cells": [
  {
   "cell_type": "code",
   "execution_count": 265,
   "metadata": {},
   "outputs": [],
   "source": [
    "from ArticlesRep import MeanSimilarityoneindustry,MeanSimilaritytwoindustry #common function\n",
    "\n",
    "import pandas as pd\n",
    "\n",
    "import numpy as np\n",
    "\n",
    "%matplotlib inline\n",
    "\n",
    "import pickle\n",
    "\n",
    "import visdom\n",
    "\n",
    "from tqdm import tnrange, tqdm_notebook\n",
    "from tqdm.autonotebook import tqdm\n",
    "tqdm.pandas()\n",
    "\n",
    "from time import time,sleep\n",
    "from datetime import datetime\n",
    "\n",
    "from sklearn.metrics.pairwise import cosine_similarity\n",
    "# import visdom\n",
    "# vis=visdom.Visdom()\n",
    "# env=\"TagBased\"\n",
    "\n",
    "import warnings\n",
    "warnings.simplefilter(action='ignore', category=FutureWarning)\n",
    "# %matplotlib inline\n",
    "\n",
    "import re\n",
    "import sys\n",
    "from pprint import pprint\n",
    "#coding:utf-8\n",
    "\n",
    "#solved chinese display in matplotlib\n",
    "from pylab import mpl\n",
    "mpl.rcParams[\"font.family\"] = 'DFKai-sb' \n",
    "mpl.rcParams['axes.unicode_minus'] = False\n",
    "\n",
    "list_industry=[\"水泥\",\"食品飲料\",\"石化\",\"紡織\",\"電機機械\",\"電器電纜\",\"化學工業\",\n",
    "               \"建材居家用品\",\"造紙\",\"鋼鐵金屬\",\"車輛相關\",\"科技相關\",\"營建地產\",\"運輸\",\"觀光休閒娛樂\",\n",
    "               \"金融相關\",\"百貨通路\",\"公用事業\",\"控股\",\"生技醫療保健\",\"農林漁牧\",\"航天軍工\",\"能源\",\"傳播出版\",\"綜合\",\n",
    "               \"傳產其他\",\"其他\",\"金屬礦採選\",\n",
    "              ]\n",
    "element=\"氫氦鋰鈹硼碳氮氧氟氖鈉鎂鋁矽磷硫氯氬鉀鈣鈧鈦釩鉻錳鐵鈷鎳銅鋅鎵鍺砷硒溴氪銣鍶銀鎘銦錫銻碲碘氙銫鋇鉑金汞鉈鉛鉍釙氡鍅鐳\""
   ]
  },
  {
   "cell_type": "markdown",
   "metadata": {},
   "source": [
    "# Outline\n",
    "<li>Text to Vector version1\n",
    "<li>Text to Vector version2"
   ]
  },
  {
   "cell_type": "markdown",
   "metadata": {},
   "source": [
    "## Text to Vector version1\n",
    "<li> Load DataSet_vip_single_industry\n",
    "<li> Vectorization Binary one hot of bag word (first 20,000 popular word)\n",
    "<li> Save \n",
    "<li> Load\n",
    "<li> Sparcisity"
   ]
  },
  {
   "cell_type": "markdown",
   "metadata": {},
   "source": [
    "### Load DataSet_vip_single_industry"
   ]
  },
  {
   "cell_type": "code",
   "execution_count": 3,
   "metadata": {},
   "outputs": [],
   "source": [
    "with open(\"D:3.AutoencoderForArticle/DataSet_vip_single_industry\",\"rb\") as f:\n",
    "    DataSet=pickle.load(f)"
   ]
  },
  {
   "cell_type": "code",
   "execution_count": 5,
   "metadata": {},
   "outputs": [
    {
     "name": "stdout",
     "output_type": "stream",
     "text": [
      "<class 'pandas.core.frame.DataFrame'>\n",
      "RangeIndex: 154884 entries, 0 to 154883\n",
      "Data columns (total 3 columns):\n",
      "guid                           154884 non-null object\n",
      "title_token_plus_body_token    154884 non-null object\n",
      "indusrty_tags                  154884 non-null object\n",
      "dtypes: object(3)\n",
      "memory usage: 3.5+ MB\n"
     ]
    }
   ],
   "source": [
    "DataSet.info()"
   ]
  },
  {
   "cell_type": "code",
   "execution_count": 9,
   "metadata": {
    "scrolled": true
   },
   "outputs": [
    {
     "data": {
      "text/html": [
       "<div>\n",
       "<style scoped>\n",
       "    .dataframe tbody tr th:only-of-type {\n",
       "        vertical-align: middle;\n",
       "    }\n",
       "\n",
       "    .dataframe tbody tr th {\n",
       "        vertical-align: top;\n",
       "    }\n",
       "\n",
       "    .dataframe thead th {\n",
       "        text-align: right;\n",
       "    }\n",
       "</style>\n",
       "<table border=\"1\" class=\"dataframe\">\n",
       "  <thead>\n",
       "    <tr style=\"text-align: right;\">\n",
       "      <th></th>\n",
       "      <th>guid</th>\n",
       "      <th>title_token_plus_body_token</th>\n",
       "      <th>indusrty_tags</th>\n",
       "    </tr>\n",
       "  </thead>\n",
       "  <tbody>\n",
       "    <tr>\n",
       "      <th>0</th>\n",
       "      <td>4dd5651a-8d9d-4c38-b658-696242109941</td>\n",
       "      <td>Fund 消息 資金 連 周 回流 收債 後市 看 樂觀 美國 景氣 維持 暢旺 加上 市場...</td>\n",
       "      <td>{鋼鐵金屬}</td>\n",
       "    </tr>\n",
       "    <tr>\n",
       "      <th>1</th>\n",
       "      <td>8b6822c0-e646-4592-a783-0aaf54e9aa6f</td>\n",
       "      <td>安心 今年 高度 挑戰 一年 自助 點餐 機助 效率 提升 餐飲業 人事 成本 持續 攀升 ...</td>\n",
       "      <td>{觀光休閒娛樂}</td>\n",
       "    </tr>\n",
       "    <tr>\n",
       "      <th>2</th>\n",
       "      <td>2a05600a-75ff-4f0e-be07-97c4362e88d6</td>\n",
       "      <td>信義 房市 北溫 南冷 大雨 民俗 澆熄 熱度 信義 房屋 統計 全台 都會區 門市 交易 ...</td>\n",
       "      <td>{營建地產}</td>\n",
       "    </tr>\n",
       "    <tr>\n",
       "      <th>3</th>\n",
       "      <td>494d18ba-75d1-4276-8fb3-cccec13eebaa</td>\n",
       "      <td>陸 鋼鐵 PMI 降至 後市 鋼價料 高檔 支撐 西 本 新幹線 報導 物聯 鋼鐵 物流 專...</td>\n",
       "      <td>{鋼鐵金屬}</td>\n",
       "    </tr>\n",
       "    <tr>\n",
       "      <th>4</th>\n",
       "      <td>d219315e-5b1d-41ba-b89a-7381f39c133a</td>\n",
       "      <td>巴菲特 蘋果 別 投資 特斯拉 馬斯克 太常 推文 利生 產 特斯拉 Tesla Inc 執...</td>\n",
       "      <td>{車輛相關}</td>\n",
       "    </tr>\n",
       "  </tbody>\n",
       "</table>\n",
       "</div>"
      ],
      "text/plain": [
       "                                   guid  \\\n",
       "0  4dd5651a-8d9d-4c38-b658-696242109941   \n",
       "1  8b6822c0-e646-4592-a783-0aaf54e9aa6f   \n",
       "2  2a05600a-75ff-4f0e-be07-97c4362e88d6   \n",
       "3  494d18ba-75d1-4276-8fb3-cccec13eebaa   \n",
       "4  d219315e-5b1d-41ba-b89a-7381f39c133a   \n",
       "\n",
       "                         title_token_plus_body_token indusrty_tags  \n",
       "0  Fund 消息 資金 連 周 回流 收債 後市 看 樂觀 美國 景氣 維持 暢旺 加上 市場...        {鋼鐵金屬}  \n",
       "1  安心 今年 高度 挑戰 一年 自助 點餐 機助 效率 提升 餐飲業 人事 成本 持續 攀升 ...      {觀光休閒娛樂}  \n",
       "2  信義 房市 北溫 南冷 大雨 民俗 澆熄 熱度 信義 房屋 統計 全台 都會區 門市 交易 ...        {營建地產}  \n",
       "3  陸 鋼鐵 PMI 降至 後市 鋼價料 高檔 支撐 西 本 新幹線 報導 物聯 鋼鐵 物流 專...        {鋼鐵金屬}  \n",
       "4  巴菲特 蘋果 別 投資 特斯拉 馬斯克 太常 推文 利生 產 特斯拉 Tesla Inc 執...        {車輛相關}  "
      ]
     },
     "execution_count": 9,
     "metadata": {},
     "output_type": "execute_result"
    }
   ],
   "source": [
    "DataSet.head()"
   ]
  },
  {
   "cell_type": "code",
   "execution_count": 6,
   "metadata": {
    "scrolled": true
   },
   "outputs": [
    {
     "data": {
      "text/html": [
       "<div>\n",
       "<style scoped>\n",
       "    .dataframe tbody tr th:only-of-type {\n",
       "        vertical-align: middle;\n",
       "    }\n",
       "\n",
       "    .dataframe tbody tr th {\n",
       "        vertical-align: top;\n",
       "    }\n",
       "\n",
       "    .dataframe thead th {\n",
       "        text-align: right;\n",
       "    }\n",
       "</style>\n",
       "<table border=\"1\" class=\"dataframe\">\n",
       "  <thead>\n",
       "    <tr style=\"text-align: right;\">\n",
       "      <th></th>\n",
       "      <th>title_token_plus_body_token</th>\n",
       "      <th>counts</th>\n",
       "    </tr>\n",
       "  </thead>\n",
       "  <tbody>\n",
       "    <tr>\n",
       "      <th>0</th>\n",
       "      <td>美股 指數期貨 最新 報價 指數 漲跌 漲跌幅 資料 時間 時間 DJ IA INDEX a...</td>\n",
       "      <td>3074</td>\n",
       "    </tr>\n",
       "    <tr>\n",
       "      <th>1</th>\n",
       "      <td>股東會 資訊 好消息 台 總 報給 您 知 總 股份有限公司 徵求 股東會 委託書 提供 紀...</td>\n",
       "      <td>47</td>\n",
       "    </tr>\n",
       "    <tr>\n",
       "      <th>2</th>\n",
       "      <td>理財 短波 線上 開戶 首選 合庫 讓 您 證券 開戶 更 便利 合庫 證券 去 正式 啟動...</td>\n",
       "      <td>10</td>\n",
       "    </tr>\n",
       "    <tr>\n",
       "      <th>3</th>\n",
       "      <td>理財 短波 線上 開戶 首選 合庫 讓 您 證券 開戶 更 便利 合庫 證券 於今 正式 啟...</td>\n",
       "      <td>7</td>\n",
       "    </tr>\n",
       "    <tr>\n",
       "      <th>4</th>\n",
       "      <td>嘉實 學院 課程 招生 投資 美股 研習班 嘉實 學院 首次 開辦 美股 課程 特別 邀請 ...</td>\n",
       "      <td>7</td>\n",
       "    </tr>\n",
       "    <tr>\n",
       "      <th>5</th>\n",
       "      <td>理財 短波 線上 開戶 首選 合庫 讓 您 證券 開戶 更 便利 合庫 證券 於今 正式 啟...</td>\n",
       "      <td>5</td>\n",
       "    </tr>\n",
       "    <tr>\n",
       "      <th>6</th>\n",
       "      <td>日本 銀行 放款 餘額 年減 連 個 下滑 根據 日本央行 BOJ 公佈 日本 全 國 銀行...</td>\n",
       "      <td>4</td>\n",
       "    </tr>\n",
       "    <tr>\n",
       "      <th>7</th>\n",
       "      <td>日本經濟 銀行 放款 額 年增 連 個 增長 根據 日本央行 BOJ 公佈 日本 全 國 銀...</td>\n",
       "      <td>4</td>\n",
       "    </tr>\n",
       "    <tr>\n",
       "      <th>8</th>\n",
       "      <td>日本經濟 銀行 放款 餘額 年減 連 個 下滑 根據 日本央行 BOJ 公佈 日本 全 國 ...</td>\n",
       "      <td>3</td>\n",
       "    </tr>\n",
       "    <tr>\n",
       "      <th>9</th>\n",
       "      <td>日本央行 決議 短期 利率 誘導 目標 維持 不變 日本央行 BOJ 分 當地 時間 發佈 ...</td>\n",
       "      <td>3</td>\n",
       "    </tr>\n",
       "    <tr>\n",
       "      <th>10</th>\n",
       "      <td>美國 確定 喪失 抵押品 贖回 權 住屋 數量 又 創歷史新高 近期 金融市場 反彈 令 市...</td>\n",
       "      <td>2</td>\n",
       "    </tr>\n",
       "    <tr>\n",
       "      <th>11</th>\n",
       "      <td>旺宏 稅後 EPS 全年 EPS 旺宏 於今 召開 第四季 法人 說明會 第四季 營收 億元...</td>\n",
       "      <td>2</td>\n",
       "    </tr>\n",
       "    <tr>\n",
       "      <th>12</th>\n",
       "      <td>砷化鎵 代工 雙雄 月營收 續攻 三季 增幅 砷化鎵 代工 雙雄 月營收 可望 進一步 攻頂...</td>\n",
       "      <td>2</td>\n",
       "    </tr>\n",
       "    <tr>\n",
       "      <th>13</th>\n",
       "      <td>理財 短波 華南 永昌 證 敦南 分公司 邀 您 熟悉 軟體 運用 講座 內容 運用 華南 ...</td>\n",
       "      <td>2</td>\n",
       "    </tr>\n",
       "    <tr>\n",
       "      <th>14</th>\n",
       "      <td>全面 打入 各大 面板廠 穎 台 今年 業績 估再 擴散 板及 光學材料 廠穎台 科技 去年...</td>\n",
       "      <td>2</td>\n",
       "    </tr>\n",
       "    <tr>\n",
       "      <th>15</th>\n",
       "      <td>穎 台擬 發行 現增 預計 籌募 億元 擴產 擴散 板及 光學材料 大廠 穎 科技 去年 每...</td>\n",
       "      <td>2</td>\n",
       "    </tr>\n",
       "    <tr>\n",
       "      <th>16</th>\n",
       "      <td>拓 墣 品牌 山寨 NetBook 競爭 有利 台商 研究 機構 拓 墣 表示 中國 政策 ...</td>\n",
       "      <td>2</td>\n",
       "    </tr>\n",
       "    <tr>\n",
       "      <th>17</th>\n",
       "      <td>HiNet 光世代 用戶 年 過半 正式 超越 ADSL 中華電信 HiNet 數據通信 分...</td>\n",
       "      <td>2</td>\n",
       "    </tr>\n",
       "    <tr>\n",
       "      <th>18</th>\n",
       "      <td>日本 PCB 產量 連 個 衰退 軟板 大減 根據 日本電子 回路 工業 Japan Ele...</td>\n",
       "      <td>2</td>\n",
       "    </tr>\n",
       "    <tr>\n",
       "      <th>19</th>\n",
       "      <td>彩晶 每股 虧 業外 提 億元 訴訟 預備 面板廠 瀚 宇彩晶 去年 第四季 受到 面板 價...</td>\n",
       "      <td>2</td>\n",
       "    </tr>\n",
       "    <tr>\n",
       "      <th>20</th>\n",
       "      <td>日本經濟 準備貨幣 大增 再創 史上 新高 水準 根據 日本央行 BOJ 公佈 經濟 數據 ...</td>\n",
       "      <td>2</td>\n",
       "    </tr>\n",
       "    <tr>\n",
       "      <th>21</th>\n",
       "      <td>威剛 月營收 成長 中國 市場 相 暢旺 威剛 受惠 b NAND 現貨價 上漲 快閃記憶體...</td>\n",
       "      <td>2</td>\n",
       "    </tr>\n",
       "    <tr>\n",
       "      <th>22</th>\n",
       "      <td>豪宅 稅達 初步 共識 房屋稅 豪宅 調升 老屋 調降 財政部 召集 各縣市 稅捐處 商討 ...</td>\n",
       "      <td>2</td>\n",
       "    </tr>\n",
       "    <tr>\n",
       "      <th>23</th>\n",
       "      <td>合晶 首季 台灣 母公司 獲利 業外 待 結算 合晶 參加 OTC 所 主辦 綠能 法說 會...</td>\n",
       "      <td>2</td>\n",
       "    </tr>\n",
       "    <tr>\n",
       "      <th>24</th>\n",
       "      <td>微星 去年 受 NB 虧損 拖累 今年 獲利 要 回 水準 雖然 領先 推出 吋 Netbo...</td>\n",
       "      <td>2</td>\n",
       "    </tr>\n",
       "    <tr>\n",
       "      <th>25</th>\n",
       "      <td>日本央行 決議 短期 利率 誘導 目標 維持 不變 日本央行 BOJ 上午 分 當地 時間 ...</td>\n",
       "      <td>2</td>\n",
       "    </tr>\n",
       "    <tr>\n",
       "      <th>26</th>\n",
       "      <td>網龍 華英雄 同 上 突破 萬人 創國產 遊戲 紀錄 遊戲軟體 廠商 網龍 繼 旗下 武俠 ...</td>\n",
       "      <td>2</td>\n",
       "    </tr>\n",
       "    <tr>\n",
       "      <th>27</th>\n",
       "      <td>彩晶 IT 應用 面板 價格 可望 持穩 Monitor 監視器 應用 面板 價格 去年 反...</td>\n",
       "      <td>2</td>\n",
       "    </tr>\n",
       "    <tr>\n",
       "      <th>28</th>\n",
       "      <td>益通 毛利率 低 個位數 全球 庫存 去化 理想 益通 財務 長 羅來煌 表示 益通 第一季...</td>\n",
       "      <td>2</td>\n",
       "    </tr>\n",
       "    <tr>\n",
       "      <th>29</th>\n",
       "      <td>日本 月底 外匯存底 增至 連 個 增長 根據 日本 財務 省 公佈 統計資料 顯示 截至 ...</td>\n",
       "      <td>2</td>\n",
       "    </tr>\n",
       "    <tr>\n",
       "      <th>...</th>\n",
       "      <td>...</td>\n",
       "      <td>...</td>\n",
       "    </tr>\n",
       "    <tr>\n",
       "      <th>151631</th>\n",
       "      <td>美債 美債 限 危機 逼近 市場 避險 需求 孔急 美國 舉債 上限 攀頂 即 由於 朝野 ...</td>\n",
       "      <td>1</td>\n",
       "    </tr>\n",
       "    <tr>\n",
       "      <th>151632</th>\n",
       "      <td>華立 今 年資 通訊 半導體 看 正向 產品組合 料 轉佳 華立 月營收 年增 主要 受惠 ...</td>\n",
       "      <td>1</td>\n",
       "    </tr>\n",
       "    <tr>\n",
       "      <th>151633</th>\n",
       "      <td>匯市 美 新屋 銷售 遜 美元兌 日圓 週線 週來首 貶 美元 相 對於 歐元 日圓 走 貶...</td>\n",
       "      <td>1</td>\n",
       "    </tr>\n",
       "    <tr>\n",
       "      <th>151634</th>\n",
       "      <td>切入 NFC 應用 技術 勁永 於 MWC 推 NFC 隨身 碟 記憶體模組 廠商 勁永 參...</td>\n",
       "      <td>1</td>\n",
       "    </tr>\n",
       "    <tr>\n",
       "      <th>151635</th>\n",
       "      <td>北市 土 地熱 交易額 佔 全台 比重 近年 新高 內政部 統計 上半年 全 國 買賣 土地...</td>\n",
       "      <td>1</td>\n",
       "    </tr>\n",
       "    <tr>\n",
       "      <th>151636</th>\n",
       "      <td>中國電信 用戶 台灣 澳門 漫遊費 大降 實施 中國電信 HK 宣布 日起 大幅 調降 台灣...</td>\n",
       "      <td>1</td>\n",
       "    </tr>\n",
       "    <tr>\n",
       "      <th>151637</th>\n",
       "      <td>義隆 子公司 義晶 推出 影像處理 晶片 IC設計 廠商 義隆 電 轉投資 持股 子公司 義...</td>\n",
       "      <td>1</td>\n",
       "    </tr>\n",
       "    <tr>\n",
       "      <th>151638</th>\n",
       "      <td>力麒 建案 收入 空窗 合併 營收 年 減近 成 力麒 建設 公佈 合併 營收 億元 去年 ...</td>\n",
       "      <td>1</td>\n",
       "    </tr>\n",
       "    <tr>\n",
       "      <th>151639</th>\n",
       "      <td>迎 Win 商機 華碩 Computex 發表 認證 主機板 NB 迎接 嶄新 Window...</td>\n",
       "      <td>1</td>\n",
       "    </tr>\n",
       "    <tr>\n",
       "      <th>151640</th>\n",
       "      <td>智能 商機 非 空談 工業電腦 廠後勢 業績 看有 料 隨著 物聯網 雲端運算 智慧型 行動...</td>\n",
       "      <td>1</td>\n",
       "    </tr>\n",
       "    <tr>\n",
       "      <th>151641</th>\n",
       "      <td>超微 新 加速 處理器 獲 電腦展 最佳 產品 獎 國際 電腦展 最佳 產品 獎 Best ...</td>\n",
       "      <td>1</td>\n",
       "    </tr>\n",
       "    <tr>\n",
       "      <th>151642</th>\n",
       "      <td>力晶 營收 月營收 再 登 今年 新高 單月 轉盈 力晶 營收 傳捷報 公司 搶先 表示 力...</td>\n",
       "      <td>1</td>\n",
       "    </tr>\n",
       "    <tr>\n",
       "      <th>151643</th>\n",
       "      <td>估值 差異 考量 陸在 港 上市 中小銀行 擬回 歸 A股 中證網 報導 港交所 掛牌 青島...</td>\n",
       "      <td>1</td>\n",
       "    </tr>\n",
       "    <tr>\n",
       "      <th>151644</th>\n",
       "      <td>花旗 DELL 毛利 壓力 轉嫁到 ODM 仁寶 衝擊 DELL 財報 表現 理想 包括 營...</td>\n",
       "      <td>1</td>\n",
       "    </tr>\n",
       "    <tr>\n",
       "      <th>151645</th>\n",
       "      <td>農行 IPO A股 訂價 募資 有望 奪 全球 最高 記錄 一 財經 日報 報導 農行 SH...</td>\n",
       "      <td>1</td>\n",
       "    </tr>\n",
       "    <tr>\n",
       "      <th>151646</th>\n",
       "      <td>華碩 日本 PC 市佔率 走揚 出貨 表現 僅輸 蘋果 根據 本市 機構 MM 總研 MM ...</td>\n",
       "      <td>1</td>\n",
       "    </tr>\n",
       "    <tr>\n",
       "      <th>151647</th>\n",
       "      <td>成霖 上半年 EPS 訂單 旺旺 加班 因應 水龍頭 以及 廚衛 浴 用品 大廠 成霖 半年...</td>\n",
       "      <td>1</td>\n",
       "    </tr>\n",
       "    <tr>\n",
       "      <th>151648</th>\n",
       "      <td>財報 砷化鎵 Avago 營收 超標 本季 財測 樂觀 砷化鎵 GaAs RF 元件 供應商...</td>\n",
       "      <td>1</td>\n",
       "    </tr>\n",
       "    <tr>\n",
       "      <th>151649</th>\n",
       "      <td>貴金屬 金價 漲 鈀 金 續創新高 LME 休市 紐約 商品 期貨 交易所 COMEX 黃金...</td>\n",
       "      <td>1</td>\n",
       "    </tr>\n",
       "    <tr>\n",
       "      <th>151650</th>\n",
       "      <td>調查 年前 預約 看屋 創 年 雙北市 暴增 成 雖然 不少 房仲 已經 準備 休假 過年 ...</td>\n",
       "      <td>1</td>\n",
       "    </tr>\n",
       "    <tr>\n",
       "      <th>151651</th>\n",
       "      <td>台新金 三季 ROE 強調 證券 合併 綜效 已 顯現 台新金 控 於今 舉辦 法說 公布 ...</td>\n",
       "      <td>1</td>\n",
       "    </tr>\n",
       "    <tr>\n",
       "      <th>151652</th>\n",
       "      <td>F IML 中國 TV 面板 需求 旺 營運 有撐 IML 季 受益 iPad 拉貨 暢旺 ...</td>\n",
       "      <td>1</td>\n",
       "    </tr>\n",
       "    <tr>\n",
       "      <th>151653</th>\n",
       "      <td>潘思亮 捷絲 旅 明年 進軍 國際 採 授權 結盟 方式 經營 晶 華麗 晶 酒店 集團 董...</td>\n",
       "      <td>1</td>\n",
       "    </tr>\n",
       "    <tr>\n",
       "      <th>151654</th>\n",
       "      <td>華擎 搶先 推 首張 支援 英特爾 XM 技術 主機板 華擎 宣布 採用 Kingston ...</td>\n",
       "      <td>1</td>\n",
       "    </tr>\n",
       "    <tr>\n",
       "      <th>151655</th>\n",
       "      <td>惠普 同意 收購 Palm 收購 總值 億美元 惠普 HP 美東 時間 下午 分發 布 新聞...</td>\n",
       "      <td>1</td>\n",
       "    </tr>\n",
       "    <tr>\n",
       "      <th>151656</th>\n",
       "      <td>台經院 上修 今年 台灣 GDP 預估 台經院 發布 最新 經濟 預測 今年 台灣 經濟成長...</td>\n",
       "      <td>1</td>\n",
       "    </tr>\n",
       "    <tr>\n",
       "      <th>151657</th>\n",
       "      <td>英國 GDP 初值 符合 預期 英鎊 兌 美元 走強 英國 國家統計局 NS 公佈 受到 服...</td>\n",
       "      <td>1</td>\n",
       "    </tr>\n",
       "    <tr>\n",
       "      <th>151658</th>\n",
       "      <td>巨大 出貨 衝高 營收 成 自行車 龍頭 巨大 機械 台灣 廠區 營收 億元 成長 年增 巨...</td>\n",
       "      <td>1</td>\n",
       "    </tr>\n",
       "    <tr>\n",
       "      <th>151659</th>\n",
       "      <td>奇偶 合併 獲利 稅前 EPS 網路 攝影機 IP Cam 出貨 順暢 安全監控 奇偶 科技...</td>\n",
       "      <td>1</td>\n",
       "    </tr>\n",
       "    <tr>\n",
       "      <th>151660</th>\n",
       "      <td>義隆 營收 減 低 預期 但 動能 可期 IC設計 義隆 電 揭露 合併 營收 來到 億元 ...</td>\n",
       "      <td>1</td>\n",
       "    </tr>\n",
       "  </tbody>\n",
       "</table>\n",
       "<p>151661 rows × 2 columns</p>\n",
       "</div>"
      ],
      "text/plain": [
       "                              title_token_plus_body_token  counts\n",
       "0       美股 指數期貨 最新 報價 指數 漲跌 漲跌幅 資料 時間 時間 DJ IA INDEX a...    3074\n",
       "1       股東會 資訊 好消息 台 總 報給 您 知 總 股份有限公司 徵求 股東會 委託書 提供 紀...      47\n",
       "2       理財 短波 線上 開戶 首選 合庫 讓 您 證券 開戶 更 便利 合庫 證券 去 正式 啟動...      10\n",
       "3       理財 短波 線上 開戶 首選 合庫 讓 您 證券 開戶 更 便利 合庫 證券 於今 正式 啟...       7\n",
       "4       嘉實 學院 課程 招生 投資 美股 研習班 嘉實 學院 首次 開辦 美股 課程 特別 邀請 ...       7\n",
       "5       理財 短波 線上 開戶 首選 合庫 讓 您 證券 開戶 更 便利 合庫 證券 於今 正式 啟...       5\n",
       "6       日本 銀行 放款 餘額 年減 連 個 下滑 根據 日本央行 BOJ 公佈 日本 全 國 銀行...       4\n",
       "7       日本經濟 銀行 放款 額 年增 連 個 增長 根據 日本央行 BOJ 公佈 日本 全 國 銀...       4\n",
       "8       日本經濟 銀行 放款 餘額 年減 連 個 下滑 根據 日本央行 BOJ 公佈 日本 全 國 ...       3\n",
       "9       日本央行 決議 短期 利率 誘導 目標 維持 不變 日本央行 BOJ 分 當地 時間 發佈 ...       3\n",
       "10      美國 確定 喪失 抵押品 贖回 權 住屋 數量 又 創歷史新高 近期 金融市場 反彈 令 市...       2\n",
       "11      旺宏 稅後 EPS 全年 EPS 旺宏 於今 召開 第四季 法人 說明會 第四季 營收 億元...       2\n",
       "12      砷化鎵 代工 雙雄 月營收 續攻 三季 增幅 砷化鎵 代工 雙雄 月營收 可望 進一步 攻頂...       2\n",
       "13      理財 短波 華南 永昌 證 敦南 分公司 邀 您 熟悉 軟體 運用 講座 內容 運用 華南 ...       2\n",
       "14      全面 打入 各大 面板廠 穎 台 今年 業績 估再 擴散 板及 光學材料 廠穎台 科技 去年...       2\n",
       "15      穎 台擬 發行 現增 預計 籌募 億元 擴產 擴散 板及 光學材料 大廠 穎 科技 去年 每...       2\n",
       "16      拓 墣 品牌 山寨 NetBook 競爭 有利 台商 研究 機構 拓 墣 表示 中國 政策 ...       2\n",
       "17      HiNet 光世代 用戶 年 過半 正式 超越 ADSL 中華電信 HiNet 數據通信 分...       2\n",
       "18      日本 PCB 產量 連 個 衰退 軟板 大減 根據 日本電子 回路 工業 Japan Ele...       2\n",
       "19      彩晶 每股 虧 業外 提 億元 訴訟 預備 面板廠 瀚 宇彩晶 去年 第四季 受到 面板 價...       2\n",
       "20      日本經濟 準備貨幣 大增 再創 史上 新高 水準 根據 日本央行 BOJ 公佈 經濟 數據 ...       2\n",
       "21      威剛 月營收 成長 中國 市場 相 暢旺 威剛 受惠 b NAND 現貨價 上漲 快閃記憶體...       2\n",
       "22      豪宅 稅達 初步 共識 房屋稅 豪宅 調升 老屋 調降 財政部 召集 各縣市 稅捐處 商討 ...       2\n",
       "23      合晶 首季 台灣 母公司 獲利 業外 待 結算 合晶 參加 OTC 所 主辦 綠能 法說 會...       2\n",
       "24      微星 去年 受 NB 虧損 拖累 今年 獲利 要 回 水準 雖然 領先 推出 吋 Netbo...       2\n",
       "25      日本央行 決議 短期 利率 誘導 目標 維持 不變 日本央行 BOJ 上午 分 當地 時間 ...       2\n",
       "26      網龍 華英雄 同 上 突破 萬人 創國產 遊戲 紀錄 遊戲軟體 廠商 網龍 繼 旗下 武俠 ...       2\n",
       "27      彩晶 IT 應用 面板 價格 可望 持穩 Monitor 監視器 應用 面板 價格 去年 反...       2\n",
       "28      益通 毛利率 低 個位數 全球 庫存 去化 理想 益通 財務 長 羅來煌 表示 益通 第一季...       2\n",
       "29      日本 月底 外匯存底 增至 連 個 增長 根據 日本 財務 省 公佈 統計資料 顯示 截至 ...       2\n",
       "...                                                   ...     ...\n",
       "151631  美債 美債 限 危機 逼近 市場 避險 需求 孔急 美國 舉債 上限 攀頂 即 由於 朝野 ...       1\n",
       "151632  華立 今 年資 通訊 半導體 看 正向 產品組合 料 轉佳 華立 月營收 年增 主要 受惠 ...       1\n",
       "151633  匯市 美 新屋 銷售 遜 美元兌 日圓 週線 週來首 貶 美元 相 對於 歐元 日圓 走 貶...       1\n",
       "151634  切入 NFC 應用 技術 勁永 於 MWC 推 NFC 隨身 碟 記憶體模組 廠商 勁永 參...       1\n",
       "151635  北市 土 地熱 交易額 佔 全台 比重 近年 新高 內政部 統計 上半年 全 國 買賣 土地...       1\n",
       "151636  中國電信 用戶 台灣 澳門 漫遊費 大降 實施 中國電信 HK 宣布 日起 大幅 調降 台灣...       1\n",
       "151637  義隆 子公司 義晶 推出 影像處理 晶片 IC設計 廠商 義隆 電 轉投資 持股 子公司 義...       1\n",
       "151638  力麒 建案 收入 空窗 合併 營收 年 減近 成 力麒 建設 公佈 合併 營收 億元 去年 ...       1\n",
       "151639  迎 Win 商機 華碩 Computex 發表 認證 主機板 NB 迎接 嶄新 Window...       1\n",
       "151640  智能 商機 非 空談 工業電腦 廠後勢 業績 看有 料 隨著 物聯網 雲端運算 智慧型 行動...       1\n",
       "151641  超微 新 加速 處理器 獲 電腦展 最佳 產品 獎 國際 電腦展 最佳 產品 獎 Best ...       1\n",
       "151642  力晶 營收 月營收 再 登 今年 新高 單月 轉盈 力晶 營收 傳捷報 公司 搶先 表示 力...       1\n",
       "151643  估值 差異 考量 陸在 港 上市 中小銀行 擬回 歸 A股 中證網 報導 港交所 掛牌 青島...       1\n",
       "151644  花旗 DELL 毛利 壓力 轉嫁到 ODM 仁寶 衝擊 DELL 財報 表現 理想 包括 營...       1\n",
       "151645  農行 IPO A股 訂價 募資 有望 奪 全球 最高 記錄 一 財經 日報 報導 農行 SH...       1\n",
       "151646  華碩 日本 PC 市佔率 走揚 出貨 表現 僅輸 蘋果 根據 本市 機構 MM 總研 MM ...       1\n",
       "151647  成霖 上半年 EPS 訂單 旺旺 加班 因應 水龍頭 以及 廚衛 浴 用品 大廠 成霖 半年...       1\n",
       "151648  財報 砷化鎵 Avago 營收 超標 本季 財測 樂觀 砷化鎵 GaAs RF 元件 供應商...       1\n",
       "151649  貴金屬 金價 漲 鈀 金 續創新高 LME 休市 紐約 商品 期貨 交易所 COMEX 黃金...       1\n",
       "151650  調查 年前 預約 看屋 創 年 雙北市 暴增 成 雖然 不少 房仲 已經 準備 休假 過年 ...       1\n",
       "151651  台新金 三季 ROE 強調 證券 合併 綜效 已 顯現 台新金 控 於今 舉辦 法說 公布 ...       1\n",
       "151652  F IML 中國 TV 面板 需求 旺 營運 有撐 IML 季 受益 iPad 拉貨 暢旺 ...       1\n",
       "151653  潘思亮 捷絲 旅 明年 進軍 國際 採 授權 結盟 方式 經營 晶 華麗 晶 酒店 集團 董...       1\n",
       "151654  華擎 搶先 推 首張 支援 英特爾 XM 技術 主機板 華擎 宣布 採用 Kingston ...       1\n",
       "151655  惠普 同意 收購 Palm 收購 總值 億美元 惠普 HP 美東 時間 下午 分發 布 新聞...       1\n",
       "151656  台經院 上修 今年 台灣 GDP 預估 台經院 發布 最新 經濟 預測 今年 台灣 經濟成長...       1\n",
       "151657  英國 GDP 初值 符合 預期 英鎊 兌 美元 走強 英國 國家統計局 NS 公佈 受到 服...       1\n",
       "151658  巨大 出貨 衝高 營收 成 自行車 龍頭 巨大 機械 台灣 廠區 營收 億元 成長 年增 巨...       1\n",
       "151659  奇偶 合併 獲利 稅前 EPS 網路 攝影機 IP Cam 出貨 順暢 安全監控 奇偶 科技...       1\n",
       "151660  義隆 營收 減 低 預期 但 動能 可期 IC設計 義隆 電 揭露 合併 營收 來到 億元 ...       1\n",
       "\n",
       "[151661 rows x 2 columns]"
      ]
     },
     "execution_count": 6,
     "metadata": {},
     "output_type": "execute_result"
    }
   ],
   "source": [
    "_=DataSet[\"title_token_plus_body_token\"]\n",
    "_=_.value_counts()\n",
    "_.reset_index().rename(columns={\"index\":\"title_token_plus_body_token\",\"title_token_plus_body_token\":\"counts\"})"
   ]
  },
  {
   "cell_type": "code",
   "execution_count": 310,
   "metadata": {},
   "outputs": [],
   "source": [
    "# with open(\"D:3.AutoencoderForArticle/testset_vip.v01.p\",\"wb\") as f:\n",
    "#     pickle.dump(file=f,obj=trainset_vip)"
   ]
  },
  {
   "cell_type": "code",
   "execution_count": 311,
   "metadata": {},
   "outputs": [],
   "source": [
    "# with open(\"D:3.AutoencoderForArticle/testset_vip.v01.p\",\"rb\") as f:\n",
    "#     x=pickle.load(f)"
   ]
  },
  {
   "cell_type": "markdown",
   "metadata": {},
   "source": [
    "### Vectorization"
   ]
  },
  {
   "cell_type": "code",
   "execution_count": 21,
   "metadata": {},
   "outputs": [
    {
     "name": "stderr",
     "output_type": "stream",
     "text": [
      "Using TensorFlow backend.\n"
     ]
    }
   ],
   "source": [
    "from keras.preprocessing.text import Tokenizer"
   ]
  },
  {
   "cell_type": "code",
   "execution_count": 62,
   "metadata": {},
   "outputs": [
    {
     "name": "stdout",
     "output_type": "stream",
     "text": [
      "Found 272511 unique tokens.\n"
     ]
    }
   ],
   "source": [
    "texts = DataSet[\"title_token_plus_body_token\"]\n",
    "tokenizer = Tokenizer(num_words=20000,)\n",
    "tokenizer.fit_on_texts(texts)\n",
    "word_index = tokenizer.word_index\n",
    "print('Found %s unique tokens.' % len(word_index))\n",
    "# word_index"
   ]
  },
  {
   "cell_type": "code",
   "execution_count": 29,
   "metadata": {
    "scrolled": true
   },
   "outputs": [],
   "source": [
    "_=pd.Series(tokenizer.word_counts)\n",
    "_.sort_values(ascending=False,inplace=True)"
   ]
  },
  {
   "cell_type": "code",
   "execution_count": 61,
   "metadata": {},
   "outputs": [
    {
     "data": {
      "text/plain": [
       "營收       252141\n",
       "億元       209036\n",
       "今年       202674\n",
       "表示       187343\n",
       "市場       180937\n",
       "公司       158782\n",
       "短空           99\n",
       "房仲業          99\n",
       "支持率          99\n",
       "天膠           99\n",
       "效用           99\n",
       "led基板        99\n",
       "dtype: int64"
      ]
     },
     "execution_count": 61,
     "metadata": {},
     "output_type": "execute_result"
    }
   ],
   "source": [
    "_[:20000][[0,1,2,3,4,5,-6,-5,-4,-3,-2,-1]]"
   ]
  },
  {
   "cell_type": "code",
   "execution_count": 68,
   "metadata": {},
   "outputs": [
    {
     "data": {
      "text/plain": [
       "表示      95150\n",
       "而       77839\n",
       "市場      75096\n",
       "今年      71997\n",
       "指出      71724\n",
       "公司      67069\n",
       "愈加         70\n",
       "施打         70\n",
       "有信心的       70\n",
       "可延長        70\n",
       "呈報         70\n",
       "數位經濟       70\n",
       "dtype: int64"
      ]
     },
     "execution_count": 68,
     "metadata": {},
     "output_type": "execute_result"
    }
   ],
   "source": [
    "_=pd.Series(tokenizer.word_docs)\n",
    "_.sort_values(ascending=False,inplace=True)\n",
    "_[:20000][[0,1,2,3,4,5,-6,-5,-4,-3,-2,-1]]"
   ]
  },
  {
   "cell_type": "code",
   "execution_count": 70,
   "metadata": {},
   "outputs": [
    {
     "data": {
      "text/plain": [
       "array([[0., 1., 0., ..., 0., 0., 0.],\n",
       "       [0., 0., 0., ..., 0., 0., 0.],\n",
       "       [0., 0., 0., ..., 0., 0., 0.],\n",
       "       ...,\n",
       "       [0., 0., 1., ..., 0., 0., 0.],\n",
       "       [0., 0., 0., ..., 0., 0., 0.],\n",
       "       [0., 1., 1., ..., 0., 0., 0.]])"
      ]
     },
     "execution_count": 70,
     "metadata": {},
     "output_type": "execute_result"
    }
   ],
   "source": [
    "one_hot_results = tokenizer.texts_to_matrix(texts, mode='binary')\n",
    "one_hot_results"
   ]
  },
  {
   "cell_type": "code",
   "execution_count": 88,
   "metadata": {},
   "outputs": [],
   "source": [
    "one_hot_results=one_hot_results.astype(int)"
   ]
  },
  {
   "cell_type": "code",
   "execution_count": 90,
   "metadata": {},
   "outputs": [
    {
     "data": {
      "text/plain": [
       "dtype('int32')"
      ]
     },
     "execution_count": 90,
     "metadata": {},
     "output_type": "execute_result"
    }
   ],
   "source": [
    "one_hot_results"
   ]
  },
  {
   "cell_type": "markdown",
   "metadata": {},
   "source": [
    "### Save one_hot_results "
   ]
  },
  {
   "cell_type": "code",
   "execution_count": 91,
   "metadata": {},
   "outputs": [],
   "source": [
    "# np.save(\"D:3.AutoencoderForArticle/BOW_binary_v01.npy\",one_hot_results)"
   ]
  },
  {
   "cell_type": "markdown",
   "metadata": {},
   "source": [
    "### Load one_hot_results "
   ]
  },
  {
   "cell_type": "code",
   "execution_count": 6,
   "metadata": {},
   "outputs": [],
   "source": [
    "BOW_binary=np.load(\"D:3.AutoencoderForArticle/BOW_binary_v01.npy\")"
   ]
  },
  {
   "cell_type": "code",
   "execution_count": 7,
   "metadata": {},
   "outputs": [
    {
     "name": "stdout",
     "output_type": "stream",
     "text": [
      "0.616%\n"
     ]
    }
   ],
   "source": [
    "#sparcity\n",
    "sparcity=np.mean(BOW_binary)\n",
    "print(\"{}%\".format(np.round(sparcity,5)*100))"
   ]
  },
  {
   "cell_type": "code",
   "execution_count": 8,
   "metadata": {},
   "outputs": [
    {
     "data": {
      "text/plain": [
       "203"
      ]
     },
     "execution_count": 8,
     "metadata": {},
     "output_type": "execute_result"
    }
   ],
   "source": [
    "np.sum(BOW_binary[69520])"
   ]
  },
  {
   "cell_type": "markdown",
   "metadata": {},
   "source": [
    "## Text to Vector version2\n",
    "<li> Load DataSet_vip_single_industry\n",
    "<li> Build Vocabulary(commenest 3700 words per industry)\n",
    "<li> Use Vocanbulry to vectrize text  \n",
    "<li> Sparcisity\n",
    "<li> Save"
   ]
  },
  {
   "cell_type": "markdown",
   "metadata": {},
   "source": [
    "#### Load DataSet_vip_single_industry"
   ]
  },
  {
   "cell_type": "code",
   "execution_count": null,
   "metadata": {},
   "outputs": [],
   "source": [
    "with open(\"D:3.AutoencoderForArticle/DataSet_vip_single_industry\",\"rb\") as f:\n",
    "    DataSet=pickle.load(f)"
   ]
  },
  {
   "cell_type": "code",
   "execution_count": 21,
   "metadata": {},
   "outputs": [
    {
     "name": "stderr",
     "output_type": "stream",
     "text": [
      "Using TensorFlow backend.\n"
     ]
    }
   ],
   "source": [
    "from keras.preprocessing.text import Tokenizer"
   ]
  },
  {
   "cell_type": "markdown",
   "metadata": {},
   "source": [
    "#### Build Vocabulary"
   ]
  },
  {
   "cell_type": "code",
   "execution_count": 190,
   "metadata": {},
   "outputs": [
    {
     "data": {
      "application/vnd.jupyter.widget-view+json": {
       "model_id": "72f0a29b310e427185ab94505b661b4c",
       "version_major": 2,
       "version_minor": 0
      },
      "text/plain": [
       "HBox(children=(IntProgress(value=0, max=28), HTML(value='')))"
      ]
     },
     "metadata": {},
     "output_type": "display_data"
    },
    {
     "name": "stdout",
     "output_type": "stream",
     "text": [
      "\n"
     ]
    }
   ],
   "source": [
    "dictindustryvocabulary=dict()\n",
    "n=3700\n",
    "for idu in  tqdm_notebook(list_industry):\n",
    "    text=DataSet[DataSet[\"indusrty_tags\"]=={idu}][\"title_token_plus_body_token\"].values\n",
    "    tokenizer=Tokenizer(num_words=n)\n",
    "    tokenizer.fit_on_texts(text)\n",
    "    \n",
    "    df=pd.Series(tokenizer.word_index)\n",
    "    wordset=df.sort_values(ascending=True).index[:n]\n",
    "    \n",
    "    dictindustryvocabulary[idu]=wordset"
   ]
  },
  {
   "cell_type": "code",
   "execution_count": 291,
   "metadata": {
    "scrolled": true
   },
   "outputs": [],
   "source": [
    "vocabulary=set()\n",
    "allhave=set()\n",
    "for i,k in enumerate(dictindustryvocabulary):\n",
    "#     print(len(dictindustryvocabulary[k]))\n",
    "    vocabulary=vocabulary|set(dictindustryvocabulary[k])\n",
    "    if i==0:allhave=allhave|set(dictindustryvocabulary[k])\n",
    "    allhave=allhave&set(dictindustryvocabulary[k])"
   ]
  },
  {
   "cell_type": "code",
   "execution_count": 292,
   "metadata": {},
   "outputs": [
    {
     "data": {
      "text/plain": [
       "20506"
      ]
     },
     "execution_count": 292,
     "metadata": {},
     "output_type": "execute_result"
    }
   ],
   "source": [
    "len(vocabulary)"
   ]
  },
  {
   "cell_type": "code",
   "execution_count": 310,
   "metadata": {
    "scrolled": true
   },
   "outputs": [],
   "source": [
    "word_industrys={i:0 for i in vocabulary}\n",
    "for k in dictindustryvocabulary:\n",
    "    for word in dictindustryvocabulary[k]:\n",
    "        word_industrys[word]+=1"
   ]
  },
  {
   "cell_type": "code",
   "execution_count": 311,
   "metadata": {
    "scrolled": true
   },
   "outputs": [],
   "source": [
    "df=pd.Series(word_industrys)\n",
    "df=pd.DataFrame(df.sort_values(ascending=False))"
   ]
  },
  {
   "cell_type": "code",
   "execution_count": 312,
   "metadata": {},
   "outputs": [],
   "source": [
    "discard_list=[]\n",
    "for word in vocabulary:\n",
    "    if len(word)==1:discard_list.append(word)\n"
   ]
  },
  {
   "cell_type": "code",
   "execution_count": 313,
   "metadata": {},
   "outputs": [
    {
     "data": {
      "text/plain": [
       "19404"
      ]
     },
     "execution_count": 313,
     "metadata": {},
     "output_type": "execute_result"
    }
   ],
   "source": [
    "vocabulary=vocabulary-(set(discard_list)-set(element))\n",
    "len(vocabulary)"
   ]
  },
  {
   "cell_type": "code",
   "execution_count": 254,
   "metadata": {},
   "outputs": [],
   "source": [
    "# with open(\"D:3.AutoencoderForArticle/vocabulary.p\",\"wb\") as f:\n",
    "#     pickle.dump(file=f,obj=vocabulary)"
   ]
  },
  {
   "cell_type": "markdown",
   "metadata": {},
   "source": [
    "#### Use vocabulary vectorize text"
   ]
  },
  {
   "cell_type": "code",
   "execution_count": 314,
   "metadata": {},
   "outputs": [],
   "source": [
    "dict_vocabulary={w:i for i,w in enumerate(vocabulary)}"
   ]
  },
  {
   "cell_type": "code",
   "execution_count": 315,
   "metadata": {},
   "outputs": [],
   "source": [
    "text=DataSet[\"title_token_plus_body_token\"]\n",
    "BOW_binary=np.zeros((len(text),len(vocabulary)),dtype=\"int8\")"
   ]
  },
  {
   "cell_type": "code",
   "execution_count": 316,
   "metadata": {},
   "outputs": [
    {
     "data": {
      "text/plain": [
       "(154884, 19404)"
      ]
     },
     "execution_count": 316,
     "metadata": {},
     "output_type": "execute_result"
    }
   ],
   "source": [
    "BOW_binary.shape"
   ]
  },
  {
   "cell_type": "code",
   "execution_count": 318,
   "metadata": {},
   "outputs": [
    {
     "data": {
      "application/vnd.jupyter.widget-view+json": {
       "model_id": "d17df09118694abc88d6230bff8e954f",
       "version_major": 2,
       "version_minor": 0
      },
      "text/plain": [
       "HBox(children=(IntProgress(value=0, max=154884), HTML(value='')))"
      ]
     },
     "metadata": {},
     "output_type": "display_data"
    },
    {
     "name": "stdout",
     "output_type": "stream",
     "text": [
      "\n"
     ]
    }
   ],
   "source": [
    "for i,t in enumerate(tqdm_notebook(text)):\n",
    "    for w in t.split():\n",
    "        if w in dict_vocabulary:\n",
    "            BOW_binary[i,dict_vocabulary[w]]=1"
   ]
  },
  {
   "cell_type": "markdown",
   "metadata": {},
   "source": [
    "#### Saprsity"
   ]
  },
  {
   "cell_type": "code",
   "execution_count": 320,
   "metadata": {},
   "outputs": [
    {
     "name": "stdout",
     "output_type": "stream",
     "text": [
      "sparsity:0.53%%\n"
     ]
    }
   ],
   "source": [
    "sparsity=np.sum(BOW_binary==1)/(BOW_binary.shape[0]*BOW_binary.shape[1])\n",
    "print(\"sparsity:{:.2}%%\".format(round(sparsity,5)*100))"
   ]
  },
  {
   "cell_type": "markdown",
   "metadata": {},
   "source": [
    "#### Save"
   ]
  },
  {
   "cell_type": "code",
   "execution_count": 324,
   "metadata": {},
   "outputs": [],
   "source": [
    "# np.save(\"D:3.AutoencoderForArticle/BOW_binary_v02.npy\",BOW_binary)"
   ]
  },
  {
   "cell_type": "code",
   "execution_count": null,
   "metadata": {},
   "outputs": [],
   "source": []
  },
  {
   "cell_type": "code",
   "execution_count": null,
   "metadata": {},
   "outputs": [],
   "source": []
  }
 ],
 "metadata": {
  "kernelspec": {
   "display_name": "Python 3",
   "language": "python",
   "name": "python3"
  },
  "language_info": {
   "codemirror_mode": {
    "name": "ipython",
    "version": 3
   },
   "file_extension": ".py",
   "mimetype": "text/x-python",
   "name": "python",
   "nbconvert_exporter": "python",
   "pygments_lexer": "ipython3",
   "version": "3.5.5"
  }
 },
 "nbformat": 4,
 "nbformat_minor": 2
}
