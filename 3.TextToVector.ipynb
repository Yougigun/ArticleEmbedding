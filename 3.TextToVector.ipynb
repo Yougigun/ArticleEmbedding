{
 "cells": [
  {
   "cell_type": "code",
   "execution_count": 2,
   "metadata": {},
   "outputs": [
    {
     "name": "stderr",
     "output_type": "stream",
     "text": [
      "C:\\Users\\garyyu\\AppData\\Local\\Continuum\\anaconda3\\envs\\deeplearningcpu\\lib\\site-packages\\tqdm\\autonotebook\\__init__.py:14: TqdmExperimentalWarning: Using `tqdm.autonotebook.tqdm` in notebook mode. Use `tqdm.tqdm` instead to force console mode (e.g. in jupyter console)\n",
      "  \" (e.g. in jupyter console)\", TqdmExperimentalWarning)\n"
     ]
    }
   ],
   "source": [
    "from ArticlesRep import MeanSimilarityoneindustry,MeanSimilaritytwoindustry,MakeMatrixTSEN #common function\n",
    "\n",
    "import pandas as pd\n",
    "\n",
    "import numpy as np\n",
    "\n",
    "%matplotlib inline\n",
    "\n",
    "import pickle\n",
    "\n",
    "import visdom\n",
    "\n",
    "from tqdm import tnrange, tqdm_notebook\n",
    "from tqdm.autonotebook import tqdm\n",
    "tqdm.pandas()\n",
    "\n",
    "from time import time,sleep\n",
    "from datetime import datetime\n",
    "\n",
    "from sklearn.metrics.pairwise import cosine_similarity\n",
    "# import visdom\n",
    "# vis=visdom.Visdom()\n",
    "# env=\"TagBased\"\n",
    "\n",
    "import warnings\n",
    "warnings.simplefilter(action='ignore', category=FutureWarning)\n",
    "# %matplotlib inline\n",
    "\n",
    "import re\n",
    "import sys\n",
    "from pprint import pprint\n",
    "#coding:utf-8\n",
    "\n",
    "#solved chinese display in matplotlib\n",
    "from pylab import mpl\n",
    "mpl.rcParams[\"font.family\"] = 'DFKai-sb' \n",
    "mpl.rcParams['axes.unicode_minus'] = False\n",
    "\n",
    "list_industry=[\"水泥\",\"食品飲料\",\"石化\",\"紡織\",\"電機機械\",\"電器電纜\",\"化學工業\",\n",
    "               \"建材居家用品\",\"造紙\",\"鋼鐵金屬\",\"車輛相關\",\"科技相關\",\"營建地產\",\"運輸\",\"觀光休閒娛樂\",\n",
    "               \"金融相關\",\"百貨通路\",\"公用事業\",\"控股\",\"生技醫療保健\",\"農林漁牧\",\"航天軍工\",\"能源\",\"傳播出版\",\"綜合\",\n",
    "               \"傳產其他\",\"其他\",\"金屬礦採選\",\n",
    "              ]\n",
    "element=\"氫氦鋰鈹硼碳氮氧氟氖鈉鎂鋁矽磷硫氯氬鉀鈣鈧鈦釩鉻錳鐵鈷鎳銅鋅鎵鍺砷硒溴氪銣鍶銀鎘銦錫銻碲碘氙銫鋇鉑金汞鉈鉛鉍釙氡鍅鐳\""
   ]
  },
  {
   "cell_type": "markdown",
   "metadata": {},
   "source": [
    "# Outline\n",
    "<li>Text to Vector version1\n",
    "<li>Text to Vector version2\n",
    "<li>Text to Vecotr multi-industry"
   ]
  },
  {
   "cell_type": "markdown",
   "metadata": {},
   "source": [
    "## Text to Vector version1\n",
    "<li> Load DataSet_vip_single_industry\n",
    "<li> Vectorization Binary one hot of bag word (first 20,000 popular word)\n",
    "<li> Save \n",
    "<li> Load\n",
    "<li> Sparcisity"
   ]
  },
  {
   "cell_type": "markdown",
   "metadata": {},
   "source": [
    "### Load DataSet_vip_single_industry"
   ]
  },
  {
   "cell_type": "code",
   "execution_count": 2,
   "metadata": {},
   "outputs": [],
   "source": [
    "with open(\"D:3.AutoencoderForArticle/DataSet_vip_single_industry\",\"rb\") as f:\n",
    "    DataSet=pickle.load(f)"
   ]
  },
  {
   "cell_type": "code",
   "execution_count": 3,
   "metadata": {},
   "outputs": [
    {
     "name": "stdout",
     "output_type": "stream",
     "text": [
      "<class 'pandas.core.frame.DataFrame'>\n",
      "RangeIndex: 154884 entries, 0 to 154883\n",
      "Data columns (total 3 columns):\n",
      "guid                           154884 non-null object\n",
      "title_token_plus_body_token    154884 non-null object\n",
      "indusrty_tags                  154884 non-null object\n",
      "dtypes: object(3)\n",
      "memory usage: 3.5+ MB\n"
     ]
    }
   ],
   "source": [
    "DataSet.info()"
   ]
  },
  {
   "cell_type": "code",
   "execution_count": 31,
   "metadata": {
    "scrolled": true
   },
   "outputs": [
    {
     "data": {
      "text/html": [
       "<div>\n",
       "<style scoped>\n",
       "    .dataframe tbody tr th:only-of-type {\n",
       "        vertical-align: middle;\n",
       "    }\n",
       "\n",
       "    .dataframe tbody tr th {\n",
       "        vertical-align: top;\n",
       "    }\n",
       "\n",
       "    .dataframe thead th {\n",
       "        text-align: right;\n",
       "    }\n",
       "</style>\n",
       "<table border=\"1\" class=\"dataframe\">\n",
       "  <thead>\n",
       "    <tr style=\"text-align: right;\">\n",
       "      <th></th>\n",
       "      <th>guid</th>\n",
       "      <th>title_token_plus_body_token</th>\n",
       "      <th>indusrty_tags</th>\n",
       "    </tr>\n",
       "  </thead>\n",
       "  <tbody>\n",
       "    <tr>\n",
       "      <th>0</th>\n",
       "      <td>4dd5651a-8d9d-4c38-b658-696242109941</td>\n",
       "      <td>Fund 消息 資金 連 周 回流 收債 後市 看 樂觀 美國 景氣 維持 暢旺 加上 市場...</td>\n",
       "      <td>{鋼鐵金屬}</td>\n",
       "    </tr>\n",
       "    <tr>\n",
       "      <th>1</th>\n",
       "      <td>8b6822c0-e646-4592-a783-0aaf54e9aa6f</td>\n",
       "      <td>安心 今年 高度 挑戰 一年 自助 點餐 機助 效率 提升 餐飲業 人事 成本 持續 攀升 ...</td>\n",
       "      <td>{觀光休閒娛樂}</td>\n",
       "    </tr>\n",
       "    <tr>\n",
       "      <th>2</th>\n",
       "      <td>2a05600a-75ff-4f0e-be07-97c4362e88d6</td>\n",
       "      <td>信義 房市 北溫 南冷 大雨 民俗 澆熄 熱度 信義 房屋 統計 全台 都會區 門市 交易 ...</td>\n",
       "      <td>{營建地產}</td>\n",
       "    </tr>\n",
       "    <tr>\n",
       "      <th>3</th>\n",
       "      <td>494d18ba-75d1-4276-8fb3-cccec13eebaa</td>\n",
       "      <td>陸 鋼鐵 PMI 降至 後市 鋼價料 高檔 支撐 西 本 新幹線 報導 物聯 鋼鐵 物流 專...</td>\n",
       "      <td>{鋼鐵金屬}</td>\n",
       "    </tr>\n",
       "    <tr>\n",
       "      <th>4</th>\n",
       "      <td>d219315e-5b1d-41ba-b89a-7381f39c133a</td>\n",
       "      <td>巴菲特 蘋果 別 投資 特斯拉 馬斯克 太常 推文 利生 產 特斯拉 Tesla Inc 執...</td>\n",
       "      <td>{車輛相關}</td>\n",
       "    </tr>\n",
       "  </tbody>\n",
       "</table>\n",
       "</div>"
      ],
      "text/plain": [
       "                                   guid  \\\n",
       "0  4dd5651a-8d9d-4c38-b658-696242109941   \n",
       "1  8b6822c0-e646-4592-a783-0aaf54e9aa6f   \n",
       "2  2a05600a-75ff-4f0e-be07-97c4362e88d6   \n",
       "3  494d18ba-75d1-4276-8fb3-cccec13eebaa   \n",
       "4  d219315e-5b1d-41ba-b89a-7381f39c133a   \n",
       "\n",
       "                         title_token_plus_body_token indusrty_tags  \n",
       "0  Fund 消息 資金 連 周 回流 收債 後市 看 樂觀 美國 景氣 維持 暢旺 加上 市場...        {鋼鐵金屬}  \n",
       "1  安心 今年 高度 挑戰 一年 自助 點餐 機助 效率 提升 餐飲業 人事 成本 持續 攀升 ...      {觀光休閒娛樂}  \n",
       "2  信義 房市 北溫 南冷 大雨 民俗 澆熄 熱度 信義 房屋 統計 全台 都會區 門市 交易 ...        {營建地產}  \n",
       "3  陸 鋼鐵 PMI 降至 後市 鋼價料 高檔 支撐 西 本 新幹線 報導 物聯 鋼鐵 物流 專...        {鋼鐵金屬}  \n",
       "4  巴菲特 蘋果 別 投資 特斯拉 馬斯克 太常 推文 利生 產 特斯拉 Tesla Inc 執...        {車輛相關}  "
      ]
     },
     "execution_count": 31,
     "metadata": {},
     "output_type": "execute_result"
    }
   ],
   "source": [
    "DataSet[:5]"
   ]
  },
  {
   "cell_type": "code",
   "execution_count": 5,
   "metadata": {
    "scrolled": true
   },
   "outputs": [
    {
     "data": {
      "text/html": [
       "<div>\n",
       "<style scoped>\n",
       "    .dataframe tbody tr th:only-of-type {\n",
       "        vertical-align: middle;\n",
       "    }\n",
       "\n",
       "    .dataframe tbody tr th {\n",
       "        vertical-align: top;\n",
       "    }\n",
       "\n",
       "    .dataframe thead th {\n",
       "        text-align: right;\n",
       "    }\n",
       "</style>\n",
       "<table border=\"1\" class=\"dataframe\">\n",
       "  <thead>\n",
       "    <tr style=\"text-align: right;\">\n",
       "      <th></th>\n",
       "      <th>title_token_plus_body_token</th>\n",
       "      <th>counts</th>\n",
       "    </tr>\n",
       "  </thead>\n",
       "  <tbody>\n",
       "    <tr>\n",
       "      <th>0</th>\n",
       "      <td>美股 指數期貨 最新 報價 指數 漲跌 漲跌幅 資料 時間 時間 DJ IA INDEX a...</td>\n",
       "      <td>3074</td>\n",
       "    </tr>\n",
       "    <tr>\n",
       "      <th>1</th>\n",
       "      <td>股東會 資訊 好消息 台 總 報給 您 知 總 股份有限公司 徵求 股東會 委託書 提供 紀...</td>\n",
       "      <td>47</td>\n",
       "    </tr>\n",
       "    <tr>\n",
       "      <th>2</th>\n",
       "      <td>理財 短波 線上 開戶 首選 合庫 讓 您 證券 開戶 更 便利 合庫 證券 去 正式 啟動...</td>\n",
       "      <td>10</td>\n",
       "    </tr>\n",
       "    <tr>\n",
       "      <th>3</th>\n",
       "      <td>嘉實 學院 課程 招生 投資 美股 研習班 嘉實 學院 首次 開辦 美股 課程 特別 邀請 ...</td>\n",
       "      <td>7</td>\n",
       "    </tr>\n",
       "    <tr>\n",
       "      <th>4</th>\n",
       "      <td>理財 短波 線上 開戶 首選 合庫 讓 您 證券 開戶 更 便利 合庫 證券 於今 正式 啟...</td>\n",
       "      <td>7</td>\n",
       "    </tr>\n",
       "    <tr>\n",
       "      <th>5</th>\n",
       "      <td>理財 短波 線上 開戶 首選 合庫 讓 您 證券 開戶 更 便利 合庫 證券 於今 正式 啟...</td>\n",
       "      <td>5</td>\n",
       "    </tr>\n",
       "    <tr>\n",
       "      <th>6</th>\n",
       "      <td>日本 銀行 放款 餘額 年減 連 個 下滑 根據 日本央行 BOJ 公佈 日本 全 國 銀行...</td>\n",
       "      <td>4</td>\n",
       "    </tr>\n",
       "    <tr>\n",
       "      <th>7</th>\n",
       "      <td>日本經濟 銀行 放款 額 年增 連 個 增長 根據 日本央行 BOJ 公佈 日本 全 國 銀...</td>\n",
       "      <td>4</td>\n",
       "    </tr>\n",
       "    <tr>\n",
       "      <th>8</th>\n",
       "      <td>日本經濟 銀行 放款 餘額 年減 連 個 下滑 根據 日本央行 BOJ 公佈 日本 全 國 ...</td>\n",
       "      <td>3</td>\n",
       "    </tr>\n",
       "    <tr>\n",
       "      <th>9</th>\n",
       "      <td>日本央行 決議 短期 利率 誘導 目標 維持 不變 日本央行 BOJ 分 當地 時間 發佈 ...</td>\n",
       "      <td>3</td>\n",
       "    </tr>\n",
       "    <tr>\n",
       "      <th>10</th>\n",
       "      <td>美國 確定 喪失 抵押品 贖回 權 住屋 數量 又 創歷史新高 近期 金融市場 反彈 令 市...</td>\n",
       "      <td>2</td>\n",
       "    </tr>\n",
       "    <tr>\n",
       "      <th>11</th>\n",
       "      <td>去年 房市 漲 整年 元月 漲勢 現 疲態 信義 房屋 內部 成交 統計 顯示 房地產 經歷...</td>\n",
       "      <td>2</td>\n",
       "    </tr>\n",
       "    <tr>\n",
       "      <th>12</th>\n",
       "      <td>拓 墣 品牌 山寨 NetBook 競爭 有利 台商 研究 機構 拓 墣 表示 中國 政策 ...</td>\n",
       "      <td>2</td>\n",
       "    </tr>\n",
       "    <tr>\n",
       "      <th>13</th>\n",
       "      <td>IDC 面板 價格 跌到 明年 但 跌幅 逐步 縮小 傳統 淡季 影響 面板 價格 今年 月...</td>\n",
       "      <td>2</td>\n",
       "    </tr>\n",
       "    <tr>\n",
       "      <th>14</th>\n",
       "      <td>瑞昱 全年 營運 動能 樂觀 毛利率 力守 四成 瑞昱 副總 陳進興 表示 今年 第一季 力...</td>\n",
       "      <td>2</td>\n",
       "    </tr>\n",
       "    <tr>\n",
       "      <th>15</th>\n",
       "      <td>日本 PCB 產量 連 個 衰退 軟板 大減 根據 日本電子 回路 工業 Japan Ele...</td>\n",
       "      <td>2</td>\n",
       "    </tr>\n",
       "    <tr>\n",
       "      <th>16</th>\n",
       "      <td>上週 歐洲 長纖 紙漿 均價 漲 美元 根據 FOEX Indexes Ltd 公佈 紙漿 ...</td>\n",
       "      <td>2</td>\n",
       "    </tr>\n",
       "    <tr>\n",
       "      <th>17</th>\n",
       "      <td>高通 上修 本季 財測 美股 開盤 迄今 大漲 手機晶片 巨擘 高通 Qualcomm In...</td>\n",
       "      <td>2</td>\n",
       "    </tr>\n",
       "    <tr>\n",
       "      <th>18</th>\n",
       "      <td>中美晶 第一季 三大產線 全滿 集團 春節 全線 運轉 中美晶 針對 近期 營運 表示 公司...</td>\n",
       "      <td>2</td>\n",
       "    </tr>\n",
       "    <tr>\n",
       "      <th>19</th>\n",
       "      <td>砷化鎵 代工 雙雄 月營收 續攻 三季 增幅 砷化鎵 代工 雙雄 月營收 可望 進一步 攻頂...</td>\n",
       "      <td>2</td>\n",
       "    </tr>\n",
       "    <tr>\n",
       "      <th>20</th>\n",
       "      <td>日本 廠商 數位相機 全球 出貨量 年減 連 個 下滑 根據 彭博社 轉引 日本 相機 暨 ...</td>\n",
       "      <td>2</td>\n",
       "    </tr>\n",
       "    <tr>\n",
       "      <th>21</th>\n",
       "      <td>北市 年 開徵 豪宅 稅 萬戶 符合標準 台北市 稅捐稽徵處 指出 將於 日起 針對 台北市...</td>\n",
       "      <td>2</td>\n",
       "    </tr>\n",
       "    <tr>\n",
       "      <th>22</th>\n",
       "      <td>藍光 滲透率 升 聯發科 今年 市占率 可達 以上 聯發科 總經理 謝清江 表示 去年 第四...</td>\n",
       "      <td>2</td>\n",
       "    </tr>\n",
       "    <tr>\n",
       "      <th>23</th>\n",
       "      <td>昱晶 今年 出貨 目標 挑戰 MW 年 成長 成 昱晶 董事長 潘文炎 表示 公司 雖然 今...</td>\n",
       "      <td>2</td>\n",
       "    </tr>\n",
       "    <tr>\n",
       "      <th>24</th>\n",
       "      <td>上週 歐洲 長纖 紙漿 美元 均價 連續 走高 根據 FOEX Indexes Ltd 公佈...</td>\n",
       "      <td>2</td>\n",
       "    </tr>\n",
       "    <tr>\n",
       "      <th>25</th>\n",
       "      <td>日本 月底 外匯存底 增至 連 個 增長 根據 日本 財務 省 公佈 統計資料 顯示 截至 ...</td>\n",
       "      <td>2</td>\n",
       "    </tr>\n",
       "    <tr>\n",
       "      <th>26</th>\n",
       "      <td>益通 毛利率 低 個位數 全球 庫存 去化 理想 益通 財務 長 羅來煌 表示 益通 第一季...</td>\n",
       "      <td>2</td>\n",
       "    </tr>\n",
       "    <tr>\n",
       "      <th>27</th>\n",
       "      <td>聯合 今年 沒理由 去年 差 鍛造廠 五年 回收 聯合 骨科 召開 法說 董事長 林延生 表...</td>\n",
       "      <td>2</td>\n",
       "    </tr>\n",
       "    <tr>\n",
       "      <th>28</th>\n",
       "      <td>網龍 華英雄 同 上 突破 萬人 創國產 遊戲 紀錄 遊戲軟體 廠商 網龍 繼 旗下 武俠 ...</td>\n",
       "      <td>2</td>\n",
       "    </tr>\n",
       "    <tr>\n",
       "      <th>29</th>\n",
       "      <td>日本 PCB 產量 連 個 衰退 軟板 產量 腰斬 根據 日本電子 回路 工業 Japan ...</td>\n",
       "      <td>2</td>\n",
       "    </tr>\n",
       "    <tr>\n",
       "      <th>...</th>\n",
       "      <td>...</td>\n",
       "      <td>...</td>\n",
       "    </tr>\n",
       "    <tr>\n",
       "      <th>151631</th>\n",
       "      <td>財報 奇景 盤後飆 EPS 暴增 營 收看 升 液晶面板 驅動IC 設計 公司 奇景光電 H...</td>\n",
       "      <td>1</td>\n",
       "    </tr>\n",
       "    <tr>\n",
       "      <th>151632</th>\n",
       "      <td>大陸 汽車 舊 換新 措施 共 帶動 萬輛 銷售額 大陸 商務部 公布 大陸 共 辦理 汽車...</td>\n",
       "      <td>1</td>\n",
       "    </tr>\n",
       "    <tr>\n",
       "      <th>151633</th>\n",
       "      <td>財報 日圓 貶 LSI 銷售 Rohm 上 季 純益 暴增 倍 電子元件 大廠 羅 沐 Ro...</td>\n",
       "      <td>1</td>\n",
       "    </tr>\n",
       "    <tr>\n",
       "      <th>151634</th>\n",
       "      <td>第一金 獲利 轉強 大陸 布局 全押 綠色通道 上半年 獲利 進度 落後的 第一金 經營 團...</td>\n",
       "      <td>1</td>\n",
       "    </tr>\n",
       "    <tr>\n",
       "      <th>151635</th>\n",
       "      <td>Q Cells 片面 終止 購料 長 LDK 擬請 國際仲裁 德國 太陽能電池 生產商 Ce...</td>\n",
       "      <td>1</td>\n",
       "    </tr>\n",
       "    <tr>\n",
       "      <th>151636</th>\n",
       "      <td>迎大 數據 浪潮 蔡力行 中華電 擁 龐大 數據量 優勢 中華電 董事長 蔡力行 參與 數據...</td>\n",
       "      <td>1</td>\n",
       "    </tr>\n",
       "    <tr>\n",
       "      <th>151637</th>\n",
       "      <td>澳洲 銅鋁鎳 黃金 出口量 滑落 鉛鋅 錫 成長 澳大利亞 農業 資源 經濟局 ABARE ...</td>\n",
       "      <td>1</td>\n",
       "    </tr>\n",
       "    <tr>\n",
       "      <th>151638</th>\n",
       "      <td>中國 紡織品 服裝 旺季 到 出口 中國海關 公布 中國 紡織品 服裝 出口 億美元 年減 ...</td>\n",
       "      <td>1</td>\n",
       "    </tr>\n",
       "    <tr>\n",
       "      <th>151639</th>\n",
       "      <td>租屋 需求 強 文 山區 租金 報酬率 稱冠北市 房市 歷經 半年 急凍 期 許多 屋 主因...</td>\n",
       "      <td>1</td>\n",
       "    </tr>\n",
       "    <tr>\n",
       "      <th>151640</th>\n",
       "      <td>ViewSonic MWC 推 新款 平板 手機 視訊 暨 消費性 電子 品牌 ViewSo...</td>\n",
       "      <td>1</td>\n",
       "    </tr>\n",
       "    <tr>\n",
       "      <th>151641</th>\n",
       "      <td>S&amp;P 美國 金融危機 可能 要 等到 才 結束 Thomson Reuters 報導 信評...</td>\n",
       "      <td>1</td>\n",
       "    </tr>\n",
       "    <tr>\n",
       "      <th>151642</th>\n",
       "      <td>日本 國內 紙 紙板 出貨量 年減 減幅 創歷史新高 根據 日本製紙 連合 Japan Pa...</td>\n",
       "      <td>1</td>\n",
       "    </tr>\n",
       "    <tr>\n",
       "      <th>151643</th>\n",
       "      <td>麥格理 重申 華晶科 表現 優於 大盤 目標價 上看 麥格理 Macquarie 發佈 研究...</td>\n",
       "      <td>1</td>\n",
       "    </tr>\n",
       "    <tr>\n",
       "      <th>151644</th>\n",
       "      <td>擔憂 需求 LME 金屬 多數 下跌 鉛價 週線 下跌 倫敦 金屬 交易所 LME 基本金屬...</td>\n",
       "      <td>1</td>\n",
       "    </tr>\n",
       "    <tr>\n",
       "      <th>151645</th>\n",
       "      <td>威達電 EPS 股利 現金 股票 威達電 宣佈 股利 政策 每股 配發 現金股利 股票股利 ...</td>\n",
       "      <td>1</td>\n",
       "    </tr>\n",
       "    <tr>\n",
       "      <th>151646</th>\n",
       "      <td>三星電子 削減 明年 晶片 支出 分析師 那 是 騙人的 韓國 時報 引述 消息人士 報導 ...</td>\n",
       "      <td>1</td>\n",
       "    </tr>\n",
       "    <tr>\n",
       "      <th>151647</th>\n",
       "      <td>FED 升息 循環 有望 加速 美元指數 強 出頭 衝 新高 美國 新一輪 經濟 數據 表現...</td>\n",
       "      <td>1</td>\n",
       "    </tr>\n",
       "    <tr>\n",
       "      <th>151648</th>\n",
       "      <td>鞍鋼 確定 漲價 寶鋼 可望 跟進 漲 百元 RMB 中國 鋼廠 陸續 傳出 調漲 明年 元...</td>\n",
       "      <td>1</td>\n",
       "    </tr>\n",
       "    <tr>\n",
       "      <th>151649</th>\n",
       "      <td>同欣電 新廠 完成 搬遷 營收 衝 今年 新高峰 同欣電 預計 三季 完成 龍潭 新廠 搬遷...</td>\n",
       "      <td>1</td>\n",
       "    </tr>\n",
       "    <tr>\n",
       "      <th>151650</th>\n",
       "      <td>類比IC 獲利 遠翔科 進步 最大 聚積 衰 最 多 類比IC 財報 全數 放榜 光感測 I...</td>\n",
       "      <td>1</td>\n",
       "    </tr>\n",
       "    <tr>\n",
       "      <th>151651</th>\n",
       "      <td>分析師 蘋果 台 供應商 合併 營收 較 去年 大增 外電報導 Ticonderoga Se...</td>\n",
       "      <td>1</td>\n",
       "    </tr>\n",
       "    <tr>\n",
       "      <th>151652</th>\n",
       "      <td>國泰金 獲利 將轉佳 壽險 資金 成本 降幅 優於預期 國泰金 召開 法說 經營 團隊 指出...</td>\n",
       "      <td>1</td>\n",
       "    </tr>\n",
       "    <tr>\n",
       "      <th>151653</th>\n",
       "      <td>豐田 今年 全球 產量 傳將 調高 萬台 萬台 彭博社 轉述 日經 新聞 早報 內容 指出 ...</td>\n",
       "      <td>1</td>\n",
       "    </tr>\n",
       "    <tr>\n",
       "      <th>151654</th>\n",
       "      <td>彩晶 去年 EPS 估 今年 上半年 先蹲後跳 面板廠 瀚 宇彩晶 去年 第四季 受惠 中國...</td>\n",
       "      <td>1</td>\n",
       "    </tr>\n",
       "    <tr>\n",
       "      <th>151655</th>\n",
       "      <td>Magna 正 協商 收購 歐寶 股權 惟飛雅 特較 具 希望 外電報導 加拿大 汽車零組件...</td>\n",
       "      <td>1</td>\n",
       "    </tr>\n",
       "    <tr>\n",
       "      <th>151656</th>\n",
       "      <td>中國 車企 獲利 預警 頻頻 獨 一汽 逆勢成長 北京晨報 報導 中國 多家 車企 發佈 獲...</td>\n",
       "      <td>1</td>\n",
       "    </tr>\n",
       "    <tr>\n",
       "      <th>151657</th>\n",
       "      <td>西班牙 CDS 創歷史新高 外界 批 官方 救 銀行 決心 不夠 美聯社 報導 警方 預估 ...</td>\n",
       "      <td>1</td>\n",
       "    </tr>\n",
       "    <tr>\n",
       "      <th>151658</th>\n",
       "      <td>亞馬遜 挺川普 個 內在美 國 創造 萬份 全職 工作 亞馬遜 Amazon com, In...</td>\n",
       "      <td>1</td>\n",
       "    </tr>\n",
       "    <tr>\n",
       "      <th>151659</th>\n",
       "      <td>益通 新任 董事長 總經理 徐信群 溫清章 擔任 英業達 入主 益通 新任 董事長 總經理 ...</td>\n",
       "      <td>1</td>\n",
       "    </tr>\n",
       "    <tr>\n",
       "      <th>151660</th>\n",
       "      <td>全球 半導體 銷售額 續增 SIA 重申 今年 成長 半導體 產業協會 SIA 發佈 新聞稿...</td>\n",
       "      <td>1</td>\n",
       "    </tr>\n",
       "  </tbody>\n",
       "</table>\n",
       "<p>151661 rows × 2 columns</p>\n",
       "</div>"
      ],
      "text/plain": [
       "                              title_token_plus_body_token  counts\n",
       "0       美股 指數期貨 最新 報價 指數 漲跌 漲跌幅 資料 時間 時間 DJ IA INDEX a...    3074\n",
       "1       股東會 資訊 好消息 台 總 報給 您 知 總 股份有限公司 徵求 股東會 委託書 提供 紀...      47\n",
       "2       理財 短波 線上 開戶 首選 合庫 讓 您 證券 開戶 更 便利 合庫 證券 去 正式 啟動...      10\n",
       "3       嘉實 學院 課程 招生 投資 美股 研習班 嘉實 學院 首次 開辦 美股 課程 特別 邀請 ...       7\n",
       "4       理財 短波 線上 開戶 首選 合庫 讓 您 證券 開戶 更 便利 合庫 證券 於今 正式 啟...       7\n",
       "5       理財 短波 線上 開戶 首選 合庫 讓 您 證券 開戶 更 便利 合庫 證券 於今 正式 啟...       5\n",
       "6       日本 銀行 放款 餘額 年減 連 個 下滑 根據 日本央行 BOJ 公佈 日本 全 國 銀行...       4\n",
       "7       日本經濟 銀行 放款 額 年增 連 個 增長 根據 日本央行 BOJ 公佈 日本 全 國 銀...       4\n",
       "8       日本經濟 銀行 放款 餘額 年減 連 個 下滑 根據 日本央行 BOJ 公佈 日本 全 國 ...       3\n",
       "9       日本央行 決議 短期 利率 誘導 目標 維持 不變 日本央行 BOJ 分 當地 時間 發佈 ...       3\n",
       "10      美國 確定 喪失 抵押品 贖回 權 住屋 數量 又 創歷史新高 近期 金融市場 反彈 令 市...       2\n",
       "11      去年 房市 漲 整年 元月 漲勢 現 疲態 信義 房屋 內部 成交 統計 顯示 房地產 經歷...       2\n",
       "12      拓 墣 品牌 山寨 NetBook 競爭 有利 台商 研究 機構 拓 墣 表示 中國 政策 ...       2\n",
       "13      IDC 面板 價格 跌到 明年 但 跌幅 逐步 縮小 傳統 淡季 影響 面板 價格 今年 月...       2\n",
       "14      瑞昱 全年 營運 動能 樂觀 毛利率 力守 四成 瑞昱 副總 陳進興 表示 今年 第一季 力...       2\n",
       "15      日本 PCB 產量 連 個 衰退 軟板 大減 根據 日本電子 回路 工業 Japan Ele...       2\n",
       "16      上週 歐洲 長纖 紙漿 均價 漲 美元 根據 FOEX Indexes Ltd 公佈 紙漿 ...       2\n",
       "17      高通 上修 本季 財測 美股 開盤 迄今 大漲 手機晶片 巨擘 高通 Qualcomm In...       2\n",
       "18      中美晶 第一季 三大產線 全滿 集團 春節 全線 運轉 中美晶 針對 近期 營運 表示 公司...       2\n",
       "19      砷化鎵 代工 雙雄 月營收 續攻 三季 增幅 砷化鎵 代工 雙雄 月營收 可望 進一步 攻頂...       2\n",
       "20      日本 廠商 數位相機 全球 出貨量 年減 連 個 下滑 根據 彭博社 轉引 日本 相機 暨 ...       2\n",
       "21      北市 年 開徵 豪宅 稅 萬戶 符合標準 台北市 稅捐稽徵處 指出 將於 日起 針對 台北市...       2\n",
       "22      藍光 滲透率 升 聯發科 今年 市占率 可達 以上 聯發科 總經理 謝清江 表示 去年 第四...       2\n",
       "23      昱晶 今年 出貨 目標 挑戰 MW 年 成長 成 昱晶 董事長 潘文炎 表示 公司 雖然 今...       2\n",
       "24      上週 歐洲 長纖 紙漿 美元 均價 連續 走高 根據 FOEX Indexes Ltd 公佈...       2\n",
       "25      日本 月底 外匯存底 增至 連 個 增長 根據 日本 財務 省 公佈 統計資料 顯示 截至 ...       2\n",
       "26      益通 毛利率 低 個位數 全球 庫存 去化 理想 益通 財務 長 羅來煌 表示 益通 第一季...       2\n",
       "27      聯合 今年 沒理由 去年 差 鍛造廠 五年 回收 聯合 骨科 召開 法說 董事長 林延生 表...       2\n",
       "28      網龍 華英雄 同 上 突破 萬人 創國產 遊戲 紀錄 遊戲軟體 廠商 網龍 繼 旗下 武俠 ...       2\n",
       "29      日本 PCB 產量 連 個 衰退 軟板 產量 腰斬 根據 日本電子 回路 工業 Japan ...       2\n",
       "...                                                   ...     ...\n",
       "151631  財報 奇景 盤後飆 EPS 暴增 營 收看 升 液晶面板 驅動IC 設計 公司 奇景光電 H...       1\n",
       "151632  大陸 汽車 舊 換新 措施 共 帶動 萬輛 銷售額 大陸 商務部 公布 大陸 共 辦理 汽車...       1\n",
       "151633  財報 日圓 貶 LSI 銷售 Rohm 上 季 純益 暴增 倍 電子元件 大廠 羅 沐 Ro...       1\n",
       "151634  第一金 獲利 轉強 大陸 布局 全押 綠色通道 上半年 獲利 進度 落後的 第一金 經營 團...       1\n",
       "151635  Q Cells 片面 終止 購料 長 LDK 擬請 國際仲裁 德國 太陽能電池 生產商 Ce...       1\n",
       "151636  迎大 數據 浪潮 蔡力行 中華電 擁 龐大 數據量 優勢 中華電 董事長 蔡力行 參與 數據...       1\n",
       "151637  澳洲 銅鋁鎳 黃金 出口量 滑落 鉛鋅 錫 成長 澳大利亞 農業 資源 經濟局 ABARE ...       1\n",
       "151638  中國 紡織品 服裝 旺季 到 出口 中國海關 公布 中國 紡織品 服裝 出口 億美元 年減 ...       1\n",
       "151639  租屋 需求 強 文 山區 租金 報酬率 稱冠北市 房市 歷經 半年 急凍 期 許多 屋 主因...       1\n",
       "151640  ViewSonic MWC 推 新款 平板 手機 視訊 暨 消費性 電子 品牌 ViewSo...       1\n",
       "151641  S&P 美國 金融危機 可能 要 等到 才 結束 Thomson Reuters 報導 信評...       1\n",
       "151642  日本 國內 紙 紙板 出貨量 年減 減幅 創歷史新高 根據 日本製紙 連合 Japan Pa...       1\n",
       "151643  麥格理 重申 華晶科 表現 優於 大盤 目標價 上看 麥格理 Macquarie 發佈 研究...       1\n",
       "151644  擔憂 需求 LME 金屬 多數 下跌 鉛價 週線 下跌 倫敦 金屬 交易所 LME 基本金屬...       1\n",
       "151645  威達電 EPS 股利 現金 股票 威達電 宣佈 股利 政策 每股 配發 現金股利 股票股利 ...       1\n",
       "151646  三星電子 削減 明年 晶片 支出 分析師 那 是 騙人的 韓國 時報 引述 消息人士 報導 ...       1\n",
       "151647  FED 升息 循環 有望 加速 美元指數 強 出頭 衝 新高 美國 新一輪 經濟 數據 表現...       1\n",
       "151648  鞍鋼 確定 漲價 寶鋼 可望 跟進 漲 百元 RMB 中國 鋼廠 陸續 傳出 調漲 明年 元...       1\n",
       "151649  同欣電 新廠 完成 搬遷 營收 衝 今年 新高峰 同欣電 預計 三季 完成 龍潭 新廠 搬遷...       1\n",
       "151650  類比IC 獲利 遠翔科 進步 最大 聚積 衰 最 多 類比IC 財報 全數 放榜 光感測 I...       1\n",
       "151651  分析師 蘋果 台 供應商 合併 營收 較 去年 大增 外電報導 Ticonderoga Se...       1\n",
       "151652  國泰金 獲利 將轉佳 壽險 資金 成本 降幅 優於預期 國泰金 召開 法說 經營 團隊 指出...       1\n",
       "151653  豐田 今年 全球 產量 傳將 調高 萬台 萬台 彭博社 轉述 日經 新聞 早報 內容 指出 ...       1\n",
       "151654  彩晶 去年 EPS 估 今年 上半年 先蹲後跳 面板廠 瀚 宇彩晶 去年 第四季 受惠 中國...       1\n",
       "151655  Magna 正 協商 收購 歐寶 股權 惟飛雅 特較 具 希望 外電報導 加拿大 汽車零組件...       1\n",
       "151656  中國 車企 獲利 預警 頻頻 獨 一汽 逆勢成長 北京晨報 報導 中國 多家 車企 發佈 獲...       1\n",
       "151657  西班牙 CDS 創歷史新高 外界 批 官方 救 銀行 決心 不夠 美聯社 報導 警方 預估 ...       1\n",
       "151658  亞馬遜 挺川普 個 內在美 國 創造 萬份 全職 工作 亞馬遜 Amazon com, In...       1\n",
       "151659  益通 新任 董事長 總經理 徐信群 溫清章 擔任 英業達 入主 益通 新任 董事長 總經理 ...       1\n",
       "151660  全球 半導體 銷售額 續增 SIA 重申 今年 成長 半導體 產業協會 SIA 發佈 新聞稿...       1\n",
       "\n",
       "[151661 rows x 2 columns]"
      ]
     },
     "execution_count": 5,
     "metadata": {},
     "output_type": "execute_result"
    }
   ],
   "source": [
    "_=DataSet[\"title_token_plus_body_token\"]\n",
    "_=_.value_counts()\n",
    "_.reset_index().rename(columns={\"index\":\"title_token_plus_body_token\",\"title_token_plus_body_token\":\"counts\"})"
   ]
  },
  {
   "cell_type": "markdown",
   "metadata": {},
   "source": [
    "### Vectorization"
   ]
  },
  {
   "cell_type": "code",
   "execution_count": 52,
   "metadata": {},
   "outputs": [
    {
     "name": "stderr",
     "output_type": "stream",
     "text": [
      "Using TensorFlow backend.\n"
     ]
    }
   ],
   "source": [
    "from keras.preprocessing.text import Tokenizer"
   ]
  },
  {
   "cell_type": "code",
   "execution_count": 7,
   "metadata": {},
   "outputs": [
    {
     "name": "stdout",
     "output_type": "stream",
     "text": [
      "Found 272511 unique tokens.\n"
     ]
    }
   ],
   "source": [
    "texts = DataSet[\"title_token_plus_body_token\"]\n",
    "tokenizer = Tokenizer(num_words=20000,)\n",
    "tokenizer.fit_on_texts(texts)\n",
    "word_index = tokenizer.word_index\n",
    "print('Found %s unique tokens.' % len(word_index))\n",
    "# word_index"
   ]
  },
  {
   "cell_type": "code",
   "execution_count": 8,
   "metadata": {
    "scrolled": true
   },
   "outputs": [],
   "source": [
    "_=pd.Series(tokenizer.word_counts)\n",
    "_.sort_values(ascending=False,inplace=True)"
   ]
  },
  {
   "cell_type": "code",
   "execution_count": 9,
   "metadata": {},
   "outputs": [
    {
     "data": {
      "text/plain": [
       "營收       252141\n",
       "億元       209036\n",
       "今年       202674\n",
       "表示       187343\n",
       "市場       180937\n",
       "公司       158782\n",
       "短空           99\n",
       "房仲業          99\n",
       "支持率          99\n",
       "天膠           99\n",
       "效用           99\n",
       "led基板        99\n",
       "dtype: int64"
      ]
     },
     "execution_count": 9,
     "metadata": {},
     "output_type": "execute_result"
    }
   ],
   "source": [
    "_[:20000][[0,1,2,3,4,5,-6,-5,-4,-3,-2,-1]]"
   ]
  },
  {
   "cell_type": "code",
   "execution_count": 10,
   "metadata": {},
   "outputs": [
    {
     "data": {
      "text/plain": [
       "表示      95150\n",
       "而       77839\n",
       "市場      75096\n",
       "今年      71997\n",
       "指出      71724\n",
       "公司      67069\n",
       "愈加         70\n",
       "施打         70\n",
       "有信心的       70\n",
       "可延長        70\n",
       "呈報         70\n",
       "數位經濟       70\n",
       "dtype: int64"
      ]
     },
     "execution_count": 10,
     "metadata": {},
     "output_type": "execute_result"
    }
   ],
   "source": [
    "_=pd.Series(tokenizer.word_docs)\n",
    "_.sort_values(ascending=False,inplace=True)\n",
    "_[:20000][[0,1,2,3,4,5,-6,-5,-4,-3,-2,-1]]"
   ]
  },
  {
   "cell_type": "code",
   "execution_count": 11,
   "metadata": {},
   "outputs": [
    {
     "data": {
      "text/plain": [
       "array([[0, 1, 0, ..., 0, 0, 0],\n",
       "       [0, 0, 0, ..., 0, 0, 0],\n",
       "       [0, 0, 0, ..., 0, 0, 0],\n",
       "       ...,\n",
       "       [0, 0, 1, ..., 0, 0, 0],\n",
       "       [0, 0, 0, ..., 0, 0, 0],\n",
       "       [0, 1, 1, ..., 0, 0, 0]], dtype=int8)"
      ]
     },
     "execution_count": 11,
     "metadata": {},
     "output_type": "execute_result"
    }
   ],
   "source": [
    "one_hot_results = np.asarray(tokenizer.texts_to_matrix(texts, mode='binary'),dtype=\"int8\")\n",
    "one_hot_results"
   ]
  },
  {
   "cell_type": "markdown",
   "metadata": {},
   "source": [
    "### Save one_hot_results "
   ]
  },
  {
   "cell_type": "code",
   "execution_count": 13,
   "metadata": {},
   "outputs": [],
   "source": [
    "np.save(\"D:3.AutoencoderForArticle/BOW_binary_v01_int8.npy\",one_hot_results)"
   ]
  },
  {
   "cell_type": "markdown",
   "metadata": {},
   "source": [
    "### Load one_hot_results "
   ]
  },
  {
   "cell_type": "code",
   "execution_count": 14,
   "metadata": {},
   "outputs": [],
   "source": [
    "# BOW_binary=np.load(\"D:3.AutoencoderForArticle/BOW_binary_v01.npy\")"
   ]
  },
  {
   "cell_type": "code",
   "execution_count": 7,
   "metadata": {},
   "outputs": [
    {
     "name": "stdout",
     "output_type": "stream",
     "text": [
      "0.616%\n"
     ]
    }
   ],
   "source": [
    "#sparcity\n",
    "sparcity=np.mean(BOW_binary)\n",
    "print(\"{}%\".format(np.round(sparcity,5)*100))"
   ]
  },
  {
   "cell_type": "code",
   "execution_count": 8,
   "metadata": {},
   "outputs": [
    {
     "data": {
      "text/plain": [
       "203"
      ]
     },
     "execution_count": 8,
     "metadata": {},
     "output_type": "execute_result"
    }
   ],
   "source": [
    "np.sum(BOW_binary[69520])"
   ]
  },
  {
   "cell_type": "markdown",
   "metadata": {},
   "source": [
    "## Text to Vector version2\n",
    "<li> Load DataSet_vip_single_industry\n",
    "<li> Build Vocabulary(commenest 3700 words per industry)\n",
    "<li> Use Vocanbulry to vectrize text  \n",
    "<li> Sparcisity\n",
    "<li> Save"
   ]
  },
  {
   "cell_type": "markdown",
   "metadata": {},
   "source": [
    "#### Load DataSet_vip_single_industry"
   ]
  },
  {
   "cell_type": "code",
   "execution_count": 79,
   "metadata": {},
   "outputs": [],
   "source": [
    "with open(\"D:3.AutoencoderForArticle/DataSet_vip_single_industry\",\"rb\") as f:\n",
    "    DataSet=pickle.load(f)"
   ]
  },
  {
   "cell_type": "code",
   "execution_count": 80,
   "metadata": {},
   "outputs": [],
   "source": [
    "from keras.preprocessing.text import Tokenizer"
   ]
  },
  {
   "cell_type": "markdown",
   "metadata": {},
   "source": [
    "#### Build Vocabulary"
   ]
  },
  {
   "cell_type": "code",
   "execution_count": 81,
   "metadata": {},
   "outputs": [
    {
     "data": {
      "application/vnd.jupyter.widget-view+json": {
       "model_id": "f12ec8cad8154b8d83907ec36851d8a4",
       "version_major": 2,
       "version_minor": 0
      },
      "text/plain": [
       "HBox(children=(IntProgress(value=0, max=28), HTML(value='')))"
      ]
     },
     "metadata": {},
     "output_type": "display_data"
    },
    {
     "name": "stdout",
     "output_type": "stream",
     "text": [
      "\n"
     ]
    }
   ],
   "source": [
    "dictindustryvocabulary=dict()\n",
    "n=3700\n",
    "for idu in  tqdm_notebook(list_industry):\n",
    "    text=DataSet[DataSet[\"indusrty_tags\"]=={idu}][\"title_token_plus_body_token\"].values\n",
    "    tokenizer=Tokenizer(num_words=n)\n",
    "    tokenizer.fit_on_texts(text)\n",
    "    \n",
    "    df=pd.Series(tokenizer.word_index)\n",
    "    wordset=df.sort_values(ascending=True).index[:n]\n",
    "    \n",
    "    dictindustryvocabulary[idu]=wordset"
   ]
  },
  {
   "cell_type": "code",
   "execution_count": 82,
   "metadata": {
    "scrolled": true
   },
   "outputs": [],
   "source": [
    "vocabulary=set()\n",
    "allhave=set()\n",
    "for i,k in enumerate(dictindustryvocabulary):\n",
    "#     print(len(dictindustryvocabulary[k]))\n",
    "    vocabulary=vocabulary|set(dictindustryvocabulary[k])\n",
    "    if i==0:allhave=allhave|set(dictindustryvocabulary[k])\n",
    "    allhave=allhave&set(dictindustryvocabulary[k])"
   ]
  },
  {
   "cell_type": "code",
   "execution_count": 83,
   "metadata": {},
   "outputs": [
    {
     "data": {
      "text/plain": [
       "20506"
      ]
     },
     "execution_count": 83,
     "metadata": {},
     "output_type": "execute_result"
    }
   ],
   "source": [
    "len(vocabulary)"
   ]
  },
  {
   "cell_type": "code",
   "execution_count": 84,
   "metadata": {
    "scrolled": true
   },
   "outputs": [],
   "source": [
    "word_industrys={i:0 for i in vocabulary}\n",
    "for k in dictindustryvocabulary:\n",
    "    for word in dictindustryvocabulary[k]:\n",
    "        word_industrys[word]+=1"
   ]
  },
  {
   "cell_type": "code",
   "execution_count": 85,
   "metadata": {
    "scrolled": true
   },
   "outputs": [],
   "source": [
    "df=pd.Series(word_industrys)\n",
    "df=pd.DataFrame(df.sort_values(ascending=False))"
   ]
  },
  {
   "cell_type": "code",
   "execution_count": 86,
   "metadata": {},
   "outputs": [],
   "source": [
    "discard_list=[]\n",
    "for word in vocabulary:\n",
    "    if len(word)==1:discard_list.append(word)\n"
   ]
  },
  {
   "cell_type": "code",
   "execution_count": 87,
   "metadata": {},
   "outputs": [
    {
     "data": {
      "text/plain": [
       "19404"
      ]
     },
     "execution_count": 87,
     "metadata": {},
     "output_type": "execute_result"
    }
   ],
   "source": [
    "vocabulary=vocabulary-(set(discard_list)-set(element))\n",
    "len(vocabulary)"
   ]
  },
  {
   "cell_type": "code",
   "execution_count": 88,
   "metadata": {},
   "outputs": [],
   "source": [
    "# with open(\"D:3.AutoencoderForArticle/vocabulary.p\",\"wb\") as f:\n",
    "#     pickle.dump(file=f,obj=vocabulary)"
   ]
  },
  {
   "cell_type": "code",
   "execution_count": 92,
   "metadata": {},
   "outputs": [],
   "source": [
    "dict_vocabulary={v:i for i,v in enumerate(vocabulary)}"
   ]
  },
  {
   "cell_type": "code",
   "execution_count": 95,
   "metadata": {},
   "outputs": [],
   "source": [
    "# with open(\"D:3.AutoencoderForArticle/dict_vocabulary\",\"wb\") as f:\n",
    "#     pickle.dump(file=f,obj=dict_vocabulary)"
   ]
  },
  {
   "cell_type": "markdown",
   "metadata": {},
   "source": [
    "#### Use vocabulary vectorize text"
   ]
  },
  {
   "cell_type": "code",
   "execution_count": 96,
   "metadata": {},
   "outputs": [],
   "source": [
    "text=DataSet[\"title_token_plus_body_token\"]\n",
    "BOW_binary=np.zeros((len(text),len(vocabulary)),dtype=\"int8\")"
   ]
  },
  {
   "cell_type": "code",
   "execution_count": 97,
   "metadata": {},
   "outputs": [
    {
     "data": {
      "text/plain": [
       "(154884, 19404)"
      ]
     },
     "execution_count": 97,
     "metadata": {},
     "output_type": "execute_result"
    }
   ],
   "source": [
    "BOW_binary.shape"
   ]
  },
  {
   "cell_type": "code",
   "execution_count": 98,
   "metadata": {},
   "outputs": [
    {
     "data": {
      "application/vnd.jupyter.widget-view+json": {
       "model_id": "b72e0eb039e64e6baf7cbcff1a64a9df",
       "version_major": 2,
       "version_minor": 0
      },
      "text/plain": [
       "HBox(children=(IntProgress(value=0, max=154884), HTML(value='')))"
      ]
     },
     "metadata": {},
     "output_type": "display_data"
    },
    {
     "name": "stdout",
     "output_type": "stream",
     "text": [
      "\n"
     ]
    }
   ],
   "source": [
    "for i,t in enumerate(tqdm_notebook(text)):\n",
    "    for w in t.split():\n",
    "        if w in dict_vocabulary:\n",
    "            BOW_binary[i,dict_vocabulary[w]]=1"
   ]
  },
  {
   "cell_type": "markdown",
   "metadata": {},
   "source": [
    "#### Saprsity"
   ]
  },
  {
   "cell_type": "code",
   "execution_count": 100,
   "metadata": {},
   "outputs": [
    {
     "name": "stdout",
     "output_type": "stream",
     "text": [
      "sparsity:0.53%\n"
     ]
    }
   ],
   "source": [
    "sparsity=np.sum(BOW_binary==1)/(BOW_binary.shape[0]*BOW_binary.shape[1])\n",
    "print(\"sparsity:{:.2}%\".format(round(sparsity,5)*100))"
   ]
  },
  {
   "cell_type": "markdown",
   "metadata": {},
   "source": [
    "#### Save"
   ]
  },
  {
   "cell_type": "code",
   "execution_count": 101,
   "metadata": {},
   "outputs": [],
   "source": [
    "# np.save(\"D:3.AutoencoderForArticle/BOW_binary_re_v02.npy\",BOW_binary)"
   ]
  },
  {
   "cell_type": "markdown",
   "metadata": {},
   "source": [
    "## Text to Vecotr multi-industry"
   ]
  },
  {
   "cell_type": "markdown",
   "metadata": {},
   "source": [
    "<li> Load DataSet_vip_multi_industry\n",
    "<li> Build Vocabulary(commenest 3700 words per industry)\n",
    "<li> Use Vocanbulry to vectrize text  \n",
    "<li> Sparcisity\n",
    "<li> Save"
   ]
  },
  {
   "cell_type": "code",
   "execution_count": 110,
   "metadata": {},
   "outputs": [],
   "source": [
    "with open(\"D:3.AutoencoderForArticle/DataSet_vip_multi_industry\",\"rb\") as f:\n",
    "    DataSet=pickle.load(f)"
   ]
  },
  {
   "cell_type": "code",
   "execution_count": 111,
   "metadata": {},
   "outputs": [],
   "source": [
    "with open(\"D:3.AutoencoderForArticle/dict_vocabulary\",\"rb\") as f:\n",
    "    dict_vocabulary=pickle.load(f)"
   ]
  },
  {
   "cell_type": "code",
   "execution_count": 26,
   "metadata": {},
   "outputs": [
    {
     "name": "stdout",
     "output_type": "stream",
     "text": [
      "<class 'pandas.core.frame.DataFrame'>\n",
      "RangeIndex: 127707 entries, 0 to 127706\n",
      "Data columns (total 3 columns):\n",
      "guid                           127707 non-null object\n",
      "title_token_plus_body_token    127707 non-null object\n",
      "indusrty_tags                  127707 non-null object\n",
      "dtypes: object(3)\n",
      "memory usage: 2.9+ MB\n"
     ]
    }
   ],
   "source": [
    "DataSet.info()"
   ]
  },
  {
   "cell_type": "markdown",
   "metadata": {},
   "source": [
    "#### build BOW_binary_multi_v01"
   ]
  },
  {
   "cell_type": "code",
   "execution_count": 113,
   "metadata": {},
   "outputs": [],
   "source": [
    "text=DataSet[\"title_token_plus_body_token\"]\n",
    "BOW_binary=np.zeros((len(text),len(vocabulary)),dtype=\"int8\")"
   ]
  },
  {
   "cell_type": "code",
   "execution_count": 114,
   "metadata": {},
   "outputs": [
    {
     "data": {
      "text/plain": [
       "(127707, 19404)"
      ]
     },
     "execution_count": 114,
     "metadata": {},
     "output_type": "execute_result"
    }
   ],
   "source": [
    "BOW_binary.shape"
   ]
  },
  {
   "cell_type": "code",
   "execution_count": 115,
   "metadata": {},
   "outputs": [
    {
     "data": {
      "application/vnd.jupyter.widget-view+json": {
       "model_id": "f57126b713b8448d8de6cbf1e69193bc",
       "version_major": 2,
       "version_minor": 0
      },
      "text/plain": [
       "HBox(children=(IntProgress(value=0, max=127707), HTML(value='')))"
      ]
     },
     "metadata": {},
     "output_type": "display_data"
    },
    {
     "name": "stdout",
     "output_type": "stream",
     "text": [
      "\n"
     ]
    }
   ],
   "source": [
    "for i,t in enumerate(tqdm_notebook(text)):\n",
    "    for w in t.split():\n",
    "        if w in dict_vocabulary:\n",
    "            BOW_binary[i,dict_vocabulary[w]]=1"
   ]
  },
  {
   "cell_type": "markdown",
   "metadata": {},
   "source": [
    "#### Saprsity"
   ]
  },
  {
   "cell_type": "code",
   "execution_count": 116,
   "metadata": {},
   "outputs": [
    {
     "name": "stdout",
     "output_type": "stream",
     "text": [
      "sparsity:0.61%\n"
     ]
    }
   ],
   "source": [
    "sparsity=np.sum(BOW_binary==1)/(BOW_binary.shape[0]*BOW_binary.shape[1])\n",
    "print(\"sparsity:{:.2}%\".format(round(sparsity,5)*100))"
   ]
  },
  {
   "cell_type": "markdown",
   "metadata": {},
   "source": [
    "#### Save"
   ]
  },
  {
   "cell_type": "code",
   "execution_count": 118,
   "metadata": {},
   "outputs": [],
   "source": [
    "# np.save(\"D:3.AutoencoderForArticle/BOW_binary_multi_v01.npy\",BOW_binary)"
   ]
  },
  {
   "cell_type": "code",
   "execution_count": 117,
   "metadata": {},
   "outputs": [
    {
     "data": {
      "text/plain": [
       "(127707, 19404)"
      ]
     },
     "execution_count": 117,
     "metadata": {},
     "output_type": "execute_result"
    }
   ],
   "source": [
    "BOW_binary.shape"
   ]
  },
  {
   "cell_type": "code",
   "execution_count": null,
   "metadata": {},
   "outputs": [],
   "source": []
  }
 ],
 "metadata": {
  "kernelspec": {
   "display_name": "Python 3",
   "language": "python",
   "name": "python3"
  },
  "language_info": {
   "codemirror_mode": {
    "name": "ipython",
    "version": 3
   },
   "file_extension": ".py",
   "mimetype": "text/x-python",
   "name": "python",
   "nbconvert_exporter": "python",
   "pygments_lexer": "ipython3",
   "version": "3.5.5"
  }
 },
 "nbformat": 4,
 "nbformat_minor": 2
}
