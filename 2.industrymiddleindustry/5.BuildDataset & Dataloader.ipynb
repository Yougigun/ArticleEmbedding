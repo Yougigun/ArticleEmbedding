{
 "cells": [
  {
   "cell_type": "code",
   "execution_count": 43,
   "metadata": {},
   "outputs": [],
   "source": [
    "import numpy as np\n",
    "import uuid\n",
    "import torch\n",
    "from torch.utils.data import Dataset,DataLoader"
   ]
  },
  {
   "cell_type": "code",
   "execution_count": 300,
   "metadata": {},
   "outputs": [],
   "source": [
    "class Tripletdataset(Dataset):\n",
    "    def __init__(self,industry,dict_industry_guid,dict_guid_bow,P=3,K=8):\n",
    "        self.industry=industry\n",
    "        self.dict_industry_guid=dict_industry_guid\n",
    "        self.dict_guid_bow=dict_guid_bow\n",
    "        self.P=P\n",
    "        self.K=K\n",
    "    def __len__(self):\n",
    "        return int(np.floor(len(self.industry) / self.P))\n",
    "    \n",
    "    def __getitem__(self,idx):\n",
    "        if len(self)==idx: raise StopIteration\n",
    "        industrys=self.industry[idx*self.P:(idx+1)*self.P]\n",
    "        small_dict_id_news={i:np.random.choice(self.dict_industry_guid[i],size=self.K,replace=False) for i in industrys}\n",
    "        \n",
    "        dict_small_triplet=dict()\n",
    "        #### PK x (K-1) x (PK-K)\n",
    "        for k in small_dict_id_news:\n",
    "            poslist=small_dict_id_news[k]\n",
    "            poslen=len(poslist)\n",
    "            neglist=[]\n",
    "            for j in small_dict_id_news:\n",
    "                if k!=j:neglist+=list(small_dict_id_news[j])\n",
    "            neglen=len(neglist)\n",
    "            indarray=np.empty((int(poslen*(poslen-1)*neglen),3),dtype='U36')\n",
    "            i=0\n",
    "            for ip1_,a in enumerate(poslist):\n",
    "                for ip2_,p in enumerate(poslist):\n",
    "                    if ip1_!=ip2_:\n",
    "                        for in_,n in enumerate(neglist):\n",
    "        #                   print(p1,p2,n)\n",
    "                            indarray[i,0]=a\n",
    "                            indarray[i,1]=p\n",
    "                            indarray[i,2]=n\n",
    "                            i+=1\n",
    "            dict_small_triplet[k]=indarray  \n",
    "        for i,k in enumerate(dict_small_triplet):\n",
    "            if i==0:tripletindex=dict_small_triplet[k]\n",
    "            else:tripletindex=np.concatenate((tripletindex,dict_small_triplet[k]),axis=0)             \n",
    "        \n",
    "        batch_anchor=np.asarray([self.dict_guid_bow[uuid.UUID(v)].toarray() for v in tripletindex[:,0]]).squeeze()\n",
    "        batch_positive=np.asarray([self.dict_guid_bow[uuid.UUID(v)].toarray() for v in tripletindex[:,1]]).squeeze()\n",
    "        batch_negative=np.asarray([self.dict_guid_bow[uuid.UUID(v)].toarray() for v in tripletindex[:,2]]).squeeze()\n",
    "        return {\"batch_anchor\":batch_anchor,\"batch_positive\":batch_positive,\"batch_negative\":batch_negative}\n",
    "            \n",
    "    def shuffle(self):\n",
    "        self.industry=np.random.permutation(np.asarray(self.industry))\n",
    "            \n",
    "        "
   ]
  },
  {
   "cell_type": "code",
   "execution_count": 287,
   "metadata": {},
   "outputs": [
    {
     "data": {
      "text/plain": [
       "array([[0, 0, 1, ..., 0, 0, 0],\n",
       "       [0, 0, 1, ..., 0, 0, 0],\n",
       "       [0, 0, 1, ..., 0, 0, 0],\n",
       "       ...,\n",
       "       [0, 0, 1, ..., 0, 0, 0],\n",
       "       [0, 0, 1, ..., 0, 0, 0],\n",
       "       [0, 0, 1, ..., 0, 0, 0]], dtype=int8)"
      ]
     },
     "execution_count": 287,
     "metadata": {},
     "output_type": "execute_result"
    }
   ],
   "source": [
    "if __name__==\"__main__\":\n",
    "    import pickle\n",
    "    from scipy import sparse\n",
    "    with open(\"D:4.AutoencoderForArticle.Mid-Industry/dict_singleindustry_guid.p\",\"rb\" ) as f:\n",
    "        dict_singleindustry_guid=pickle.load(f)\n",
    "    with open(\"D:4.AutoencoderForArticle.Mid-Industry/dict_guid_sparsebow_single.p\",\"rb\" ) as f:\n",
    "        dict_guid_sparsebow_single=pickle.load(f)\n",
    "        \n",
    "    dataset=tripletdataset(industry[:-20],dict_singleindustry_guid,dict_guid_sparsebow_single,P=3,K=5)\n",
    "\n",
    "    dataset.shuffle()\n",
    "\n",
    "    dataset[0]"
   ]
  }
 ],
 "metadata": {
  "kernelspec": {
   "display_name": "Python 3",
   "language": "python",
   "name": "python3"
  },
  "language_info": {
   "codemirror_mode": {
    "name": "ipython",
    "version": 3
   },
   "file_extension": ".py",
   "mimetype": "text/x-python",
   "name": "python",
   "nbconvert_exporter": "python",
   "pygments_lexer": "ipython3",
   "version": "3.5.5"
  }
 },
 "nbformat": 4,
 "nbformat_minor": 2
}
