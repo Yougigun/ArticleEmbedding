{
 "cells": [
  {
   "cell_type": "code",
   "execution_count": 1,
   "metadata": {},
   "outputs": [],
   "source": [
    "import pickle\n",
    "import numpy as np\n",
    "from scipy import sparse\n",
    "import pandas as pd\n",
    "import seaborn as sns\n",
    "sns.set() ## set up style\n",
    "import uuid\n",
    "import time\n",
    "import datetime\n",
    "import matplotlib.pyplot as plt\n",
    "#solved chinese display in matplotlib\n",
    "from matplotlib import rcParams\n",
    "rcParams['font.family'] = 'sans-serif'\n",
    "# rcParams[\"font.family\"] = \"DFKai-SB\"\n",
    "rcParams['axes.unicode_minus'] = False\n",
    "from tqdm import tqdm_notebook,tnrange\n",
    "# from tqdm.autonotebook import tqdm\n",
    "# tqdm.pandas()\n",
    "\n",
    "import torch\n",
    "device = torch.device(\"cuda:0\" if torch.cuda.is_available() else \"cpu\")\n",
    "import visdom\n",
    "vis=visdom.Visdom()\n",
    "from BuildDataset import Tripletdataset\n",
    "from Model import Encoder,Decoder,EncoderOneLayer,DecoderOneLayer\n",
    "industry=['金融業', 'IC製造', 'IC設計', '電子零件元件', '電腦系統業', '石油及天然氣', '手機', '面板業', '太陽能',\n",
    "       '板鋼', '被動元件', '車輛整車', '非鐵金屬', '流通業', '地產', '通訊設備', '遊戲產業', '印刷電路板相關',\n",
    "       '貴金屬', '機械', '運輸事業', '電子通路', 'IC封裝測試', 'LED', '通訊服務', '消費性電子產品', '化學工業',\n",
    "       '醫藥產業', '軟體業', '週邊產品', '石化業', '旅館、餐飲', '汽機車零組件', '設備儀器廠商', '條鋼', '造紙業',\n",
    "       '水泥', '橡膠工業', '傳產其他', '數位相機', '顯示器', '不鏽鋼', '農林漁牧', '服務業', 'Internet相關',\n",
    "       '營造工程', '休閒娛樂', '紡織中游', '生物科技', '家電', '光碟片', '建材', '成衣', '電力', '運動產業',\n",
    "       '線材、盤元', '化纖原料', '其他公用事業', '大宗物資', '家居用品', '手機零組件', '食品加工', '電力設備',\n",
    "       '航天軍工', '分離式元件', '電子其他', '面板零組件', '飲料相關', '電線電纜', '封測服務與材料', '礦石開採',\n",
    "       '光通訊', '傳播事業', '輔助與彌補用醫材', '時尚產業', '基礎建設營運', '電聲產品', '水資源', '醫療器材通路',\n",
    "       '合金鋼', '文化創意產業', '車用金屬成型', '穿戴式裝置', '其他醫療器材', '汽車內裝', '車用電子',\n",
    "       '診斷與監測用醫材', '傳輸介面', '電子化工材料', '電池材料相關', '資產股', '醫療管理服務', '體外診斷用醫材', '煤',\n",
    "       '射頻前端晶片', '控股公司', '無店舖販售', '手術與治療用醫材', '金屬礦採選', '生物辨識相關']"
   ]
  },
  {
   "cell_type": "code",
   "execution_count": 2,
   "metadata": {},
   "outputs": [],
   "source": [
    "## Load industry dictionary\n",
    "with open(\"D:4.AutoencoderForArticle.Mid-Industry/dict_guid_sparsebow_20000_single.v05.p\",\"rb\") as f:\n",
    "    dict_guid_sparsebow_single= pickle.load(f)\n",
    "with open(\"D:4.AutoencoderForArticle.Mid-Industry/dict_singleindustry_guid.p\",\"rb\") as f:\n",
    "    dict_singleindustry_guid= pickle.load(f)"
   ]
  },
  {
   "cell_type": "code",
   "execution_count": 3,
   "metadata": {},
   "outputs": [],
   "source": [
    "## Industry with news more than 100 pics\n",
    "industry_partial=industry[:80]"
   ]
  },
  {
   "cell_type": "code",
   "execution_count": 4,
   "metadata": {},
   "outputs": [
    {
     "data": {
      "text/plain": [
       "80"
      ]
     },
     "execution_count": 4,
     "metadata": {},
     "output_type": "execute_result"
    }
   ],
   "source": [
    "len(industry_partial)"
   ]
  },
  {
   "cell_type": "markdown",
   "metadata": {},
   "source": [
    "#### Configuration for split dataset to triain and test"
   ]
  },
  {
   "cell_type": "code",
   "execution_count": 5,
   "metadata": {},
   "outputs": [],
   "source": [
    "Split=8/18\n",
    "Split_train_test=8/10"
   ]
  },
  {
   "cell_type": "markdown",
   "metadata": {},
   "source": [
    "#### Sample part of Dataset"
   ]
  },
  {
   "cell_type": "code",
   "execution_count": 6,
   "metadata": {},
   "outputs": [],
   "source": [
    "dict_split_industry_guid={ ind:np.random.choice(dict_singleindustry_guid[ind],\n",
    "                                                     size=int(Split*len(dict_singleindustry_guid[ind])),\n",
    "                                                     replace=False) for ind in industry_partial}"
   ]
  },
  {
   "cell_type": "code",
   "execution_count": 7,
   "metadata": {},
   "outputs": [],
   "source": [
    "dict_train_industry_guid={ind:dict_split_industry_guid[ind][:int(Split_train_test*len(dict_split_industry_guid[ind]))]\n",
    "                          for ind in dict_split_industry_guid}\n",
    "dict_test_industry_guid={ind:dict_split_industry_guid[ind][int(Split_train_test*len(dict_split_industry_guid[ind])):]\n",
    "                          for ind in dict_split_industry_guid}\n",
    "with open(\"dict_train_industry_guid.p\",\"wb\") as f:\n",
    "    pickle.dump(dict_train_industry_guid,f)\n",
    "with open(\"dict_test_industry_guid.p\",\"wb\") as f:\n",
    "    pickle.dump(dict_test_industry_guid,f)"
   ]
  },
  {
   "cell_type": "code",
   "execution_count": 8,
   "metadata": {
    "collapsed": true
   },
   "outputs": [
    {
     "data": {
      "text/plain": [
       "金融業         7083\n",
       "IC製造        3338\n",
       "IC設計        3187\n",
       "電子零件元件      2932\n",
       "電腦系統業       2282\n",
       "石油及天然氣      2160\n",
       "手機          2139\n",
       "面板業         1929\n",
       "太陽能         1819\n",
       "板鋼          1656\n",
       "被動元件        1643\n",
       "車輛整車        1631\n",
       "非鐵金屬        1612\n",
       "流通業         1540\n",
       "地產          1392\n",
       "通訊設備        1368\n",
       "遊戲產業        1341\n",
       "印刷電路板相關     1299\n",
       "貴金屬         1174\n",
       "機械          1078\n",
       "運輸事業        1077\n",
       "電子通路        1008\n",
       "IC封裝測試       905\n",
       "LED          798\n",
       "通訊服務         797\n",
       "消費性電子產品      707\n",
       "化學工業         698\n",
       "醫藥產業         671\n",
       "軟體業          669\n",
       "週邊產品         669\n",
       "            ... \n",
       "光碟片          228\n",
       "建材           197\n",
       "成衣           195\n",
       "電力           187\n",
       "運動產業         182\n",
       "線材、盤元        181\n",
       "化纖原料         176\n",
       "其他公用事業       168\n",
       "大宗物資         165\n",
       "家居用品         158\n",
       "手機零組件        139\n",
       "食品加工         129\n",
       "電力設備         123\n",
       "航天軍工         117\n",
       "分離式元件        115\n",
       "電子其他         108\n",
       "面板零組件        102\n",
       "飲料相關          93\n",
       "電線電纜          91\n",
       "封測服務與材料       90\n",
       "礦石開採          78\n",
       "光通訊           63\n",
       "傳播事業          61\n",
       "時尚產業          60\n",
       "輔助與彌補用醫材      60\n",
       "基礎建設營運        54\n",
       "電聲產品          52\n",
       "水資源           50\n",
       "醫療器材通路        43\n",
       "合金鋼           38\n",
       "Length: 80, dtype: int64"
      ]
     },
     "execution_count": 8,
     "metadata": {},
     "output_type": "execute_result"
    }
   ],
   "source": [
    "dict_str_list=dict_split_industry_guid\n",
    "analysis={i:len(dict_str_list[i]) for i in dict_str_list }\n",
    "analysis=pd.Series(analysis)\n",
    "analysis.sort_values(ascending=False)"
   ]
  },
  {
   "cell_type": "code",
   "execution_count": 9,
   "metadata": {
    "collapsed": true
   },
   "outputs": [
    {
     "data": {
      "text/plain": [
       "金融業         4958\n",
       "IC製造        2336\n",
       "IC設計        2230\n",
       "電子零件元件      2052\n",
       "電腦系統業       1597\n",
       "石油及天然氣      1512\n",
       "手機          1497\n",
       "面板業         1350\n",
       "太陽能         1273\n",
       "板鋼          1159\n",
       "被動元件        1150\n",
       "車輛整車        1141\n",
       "非鐵金屬        1128\n",
       "流通業         1078\n",
       "地產           974\n",
       "通訊設備         957\n",
       "遊戲產業         938\n",
       "印刷電路板相關      909\n",
       "貴金屬          821\n",
       "機械           754\n",
       "運輸事業         753\n",
       "電子通路         705\n",
       "IC封裝測試       633\n",
       "LED          558\n",
       "通訊服務         557\n",
       "消費性電子產品      494\n",
       "化學工業         488\n",
       "醫藥產業         469\n",
       "軟體業          468\n",
       "週邊產品         468\n",
       "            ... \n",
       "光碟片          159\n",
       "建材           137\n",
       "成衣           136\n",
       "電力           130\n",
       "運動產業         127\n",
       "線材、盤元        126\n",
       "化纖原料         123\n",
       "其他公用事業       117\n",
       "大宗物資         115\n",
       "家居用品         110\n",
       "手機零組件         97\n",
       "食品加工          90\n",
       "電力設備          86\n",
       "航天軍工          81\n",
       "分離式元件         80\n",
       "電子其他          75\n",
       "面板零組件         71\n",
       "飲料相關          65\n",
       "電線電纜          63\n",
       "封測服務與材料       62\n",
       "礦石開採          54\n",
       "光通訊           44\n",
       "傳播事業          42\n",
       "時尚產業          42\n",
       "輔助與彌補用醫材      42\n",
       "基礎建設營運        37\n",
       "電聲產品          36\n",
       "水資源           35\n",
       "醫療器材通路        30\n",
       "合金鋼           26\n",
       "Length: 80, dtype: int64"
      ]
     },
     "execution_count": 9,
     "metadata": {},
     "output_type": "execute_result"
    }
   ],
   "source": [
    "dict_str_list=dict_train_industry_guid\n",
    "analysis={i:len(dict_str_list[i]) for i in dict_str_list }\n",
    "analysis=pd.Series(analysis)\n",
    "analysis.sort_values(ascending=False)"
   ]
  },
  {
   "cell_type": "code",
   "execution_count": 10,
   "metadata": {
    "collapsed": true
   },
   "outputs": [
    {
     "data": {
      "text/plain": [
       "金融業         2125\n",
       "IC製造        1002\n",
       "IC設計         957\n",
       "電子零件元件       880\n",
       "電腦系統業        685\n",
       "石油及天然氣       648\n",
       "手機           642\n",
       "面板業          579\n",
       "太陽能          546\n",
       "板鋼           497\n",
       "被動元件         493\n",
       "車輛整車         490\n",
       "非鐵金屬         484\n",
       "流通業          462\n",
       "地產           418\n",
       "通訊設備         411\n",
       "遊戲產業         403\n",
       "印刷電路板相關      390\n",
       "貴金屬          353\n",
       "機械           324\n",
       "運輸事業         324\n",
       "電子通路         303\n",
       "IC封裝測試       272\n",
       "通訊服務         240\n",
       "LED          240\n",
       "消費性電子產品      213\n",
       "化學工業         210\n",
       "醫藥產業         202\n",
       "軟體業          201\n",
       "週邊產品         201\n",
       "            ... \n",
       "光碟片           69\n",
       "建材            60\n",
       "成衣            59\n",
       "電力            57\n",
       "線材、盤元         55\n",
       "運動產業          55\n",
       "化纖原料          53\n",
       "其他公用事業        51\n",
       "大宗物資          50\n",
       "家居用品          48\n",
       "手機零組件         42\n",
       "食品加工          39\n",
       "電力設備          37\n",
       "航天軍工          36\n",
       "分離式元件         35\n",
       "電子其他          33\n",
       "面板零組件         31\n",
       "封測服務與材料       28\n",
       "電線電纜          28\n",
       "飲料相關          28\n",
       "礦石開採          24\n",
       "光通訊           19\n",
       "傳播事業          19\n",
       "時尚產業          18\n",
       "輔助與彌補用醫材      18\n",
       "基礎建設營運        17\n",
       "電聲產品          16\n",
       "水資源           15\n",
       "醫療器材通路        13\n",
       "合金鋼           12\n",
       "Length: 80, dtype: int64"
      ]
     },
     "execution_count": 10,
     "metadata": {},
     "output_type": "execute_result"
    }
   ],
   "source": [
    "dict_str_list=dict_test_industry_guid\n",
    "analysis={i:len(dict_str_list[i]) for i in dict_str_list }\n",
    "analysis=pd.Series(analysis)\n",
    "analysis.sort_values(ascending=False)"
   ]
  },
  {
   "cell_type": "markdown",
   "metadata": {},
   "source": [
    "#### Configure to train"
   ]
  },
  {
   "cell_type": "code",
   "execution_count": 21,
   "metadata": {},
   "outputs": [
    {
     "data": {
      "text/plain": [
       "1080"
      ]
     },
     "execution_count": 21,
     "metadata": {},
     "output_type": "execute_result"
    }
   ],
   "source": [
    "Epochs=5\n",
    "P=3\n",
    "K=6\n",
    "PK=P*K\n",
    "inputDim=20000\n",
    "repzDim=100\n",
    "alpha=2\n",
    "PK*(K-1)*(PK-K)"
   ]
  },
  {
   "cell_type": "markdown",
   "metadata": {},
   "source": [
    "#### Dataset  & Model & Criterion & Optimizer Instantiation"
   ]
  },
  {
   "cell_type": "code",
   "execution_count": 22,
   "metadata": {},
   "outputs": [],
   "source": [
    "dataset=Tripletdataset(industry_partial,\n",
    "                       dict_train_industry_guid,\n",
    "                       dict_guid_sparsebow_single,\n",
    "                       P=P,K=K,\n",
    "                      )\n",
    "testset=Tripletdataset(industry_partial,\n",
    "                       dict_test_industry_guid,\n",
    "                       dict_guid_sparsebow_single,\n",
    "                       P=P,K=K,\n",
    "                      )\n",
    "\n",
    "modelEncoder = EncoderOneLayer(inputDim,repzDim).to(device)\n",
    "modelEncoder.eval()\n",
    "modelDecoder = DecoderOneLayer(repzDim,inputDim).to(device)\n",
    "modelEncoder.eval()\n",
    "\n",
    "def criterionTri(h0,h1,h2,reduction=\"mean\"):\n",
    "    h01=(h0*h1).sum(dim=1)\n",
    "    h02=(h0*h2).sum(dim=1)\n",
    "    Lt=torch.log(1+torch.exp(h02-h01))\n",
    "    if reduction==\"mean\":\n",
    "        return Lt.mean()\n",
    "    if reduction==\"none\": assert False,\"this function not yet\" \n",
    "        \n",
    "##待 驗 證\n",
    "def criterionTriModfy(h0,h1,h2,reduction=\"mean\"):\n",
    "    h01=(h0*h1).sum(dim=1)\n",
    "    h02=(h0*h2).sum(dim=1)\n",
    "    Lt=torch.log(1+torch.exp(-h01))-torch.log( 1 - torch.sigmoid(h02))\n",
    "    if reduction==\"mean\":\n",
    "        return Lt.mean()\n",
    "\n",
    "criterionRC=torch.nn.BCELoss(reduction=\"mean\") ## There is one called BCEWithLogitsLoss \n",
    "# optimizerSgd=torch.optim.SGD([{\"params\":modelEncoder.parameters()},\n",
    "#                            {\"params\":modelDecoder.parameters()},\n",
    "#                            ],\n",
    "#                           lr=0.001,\n",
    "#                             )\n",
    "optimizer=torch.optim.Adam([{\"params\":modelEncoder.parameters()},\n",
    "                           {\"params\":modelDecoder.parameters()},\n",
    "                           ])"
   ]
  },
  {
   "cell_type": "code",
   "execution_count": null,
   "metadata": {},
   "outputs": [],
   "source": [
    "modelEncoder"
   ]
  },
  {
   "cell_type": "code",
   "execution_count": null,
   "metadata": {},
   "outputs": [],
   "source": [
    "modelDecoder"
   ]
  },
  {
   "cell_type": "code",
   "execution_count": 10,
   "metadata": {},
   "outputs": [
    {
     "name": "stderr",
     "output_type": "stream",
     "text": [
      "C:\\Users\\garyyu\\AppData\\Local\\Continuum\\anaconda3\\envs\\deeplearningcpu\\lib\\site-packages\\torch\\nn\\functional.py:1332: UserWarning: nn.functional.sigmoid is deprecated. Use torch.sigmoid instead.\n",
      "  warnings.warn(\"nn.functional.sigmoid is deprecated. Use torch.sigmoid instead.\")\n"
     ]
    },
    {
     "data": {
      "text/plain": [
       "tensor([-0.2504, -0.1770, -0.8129, -0.5878], grad_fn=<NegBackward>)"
      ]
     },
     "execution_count": 10,
     "metadata": {},
     "output_type": "execute_result"
    }
   ],
   "source": []
  },
  {
   "cell_type": "code",
   "execution_count": 10,
   "metadata": {},
   "outputs": [],
   "source": [
    "def opts(**kwords):\n",
    "    opts={\"markers\":False,\"xlabel\":\"epochs\",\"title\":\"Total Loss\",\"width\":1200,\"heigh\":300,\"xtickmax\":100}\n",
    "    for k in kwords:\n",
    "        opts[k]=kwords[k]\n",
    "    return opts"
   ]
  },
  {
   "cell_type": "code",
   "execution_count": 13,
   "metadata": {},
   "outputs": [
    {
     "name": "stdout",
     "output_type": "stream",
     "text": [
      "2019-01-17 09:29:54.325581\n"
     ]
    }
   ],
   "source": []
  },
  {
   "cell_type": "markdown",
   "metadata": {},
   "source": [
    "#### Train"
   ]
  },
  {
   "cell_type": "code",
   "execution_count": 13,
   "metadata": {},
   "outputs": [
    {
     "data": {
      "application/vnd.jupyter.widget-view+json": {
       "model_id": "cbb30e502f9f4631a0a4d83c20fbec27",
       "version_major": 2,
       "version_minor": 0
      },
      "text/plain": [
       "HBox(children=(IntProgress(value=0, max=5), HTML(value='')))"
      ]
     },
     "metadata": {},
     "output_type": "display_data"
    },
    {
     "name": "stdout",
     "output_type": "stream",
     "text": [
      "-------------------------------\n",
      "epoch : 1 / 5\n",
      "epoch : 1 / 5\n",
      "loss  : 1.248692512512207\n",
      "lossRA: 0.11516084522008896 , lossRP: 0.11515992134809494 , lossRN: 0.11515942960977554\n",
      "lossT : 0.4516061544418335\n",
      "Batch-Time: 0.193 s\n",
      "Batch-PreTime 0.013 s\n",
      "Batch-InfTime: 0.065 s\n",
      "Batch-BackTime: 0.085 s\n",
      "Batch-UpdateTime: 0.03 s\n",
      "Epoch-Time 5.157 s\n",
      "Trainset record: 0.0 s\n",
      "Test Inference 0.083 s\n",
      "Testset Record: 0.0 s\n",
      "Visom Plot: 0.0 s\n",
      "-------------------------------\n",
      "epoch : 2 / 5\n",
      "epoch : 2 / 5\n",
      "loss  : 1.0322901010513306\n",
      "lossRA: 0.06786343455314636 , lossRP: 0.06786274909973145 , lossRN: 0.0678630992770195\n",
      "lossT : 0.4143504202365875\n",
      "Batch-Time: 0.198 s\n",
      "Batch-PreTime 0.012 s\n",
      "Batch-InfTime: 0.066 s\n",
      "Batch-BackTime: 0.088 s\n",
      "Batch-UpdateTime: 0.032 s\n",
      "Epoch-Time 5.229 s\n",
      "Trainset record: 0.0 s\n",
      "Test Inference 0.084 s\n",
      "Testset Record: 0.0 s\n",
      "Visom Plot: 0.0 s\n",
      "-------------------------------\n",
      "epoch : 3 / 5\n",
      "epoch : 3 / 5\n",
      "loss  : 2.208651542663574\n",
      "lossRA: 0.06649576872587204 , lossRP: 0.06649474054574966 , lossRN: 0.0664963349699974\n",
      "lossT : 1.004582405090332\n",
      "Batch-Time: 0.203 s\n",
      "Batch-PreTime 0.013 s\n",
      "Batch-InfTime: 0.069 s\n",
      "Batch-BackTime: 0.09 s\n",
      "Batch-UpdateTime: 0.03 s\n",
      "Epoch-Time 5.279 s\n",
      "Trainset record: 0.0 s\n",
      "Test Inference 0.087 s\n",
      "Testset Record: 0.0 s\n",
      "Visom Plot: 0.0 s\n",
      "-------------------------------\n",
      "epoch : 4 / 5\n",
      "epoch : 4 / 5\n",
      "loss  : 1.299615502357483\n",
      "lossRA: 0.06185199320316315 , lossRP: 0.061852604150772095 , lossRN: 0.06185018643736839\n",
      "lossT : 0.5570303797721863\n",
      "Batch-Time: 0.201 s\n",
      "Batch-PreTime 0.013 s\n",
      "Batch-InfTime: 0.06 s\n",
      "Batch-BackTime: 0.098 s\n",
      "Batch-UpdateTime: 0.03 s\n",
      "Epoch-Time 5.306 s\n",
      "Trainset record: 0.0 s\n",
      "Test Inference 0.085 s\n",
      "Testset Record: 0.0 s\n",
      "Visom Plot: 0.0 s\n",
      "-------------------------------\n",
      "epoch : 5 / 5\n",
      "epoch : 5 / 5\n",
      "loss  : 1.7047855854034424\n",
      "lossRA: 0.06235211715102196 , lossRP: 0.06235203519463539 , lossRN: 0.062358308583498\n",
      "lossT : 0.7588615417480469\n",
      "Batch-Time: 0.2 s\n",
      "Batch-PreTime 0.013 s\n",
      "Batch-InfTime: 0.065 s\n",
      "Batch-BackTime: 0.091 s\n",
      "Batch-UpdateTime: 0.031 s\n",
      "Epoch-Time 5.253 s\n",
      "Trainset record: 0.0 s\n",
      "Test Inference 0.085 s\n",
      "Testset Record: 0.0 s\n",
      "Visom Plot: 0.0 s\n",
      "\n",
      "Time: 27.163 s\n"
     ]
    }
   ],
   "source": [
    "trainingloss={\"loss\":[],\"lossRA\":[],\"lossRP\":[],\"lossRN\":[],\"lossT\":[]}\n",
    "testloss={\"loss\":[],\"lossRA\":[],\"lossRP\":[],\"lossRN\":[],\"lossT\":[]}\n",
    "s_start=datetime.datetime.now()\n",
    "s_total=time.time()\n",
    "print(s_start)\n",
    "for ep in tnrange(Epochs):\n",
    "    s_epoch=time.time()\n",
    "    s_epochWithAllstep=time.time()\n",
    "    ep+=1\n",
    "    dataset.shuffle()\n",
    "    for i, (batchData,batchTest) in enumerate(zip(dataset,testset)):\n",
    "        \n",
    "        s_batch=time.time()\n",
    "        \n",
    "        optimizer.zero_grad()\n",
    "        \n",
    "        s_prepare=time.time()\n",
    "        ## Train \n",
    "        ## array int8 to float 32\n",
    "        batchAnchor=batchData[\"batch_anchor\"].astype(np.float32) \n",
    "        batchPositive=batchData[\"batch_positive\"].astype(np.float32)\n",
    "        batchNegative=batchData[\"batch_negative\"].astype(np.float32)\n",
    "        ## array  to tensor float 32\n",
    "        batchAnchorTensor=torch.tensor(batchAnchor,dtype=torch.float32,device=device)\n",
    "        batchPositiveTensor=torch.tensor(batchPositive,dtype=torch.float32,device=device)\n",
    "        batchNegativeTensor=torch.tensor(batchNegative,dtype=torch.float32,device=device)\n",
    "        \n",
    "        e_prepare=time.time()\n",
    "        \n",
    "        s_inference=time.time()\n",
    "        ## Inference\n",
    "        #### encoding\n",
    "        anchorRepz   = modelEncoder(batchAnchorTensor)\n",
    "        positiceRepz = modelEncoder(batchPositiveTensor)\n",
    "        negativeRepz = modelEncoder(batchNegativeTensor)\n",
    "        #### decoding\n",
    "        anchorRc   = modelDecoder(anchorRepz)\n",
    "        positiveRc = modelDecoder(positiceRepz)\n",
    "        negativeRc = modelDecoder(negativeRepz)\n",
    "        \n",
    "        lossRA = criterionRC(anchorRc,batchAnchorTensor)\n",
    "        lossRP = criterionRC(positiveRc,batchPositiveTensor)\n",
    "        lossRN = criterionRC(negativeRc,batchNegativeTensor)\n",
    "        \n",
    "        lossT = criterionTri(anchorRepz,positiceRepz,negativeRepz,reduction=\"mean\")\n",
    "        \n",
    "        loss = lossRA + lossRP + lossRN + alpha*lossT\n",
    "        \n",
    "        e_inference = time.time()\n",
    "        \n",
    "        \n",
    "        ## backward\n",
    "        s_backward = time.time()\n",
    "        loss.backward()\n",
    "        e_backward = time.time()\n",
    "        \n",
    "        s_step=time.time()\n",
    "        ## update\n",
    "        optimizer.step()\n",
    "        e_step=time.time()\n",
    "        \n",
    "        e_batch=time.time()\n",
    "        ## record\n",
    "#         with torch.no_grad():\n",
    "#             trainingloss[\"loss\"].append(loss.item())\n",
    "#             trainingloss[\"lossRA\"].append(lossRA.item())\n",
    "#             trainingloss[\"lossRP\"].append(lossRP.item())\n",
    "#             trainingloss[\"lossRN\"].append(lossRN.item())\n",
    "#             trainingloss[\"lossT\"].append(lossT.item())\n",
    "    e_epoch=time.time()\n",
    "    print(\"-------------------------------\")\n",
    "    print(\"epoch :\",ep,\"/\",Epochs)\n",
    "    print(\"epoch :\",ep,\"/\",Epochs)\n",
    "    print(\"loss  :\",loss.item())\n",
    "    print(\"lossRA:\",lossRA.item(),\",\",\"lossRP:\",lossRP.item(),\",\",\"lossRN:\",lossRN.item())\n",
    "    print(\"lossT :\",lossT.item())\n",
    "    print(\"Batch-Time:\",np.round(e_batch-s_batch,3),\"s\")\n",
    "    print(\"Batch-PreTime\",np.round(e_prepare-s_prepare,3),\"s\")\n",
    "    print(\"Batch-InfTime:\",np.round(e_inference-s_inference,3),\"s\")\n",
    "    print(\"Batch-BackTime:\",np.round(e_backward-s_backward,3),\"s\")\n",
    "    print(\"Batch-UpdateTime:\",np.round(e_step-s_step,3),\"s\")\n",
    "    print(\"Epoch-Time\",np.round(e_epoch-s_epoch,3),\"s\")\n",
    "    \n",
    "    s_trainRecord=time.time()\n",
    "    ## Trainset record\n",
    "    with torch.no_grad():\n",
    "        trainingloss[\"loss\"].append(loss.item())\n",
    "        trainingloss[\"lossRA\"].append(lossRA.item())\n",
    "        trainingloss[\"lossRP\"].append(lossRP.item())\n",
    "        trainingloss[\"lossRN\"].append(lossRN.item())\n",
    "        trainingloss[\"lossT\"].append(lossT.item())\n",
    "    e_trainRecord=time.time()\n",
    "    s_testInference=time.time()\n",
    "    ## Test Inference every epoch\n",
    "    with torch.no_grad():\n",
    "        ## array int8 to float 32\n",
    "        batchAnchor   = batchTest[\"batch_anchor\"].astype(np.float32) \n",
    "        batchPositive = batchTest[\"batch_positive\"].astype(np.float32)\n",
    "        batchNegative = batchTest[\"batch_negative\"].astype(np.float32)\n",
    "        ## array  to tensor float 32\n",
    "        batchAnchorTensor   = torch.tensor(batchAnchor,dtype=torch.float32,device=device)\n",
    "        batchPositiveTensor = torch.tensor(batchPositive,dtype=torch.float32,device=device)\n",
    "        batchNegativeTensor = torch.tensor(batchNegative,dtype=torch.float32,device=device)\n",
    "        ## Inference\n",
    "        #### encoding\n",
    "        anchorRepz   = modelEncoder(batchAnchorTensor)\n",
    "        positiceRepz = modelEncoder(batchPositiveTensor)\n",
    "        negativeRepz = modelEncoder(batchNegativeTensor)\n",
    "        #### decoding\n",
    "        anchorRc   = modelDecoder(anchorRepz)\n",
    "        positiveRc = modelDecoder(positiceRepz)\n",
    "        negativeRc = modelDecoder(negativeRepz)\n",
    "        #### loss\n",
    "        lossRA_test = criterionRC(anchorRc,batchAnchorTensor)\n",
    "        lossRP_test = criterionRC(positiveRc,batchPositiveTensor)\n",
    "        lossRN_test = criterionRC(negativeRc,batchNegativeTensor)\n",
    "        lossT_test  = criterionTri(anchorRepz,positiceRepz,negativeRepz,reduction=\"mean\")\n",
    "        loss_test   = lossRA_test+lossRP_test+lossRN_test+alpha*lossT_test\n",
    "    e_testInference=time.time()    \n",
    "    s_testRecord=time.time()\n",
    "    ### Testset Record\n",
    "    testloss[\"loss\"].append(loss_test.item())\n",
    "    testloss[\"lossRA\"].append(lossRA_test.item())\n",
    "    testloss[\"lossRP\"].append(lossRP_test.item())\n",
    "    testloss[\"lossRN\"].append(lossRN_test.item())\n",
    "    testloss[\"lossT\"].append(lossT_test.item())\n",
    "    e_testRecord=time.time()\n",
    "    s_plot=time.time()\n",
    "    ##plot \n",
    "    win=\"train loss \"\n",
    "    vis.line(Y=[loss.item()]  ,X=[ep],win=win,update=\"append\",opts=opts(title=win))\n",
    "    win=\"train lossT\"\n",
    "    vis.line(Y=[lossT.item()] ,X=[ep],win=win,update=\"append\",opts=opts(title=win))\n",
    "    win=\"train lossRA\"\n",
    "    vis.line(Y=[lossRA.item()],X=[ep],win=win,update=\"append\",opts=opts(title=win))\n",
    "    win=\"train lossRP\"\n",
    "    vis.line(Y=[lossRP.item()],X=[ep],win=win,update=\"append\",opts=opts(title=win))\n",
    "    win=\"train lossRN\"\n",
    "    vis.line(Y=[lossRN.item()],X=[ep],win=win,update=\"append\",opts=opts(title=win))\n",
    "    win=\"test loss \"\n",
    "    vis.line(Y=[loss_test.item()]  ,X=[ep],win=win,update=\"append\",opts=opts(title=win))\n",
    "    win=\"test lossT\"\n",
    "    vis.line(Y=[lossT_test.item()] ,X=[ep],win=win,update=\"append\",opts=opts(title=win))\n",
    "    win=\"test lossRA\"\n",
    "    vis.line(Y=[lossRA_test.item()],X=[ep],win=win,update=\"append\",opts=opts(title=win))\n",
    "    win=\"test lossRP\"\n",
    "    vis.line(Y=[lossRP_test.item()],X=[ep],win=win,update=\"append\",opts=opts(title=win))\n",
    "    win=\"test lossRN\"\n",
    "    vis.line(Y=[lossRN_test.item()],X=[ep],win=win,update=\"append\",opts=opts(title=win))  \n",
    "    e_plot=time.time()\n",
    "    e_epochWithAllstep=time.time()\n",
    "\n",
    "    print(\"Trainset record:\",np.round(e_trainRecord-s_trainRecord,3),\"s\")\n",
    "    print(\"Test Inference\",np.round(e_testInference-s_testInference,3),\"s\")\n",
    "    print(\"Testset Record:\",np.round(e_testRecord-s_testRecord,3),\"s\")\n",
    "    print(\"Visom Plot:\",np.round(s_plot-s_plot,3),\"s\")    \n",
    "    print(\"EpochWithAllstep\",np.round(e_trainRecord-s_epochWithAllstep,3),\"s\")\n",
    "e_total=time.time()\n",
    "e_end=datetime.datetime.now()\n",
    "print(\"START:\",s_start)\n",
    "print(\"END:\",e_end)\n",
    "print(\"Time:\",np.round(e_total-s_total,3),\"s\")"
   ]
  },
  {
   "cell_type": "code",
   "execution_count": 49,
   "metadata": {},
   "outputs": [
    {
     "data": {
      "text/plain": [
       "array([<matplotlib.axes._subplots.AxesSubplot object at 0x000002120A92D6D8>],\n",
       "      dtype=object)"
      ]
     },
     "execution_count": 49,
     "metadata": {},
     "output_type": "execute_result"
    },
    {
     "data": {
      "image/png": "[encoded data removed]",
      "text/plain": [
       "<Figure size 864x432 with 1 Axes>"
      ]
     },
     "metadata": {},
     "output_type": "display_data"
    }
   ],
   "source": [
    "df=pd.DataFrame({\"train_loss\":trainingloss[\"loss\"],\"test_loss\":testloss[\"loss\"]})\n",
    "df[[\"train_loss\",\"test_loss\"]].plot(figsize=(12,6))"
   ]
  },
  {
   "cell_type": "code",
   "execution_count": 48,
   "metadata": {},
   "outputs": [
    {
     "data": {
      "text/plain": [
       "array([<matplotlib.axes._subplots.AxesSubplot object at 0x000002120A8F7240>],\n",
       "      dtype=object)"
      ]
     },
     "execution_count": 48,
     "metadata": {},
     "output_type": "execute_result"
    },
    {
     "data": {
      "image/png": "[encoded data removed]",
      "text/plain": [
       "<Figure size 864x432 with 1 Axes>"
      ]
     },
     "metadata": {},
     "output_type": "display_data"
    }
   ],
   "source": [
    "df=pd.DataFrame({\"train_lossT\":trainingloss[\"lossT\"],\"test_lossT\":testloss[\"lossT\"]})\n",
    "df[[\"train_lossT\",\"test_lossT\"]].plot(figsize=(12,6))"
   ]
  },
  {
   "cell_type": "code",
   "execution_count": 44,
   "metadata": {},
   "outputs": [
    {
     "data": {
      "text/plain": [
       "array([[<matplotlib.axes._subplots.AxesSubplot object at 0x000002120A7A3438>,\n",
       "        <matplotlib.axes._subplots.AxesSubplot object at 0x000002120A0AB1D0>,\n",
       "        <matplotlib.axes._subplots.AxesSubplot object at 0x0000021209EF27F0>]],\n",
       "      dtype=object)"
      ]
     },
     "execution_count": 44,
     "metadata": {},
     "output_type": "execute_result"
    },
    {
     "data": {
      "image/png": "[encoded data removed]",
      "text/plain": [
       "<Figure size 1296x432 with 3 Axes>"
      ]
     },
     "metadata": {},
     "output_type": "display_data"
    }
   ],
   "source": [
    "# df=pd.DataFrame(trainingloss)\n",
    "df=pd.DataFrame({\"train_lossRA\":trainingloss[\"lossRA\"],\"test_lossRA\":testloss[\"lossRA\"],\n",
    "                \"train_lossRP\":trainingloss[\"lossRP\"],\"test_lossRP\":testloss[\"lossRP\"],\n",
    "                 \"train_lossRN\":trainingloss[\"lossRN\"],\"test_lossRN\":testloss[\"lossRN\"],\n",
    "                })\n",
    "# df[[\"train_lossT\",\"test_lossT\"]].plot(figsize=(12,6))\n",
    "df[[\"train_lossRA\",\"train_lossRN\",\"train_lossRN\",\"test_lossRA\",\"test_lossRP\",\"test_lossRN\"]].plot(subplots=True,\n",
    "                                                                                                   figsize=(18,6),layout=(2,3))"
   ]
  },
  {
   "cell_type": "markdown",
   "metadata": {},
   "source": [
    "## Save model"
   ]
  },
  {
   "cell_type": "code",
   "execution_count": null,
   "metadata": {},
   "outputs": [],
   "source": [
    "modelstatpath=\"EncoderStat.pt\"\n",
    "torch.save(modelEncoder.state_dict(),modelstatpath) "
   ]
  },
  {
   "cell_type": "markdown",
   "metadata": {},
   "source": [
    "## Save DATA"
   ]
  },
  {
   "cell_type": "code",
   "execution_count": null,
   "metadata": {},
   "outputs": [],
   "source": [
    "dfTrain=pd.DataFrame(trainingloss)\n",
    "dfTest=pd.DataFrame(testloss)"
   ]
  },
  {
   "cell_type": "code",
   "execution_count": null,
   "metadata": {},
   "outputs": [],
   "source": [
    "trainLossPath=\"TrainLoss.p\"\n",
    "testLossPath=\"TestLoss.p\"\n",
    "dfTrain.to_pickle(trainLossPath)\n",
    "dfTest.to_pickle(testLossPath)"
   ]
  },
  {
   "cell_type": "markdown",
   "metadata": {},
   "source": [
    "### PLOT"
   ]
  },
  {
   "cell_type": "code",
   "execution_count": 147,
   "metadata": {},
   "outputs": [],
   "source": [
    "y=torch.randn(2)\n",
    "win=vis.line(Y=[1,2],X=[1,4],win=win,update=\"append\",opts=opts(win=\"Total-loss-2\"))"
   ]
  },
  {
   "cell_type": "code",
   "execution_count": 144,
   "metadata": {},
   "outputs": [],
   "source": [
    "win=\"test\"\n",
    "# opts={\"markers\":True,\"xlabel\":\"epochs\",\"title\":\"test Loss\",\"width\":1200,\"heigh\":300}\n",
    "y=torch.randn(3)\n",
    "win=vis.line(y,X=[1,2,3],win=win,opts=opts(),name=\"train-loss\")"
   ]
  },
  {
   "cell_type": "code",
   "execution_count": 145,
   "metadata": {},
   "outputs": [],
   "source": [
    "win=\"X\"\n",
    "# opts={\"markers\":True,\"xlabel\":\"epochs\",\"title\":\"X Loss\",\"width\":1200,\"heigh\":300}\n",
    "y=torch.randn(3)\n",
    "win=vis.line(y,X=[1,2,3],win=win,opts=opts(),name=\"train-loss\")"
   ]
  },
  {
   "cell_type": "code",
   "execution_count": 146,
   "metadata": {},
   "outputs": [
    {
     "data": {
      "text/plain": [
       "<visdom.Visdom at 0x2127c1bb7b8>"
      ]
     },
     "execution_count": 146,
     "metadata": {},
     "output_type": "execute_result"
    }
   ],
   "source": [
    "vis"
   ]
  },
  {
   "cell_type": "code",
   "execution_count": null,
   "metadata": {},
   "outputs": [],
   "source": []
  }
 ],
 "metadata": {
  "kernelspec": {
   "display_name": "Python 3",
   "language": "python",
   "name": "python3"
  },
  "language_info": {
   "codemirror_mode": {
    "name": "ipython",
    "version": 3
   },
   "file_extension": ".py",
   "mimetype": "text/x-python",
   "name": "python",
   "nbconvert_exporter": "python",
   "pygments_lexer": "ipython3",
   "version": "3.5.5"
  },
  "widgets": {
   "application/vnd.jupyter.widget-state+json": {
    "state": {
     "002e71ecc2d345aea34ebcfd829cb8ee": {
      "model_module": "@jupyter-widgets/controls",
      "model_module_version": "1.2.0",
      "model_name": "IntProgressModel",
      "state": {
       "bar_style": "success",
       "layout": "IPY_MODEL_cb157676582049c9b3e6b21f71170852",
       "max": 26,
       "style": "IPY_MODEL_1db4f44124854cbc964fbd2aaaa1538b",
       "value": 26
      }
     },
     "0047b0e7f74b4208b36d50377e455771": {
      "model_module": "@jupyter-widgets/base",
      "model_module_version": "1.0.0",
      "model_name": "LayoutModel",
      "state": {}
     },
     "008f9b65f2b3400485e82f10de68ee15": {
      "model_module": "@jupyter-widgets/controls",
      "model_module_version": "1.2.0",
      "model_name": "HTMLModel",
      "state": {
       "layout": "IPY_MODEL_c2665a96da834f25be29197bfd9f9955",
       "style": "IPY_MODEL_01b36a559cbc49fd8432e9cc974d29e5",
       "value": "100% 1/1 [00:03&lt;00:00,  3.29s/it]"
      }
     },
     "00ee3ccac1ac4e61a2a4f86b33f42606": {
      "model_module": "@jupyter-widgets/controls",
      "model_module_version": "1.2.0",
      "model_name": "DescriptionStyleModel",
      "state": {
       "description_width": ""
      }
     },
     "00f6e17600414153a288f143bbdaf5a8": {
      "model_module": "@jupyter-widgets/base",
      "model_module_version": "1.0.0",
      "model_name": "LayoutModel",
      "state": {}
     },
     "016550faecde4f9ab8151bb65f9d6b78": {
      "model_module": "@jupyter-widgets/base",
      "model_module_version": "1.0.0",
      "model_name": "LayoutModel",
      "state": {}
     },
     "018af060af044f7d9f3f71411dda976a": {
      "model_module": "@jupyter-widgets/base",
      "model_module_version": "1.0.0",
      "model_name": "LayoutModel",
      "state": {}
     },
     "01b36a559cbc49fd8432e9cc974d29e5": {
      "model_module": "@jupyter-widgets/controls",
      "model_module_version": "1.2.0",
      "model_name": "DescriptionStyleModel",
      "state": {
       "description_width": ""
      }
     },
     "01c3f07abec54da5852acd2131abb516": {
      "model_module": "@jupyter-widgets/controls",
      "model_module_version": "1.2.0",
      "model_name": "HBoxModel",
      "state": {
       "children": [
        "IPY_MODEL_cc641acf009849beb2ff023301f16f7d",
        "IPY_MODEL_515c3922482648948efc5f6ad500f531"
       ],
       "layout": "IPY_MODEL_f4b3d64928624aa784db046fb3a248a5"
      }
     },
     "01f6574f60104e5b86f67c84dcc48f37": {
      "model_module": "@jupyter-widgets/base",
      "model_module_version": "1.0.0",
      "model_name": "LayoutModel",
      "state": {}
     },
     "020d4b0f95ff4248a86342f7d0bad8b5": {
      "model_module": "@jupyter-widgets/base",
      "model_module_version": "1.0.0",
      "model_name": "LayoutModel",
      "state": {}
     },
     "022db19b0dca417ba53ee32fa686147a": {
      "model_module": "@jupyter-widgets/controls",
      "model_module_version": "1.2.0",
      "model_name": "HBoxModel",
      "state": {
       "children": [
        "IPY_MODEL_03b51eae0b0c4573a3d10d9bf7f96f2c",
        "IPY_MODEL_9ce03a7089a74bd29a7ba2cf06cde15f"
       ],
       "layout": "IPY_MODEL_37b3ffc48f1b497fb5c99b65fe5514f8"
      }
     },
     "0247465420354b25ab2b79fb8ded566f": {
      "model_module": "@jupyter-widgets/base",
      "model_module_version": "1.0.0",
      "model_name": "LayoutModel",
      "state": {}
     },
     "02b763a1d5154c988837696361d3932f": {
      "model_module": "@jupyter-widgets/controls",
      "model_module_version": "1.2.0",
      "model_name": "DescriptionStyleModel",
      "state": {
       "description_width": ""
      }
     },
     "02bb8f3d116142a292c1ef628bead058": {
      "model_module": "@jupyter-widgets/controls",
      "model_module_version": "1.2.0",
      "model_name": "HTMLModel",
      "state": {
       "layout": "IPY_MODEL_53af8fdbe2df4901b0be9ec33c0246e0",
       "style": "IPY_MODEL_e89d1ab557c542f5b8b3398222433096",
       "value": "100% 5/5 [00:27&lt;00:00,  5.42s/it]"
      }
     },
     "02dd65f680db475ab1a193824ebc79c9": {
      "model_module": "@jupyter-widgets/controls",
      "model_module_version": "1.2.0",
      "model_name": "ProgressStyleModel",
      "state": {
       "description_width": ""
      }
     },
     "02ed5ba39d394cb386c1027fe00757b8": {
      "model_module": "@jupyter-widgets/base",
      "model_module_version": "1.0.0",
      "model_name": "LayoutModel",
      "state": {}
     },
     "02ee992f48e244898daa805b5a368dd3": {
      "model_module": "@jupyter-widgets/base",
      "model_module_version": "1.0.0",
      "model_name": "LayoutModel",
      "state": {}
     },
     "031996ed20db4f6a804dbdc44b90044d": {
      "model_module": "@jupyter-widgets/controls",
      "model_module_version": "1.2.0",
      "model_name": "HBoxModel",
      "state": {
       "children": [
        "IPY_MODEL_6fe55b85a9ea4823bdc6e4244eab44b1",
        "IPY_MODEL_ea64e97d6ffb4d9ca83b7a5e5b7289f2"
       ],
       "layout": "IPY_MODEL_28b95f75cd844bbf94599ab11c010d17"
      }
     },
     "0346f588fc114e9aae1382b9b35c3dfa": {
      "model_module": "@jupyter-widgets/controls",
      "model_module_version": "1.2.0",
      "model_name": "HTMLModel",
      "state": {
       "layout": "IPY_MODEL_e84b108a2200471dbf918673d4f047a3",
       "style": "IPY_MODEL_cf619a08b697487e840e56f9946d9154",
       "value": "100% 26/26 [01:25&lt;00:00,  3.30s/it]"
      }
     },
     "03b38623988b4541aa68fc3e45473d83": {
      "model_module": "@jupyter-widgets/controls",
      "model_module_version": "1.2.0",
      "model_name": "DescriptionStyleModel",
      "state": {
       "description_width": ""
      }
     },
     "03b51eae0b0c4573a3d10d9bf7f96f2c": {
      "model_module": "@jupyter-widgets/controls",
      "model_module_version": "1.2.0",
      "model_name": "IntProgressModel",
      "state": {
       "bar_style": "success",
       "layout": "IPY_MODEL_5ded14352ce54b47857d1ee057b67dab",
       "max": 26,
       "style": "IPY_MODEL_d16dc294159446cc91d017f1d66cf5ce",
       "value": 26
      }
     },
     "03b8f5155f97432e9b7e1ee4034cc4f2": {
      "model_module": "@jupyter-widgets/base",
      "model_module_version": "1.0.0",
      "model_name": "LayoutModel",
      "state": {}
     },
     "03bcdc9816d145e3aea3e96c17083fd5": {
      "model_module": "@jupyter-widgets/controls",
      "model_module_version": "1.2.0",
      "model_name": "HTMLModel",
      "state": {
       "layout": "IPY_MODEL_e1aea33fb845480bba0bcb03d647c91d",
       "style": "IPY_MODEL_33719bf49c084d1c8d5a6666f06402c4",
       "value": "100% 26/26 [01:25&lt;00:00,  3.30s/it]"
      }
     },
     "03d7f54e02bc42d38cc6ad6c4effcfd3": {
      "model_module": "@jupyter-widgets/controls",
      "model_module_version": "1.2.0",
      "model_name": "HTMLModel",
      "state": {
       "layout": "IPY_MODEL_93798d76d8b547fd91ba94086c2dc825",
       "style": "IPY_MODEL_f3b97f7d4b6e4bfdb6070232f3d60fcb",
       "value": "100% 26/26 [01:26&lt;00:00,  3.33s/it]"
      }
     },
     "03fe3fa727e249118a6ee7d2465adb05": {
      "model_module": "@jupyter-widgets/controls",
      "model_module_version": "1.2.0",
      "model_name": "ProgressStyleModel",
      "state": {
       "description_width": ""
      }
     },
     "0465fb0b07324903b1f3386a775cd357": {
      "model_module": "@jupyter-widgets/base",
      "model_module_version": "1.0.0",
      "model_name": "LayoutModel",
      "state": {}
     },
     "047406bea9a04e38880499cac1c866eb": {
      "model_module": "@jupyter-widgets/base",
      "model_module_version": "1.0.0",
      "model_name": "LayoutModel",
      "state": {}
     },
     "049d1debc56b4f83975cba9827e63af6": {
      "model_module": "@jupyter-widgets/base",
      "model_module_version": "1.0.0",
      "model_name": "LayoutModel",
      "state": {}
     },
     "06aed15b6aa6437bbc737b08851dc53d": {
      "model_module": "@jupyter-widgets/controls",
      "model_module_version": "1.2.0",
      "model_name": "IntProgressModel",
      "state": {
       "bar_style": "success",
       "layout": "IPY_MODEL_1e51be8b211148f286193bf86a83413f",
       "max": 26,
       "style": "IPY_MODEL_4f7f8a9514a24402a8435b56084a214c",
       "value": 26
      }
     },
     "06e5860b20c849c3b092c17c8de17f43": {
      "model_module": "@jupyter-widgets/base",
      "model_module_version": "1.0.0",
      "model_name": "LayoutModel",
      "state": {}
     },
     "07a040bf654e4c7bb6c3cf09fe6257ec": {
      "model_module": "@jupyter-widgets/controls",
      "model_module_version": "1.2.0",
      "model_name": "IntProgressModel",
      "state": {
       "bar_style": "success",
       "layout": "IPY_MODEL_af188158bb964988852b5435c8297849",
       "max": 26,
       "style": "IPY_MODEL_17dab33ddb40426e89642e42bc4fb78f",
       "value": 26
      }
     },
     "07bc8edf313e4946948d720e9dd57a57": {
      "model_module": "@jupyter-widgets/controls",
      "model_module_version": "1.2.0",
      "model_name": "HBoxModel",
      "state": {
       "children": [
        "IPY_MODEL_e6f7bee62d5b4d3091e1a9867fb06bf2",
        "IPY_MODEL_462d7701692f4b7f990011b90cfb6859"
       ],
       "layout": "IPY_MODEL_02ed5ba39d394cb386c1027fe00757b8"
      }
     },
     "07cceaa2521c4254954648ffeb9ac992": {
      "model_module": "@jupyter-widgets/controls",
      "model_module_version": "1.2.0",
      "model_name": "HBoxModel",
      "state": {
       "children": [
        "IPY_MODEL_b4150ed25e8c43d0ba585d67b7979f07",
        "IPY_MODEL_31178c11c4cb48068217eefca781c906"
       ],
       "layout": "IPY_MODEL_d273f222c9e44726860552ab1f0e9b5d"
      }
     },
     "07eea7daa538493aa4def90c8d04be50": {
      "model_module": "@jupyter-widgets/base",
      "model_module_version": "1.0.0",
      "model_name": "LayoutModel",
      "state": {}
     },
     "07f1ff44c0e74191af8ff5464cadf87d": {
      "model_module": "@jupyter-widgets/controls",
      "model_module_version": "1.2.0",
      "model_name": "ProgressStyleModel",
      "state": {
       "description_width": ""
      }
     },
     "081fe98f2a9246a18854932a2449c1d4": {
      "model_module": "@jupyter-widgets/controls",
      "model_module_version": "1.2.0",
      "model_name": "HTMLModel",
      "state": {
       "layout": "IPY_MODEL_c0c1984d785544fd9883b6c514acf021",
       "style": "IPY_MODEL_84191145955541d99fe11705cabb85a9",
       "value": "100% 26/26 [01:26&lt;00:00,  3.35s/it]"
      }
     },
     "0851d61f22b64f778e4ef58de64ded7d": {
      "model_module": "@jupyter-widgets/controls",
      "model_module_version": "1.2.0",
      "model_name": "ProgressStyleModel",
      "state": {
       "description_width": ""
      }
     },
     "087adb8e351347b3bc0cc730edd14712": {
      "model_module": "@jupyter-widgets/base",
      "model_module_version": "1.0.0",
      "model_name": "LayoutModel",
      "state": {}
     },
     "087d03f04031440c996989a9df9a9b71": {
      "model_module": "@jupyter-widgets/base",
      "model_module_version": "1.0.0",
      "model_name": "LayoutModel",
      "state": {}
     },
     "08abae062a784421bb6eeb2c2a226c20": {
      "model_module": "@jupyter-widgets/controls",
      "model_module_version": "1.2.0",
      "model_name": "IntProgressModel",
      "state": {
       "bar_style": "success",
       "layout": "IPY_MODEL_bccbe4f4b60d4d7589ca602099ebdcf8",
       "max": 26,
       "style": "IPY_MODEL_8fa921a023ec4edc859bb06fc20a6e43",
       "value": 26
      }
     },
     "08cfb532baa146ea948dc83de73ec4f0": {
      "model_module": "@jupyter-widgets/base",
      "model_module_version": "1.0.0",
      "model_name": "LayoutModel",
      "state": {}
     },
     "0921e49bb11f48d6b04bc0ce0100800a": {
      "model_module": "@jupyter-widgets/controls",
      "model_module_version": "1.2.0",
      "model_name": "DescriptionStyleModel",
      "state": {
       "description_width": ""
      }
     },
     "0939ccb43be545538463963788e29ae5": {
      "model_module": "@jupyter-widgets/base",
      "model_module_version": "1.0.0",
      "model_name": "LayoutModel",
      "state": {}
     },
     "0943eb2baae4458480e7cabca6ab34ed": {
      "model_module": "@jupyter-widgets/controls",
      "model_module_version": "1.2.0",
      "model_name": "ProgressStyleModel",
      "state": {
       "description_width": ""
      }
     },
     "097071cf6c3f4f29b374ad499f116a32": {
      "model_module": "@jupyter-widgets/controls",
      "model_module_version": "1.2.0",
      "model_name": "DescriptionStyleModel",
      "state": {
       "description_width": ""
      }
     },
     "09e4a709ac3f4faa9d3ab274a21693e3": {
      "model_module": "@jupyter-widgets/controls",
      "model_module_version": "1.2.0",
      "model_name": "HTMLModel",
      "state": {
       "layout": "IPY_MODEL_a195a0a5e8054ca999ccee4bc346238e",
       "style": "IPY_MODEL_ddab06c0d4924efd84d4cbbc9d5fd282",
       "value": "100% 1/1 [00:03&lt;00:00,  3.76s/it]"
      }
     },
     "09f8c9d66d4545c1981e624887b72d55": {
      "model_module": "@jupyter-widgets/controls",
      "model_module_version": "1.2.0",
      "model_name": "ProgressStyleModel",
      "state": {
       "description_width": ""
      }
     },
     "0a57e7f657774ec889fe6cf7dd5a7b8d": {
      "model_module": "@jupyter-widgets/controls",
      "model_module_version": "1.2.0",
      "model_name": "DescriptionStyleModel",
      "state": {
       "description_width": ""
      }
     },
     "0a6365f27336487386400b5c62e7b7da": {
      "model_module": "@jupyter-widgets/base",
      "model_module_version": "1.0.0",
      "model_name": "LayoutModel",
      "state": {}
     },
     "0a78b613177f4c05bc30793430d7e513": {
      "model_module": "@jupyter-widgets/controls",
      "model_module_version": "1.2.0",
      "model_name": "DescriptionStyleModel",
      "state": {
       "description_width": ""
      }
     },
     "0beaa077c53f40e1b4a32a0d9863d5da": {
      "model_module": "@jupyter-widgets/controls",
      "model_module_version": "1.2.0",
      "model_name": "HTMLModel",
      "state": {
       "layout": "IPY_MODEL_19169421c510417c83a18bd1185256d4",
       "style": "IPY_MODEL_fb5aebac020b41d186811a5a552e0adb",
       "value": "100% 26/26 [01:25&lt;00:00,  3.29s/it]"
      }
     },
     "0c120392ac2c4c939424ec08d2e509e1": {
      "model_module": "@jupyter-widgets/controls",
      "model_module_version": "1.2.0",
      "model_name": "ProgressStyleModel",
      "state": {
       "description_width": ""
      }
     },
     "0cbef24463764cbabef14b96a3dc4311": {
      "model_module": "@jupyter-widgets/base",
      "model_module_version": "1.0.0",
      "model_name": "LayoutModel",
      "state": {}
     },
     "0ce178b40004407d8b9dcec4214334c0": {
      "model_module": "@jupyter-widgets/controls",
      "model_module_version": "1.2.0",
      "model_name": "HTMLModel",
      "state": {
       "layout": "IPY_MODEL_25390786ee904920901dcb1ba8fd1ab4",
       "style": "IPY_MODEL_b73ca2ea6d0c4de9927ae544a03a9e31",
       "value": "100% 26/26 [01:25&lt;00:00,  3.30s/it]"
      }
     },
     "0d944a1166c84423838b393d27e025ac": {
      "model_module": "@jupyter-widgets/base",
      "model_module_version": "1.0.0",
      "model_name": "LayoutModel",
      "state": {}
     },
     "0dc19c5a8c80416e88ea46b346500a29": {
      "model_module": "@jupyter-widgets/controls",
      "model_module_version": "1.2.0",
      "model_name": "HTMLModel",
      "state": {
       "layout": "IPY_MODEL_64afccda1fb54f94ad1fb19966cbc239",
       "style": "IPY_MODEL_cca5a59a7e1f4b1dbf7b8e603720624e",
       "value": "100% 26/26 [01:25&lt;00:00,  3.29s/it]"
      }
     },
     "0e4e8fe4e12148c1813fe85f000478d9": {
      "model_module": "@jupyter-widgets/controls",
      "model_module_version": "1.2.0",
      "model_name": "ProgressStyleModel",
      "state": {
       "description_width": ""
      }
     },
     "0ef268c924aa49fd93bbe84a37d7cefd": {
      "model_module": "@jupyter-widgets/base",
      "model_module_version": "1.0.0",
      "model_name": "LayoutModel",
      "state": {}
     },
     "0f1cf2eda9824aadaf67a3e8603f683b": {
      "model_module": "@jupyter-widgets/controls",
      "model_module_version": "1.2.0",
      "model_name": "HBoxModel",
      "state": {
       "children": [
        "IPY_MODEL_c024ca4b489c4314ac9230a68bb53ecf",
        "IPY_MODEL_319fe0bb25c541b8b42cf4168c83aaf7"
       ],
       "layout": "IPY_MODEL_b0b00ec9c4934519b98a6c46e469bbc5"
      }
     },
     "0f6e837b4c894a09a9a80b06f960c70d": {
      "model_module": "@jupyter-widgets/controls",
      "model_module_version": "1.2.0",
      "model_name": "HTMLModel",
      "state": {
       "layout": "IPY_MODEL_9302450ca35d4466ab6f3de18fffcdfd",
       "style": "IPY_MODEL_e6c506b3635d46cc8c116228124e31ef",
       "value": "100% 26/26 [01:25&lt;00:00,  3.32s/it]"
      }
     },
     "0f9204c087574ffca86be2e745677551": {
      "model_module": "@jupyter-widgets/controls",
      "model_module_version": "1.2.0",
      "model_name": "IntProgressModel",
      "state": {
       "bar_style": "success",
       "layout": "IPY_MODEL_767ec8cf79f84931bd3cb683d86a386c",
       "max": 26,
       "style": "IPY_MODEL_c803663b87184ef99c74b9308df7db2a",
       "value": 26
      }
     },
     "0fa13638e8484a6e8dd12b8a007e8db8": {
      "model_module": "@jupyter-widgets/controls",
      "model_module_version": "1.2.0",
      "model_name": "HBoxModel",
      "state": {
       "children": [
        "IPY_MODEL_eae692d829d74cdb9c9294b594a76980",
        "IPY_MODEL_af70877cad214e1da41679c29fdffdbe"
       ],
       "layout": "IPY_MODEL_ff1deec60cba4428bb8142d4a475c895"
      }
     },
     "1104433e3f2649d2a3b23d891e11d6b4": {
      "model_module": "@jupyter-widgets/controls",
      "model_module_version": "1.2.0",
      "model_name": "IntProgressModel",
      "state": {
       "bar_style": "success",
       "layout": "IPY_MODEL_4affb698a22841448ea202a423222b13",
       "max": 26,
       "style": "IPY_MODEL_2fc5b93f79bc49e98ba6b9cf98a37ee2",
       "value": 26
      }
     },
     "11b55a148b744444829152851946cb05": {
      "model_module": "@jupyter-widgets/controls",
      "model_module_version": "1.2.0",
      "model_name": "DescriptionStyleModel",
      "state": {
       "description_width": ""
      }
     },
     "11cb505f51344dffb847fed74ecadd82": {
      "model_module": "@jupyter-widgets/controls",
      "model_module_version": "1.2.0",
      "model_name": "DescriptionStyleModel",
      "state": {
       "description_width": ""
      }
     },
     "11cdf7b2daf54d3c936ecd850892304c": {
      "model_module": "@jupyter-widgets/base",
      "model_module_version": "1.0.0",
      "model_name": "LayoutModel",
      "state": {}
     },
     "1206586d8427468582e7b89066d86979": {
      "model_module": "@jupyter-widgets/controls",
      "model_module_version": "1.2.0",
      "model_name": "ProgressStyleModel",
      "state": {
       "description_width": ""
      }
     },
     "12df5f7e8a9f4253983e69c36067a81b": {
      "model_module": "@jupyter-widgets/controls",
      "model_module_version": "1.2.0",
      "model_name": "DescriptionStyleModel",
      "state": {
       "description_width": ""
      }
     },
     "13553dd26e104e6a83c6a0702e478bce": {
      "model_module": "@jupyter-widgets/base",
      "model_module_version": "1.0.0",
      "model_name": "LayoutModel",
      "state": {}
     },
     "138639448aa2422f8713afe1e3c945a2": {
      "model_module": "@jupyter-widgets/base",
      "model_module_version": "1.0.0",
      "model_name": "LayoutModel",
      "state": {}
     },
     "13a39117823c4691bbc52be7850206a3": {
      "model_module": "@jupyter-widgets/base",
      "model_module_version": "1.0.0",
      "model_name": "LayoutModel",
      "state": {}
     },
     "14477cb0ac6c458c92893b44f4e6968f": {
      "model_module": "@jupyter-widgets/base",
      "model_module_version": "1.0.0",
      "model_name": "LayoutModel",
      "state": {}
     },
     "144c6501eaac40899c5668f5019aa1e8": {
      "model_module": "@jupyter-widgets/controls",
      "model_module_version": "1.2.0",
      "model_name": "HTMLModel",
      "state": {
       "layout": "IPY_MODEL_ed8d1b8d4f074787af25ffef4fd2dc35",
       "style": "IPY_MODEL_02b763a1d5154c988837696361d3932f",
       "value": "100% 26/26 [01:26&lt;00:00,  3.32s/it]"
      }
     },
     "146caf6100f74459be3de8f18ec8fdd6": {
      "model_module": "@jupyter-widgets/controls",
      "model_module_version": "1.2.0",
      "model_name": "IntProgressModel",
      "state": {
       "bar_style": "success",
       "layout": "IPY_MODEL_f432c688a13d4626b7cc6385da197797",
       "max": 26,
       "style": "IPY_MODEL_6fb2c970273e42378e6eaa8c4acbf5c9",
       "value": 26
      }
     },
     "14766e9af7f7430f83e0875e143fa386": {
      "model_module": "@jupyter-widgets/controls",
      "model_module_version": "1.2.0",
      "model_name": "ProgressStyleModel",
      "state": {
       "description_width": ""
      }
     },
     "149da078c9b6483ea29a8216f04e8eb5": {
      "model_module": "@jupyter-widgets/controls",
      "model_module_version": "1.2.0",
      "model_name": "HTMLModel",
      "state": {
       "layout": "IPY_MODEL_a308ec381a6b466a9a506e4ab53f3968",
       "style": "IPY_MODEL_85d06b76e142457eaf5eba9737aea30c",
       "value": "100% 26/26 [01:27&lt;00:00,  3.34s/it]"
      }
     },
     "14f7511f0a8e425d979f2989cd5b8eab": {
      "model_module": "@jupyter-widgets/controls",
      "model_module_version": "1.2.0",
      "model_name": "ProgressStyleModel",
      "state": {
       "description_width": ""
      }
     },
     "154c3d804c264671bcfafd3fbc6f69f3": {
      "model_module": "@jupyter-widgets/controls",
      "model_module_version": "1.2.0",
      "model_name": "DescriptionStyleModel",
      "state": {
       "description_width": ""
      }
     },
     "1559221f4d0f44e5a2a1c0811efb2d73": {
      "model_module": "@jupyter-widgets/controls",
      "model_module_version": "1.2.0",
      "model_name": "DescriptionStyleModel",
      "state": {
       "description_width": ""
      }
     },
     "158a6e1352e84eb7ae2912101db7dead": {
      "model_module": "@jupyter-widgets/controls",
      "model_module_version": "1.2.0",
      "model_name": "ProgressStyleModel",
      "state": {
       "description_width": ""
      }
     },
     "15b0a050ea4548e2aa3d64120f30e4f4": {
      "model_module": "@jupyter-widgets/base",
      "model_module_version": "1.0.0",
      "model_name": "LayoutModel",
      "state": {}
     },
     "15d70fbcf00b406ba25c613424e8ad20": {
      "model_module": "@jupyter-widgets/controls",
      "model_module_version": "1.2.0",
      "model_name": "IntProgressModel",
      "state": {
       "bar_style": "success",
       "layout": "IPY_MODEL_11cdf7b2daf54d3c936ecd850892304c",
       "max": 26,
       "style": "IPY_MODEL_5f86bd619c484253b36c6a1e98c72b1f",
       "value": 26
      }
     },
     "15e37ba8ab674b3a9fbaca83f4020ea4": {
      "model_module": "@jupyter-widgets/controls",
      "model_module_version": "1.2.0",
      "model_name": "IntProgressModel",
      "state": {
       "bar_style": "success",
       "layout": "IPY_MODEL_75c1ec13c1e64628a8c913948d42f97e",
       "max": 26,
       "style": "IPY_MODEL_39274ee0596f4be8a279446f49f2826c",
       "value": 26
      }
     },
     "162055804a4e4e20884f00da7048010c": {
      "model_module": "@jupyter-widgets/base",
      "model_module_version": "1.0.0",
      "model_name": "LayoutModel",
      "state": {}
     },
     "16341921dbe7421b8638808e6588256f": {
      "model_module": "@jupyter-widgets/controls",
      "model_module_version": "1.2.0",
      "model_name": "ProgressStyleModel",
      "state": {
       "description_width": ""
      }
     },
     "16574fc42cb64f6b9f8be04cb7d8613b": {
      "model_module": "@jupyter-widgets/controls",
      "model_module_version": "1.2.0",
      "model_name": "IntProgressModel",
      "state": {
       "bar_style": "success",
       "layout": "IPY_MODEL_ac1ac828fda443af8e8f37fb9bb5f0b7",
       "max": 26,
       "style": "IPY_MODEL_752ce0b3364c450d97886dde6c6d142a",
       "value": 26
      }
     },
     "16920304642646c186e33b6d92ad8338": {
      "model_module": "@jupyter-widgets/controls",
      "model_module_version": "1.2.0",
      "model_name": "HBoxModel",
      "state": {
       "children": [
        "IPY_MODEL_9908099908954dedbacec4555ee53ad0",
        "IPY_MODEL_1ec09252272e4d02a2dde904072fc1dd"
       ],
       "layout": "IPY_MODEL_b9006caed7b54e54b138ca6fad7df7b2"
      }
     },
     "16e1bee8a5034b568bde3be5a5e61fd1": {
      "model_module": "@jupyter-widgets/controls",
      "model_module_version": "1.2.0",
      "model_name": "HTMLModel",
      "state": {
       "layout": "IPY_MODEL_ab74a168b0944be69c35a2a9f4635cba",
       "style": "IPY_MODEL_ac295db8689046f8a8a14b19fa334bd2",
       "value": "100% 26/26 [01:26&lt;00:00,  3.31s/it]"
      }
     },
     "16f1dfc281f540ba86a64b2fd58f451e": {
      "model_module": "@jupyter-widgets/base",
      "model_module_version": "1.0.0",
      "model_name": "LayoutModel",
      "state": {}
     },
     "172c9b440aac4a8c8395831b5a970d42": {
      "model_module": "@jupyter-widgets/controls",
      "model_module_version": "1.2.0",
      "model_name": "HTMLModel",
      "state": {
       "layout": "IPY_MODEL_841d378716e141cf8d934e3ace99cf73",
       "style": "IPY_MODEL_b8806bfa1063440bb8f23e6366d11ca4",
       "value": "100% 5/5 [00:27&lt;00:00,  5.42s/it]"
      }
     },
     "17a125aa8ca8499d97fa355c8bc94443": {
      "model_module": "@jupyter-widgets/controls",
      "model_module_version": "1.2.0",
      "model_name": "HTMLModel",
      "state": {
       "layout": "IPY_MODEL_d70772262a7743b2829474c2d72faefb",
       "style": "IPY_MODEL_1559221f4d0f44e5a2a1c0811efb2d73",
       "value": "100% 26/26 [01:27&lt;00:00,  3.30s/it]"
      }
     },
     "17c8d19d0508499c8ab1c1d8da042a6c": {
      "model_module": "@jupyter-widgets/controls",
      "model_module_version": "1.2.0",
      "model_name": "HTMLModel",
      "state": {
       "layout": "IPY_MODEL_1970300556bf4b01b29ba4f796ea4cfb",
       "style": "IPY_MODEL_0921e49bb11f48d6b04bc0ce0100800a",
       "value": "100% 26/26 [01:24&lt;00:00,  3.26s/it]"
      }
     },
     "17dab33ddb40426e89642e42bc4fb78f": {
      "model_module": "@jupyter-widgets/controls",
      "model_module_version": "1.2.0",
      "model_name": "ProgressStyleModel",
      "state": {
       "description_width": ""
      }
     },
     "17fe287f5baa486b860d0c0e82b491b3": {
      "model_module": "@jupyter-widgets/controls",
      "model_module_version": "1.2.0",
      "model_name": "HBoxModel",
      "state": {
       "children": [
        "IPY_MODEL_8865a8fc77344509915806bded6640e3",
        "IPY_MODEL_85662fbaa6594cb78640d2ef447cb0dd"
       ],
       "layout": "IPY_MODEL_570ad8e3811444fc92796969256c92f7"
      }
     },
     "18349c3a9b644bff8eacbcc21f0d1990": {
      "model_module": "@jupyter-widgets/base",
      "model_module_version": "1.0.0",
      "model_name": "LayoutModel",
      "state": {}
     },
     "18bbee80102745898653c93091e89d60": {
      "model_module": "@jupyter-widgets/controls",
      "model_module_version": "1.2.0",
      "model_name": "DescriptionStyleModel",
      "state": {
       "description_width": ""
      }
     },
     "18c4df95bb1a4f78bfbbba9972fedfea": {
      "model_module": "@jupyter-widgets/base",
      "model_module_version": "1.0.0",
      "model_name": "LayoutModel",
      "state": {}
     },
     "19047a1698cc4bd0aaf59bb44cae55cc": {
      "model_module": "@jupyter-widgets/base",
      "model_module_version": "1.0.0",
      "model_name": "LayoutModel",
      "state": {}
     },
     "19169421c510417c83a18bd1185256d4": {
      "model_module": "@jupyter-widgets/base",
      "model_module_version": "1.0.0",
      "model_name": "LayoutModel",
      "state": {}
     },
     "1965175ca3b34dee84d73aacd81cdc4f": {
      "model_module": "@jupyter-widgets/controls",
      "model_module_version": "1.2.0",
      "model_name": "ProgressStyleModel",
      "state": {
       "description_width": ""
      }
     },
     "1969a9d857de48d99b8f9b5b187a0e21": {
      "model_module": "@jupyter-widgets/base",
      "model_module_version": "1.0.0",
      "model_name": "LayoutModel",
      "state": {}
     },
     "1970300556bf4b01b29ba4f796ea4cfb": {
      "model_module": "@jupyter-widgets/base",
      "model_module_version": "1.0.0",
      "model_name": "LayoutModel",
      "state": {}
     },
     "19cadfaa4d224237862a5577d04a00fa": {
      "model_module": "@jupyter-widgets/controls",
      "model_module_version": "1.2.0",
      "model_name": "DescriptionStyleModel",
      "state": {
       "description_width": ""
      }
     },
     "19e81e8dd56b47a0b4774bed207301e1": {
      "model_module": "@jupyter-widgets/base",
      "model_module_version": "1.0.0",
      "model_name": "LayoutModel",
      "state": {}
     },
     "19fbdb69f6b040deb1d5a68a5c745542": {
      "model_module": "@jupyter-widgets/base",
      "model_module_version": "1.0.0",
      "model_name": "LayoutModel",
      "state": {}
     },
     "1a0a1e9cfd6f4df88eb0a88c86a76d7c": {
      "model_module": "@jupyter-widgets/controls",
      "model_module_version": "1.2.0",
      "model_name": "IntProgressModel",
      "state": {
       "bar_style": "success",
       "layout": "IPY_MODEL_ab90750bdff84c578fcff057dbe687e1",
       "max": 26,
       "style": "IPY_MODEL_48f3bb54b9174fb7b2506d1431e76097",
       "value": 26
      }
     },
     "1a3893c63edd4c92b82b49552ecaafff": {
      "model_module": "@jupyter-widgets/controls",
      "model_module_version": "1.2.0",
      "model_name": "IntProgressModel",
      "state": {
       "bar_style": "danger",
       "layout": "IPY_MODEL_a65bd9ce9f7c483e9144baed97e23a46",
       "max": 26,
       "style": "IPY_MODEL_70adf3c6e9014255a8db61e96d367068"
      }
     },
     "1b52c3abe5d14a0f853fb03181985932": {
      "model_module": "@jupyter-widgets/controls",
      "model_module_version": "1.2.0",
      "model_name": "HTMLModel",
      "state": {
       "layout": "IPY_MODEL_4cab4f14190a46ca93de74d344e37277",
       "style": "IPY_MODEL_11b55a148b744444829152851946cb05",
       "value": "100% 26/26 [01:25&lt;00:00,  3.31s/it]"
      }
     },
     "1b6beebdfed54997a01c6d8f79950a7f": {
      "model_module": "@jupyter-widgets/base",
      "model_module_version": "1.0.0",
      "model_name": "LayoutModel",
      "state": {}
     },
     "1b83e55f83724fb2ab7c5bd9eb79a3c3": {
      "model_module": "@jupyter-widgets/controls",
      "model_module_version": "1.2.0",
      "model_name": "HBoxModel",
      "state": {
       "children": [
        "IPY_MODEL_ef00952353e54c0cbfa3f927a419cf8b",
        "IPY_MODEL_144c6501eaac40899c5668f5019aa1e8"
       ],
       "layout": "IPY_MODEL_ebb4a2a9ec1f4d45af7e6a9345a3028c"
      }
     },
     "1b887453118449c19ce18da590471655": {
      "model_module": "@jupyter-widgets/base",
      "model_module_version": "1.0.0",
      "model_name": "LayoutModel",
      "state": {}
     },
     "1ba35b6f351b4885b2ef4788e1104639": {
      "model_module": "@jupyter-widgets/controls",
      "model_module_version": "1.2.0",
      "model_name": "ProgressStyleModel",
      "state": {
       "description_width": ""
      }
     },
     "1ba73d1553044d8fa9b2f065b17f4472": {
      "model_module": "@jupyter-widgets/controls",
      "model_module_version": "1.2.0",
      "model_name": "HBoxModel",
      "state": {
       "children": [
        "IPY_MODEL_7b7eada30ee341ca9c4ad1fc33767177",
        "IPY_MODEL_2df224e1536945fdbcf55b7b6e23266c"
       ],
       "layout": "IPY_MODEL_c1c299cd790b4a04862aaec32d12ab38"
      }
     },
     "1bf02fd234e24fd3bd00d3a37a844599": {
      "model_module": "@jupyter-widgets/controls",
      "model_module_version": "1.2.0",
      "model_name": "ProgressStyleModel",
      "state": {
       "description_width": ""
      }
     },
     "1da55efef8754e0f9915e9262fbdf6ad": {
      "model_module": "@jupyter-widgets/controls",
      "model_module_version": "1.2.0",
      "model_name": "ProgressStyleModel",
      "state": {
       "description_width": ""
      }
     },
     "1db4f44124854cbc964fbd2aaaa1538b": {
      "model_module": "@jupyter-widgets/controls",
      "model_module_version": "1.2.0",
      "model_name": "ProgressStyleModel",
      "state": {
       "description_width": ""
      }
     },
     "1de2c26a42c041958b19e6ddce57445c": {
      "model_module": "@jupyter-widgets/base",
      "model_module_version": "1.0.0",
      "model_name": "LayoutModel",
      "state": {}
     },
     "1e311d3243c24e39aa9b1028d459df45": {
      "model_module": "@jupyter-widgets/controls",
      "model_module_version": "1.2.0",
      "model_name": "HBoxModel",
      "state": {
       "children": [
        "IPY_MODEL_4be43241b8a94316951f66d66615a822",
        "IPY_MODEL_5faf35c6a8b7489aacc5a24bd3acb915"
       ],
       "layout": "IPY_MODEL_f00bc37a5c414a5da067c873780a1948"
      }
     },
     "1e51be8b211148f286193bf86a83413f": {
      "model_module": "@jupyter-widgets/base",
      "model_module_version": "1.0.0",
      "model_name": "LayoutModel",
      "state": {}
     },
     "1e53bd8007d94d3fb083aea422d89dad": {
      "model_module": "@jupyter-widgets/controls",
      "model_module_version": "1.2.0",
      "model_name": "HTMLModel",
      "state": {
       "layout": "IPY_MODEL_4b0c3eb0749e40b796e1adfced070f07",
       "style": "IPY_MODEL_817fdba671e3460cac86697afb9bb494",
       "value": "100% 26/26 [01:26&lt;00:00,  3.32s/it]"
      }
     },
     "1e6b165fdbb34c589b518f37062bf8be": {
      "model_module": "@jupyter-widgets/controls",
      "model_module_version": "1.2.0",
      "model_name": "HBoxModel",
      "state": {
       "children": [
        "IPY_MODEL_d407c387a8ba4af0b27a158a30511e21",
        "IPY_MODEL_752cced58e8f41ca8c4e15788389b1c3"
       ],
       "layout": "IPY_MODEL_874295ba6d844afab4ab5b6f6319e498"
      }
     },
     "1e7824e6a2bb47ad9d421dd78dc4b216": {
      "model_module": "@jupyter-widgets/base",
      "model_module_version": "1.0.0",
      "model_name": "LayoutModel",
      "state": {}
     },
     "1e9af1e70ed248b59e6d6fa3879463a5": {
      "model_module": "@jupyter-widgets/controls",
      "model_module_version": "1.2.0",
      "model_name": "ProgressStyleModel",
      "state": {
       "description_width": ""
      }
     },
     "1ea00389864c4af697bf53689637efc6": {
      "model_module": "@jupyter-widgets/controls",
      "model_module_version": "1.2.0",
      "model_name": "IntProgressModel",
      "state": {
       "bar_style": "success",
       "layout": "IPY_MODEL_615243e5b0894b3da66992e1e0ddaffd",
       "max": 1,
       "style": "IPY_MODEL_be3bef9cb63743ee88f485f1f854c67c",
       "value": 1
      }
     },
     "1ea1ff8938bd49c8bc121fa02bf77e30": {
      "model_module": "@jupyter-widgets/base",
      "model_module_version": "1.0.0",
      "model_name": "LayoutModel",
      "state": {}
     },
     "1ec09252272e4d02a2dde904072fc1dd": {
      "model_module": "@jupyter-widgets/controls",
      "model_module_version": "1.2.0",
      "model_name": "HTMLModel",
      "state": {
       "layout": "IPY_MODEL_fdf53735213b43c984701caa8f06e1fa",
       "style": "IPY_MODEL_ff65657668b345969d6b26bc4dd98cef",
       "value": "100% 26/26 [01:25&lt;00:00,  3.27s/it]"
      }
     },
     "1ec9cbd797ea4f5b9364f59460f697f5": {
      "model_module": "@jupyter-widgets/controls",
      "model_module_version": "1.2.0",
      "model_name": "HTMLModel",
      "state": {
       "layout": "IPY_MODEL_ce3caf83c442486ba7704ea8213dede0",
       "style": "IPY_MODEL_cf7715002d8d4e3f92f237f9a369ed41",
       "value": "100% 26/26 [01:26&lt;00:00,  3.33s/it]"
      }
     },
     "1ed2a21367f2463fa9814b1117b07f74": {
      "model_module": "@jupyter-widgets/base",
      "model_module_version": "1.0.0",
      "model_name": "LayoutModel",
      "state": {}
     },
     "1ef2d35a376d4c3fa56e605ee335e583": {
      "model_module": "@jupyter-widgets/base",
      "model_module_version": "1.0.0",
      "model_name": "LayoutModel",
      "state": {}
     },
     "1f916ab898c943ec85c95bab425cba83": {
      "model_module": "@jupyter-widgets/controls",
      "model_module_version": "1.2.0",
      "model_name": "IntProgressModel",
      "state": {
       "bar_style": "success",
       "layout": "IPY_MODEL_97abe2af2cf7459eab17e47972401502",
       "max": 26,
       "style": "IPY_MODEL_f4a28799ed4d402eab85a7f85a26ff5c",
       "value": 26
      }
     },
     "1fe59cc020dc434c9efa07b3e9748294": {
      "model_module": "@jupyter-widgets/controls",
      "model_module_version": "1.2.0",
      "model_name": "HBoxModel",
      "state": {
       "children": [
        "IPY_MODEL_8c568c5189c5498b9f159c434cfcd7e3",
        "IPY_MODEL_e9a4882b55744268a0809983175d6f9d"
       ],
       "layout": "IPY_MODEL_18349c3a9b644bff8eacbcc21f0d1990"
      }
     },
     "200795f69c144746a35ec50fa9338f33": {
      "model_module": "@jupyter-widgets/controls",
      "model_module_version": "1.2.0",
      "model_name": "DescriptionStyleModel",
      "state": {
       "description_width": ""
      }
     },
     "22cc6a7b4cbe4822b025425590be061f": {
      "model_module": "@jupyter-widgets/controls",
      "model_module_version": "1.2.0",
      "model_name": "DescriptionStyleModel",
      "state": {
       "description_width": ""
      }
     },
     "2317c7d7c9cf489d9f89a499b8b3783a": {
      "model_module": "@jupyter-widgets/base",
      "model_module_version": "1.0.0",
      "model_name": "LayoutModel",
      "state": {}
     },
     "2322449dcfeb4794bc4650b575dae9a7": {
      "model_module": "@jupyter-widgets/base",
      "model_module_version": "1.0.0",
      "model_name": "LayoutModel",
      "state": {}
     },
     "2329f9100e274bcb95667ac9200af67d": {
      "model_module": "@jupyter-widgets/base",
      "model_module_version": "1.0.0",
      "model_name": "LayoutModel",
      "state": {}
     },
     "234580d1a12248358e0e9b6c2325e3c2": {
      "model_module": "@jupyter-widgets/base",
      "model_module_version": "1.0.0",
      "model_name": "LayoutModel",
      "state": {}
     },
     "23563d6cfe4b4246b85d1580c2f66e5d": {
      "model_module": "@jupyter-widgets/base",
      "model_module_version": "1.0.0",
      "model_name": "LayoutModel",
      "state": {}
     },
     "243bb8db8a1c4f86b24b45adfee3b491": {
      "model_module": "@jupyter-widgets/controls",
      "model_module_version": "1.2.0",
      "model_name": "IntProgressModel",
      "state": {
       "bar_style": "success",
       "layout": "IPY_MODEL_b5247a8b980847919d0972c8e9cc4c58",
       "max": 26,
       "style": "IPY_MODEL_65d1c854298644439cbf7905c524ef65",
       "value": 26
      }
     },
     "25390786ee904920901dcb1ba8fd1ab4": {
      "model_module": "@jupyter-widgets/base",
      "model_module_version": "1.0.0",
      "model_name": "LayoutModel",
      "state": {}
     },
     "2556e3d3832d48a2b41edcc4b4f71ee6": {
      "model_module": "@jupyter-widgets/controls",
      "model_module_version": "1.2.0",
      "model_name": "HTMLModel",
      "state": {
       "layout": "IPY_MODEL_32a5042708c54fcf8fc4da397758b505",
       "style": "IPY_MODEL_e56ff2c193a347008c556edca5e1b56f",
       "value": "100% 26/26 [01:26&lt;00:00,  3.34s/it]"
      }
     },
     "25bfdca16e964e98b3b7f05266fcd136": {
      "model_module": "@jupyter-widgets/controls",
      "model_module_version": "1.2.0",
      "model_name": "DescriptionStyleModel",
      "state": {
       "description_width": ""
      }
     },
     "25d79235e94945f9ac4c36bb7aa48e66": {
      "model_module": "@jupyter-widgets/controls",
      "model_module_version": "1.2.0",
      "model_name": "HTMLModel",
      "state": {
       "layout": "IPY_MODEL_ad59d15faf0c47759d8460ba2b988cf3",
       "style": "IPY_MODEL_891218d5ed5c4555a4244b7db76d5c15",
       "value": "100% 26/26 [01:27&lt;00:00,  3.37s/it]"
      }
     },
     "260cd3e3cc8f492180fc14d3c78fbc0d": {
      "model_module": "@jupyter-widgets/controls",
      "model_module_version": "1.2.0",
      "model_name": "IntProgressModel",
      "state": {
       "bar_style": "danger",
       "layout": "IPY_MODEL_aa2cc4d75b434d07aca8695eb83bbd34",
       "style": "IPY_MODEL_8c64043f3c3c47c789f5e583906c2efe"
      }
     },
     "2612101238744b2da7d151382a1f53a2": {
      "model_module": "@jupyter-widgets/controls",
      "model_module_version": "1.2.0",
      "model_name": "HBoxModel",
      "state": {
       "children": [
        "IPY_MODEL_243bb8db8a1c4f86b24b45adfee3b491",
        "IPY_MODEL_ce885db5ffcb41f481fb4d2a3ad15f77"
       ],
       "layout": "IPY_MODEL_3fdfb2515aa54f669d3e661622c78236"
      }
     },
     "26170a27901f467facdc1547af9dc8ed": {
      "model_module": "@jupyter-widgets/base",
      "model_module_version": "1.0.0",
      "model_name": "LayoutModel",
      "state": {}
     },
     "261925e10e0640d597d8207d1b60a71a": {
      "model_module": "@jupyter-widgets/base",
      "model_module_version": "1.0.0",
      "model_name": "LayoutModel",
      "state": {}
     },
     "268576623fbf48f38f1417a8b57f6d88": {
      "model_module": "@jupyter-widgets/base",
      "model_module_version": "1.0.0",
      "model_name": "LayoutModel",
      "state": {}
     },
     "26a02518fe904a69ae5601bda18d4bff": {
      "model_module": "@jupyter-widgets/controls",
      "model_module_version": "1.2.0",
      "model_name": "HTMLModel",
      "state": {
       "layout": "IPY_MODEL_2fdf52a899ac4b83b265d994031953a1",
       "style": "IPY_MODEL_b450f9c8e4d74a68a703d482a5512a41",
       "value": "100% 26/26 [01:25&lt;00:00,  3.28s/it]"
      }
     },
     "26bf45a2348646edb7ec57e3ca0448bf": {
      "model_module": "@jupyter-widgets/base",
      "model_module_version": "1.0.0",
      "model_name": "LayoutModel",
      "state": {}
     },
     "2726c7adad7e44b0b4c95737bb4870e4": {
      "model_module": "@jupyter-widgets/controls",
      "model_module_version": "1.2.0",
      "model_name": "HTMLModel",
      "state": {
       "layout": "IPY_MODEL_ec39732e42fd41438ed2309569725674",
       "style": "IPY_MODEL_b45586e472c54a0e847ccbebb5aa81ca",
       "value": "100% 26/26 [01:25&lt;00:00,  3.30s/it]"
      }
     },
     "274825e174684eeba7fe693ad9a3226b": {
      "model_module": "@jupyter-widgets/controls",
      "model_module_version": "1.2.0",
      "model_name": "IntProgressModel",
      "state": {
       "bar_style": "success",
       "layout": "IPY_MODEL_6f97e3e7ee614eff9f2e67bfe92f7095",
       "max": 26,
       "style": "IPY_MODEL_9f6526d74adb43a78664617fdfb5d848",
       "value": 26
      }
     },
     "274bdbf312f74bb281628ad4ff4a57e0": {
      "model_module": "@jupyter-widgets/controls",
      "model_module_version": "1.2.0",
      "model_name": "IntProgressModel",
      "state": {
       "bar_style": "success",
       "layout": "IPY_MODEL_02ee992f48e244898daa805b5a368dd3",
       "max": 26,
       "style": "IPY_MODEL_0c120392ac2c4c939424ec08d2e509e1",
       "value": 26
      }
     },
     "27bac3a534af4cdebf00518c89b7983f": {
      "model_module": "@jupyter-widgets/controls",
      "model_module_version": "1.2.0",
      "model_name": "ProgressStyleModel",
      "state": {
       "description_width": ""
      }
     },
     "2812424391d84a15839691aff870a260": {
      "model_module": "@jupyter-widgets/controls",
      "model_module_version": "1.2.0",
      "model_name": "DescriptionStyleModel",
      "state": {
       "description_width": ""
      }
     },
     "2823a51ab03b4df6851c5930b5c952d5": {
      "model_module": "@jupyter-widgets/controls",
      "model_module_version": "1.2.0",
      "model_name": "ProgressStyleModel",
      "state": {
       "description_width": ""
      }
     },
     "28261b04c4ee44e4933d6d5694bcbf32": {
      "model_module": "@jupyter-widgets/base",
      "model_module_version": "1.0.0",
      "model_name": "LayoutModel",
      "state": {}
     },
     "2861851767e943d195c4d72581afdf68": {
      "model_module": "@jupyter-widgets/base",
      "model_module_version": "1.0.0",
      "model_name": "LayoutModel",
      "state": {}
     },
     "289b3ea22469467397312a0efa0f6054": {
      "model_module": "@jupyter-widgets/controls",
      "model_module_version": "1.2.0",
      "model_name": "IntProgressModel",
      "state": {
       "bar_style": "success",
       "layout": "IPY_MODEL_e36a9c75585c4854b9c95b01931dcdad",
       "max": 26,
       "style": "IPY_MODEL_f24b689dab214b84b3a12da20f486261",
       "value": 26
      }
     },
     "28b95f75cd844bbf94599ab11c010d17": {
      "model_module": "@jupyter-widgets/base",
      "model_module_version": "1.0.0",
      "model_name": "LayoutModel",
      "state": {}
     },
     "29335175624b413393b945459024433b": {
      "model_module": "@jupyter-widgets/base",
      "model_module_version": "1.0.0",
      "model_name": "LayoutModel",
      "state": {}
     },
     "2934ec7b2f6740338f36436f8ee14175": {
      "model_module": "@jupyter-widgets/controls",
      "model_module_version": "1.2.0",
      "model_name": "HBoxModel",
      "state": {
       "children": [
        "IPY_MODEL_89d1b45fa0124ca8ad89d6baa07bc72a",
        "IPY_MODEL_02bb8f3d116142a292c1ef628bead058"
       ],
       "layout": "IPY_MODEL_0247465420354b25ab2b79fb8ded566f"
      }
     },
     "296e68f2419f4ecb8c1702866021da4f": {
      "model_module": "@jupyter-widgets/controls",
      "model_module_version": "1.2.0",
      "model_name": "HTMLModel",
      "state": {
       "layout": "IPY_MODEL_eb3f25c5e7384af9a5741b67310d8c2a",
       "style": "IPY_MODEL_200795f69c144746a35ec50fa9338f33",
       "value": "100% 26/26 [01:26&lt;00:00,  3.34s/it]"
      }
     },
     "29e1a11aa22540f4b657922bc35d4c0c": {
      "model_module": "@jupyter-widgets/base",
      "model_module_version": "1.0.0",
      "model_name": "LayoutModel",
      "state": {}
     },
     "2b173e901e68474a82be5f14f598247d": {
      "model_module": "@jupyter-widgets/base",
      "model_module_version": "1.0.0",
      "model_name": "LayoutModel",
      "state": {}
     },
     "2b240b96449d4da28afbabf426f4adc4": {
      "model_module": "@jupyter-widgets/controls",
      "model_module_version": "1.2.0",
      "model_name": "HTMLModel",
      "state": {
       "layout": "IPY_MODEL_ce80e069796248f4b69897062658111c",
       "style": "IPY_MODEL_12df5f7e8a9f4253983e69c36067a81b",
       "value": "100% 26/26 [01:26&lt;00:00,  3.37s/it]"
      }
     },
     "2b295968f4f642ee83157caab1f21e1d": {
      "model_module": "@jupyter-widgets/base",
      "model_module_version": "1.0.0",
      "model_name": "LayoutModel",
      "state": {}
     },
     "2b2db8a321b94df5850c011b66e30802": {
      "model_module": "@jupyter-widgets/controls",
      "model_module_version": "1.2.0",
      "model_name": "ProgressStyleModel",
      "state": {
       "description_width": ""
      }
     },
     "2c02b19c40cc4ec7b1ddb875a15a9e8d": {
      "model_module": "@jupyter-widgets/controls",
      "model_module_version": "1.2.0",
      "model_name": "DescriptionStyleModel",
      "state": {
       "description_width": ""
      }
     },
     "2c3cde233ff04179ae21a5031e5d3a44": {
      "model_module": "@jupyter-widgets/controls",
      "model_module_version": "1.2.0",
      "model_name": "HBoxModel",
      "state": {
       "children": [
        "IPY_MODEL_aee0a77e01b7493e87b0072fa74937db",
        "IPY_MODEL_fe42a1cdc30a41d28e20a97c72184230"
       ],
       "layout": "IPY_MODEL_a041d99a18fd4a7fac2af6dbfff0fc0a"
      }
     },
     "2cb0a0a804574f7f9599f190938451cc": {
      "model_module": "@jupyter-widgets/controls",
      "model_module_version": "1.2.0",
      "model_name": "ProgressStyleModel",
      "state": {
       "description_width": ""
      }
     },
     "2cd967b1388f4541b1e168c988d841c4": {
      "model_module": "@jupyter-widgets/base",
      "model_module_version": "1.0.0",
      "model_name": "LayoutModel",
      "state": {}
     },
     "2d45d31431cc430fab9073a8ef071fb1": {
      "model_module": "@jupyter-widgets/controls",
      "model_module_version": "1.2.0",
      "model_name": "DescriptionStyleModel",
      "state": {
       "description_width": ""
      }
     },
     "2d485f09486e417b9efd7708a97e5770": {
      "model_module": "@jupyter-widgets/base",
      "model_module_version": "1.0.0",
      "model_name": "LayoutModel",
      "state": {}
     },
     "2d77bd57bf384360ad725e129d93ecff": {
      "model_module": "@jupyter-widgets/controls",
      "model_module_version": "1.2.0",
      "model_name": "ProgressStyleModel",
      "state": {
       "description_width": ""
      }
     },
     "2d8bfd695ca5456898ea4dff62817a98": {
      "model_module": "@jupyter-widgets/base",
      "model_module_version": "1.0.0",
      "model_name": "LayoutModel",
      "state": {}
     },
     "2df224e1536945fdbcf55b7b6e23266c": {
      "model_module": "@jupyter-widgets/controls",
      "model_module_version": "1.2.0",
      "model_name": "HTMLModel",
      "state": {
       "layout": "IPY_MODEL_08cfb532baa146ea948dc83de73ec4f0",
       "style": "IPY_MODEL_87ac95707ef94b5f947bdb8eb0aece22",
       "value": "100% 26/26 [01:25&lt;00:00,  3.32s/it]"
      }
     },
     "2df3eefaff9a4332a4e80755abda3bdb": {
      "model_module": "@jupyter-widgets/controls",
      "model_module_version": "1.2.0",
      "model_name": "ProgressStyleModel",
      "state": {
       "description_width": ""
      }
     },
     "2e1bb733d45a4a368ab6cff9e7b3d7af": {
      "model_module": "@jupyter-widgets/controls",
      "model_module_version": "1.2.0",
      "model_name": "DescriptionStyleModel",
      "state": {
       "description_width": ""
      }
     },
     "2e5b5e53025940b780ca137f8b101851": {
      "model_module": "@jupyter-widgets/controls",
      "model_module_version": "1.2.0",
      "model_name": "HTMLModel",
      "state": {
       "layout": "IPY_MODEL_b014274ce361410c9fa33c85f8045db9",
       "style": "IPY_MODEL_cc75b22ac19b4dc49a788963ac7af0bc",
       "value": "100% 26/26 [01:25&lt;00:00,  3.37s/it]"
      }
     },
     "2e5fc390ffbd44048c5f1603ef31deb5": {
      "model_module": "@jupyter-widgets/controls",
      "model_module_version": "1.2.0",
      "model_name": "IntProgressModel",
      "state": {
       "bar_style": "success",
       "layout": "IPY_MODEL_9cc75d2b61bf40d7bbae6b865b166d4c",
       "max": 26,
       "style": "IPY_MODEL_58cffa1e8b9d41a6af850582c1e2944a",
       "value": 26
      }
     },
     "2e9afe21768841fb9838689248887dce": {
      "model_module": "@jupyter-widgets/controls",
      "model_module_version": "1.2.0",
      "model_name": "HBoxModel",
      "state": {
       "children": [
        "IPY_MODEL_f27652a30ba94900a435ca71f564ecf7",
        "IPY_MODEL_c63ba11020934f09a2595a2f8babcbb7"
       ],
       "layout": "IPY_MODEL_dff8c992c3ab4c1bb56e25aaa6332e78"
      }
     },
     "2edeb106800d4d52a51f98553d7c9529": {
      "model_module": "@jupyter-widgets/base",
      "model_module_version": "1.0.0",
      "model_name": "LayoutModel",
      "state": {}
     },
     "2f118d1cdebe4836910756f886859dbd": {
      "model_module": "@jupyter-widgets/base",
      "model_module_version": "1.0.0",
      "model_name": "LayoutModel",
      "state": {}
     },
     "2fc5b93f79bc49e98ba6b9cf98a37ee2": {
      "model_module": "@jupyter-widgets/controls",
      "model_module_version": "1.2.0",
      "model_name": "ProgressStyleModel",
      "state": {
       "description_width": ""
      }
     },
     "2fdf52a899ac4b83b265d994031953a1": {
      "model_module": "@jupyter-widgets/base",
      "model_module_version": "1.0.0",
      "model_name": "LayoutModel",
      "state": {}
     },
     "30641148517f4617ba7e3ee627108d04": {
      "model_module": "@jupyter-widgets/controls",
      "model_module_version": "1.2.0",
      "model_name": "HBoxModel",
      "state": {
       "children": [
        "IPY_MODEL_1a0a1e9cfd6f4df88eb0a88c86a76d7c",
        "IPY_MODEL_26a02518fe904a69ae5601bda18d4bff"
       ],
       "layout": "IPY_MODEL_e5812a2af0d541f48115faca6772297c"
      }
     },
     "31178c11c4cb48068217eefca781c906": {
      "model_module": "@jupyter-widgets/controls",
      "model_module_version": "1.2.0",
      "model_name": "HTMLModel",
      "state": {
       "layout": "IPY_MODEL_314beaae2a2a4eeba972fb66d2c23809",
       "style": "IPY_MODEL_dbefe62b075d409cb2e33b5085416af3",
       "value": "100% 26/26 [01:27&lt;00:00,  3.31s/it]"
      }
     },
     "314beaae2a2a4eeba972fb66d2c23809": {
      "model_module": "@jupyter-widgets/base",
      "model_module_version": "1.0.0",
      "model_name": "LayoutModel",
      "state": {}
     },
     "3157994bb6784e2e8aea10c4359e4970": {
      "model_module": "@jupyter-widgets/controls",
      "model_module_version": "1.2.0",
      "model_name": "HBoxModel",
      "state": {
       "children": [
        "IPY_MODEL_b0bd8ca6828a4f6aa6823ee8887d8d2b",
        "IPY_MODEL_df75a3c881364aca8a965b2e931b0b3c"
       ],
       "layout": "IPY_MODEL_a3374b6c9b274150949203f24b4ee59e"
      }
     },
     "319fe0bb25c541b8b42cf4168c83aaf7": {
      "model_module": "@jupyter-widgets/controls",
      "model_module_version": "1.2.0",
      "model_name": "HTMLModel",
      "state": {
       "layout": "IPY_MODEL_fc6f409c2ddd486c910800cef02ed688",
       "style": "IPY_MODEL_ff90e5d6ce104bd4bd8436d56ffedaf0",
       "value": "100% 26/26 [01:26&lt;00:00,  3.29s/it]"
      }
     },
     "31d0e7dec454434082c3e63683ba4df5": {
      "model_module": "@jupyter-widgets/controls",
      "model_module_version": "1.2.0",
      "model_name": "HTMLModel",
      "state": {
       "layout": "IPY_MODEL_6b4937692b6f4004ba59aeaf150d030d",
       "style": "IPY_MODEL_3be0da4029564830823557d0114f2bac",
       "value": "100% 26/26 [01:25&lt;00:00,  3.28s/it]"
      }
     },
     "32483523b6924339bdae9199028a7748": {
      "model_module": "@jupyter-widgets/base",
      "model_module_version": "1.0.0",
      "model_name": "LayoutModel",
      "state": {}
     },
     "3251276a1e774fd99acc222165f4259a": {
      "model_module": "@jupyter-widgets/controls",
      "model_module_version": "1.2.0",
      "model_name": "HTMLModel",
      "state": {
       "layout": "IPY_MODEL_19047a1698cc4bd0aaf59bb44cae55cc",
       "style": "IPY_MODEL_fd41a44103be46849499b4c319d0a58c",
       "value": "100% 26/26 [01:26&lt;00:00,  3.41s/it]"
      }
     },
     "3277500a4fd54188bdb3cb62539270bc": {
      "model_module": "@jupyter-widgets/controls",
      "model_module_version": "1.2.0",
      "model_name": "HBoxModel",
      "state": {
       "children": [
        "IPY_MODEL_b1e6320f98fb4a18bf3cce6730564618",
        "IPY_MODEL_bf9a2568f69e413ea33a548f7930b439"
       ],
       "layout": "IPY_MODEL_d57d76e9df7843748d74c0044abb6b3c"
      }
     },
     "32982d0a6cd54d5eaf9ffbfcb1d646c0": {
      "model_module": "@jupyter-widgets/controls",
      "model_module_version": "1.2.0",
      "model_name": "ProgressStyleModel",
      "state": {
       "description_width": ""
      }
     },
     "32a5042708c54fcf8fc4da397758b505": {
      "model_module": "@jupyter-widgets/base",
      "model_module_version": "1.0.0",
      "model_name": "LayoutModel",
      "state": {}
     },
     "32f2f269897a4d31bbc898eda0eafd6e": {
      "model_module": "@jupyter-widgets/controls",
      "model_module_version": "1.2.0",
      "model_name": "HTMLModel",
      "state": {
       "layout": "IPY_MODEL_ab4c72545d0947b29da86b3253e425f6",
       "style": "IPY_MODEL_a463b6e0435247e7a1f05bc0573aacdc",
       "value": "100% 26/26 [01:29&lt;00:00,  3.38s/it]"
      }
     },
     "32f83661da8f4c1e92e88138453c4ea4": {
      "model_module": "@jupyter-widgets/controls",
      "model_module_version": "1.2.0",
      "model_name": "ProgressStyleModel",
      "state": {
       "description_width": ""
      }
     },
     "331c1fcbc61a40678a847fdab9cc37eb": {
      "model_module": "@jupyter-widgets/controls",
      "model_module_version": "1.2.0",
      "model_name": "HBoxModel",
      "state": {
       "children": [
        "IPY_MODEL_349daf6888ef453fb049caa44c20df23",
        "IPY_MODEL_0346f588fc114e9aae1382b9b35c3dfa"
       ],
       "layout": "IPY_MODEL_3de41f8507194d1baed353bc0cc1626e"
      }
     },
     "33719bf49c084d1c8d5a6666f06402c4": {
      "model_module": "@jupyter-widgets/controls",
      "model_module_version": "1.2.0",
      "model_name": "DescriptionStyleModel",
      "state": {
       "description_width": ""
      }
     },
     "33b96be5081d4c948aefb49211ac3767": {
      "model_module": "@jupyter-widgets/controls",
      "model_module_version": "1.2.0",
      "model_name": "IntProgressModel",
      "state": {
       "bar_style": "success",
       "layout": "IPY_MODEL_13553dd26e104e6a83c6a0702e478bce",
       "max": 26,
       "style": "IPY_MODEL_de1b6ab58ad64698afca84546890bd5a",
       "value": 26
      }
     },
     "33db67ce837e4dfd8856e79e03aab7da": {
      "model_module": "@jupyter-widgets/controls",
      "model_module_version": "1.2.0",
      "model_name": "DescriptionStyleModel",
      "state": {
       "description_width": ""
      }
     },
     "346300b176704b7184e598304722d44f": {
      "model_module": "@jupyter-widgets/base",
      "model_module_version": "1.0.0",
      "model_name": "LayoutModel",
      "state": {}
     },
     "3491d691cc4d431c9f6adafee6dbde73": {
      "model_module": "@jupyter-widgets/base",
      "model_module_version": "1.0.0",
      "model_name": "LayoutModel",
      "state": {}
     },
     "349daf6888ef453fb049caa44c20df23": {
      "model_module": "@jupyter-widgets/controls",
      "model_module_version": "1.2.0",
      "model_name": "IntProgressModel",
      "state": {
       "bar_style": "success",
       "layout": "IPY_MODEL_d511c97afa0c42d298d738755dfcd1f0",
       "max": 26,
       "style": "IPY_MODEL_fb085584cadb46c0af8f9d2dae0f12b9",
       "value": 26
      }
     },
     "35678305c0f64c1ba84a601bf1d7b8b7": {
      "model_module": "@jupyter-widgets/controls",
      "model_module_version": "1.2.0",
      "model_name": "ProgressStyleModel",
      "state": {
       "description_width": ""
      }
     },
     "3590f65e1821456fbcfc51626f5cb8d5": {
      "model_module": "@jupyter-widgets/controls",
      "model_module_version": "1.2.0",
      "model_name": "HBoxModel",
      "state": {
       "children": [
        "IPY_MODEL_82c7aa86943a4b8aa98f96291c3d4fe1",
        "IPY_MODEL_16e1bee8a5034b568bde3be5a5e61fd1"
       ],
       "layout": "IPY_MODEL_69bed939fe9544739c3d879388e55155"
      }
     },
     "36246d8eaa3a42fbafd0bee20aa1f755": {
      "model_module": "@jupyter-widgets/base",
      "model_module_version": "1.0.0",
      "model_name": "LayoutModel",
      "state": {}
     },
     "363dd5a9150e452d9a41a854d2afdea7": {
      "model_module": "@jupyter-widgets/controls",
      "model_module_version": "1.2.0",
      "model_name": "IntProgressModel",
      "state": {
       "bar_style": "success",
       "layout": "IPY_MODEL_bb74137cbeb0428f98e01819e40723d2",
       "max": 26,
       "style": "IPY_MODEL_63706805549e415ca12e87db8926c9e8",
       "value": 26
      }
     },
     "368feae49ae9408f872b13640247ef76": {
      "model_module": "@jupyter-widgets/base",
      "model_module_version": "1.0.0",
      "model_name": "LayoutModel",
      "state": {}
     },
     "36c57bbcbe6845959009b37cbbab3600": {
      "model_module": "@jupyter-widgets/controls",
      "model_module_version": "1.2.0",
      "model_name": "DescriptionStyleModel",
      "state": {
       "description_width": ""
      }
     },
     "36d8596ec33e43659e41c474044c363d": {
      "model_module": "@jupyter-widgets/controls",
      "model_module_version": "1.2.0",
      "model_name": "IntProgressModel",
      "state": {
       "bar_style": "success",
       "layout": "IPY_MODEL_73074792d2064a3ab490cac3810ac6ac",
       "max": 26,
       "style": "IPY_MODEL_a1172af4e9fe44b2a9cc3ecbc7e50fab",
       "value": 26
      }
     },
     "370217bd1b784dfba3a6e4b7b71d19a4": {
      "model_module": "@jupyter-widgets/controls",
      "model_module_version": "1.2.0",
      "model_name": "ProgressStyleModel",
      "state": {
       "description_width": ""
      }
     },
     "37a70ef8a61a4434a823c62646c09915": {
      "model_module": "@jupyter-widgets/controls",
      "model_module_version": "1.2.0",
      "model_name": "HTMLModel",
      "state": {
       "layout": "IPY_MODEL_a6a1eb6c9e144b60a5a18599a5b6a632",
       "style": "IPY_MODEL_a8336334e4064386baaefd3e7d64dc0c",
       "value": "100% 26/26 [01:25&lt;00:00,  3.28s/it]"
      }
     },
     "37b3ffc48f1b497fb5c99b65fe5514f8": {
      "model_module": "@jupyter-widgets/base",
      "model_module_version": "1.0.0",
      "model_name": "LayoutModel",
      "state": {}
     },
     "37e7b329ecff47fc9242b85676d54451": {
      "model_module": "@jupyter-widgets/controls",
      "model_module_version": "1.2.0",
      "model_name": "ProgressStyleModel",
      "state": {
       "description_width": ""
      }
     },
     "3877bde2f12d4d6db2a232013e45a362": {
      "model_module": "@jupyter-widgets/controls",
      "model_module_version": "1.2.0",
      "model_name": "HTMLModel",
      "state": {
       "layout": "IPY_MODEL_e30f2d5f25ad41c2ae1afc89e71c1670",
       "style": "IPY_MODEL_e8f63c24e56f4daeacf6283f82001c35",
       "value": "100% 26/26 [01:25&lt;00:00,  3.29s/it]"
      }
     },
     "38b10c8ee04047e197c26497b531f22d": {
      "model_module": "@jupyter-widgets/base",
      "model_module_version": "1.0.0",
      "model_name": "LayoutModel",
      "state": {}
     },
     "3917d7ec69f64ac18dc7909c932139f5": {
      "model_module": "@jupyter-widgets/base",
      "model_module_version": "1.0.0",
      "model_name": "LayoutModel",
      "state": {}
     },
     "39274ee0596f4be8a279446f49f2826c": {
      "model_module": "@jupyter-widgets/controls",
      "model_module_version": "1.2.0",
      "model_name": "ProgressStyleModel",
      "state": {
       "description_width": ""
      }
     },
     "393dfe3ed256424ba15b29d07c21565a": {
      "model_module": "@jupyter-widgets/base",
      "model_module_version": "1.0.0",
      "model_name": "LayoutModel",
      "state": {}
     },
     "3a081cadfcf84ada8805e1bdcc28a48b": {
      "model_module": "@jupyter-widgets/controls",
      "model_module_version": "1.2.0",
      "model_name": "HBoxModel",
      "state": {
       "children": [
        "IPY_MODEL_f4f69d5cfadc4e15bbc2c4570f5c3813",
        "IPY_MODEL_d77d7daa2c974c98bd420ecf9a2cd947"
       ],
       "layout": "IPY_MODEL_ffee4b6c8568474da50c66aadfb8f783"
      }
     },
     "3a176b8cd03540c7b00653e92b522356": {
      "model_module": "@jupyter-widgets/base",
      "model_module_version": "1.0.0",
      "model_name": "LayoutModel",
      "state": {}
     },
     "3b26a6fd7d724a90b4a1b2a3f52ab9a5": {
      "model_module": "@jupyter-widgets/base",
      "model_module_version": "1.0.0",
      "model_name": "LayoutModel",
      "state": {}
     },
     "3b854d121bdf428199314ecca4c9e28e": {
      "model_module": "@jupyter-widgets/controls",
      "model_module_version": "1.2.0",
      "model_name": "HTMLModel",
      "state": {
       "layout": "IPY_MODEL_020d4b0f95ff4248a86342f7d0bad8b5",
       "style": "IPY_MODEL_63cd29105041456e97b93fdffa679a51",
       "value": "100% 26/26 [01:26&lt;00:00,  3.28s/it]"
      }
     },
     "3bd92257331b4f80b74ca2fe9a4aacfa": {
      "model_module": "@jupyter-widgets/controls",
      "model_module_version": "1.2.0",
      "model_name": "ProgressStyleModel",
      "state": {
       "description_width": ""
      }
     },
     "3be0da4029564830823557d0114f2bac": {
      "model_module": "@jupyter-widgets/controls",
      "model_module_version": "1.2.0",
      "model_name": "DescriptionStyleModel",
      "state": {
       "description_width": ""
      }
     },
     "3be30c8077a24ecfad1c07e0ea184cab": {
      "model_module": "@jupyter-widgets/base",
      "model_module_version": "1.0.0",
      "model_name": "LayoutModel",
      "state": {}
     },
     "3c16706265ca48e28358d541cec3233d": {
      "model_module": "@jupyter-widgets/controls",
      "model_module_version": "1.2.0",
      "model_name": "HTMLModel",
      "state": {
       "layout": "IPY_MODEL_07eea7daa538493aa4def90c8d04be50",
       "style": "IPY_MODEL_c71c461db4364e2b98f6d4327f2d3b33",
       "value": "100% 26/26 [01:25&lt;00:00,  3.28s/it]"
      }
     },
     "3c36809448be4cdfa08dea38298ea10b": {
      "model_module": "@jupyter-widgets/controls",
      "model_module_version": "1.2.0",
      "model_name": "IntProgressModel",
      "state": {
       "bar_style": "success",
       "layout": "IPY_MODEL_e8c41efa617e4c3883091eb4d145db3e",
       "max": 26,
       "style": "IPY_MODEL_59516b75a1fc4c0e9adc148717e0c792",
       "value": 26
      }
     },
     "3c73897ec6654e17843f462313e7ff59": {
      "model_module": "@jupyter-widgets/base",
      "model_module_version": "1.0.0",
      "model_name": "LayoutModel",
      "state": {}
     },
     "3c9eb190852b4ec594adaf9e0f665682": {
      "model_module": "@jupyter-widgets/base",
      "model_module_version": "1.0.0",
      "model_name": "LayoutModel",
      "state": {}
     },
     "3d2ace0ac72843579a6113be643ca5ea": {
      "model_module": "@jupyter-widgets/controls",
      "model_module_version": "1.2.0",
      "model_name": "DescriptionStyleModel",
      "state": {
       "description_width": ""
      }
     },
     "3de41f8507194d1baed353bc0cc1626e": {
      "model_module": "@jupyter-widgets/base",
      "model_module_version": "1.0.0",
      "model_name": "LayoutModel",
      "state": {}
     },
     "3e0e3ad3f9264dc38481b85e7dd9f79b": {
      "model_module": "@jupyter-widgets/base",
      "model_module_version": "1.0.0",
      "model_name": "LayoutModel",
      "state": {}
     },
     "3f93f9420ba64bf393df48d45d24a828": {
      "model_module": "@jupyter-widgets/controls",
      "model_module_version": "1.2.0",
      "model_name": "DescriptionStyleModel",
      "state": {
       "description_width": ""
      }
     },
     "3fae14511a55462b8b67d8e5f4feb45d": {
      "model_module": "@jupyter-widgets/base",
      "model_module_version": "1.0.0",
      "model_name": "LayoutModel",
      "state": {}
     },
     "3fbc54b73a5b491db9f0b3518b22798c": {
      "model_module": "@jupyter-widgets/controls",
      "model_module_version": "1.2.0",
      "model_name": "HBoxModel",
      "state": {
       "children": [
        "IPY_MODEL_3c36809448be4cdfa08dea38298ea10b",
        "IPY_MODEL_f007760ee0e949fb835b719ee2c6a210"
       ],
       "layout": "IPY_MODEL_23563d6cfe4b4246b85d1580c2f66e5d"
      }
     },
     "3fdfb2515aa54f669d3e661622c78236": {
      "model_module": "@jupyter-widgets/base",
      "model_module_version": "1.0.0",
      "model_name": "LayoutModel",
      "state": {}
     },
     "40353c03afb04baab9df7d42bf612920": {
      "model_module": "@jupyter-widgets/controls",
      "model_module_version": "1.2.0",
      "model_name": "ProgressStyleModel",
      "state": {
       "description_width": ""
      }
     },
     "4053d61c49ef453fb68ca6f771657413": {
      "model_module": "@jupyter-widgets/controls",
      "model_module_version": "1.2.0",
      "model_name": "DescriptionStyleModel",
      "state": {
       "description_width": ""
      }
     },
     "4054cc619a7147fb918e77bac311f03d": {
      "model_module": "@jupyter-widgets/controls",
      "model_module_version": "1.2.0",
      "model_name": "HBoxModel",
      "state": {
       "children": [
        "IPY_MODEL_e811012e100e4c4da119bb5c27e81909",
        "IPY_MODEL_5ff08c6ee5174f0b94a0779885772c6f"
       ],
       "layout": "IPY_MODEL_4ea50f3341914a1fad448b36eb166eb4"
      }
     },
     "40a89130c44e4af9ab0e0a85c155228a": {
      "model_module": "@jupyter-widgets/controls",
      "model_module_version": "1.2.0",
      "model_name": "HBoxModel",
      "state": {
       "children": [
        "IPY_MODEL_f95f684ff63c4eafbfb74286202b43fd",
        "IPY_MODEL_b27e9c4419cb4d9188afc3d965824aeb"
       ],
       "layout": "IPY_MODEL_b5324245c63f4b919cca19df804fe723"
      }
     },
     "4193119eb948461b844672be7fd5e453": {
      "model_module": "@jupyter-widgets/controls",
      "model_module_version": "1.2.0",
      "model_name": "HTMLModel",
      "state": {
       "layout": "IPY_MODEL_dac5ae164a094aaea1c000ec88fe63a1",
       "style": "IPY_MODEL_4bf047956b1a4d67857a0282671cd92c",
       "value": "100% 26/26 [01:26&lt;00:00,  3.34s/it]"
      }
     },
     "4233707f555b46eb80a5014ff37a0e04": {
      "model_module": "@jupyter-widgets/controls",
      "model_module_version": "1.2.0",
      "model_name": "IntProgressModel",
      "state": {
       "bar_style": "success",
       "layout": "IPY_MODEL_e819bc7ff16b4ec291edd5a6db128602",
       "max": 26,
       "style": "IPY_MODEL_32982d0a6cd54d5eaf9ffbfcb1d646c0",
       "value": 26
      }
     },
     "425d05adb8d7463c863e72b8507023a1": {
      "model_module": "@jupyter-widgets/controls",
      "model_module_version": "1.2.0",
      "model_name": "DescriptionStyleModel",
      "state": {
       "description_width": ""
      }
     },
     "4264ea72843d4051a9baf3eb7099c186": {
      "model_module": "@jupyter-widgets/controls",
      "model_module_version": "1.2.0",
      "model_name": "ProgressStyleModel",
      "state": {
       "description_width": ""
      }
     },
     "4308d7c9906f47eeb6bab70ac4af92a4": {
      "model_module": "@jupyter-widgets/controls",
      "model_module_version": "1.2.0",
      "model_name": "HBoxModel",
      "state": {
       "children": [
        "IPY_MODEL_d9a4afdae87045008037e7aface2ff43",
        "IPY_MODEL_dafc2e26ac7641afa16cdceab7522ade"
       ],
       "layout": "IPY_MODEL_a3acca47a6514d9a8121af91bdd05a32"
      }
     },
     "4319d20d1ba64ef4b037590f171afa81": {
      "model_module": "@jupyter-widgets/controls",
      "model_module_version": "1.2.0",
      "model_name": "IntProgressModel",
      "state": {
       "bar_style": "success",
       "layout": "IPY_MODEL_50bab93ac2a843a3a65c4a81af0a76b6",
       "max": 26,
       "style": "IPY_MODEL_acaec24e3a1a494f818dc61f292ad1d8",
       "value": 26
      }
     },
     "433755e0397b4ddc83beeda5d1a47cf4": {
      "model_module": "@jupyter-widgets/base",
      "model_module_version": "1.0.0",
      "model_name": "LayoutModel",
      "state": {}
     },
     "4412d74a465546a5af841cf4b427cfb3": {
      "model_module": "@jupyter-widgets/controls",
      "model_module_version": "1.2.0",
      "model_name": "HTMLModel",
      "state": {
       "layout": "IPY_MODEL_ce727333fe3a4471bf18ab7d8af15d6a",
       "style": "IPY_MODEL_919ff5fad5e4441aa6eba50e466f1d41",
       "value": "  0% 0/26 [00:00&lt;?, ?it/s]"
      }
     },
     "446de2a5a91d45ad89f9179e14595bd9": {
      "model_module": "@jupyter-widgets/controls",
      "model_module_version": "1.2.0",
      "model_name": "ProgressStyleModel",
      "state": {
       "description_width": ""
      }
     },
     "44cbbf4f5313440eb4a8d31fabe86e57": {
      "model_module": "@jupyter-widgets/controls",
      "model_module_version": "1.2.0",
      "model_name": "ProgressStyleModel",
      "state": {
       "description_width": ""
      }
     },
     "45cc0ad0b5b342a6b9fad1898260ba93": {
      "model_module": "@jupyter-widgets/base",
      "model_module_version": "1.0.0",
      "model_name": "LayoutModel",
      "state": {}
     },
     "45cfbbcbf7554b12b838ba2ec4a3256b": {
      "model_module": "@jupyter-widgets/base",
      "model_module_version": "1.0.0",
      "model_name": "LayoutModel",
      "state": {}
     },
     "462d7701692f4b7f990011b90cfb6859": {
      "model_module": "@jupyter-widgets/controls",
      "model_module_version": "1.2.0",
      "model_name": "HTMLModel",
      "state": {
       "layout": "IPY_MODEL_1b887453118449c19ce18da590471655",
       "style": "IPY_MODEL_7578ebf06d8f4f6fa288a9e151f471a5",
       "value": "100% 26/26 [01:25&lt;00:00,  3.32s/it]"
      }
     },
     "478b33a9f34b4b8c83b55166b41268ce": {
      "model_module": "@jupyter-widgets/controls",
      "model_module_version": "1.2.0",
      "model_name": "ProgressStyleModel",
      "state": {
       "description_width": ""
      }
     },
     "47a24333a7e04b3c8cb24ec9e7510fed": {
      "model_module": "@jupyter-widgets/controls",
      "model_module_version": "1.2.0",
      "model_name": "DescriptionStyleModel",
      "state": {
       "description_width": ""
      }
     },
     "47c05a3f6aa5443999739315f7996cb2": {
      "model_module": "@jupyter-widgets/base",
      "model_module_version": "1.0.0",
      "model_name": "LayoutModel",
      "state": {}
     },
     "48af3ec95c1e41528ee105a805693a72": {
      "model_module": "@jupyter-widgets/controls",
      "model_module_version": "1.2.0",
      "model_name": "HTMLModel",
      "state": {
       "layout": "IPY_MODEL_7b74be3727684000838d7ae2f54a4619",
       "style": "IPY_MODEL_592857e223f34016814a22cf9e34af6b",
       "value": "100% 26/26 [01:26&lt;00:00,  3.31s/it]"
      }
     },
     "48f3bb54b9174fb7b2506d1431e76097": {
      "model_module": "@jupyter-widgets/controls",
      "model_module_version": "1.2.0",
      "model_name": "ProgressStyleModel",
      "state": {
       "description_width": ""
      }
     },
     "491757ec08364142ab4e26436247d5da": {
      "model_module": "@jupyter-widgets/base",
      "model_module_version": "1.0.0",
      "model_name": "LayoutModel",
      "state": {}
     },
     "4946a36e8b994156941136a21b9fb081": {
      "model_module": "@jupyter-widgets/controls",
      "model_module_version": "1.2.0",
      "model_name": "HBoxModel",
      "state": {
       "children": [
        "IPY_MODEL_c3024aee21bc4f62ad6557b09aee36a8",
        "IPY_MODEL_cb4828171ca44a36ba757c8076c4c75e"
       ],
       "layout": "IPY_MODEL_3b26a6fd7d724a90b4a1b2a3f52ab9a5"
      }
     },
     "4989d888e20241a4a68795ed035ab883": {
      "model_module": "@jupyter-widgets/controls",
      "model_module_version": "1.2.0",
      "model_name": "HBoxModel",
      "state": {
       "children": [
        "IPY_MODEL_4d3323463d934b43af872d650755a6c5",
        "IPY_MODEL_fbbdcbdab44e4ba4a2f510f1e268f676"
       ],
       "layout": "IPY_MODEL_2f118d1cdebe4836910756f886859dbd"
      }
     },
     "4a990d32cb844efe99a16d60c5104cef": {
      "model_module": "@jupyter-widgets/controls",
      "model_module_version": "1.2.0",
      "model_name": "ProgressStyleModel",
      "state": {
       "description_width": ""
      }
     },
     "4affb698a22841448ea202a423222b13": {
      "model_module": "@jupyter-widgets/base",
      "model_module_version": "1.0.0",
      "model_name": "LayoutModel",
      "state": {}
     },
     "4b0c3eb0749e40b796e1adfced070f07": {
      "model_module": "@jupyter-widgets/base",
      "model_module_version": "1.0.0",
      "model_name": "LayoutModel",
      "state": {}
     },
     "4b2a3ea49d50446c91cacac278b8337c": {
      "model_module": "@jupyter-widgets/controls",
      "model_module_version": "1.2.0",
      "model_name": "IntProgressModel",
      "state": {
       "bar_style": "success",
       "layout": "IPY_MODEL_01f6574f60104e5b86f67c84dcc48f37",
       "max": 26,
       "style": "IPY_MODEL_b0e913656ecd42609b70cf1217f9ef4d",
       "value": 26
      }
     },
     "4b415225f3844a94b8aff7ef4b2716ec": {
      "model_module": "@jupyter-widgets/base",
      "model_module_version": "1.0.0",
      "model_name": "LayoutModel",
      "state": {}
     },
     "4b828b8d7f3b477fa5d017d3e35269a4": {
      "model_module": "@jupyter-widgets/controls",
      "model_module_version": "1.2.0",
      "model_name": "HBoxModel",
      "state": {
       "children": [
        "IPY_MODEL_71c8247b29fa4a0ab81b51d83113c5e2",
        "IPY_MODEL_da7a9821eaaa45e9afcced93a5b2a46a"
       ],
       "layout": "IPY_MODEL_c9d50958a7e84f8e859ae9ded97002a7"
      }
     },
     "4b8e0011388947f0a93bae3c3bbc3185": {
      "model_module": "@jupyter-widgets/base",
      "model_module_version": "1.0.0",
      "model_name": "LayoutModel",
      "state": {}
     },
     "4be43241b8a94316951f66d66615a822": {
      "model_module": "@jupyter-widgets/controls",
      "model_module_version": "1.2.0",
      "model_name": "IntProgressModel",
      "state": {
       "bar_style": "success",
       "layout": "IPY_MODEL_c2564b6999df4dc89bb165b46fe1195b",
       "max": 26,
       "style": "IPY_MODEL_446de2a5a91d45ad89f9179e14595bd9",
       "value": 26
      }
     },
     "4bf047956b1a4d67857a0282671cd92c": {
      "model_module": "@jupyter-widgets/controls",
      "model_module_version": "1.2.0",
      "model_name": "DescriptionStyleModel",
      "state": {
       "description_width": ""
      }
     },
     "4c0063b9caf94c15b3226b6122d4126e": {
      "model_module": "@jupyter-widgets/base",
      "model_module_version": "1.0.0",
      "model_name": "LayoutModel",
      "state": {}
     },
     "4c04188fcc164989ad0fc3081ac7cb12": {
      "model_module": "@jupyter-widgets/controls",
      "model_module_version": "1.2.0",
      "model_name": "HBoxModel",
      "state": {
       "children": [
        "IPY_MODEL_6662b13fdfc7441baee296a2f20452e2",
        "IPY_MODEL_0beaa077c53f40e1b4a32a0d9863d5da"
       ],
       "layout": "IPY_MODEL_f6c08e64494143c5b57a6a3c4f687310"
      }
     },
     "4cab4f14190a46ca93de74d344e37277": {
      "model_module": "@jupyter-widgets/base",
      "model_module_version": "1.0.0",
      "model_name": "LayoutModel",
      "state": {}
     },
     "4cb4cb8d51774135916ea96a7b91bc1d": {
      "model_module": "@jupyter-widgets/base",
      "model_module_version": "1.0.0",
      "model_name": "LayoutModel",
      "state": {}
     },
     "4cff5cd680304bfb9d15b2556119c494": {
      "model_module": "@jupyter-widgets/base",
      "model_module_version": "1.0.0",
      "model_name": "LayoutModel",
      "state": {}
     },
     "4d17d673dbc64d8f992f284399ba5991": {
      "model_module": "@jupyter-widgets/controls",
      "model_module_version": "1.2.0",
      "model_name": "DescriptionStyleModel",
      "state": {
       "description_width": ""
      }
     },
     "4d3323463d934b43af872d650755a6c5": {
      "model_module": "@jupyter-widgets/controls",
      "model_module_version": "1.2.0",
      "model_name": "IntProgressModel",
      "state": {
       "bar_style": "success",
       "layout": "IPY_MODEL_4ebc1a8593b94de58705c696926cb611",
       "max": 26,
       "style": "IPY_MODEL_ecc7a6cf8e7140759c85a10864aec5a8",
       "value": 26
      }
     },
     "4d528bac314e40a8ba253aedd3f35d73": {
      "model_module": "@jupyter-widgets/base",
      "model_module_version": "1.0.0",
      "model_name": "LayoutModel",
      "state": {}
     },
     "4d960b9660414699b09d945efcec1604": {
      "model_module": "@jupyter-widgets/controls",
      "model_module_version": "1.2.0",
      "model_name": "IntProgressModel",
      "state": {
       "bar_style": "success",
       "layout": "IPY_MODEL_087d03f04031440c996989a9df9a9b71",
       "max": 26,
       "style": "IPY_MODEL_ed46dcc48ca64357a69d3938cefe8b13",
       "value": 26
      }
     },
     "4db8aeea513e47d39b12522ee5096494": {
      "model_module": "@jupyter-widgets/controls",
      "model_module_version": "1.2.0",
      "model_name": "DescriptionStyleModel",
      "state": {
       "description_width": ""
      }
     },
     "4de300e762c84d6a8bfc62540796f692": {
      "model_module": "@jupyter-widgets/base",
      "model_module_version": "1.0.0",
      "model_name": "LayoutModel",
      "state": {}
     },
     "4e0b37304acc4b2d85447bdb3dfd3030": {
      "model_module": "@jupyter-widgets/controls",
      "model_module_version": "1.2.0",
      "model_name": "HBoxModel",
      "state": {
       "children": [
        "IPY_MODEL_4319d20d1ba64ef4b037590f171afa81",
        "IPY_MODEL_ea090141b52642ccb90538c788aa86ba"
       ],
       "layout": "IPY_MODEL_85252f8f4b0742529cf85ec0d9fb184b"
      }
     },
     "4ea50f3341914a1fad448b36eb166eb4": {
      "model_module": "@jupyter-widgets/base",
      "model_module_version": "1.0.0",
      "model_name": "LayoutModel",
      "state": {}
     },
     "4ebc1a8593b94de58705c696926cb611": {
      "model_module": "@jupyter-widgets/base",
      "model_module_version": "1.0.0",
      "model_name": "LayoutModel",
      "state": {}
     },
     "4ec4a7b79a894ca3ae97b9cd160e9c6c": {
      "model_module": "@jupyter-widgets/base",
      "model_module_version": "1.0.0",
      "model_name": "LayoutModel",
      "state": {}
     },
     "4ee90a47fc93472c8b546429d392a21b": {
      "model_module": "@jupyter-widgets/controls",
      "model_module_version": "1.2.0",
      "model_name": "IntProgressModel",
      "state": {
       "bar_style": "success",
       "layout": "IPY_MODEL_1ea1ff8938bd49c8bc121fa02bf77e30",
       "max": 26,
       "style": "IPY_MODEL_07f1ff44c0e74191af8ff5464cadf87d",
       "value": 26
      }
     },
     "4f1616eadb6d405aa97b4fb6459b204d": {
      "model_module": "@jupyter-widgets/base",
      "model_module_version": "1.0.0",
      "model_name": "LayoutModel",
      "state": {}
     },
     "4f310fc479524a8ca22a69d0ad34151e": {
      "model_module": "@jupyter-widgets/controls",
      "model_module_version": "1.2.0",
      "model_name": "HTMLModel",
      "state": {
       "layout": "IPY_MODEL_70a1d022bfe64cc4bdd6fd65334094b8",
       "style": "IPY_MODEL_ec5d88e997c94ddd96ff43c83b217687",
       "value": "100% 26/26 [01:26&lt;00:00,  3.38s/it]"
      }
     },
     "4f7f8a9514a24402a8435b56084a214c": {
      "model_module": "@jupyter-widgets/controls",
      "model_module_version": "1.2.0",
      "model_name": "ProgressStyleModel",
      "state": {
       "description_width": ""
      }
     },
     "4fa3046960b24eac934c76d2cd5fc75c": {
      "model_module": "@jupyter-widgets/controls",
      "model_module_version": "1.2.0",
      "model_name": "HBoxModel",
      "state": {
       "children": [
        "IPY_MODEL_aad523cf275d4d58928827ccff1faab4",
        "IPY_MODEL_ac2495d4bff14568bacb8902a3de5dbd"
       ],
       "layout": "IPY_MODEL_79bdb6fb53f4421e8d099c915c87fead"
      }
     },
     "502ccf470a4e40d2ba906e6efb8b49db": {
      "model_module": "@jupyter-widgets/controls",
      "model_module_version": "1.2.0",
      "model_name": "DescriptionStyleModel",
      "state": {
       "description_width": ""
      }
     },
     "507c0e9aafd1413b827298178cbb2e0b": {
      "model_module": "@jupyter-widgets/controls",
      "model_module_version": "1.2.0",
      "model_name": "HBoxModel",
      "state": {
       "children": [
        "IPY_MODEL_06aed15b6aa6437bbc737b08851dc53d",
        "IPY_MODEL_c4f2212b417b4c6ead963c48110283db"
       ],
       "layout": "IPY_MODEL_234580d1a12248358e0e9b6c2325e3c2"
      }
     },
     "50a3063953f549c28c2300c5c595f59a": {
      "model_module": "@jupyter-widgets/base",
      "model_module_version": "1.0.0",
      "model_name": "LayoutModel",
      "state": {}
     },
     "50bab93ac2a843a3a65c4a81af0a76b6": {
      "model_module": "@jupyter-widgets/base",
      "model_module_version": "1.0.0",
      "model_name": "LayoutModel",
      "state": {}
     },
     "5150370af2264d55b438034f14dde654": {
      "model_module": "@jupyter-widgets/controls",
      "model_module_version": "1.2.0",
      "model_name": "HTMLModel",
      "state": {
       "layout": "IPY_MODEL_087adb8e351347b3bc0cc730edd14712",
       "style": "IPY_MODEL_ab48810b3883466db020a24c1b0e3054",
       "value": "100% 26/26 [01:24&lt;00:00,  3.28s/it]"
      }
     },
     "515c3922482648948efc5f6ad500f531": {
      "model_module": "@jupyter-widgets/controls",
      "model_module_version": "1.2.0",
      "model_name": "HTMLModel",
      "state": {
       "layout": "IPY_MODEL_a2a21002fb994ee6b6f4ecf85d69c91d",
       "style": "IPY_MODEL_25bfdca16e964e98b3b7f05266fcd136",
       "value": "100% 100/100 [2:23:30&lt;00:00, 85.95s/it]"
      }
     },
     "51d3a10aaf8d4fcbb9c99b5f90133cc5": {
      "model_module": "@jupyter-widgets/base",
      "model_module_version": "1.0.0",
      "model_name": "LayoutModel",
      "state": {}
     },
     "525a8ef87c984fb4845890c4600a517b": {
      "model_module": "@jupyter-widgets/controls",
      "model_module_version": "1.2.0",
      "model_name": "HTMLModel",
      "state": {
       "layout": "IPY_MODEL_53d63d03c52145f69b8c305c1c71b1e5",
       "style": "IPY_MODEL_9197c7c9eef0418686334e64cbc574ca",
       "value": "100% 26/26 [01:26&lt;00:00,  3.34s/it]"
      }
     },
     "52f40c98a4b84e1dbe072b3ed55db628": {
      "model_module": "@jupyter-widgets/base",
      "model_module_version": "1.0.0",
      "model_name": "LayoutModel",
      "state": {}
     },
     "531238f0f69c4ea297f85ff0c85ebf9f": {
      "model_module": "@jupyter-widgets/controls",
      "model_module_version": "1.2.0",
      "model_name": "ProgressStyleModel",
      "state": {
       "description_width": ""
      }
     },
     "53af8fdbe2df4901b0be9ec33c0246e0": {
      "model_module": "@jupyter-widgets/base",
      "model_module_version": "1.0.0",
      "model_name": "LayoutModel",
      "state": {}
     },
     "53d63d03c52145f69b8c305c1c71b1e5": {
      "model_module": "@jupyter-widgets/base",
      "model_module_version": "1.0.0",
      "model_name": "LayoutModel",
      "state": {}
     },
     "555f254505c5437aba54ea169d7e2ae2": {
      "model_module": "@jupyter-widgets/base",
      "model_module_version": "1.0.0",
      "model_name": "LayoutModel",
      "state": {}
     },
     "55b8254c65094141a0247d602a1de28c": {
      "model_module": "@jupyter-widgets/base",
      "model_module_version": "1.0.0",
      "model_name": "LayoutModel",
      "state": {}
     },
     "561483c894f6426db40d170e923954e6": {
      "model_module": "@jupyter-widgets/controls",
      "model_module_version": "1.2.0",
      "model_name": "DescriptionStyleModel",
      "state": {
       "description_width": ""
      }
     },
     "565bb153c3004618810cf0823376175a": {
      "model_module": "@jupyter-widgets/controls",
      "model_module_version": "1.2.0",
      "model_name": "HTMLModel",
      "state": {
       "layout": "IPY_MODEL_162055804a4e4e20884f00da7048010c",
       "style": "IPY_MODEL_7ad34901ff0d4cfc9e326e34d386951f",
       "value": "100% 26/26 [01:25&lt;00:00,  3.27s/it]"
      }
     },
     "570ad8e3811444fc92796969256c92f7": {
      "model_module": "@jupyter-widgets/base",
      "model_module_version": "1.0.0",
      "model_name": "LayoutModel",
      "state": {}
     },
     "57382952b63d4205ae200541380acfd9": {
      "model_module": "@jupyter-widgets/controls",
      "model_module_version": "1.2.0",
      "model_name": "HBoxModel",
      "state": {
       "children": [
        "IPY_MODEL_07a040bf654e4c7bb6c3cf09fe6257ec",
        "IPY_MODEL_03bcdc9816d145e3aea3e96c17083fd5"
       ],
       "layout": "IPY_MODEL_8f3ccd5585ef48f7af9226f31337f974"
      }
     },
     "5784853798814c6f90c4fed6d2e80641": {
      "model_module": "@jupyter-widgets/base",
      "model_module_version": "1.0.0",
      "model_name": "LayoutModel",
      "state": {}
     },
     "57c8df5d8b5e4da0b7e1eed13887b78a": {
      "model_module": "@jupyter-widgets/base",
      "model_module_version": "1.0.0",
      "model_name": "LayoutModel",
      "state": {}
     },
     "584a95e0e15f44daa373a53d61ca7011": {
      "model_module": "@jupyter-widgets/controls",
      "model_module_version": "1.2.0",
      "model_name": "HBoxModel",
      "state": {
       "children": [
        "IPY_MODEL_7b0f633c940b47c3bf2cee8290b41a57",
        "IPY_MODEL_7a8ca9e8fa6148488920876ff80ab837"
       ],
       "layout": "IPY_MODEL_ac4fe68815d24fe4bc180c340aa29db9"
      }
     },
     "587558acba5545f8b796e474eb1b402a": {
      "model_module": "@jupyter-widgets/controls",
      "model_module_version": "1.2.0",
      "model_name": "ProgressStyleModel",
      "state": {
       "description_width": ""
      }
     },
     "58cffa1e8b9d41a6af850582c1e2944a": {
      "model_module": "@jupyter-widgets/controls",
      "model_module_version": "1.2.0",
      "model_name": "ProgressStyleModel",
      "state": {
       "description_width": ""
      }
     },
     "58dcd1659149424eafd18f7b566c2546": {
      "model_module": "@jupyter-widgets/controls",
      "model_module_version": "1.2.0",
      "model_name": "IntProgressModel",
      "state": {
       "bar_style": "danger",
       "layout": "IPY_MODEL_dec793f72a4a48a0af278e380c4bbf6c",
       "max": 26,
       "style": "IPY_MODEL_e10a17242d4f46f0828ee5153d375b19"
      }
     },
     "590c9370b3484e919d564920071a5354": {
      "model_module": "@jupyter-widgets/base",
      "model_module_version": "1.0.0",
      "model_name": "LayoutModel",
      "state": {}
     },
     "592857e223f34016814a22cf9e34af6b": {
      "model_module": "@jupyter-widgets/controls",
      "model_module_version": "1.2.0",
      "model_name": "DescriptionStyleModel",
      "state": {
       "description_width": ""
      }
     },
     "59392882923f4190b813db65f61b6731": {
      "model_module": "@jupyter-widgets/base",
      "model_module_version": "1.0.0",
      "model_name": "LayoutModel",
      "state": {}
     },
     "59516b75a1fc4c0e9adc148717e0c792": {
      "model_module": "@jupyter-widgets/controls",
      "model_module_version": "1.2.0",
      "model_name": "ProgressStyleModel",
      "state": {
       "description_width": ""
      }
     },
     "599b79a8d74746fa9f7d5f5ebcc087dd": {
      "model_module": "@jupyter-widgets/controls",
      "model_module_version": "1.2.0",
      "model_name": "HBoxModel",
      "state": {
       "children": [
        "IPY_MODEL_4ee90a47fc93472c8b546429d392a21b",
        "IPY_MODEL_525a8ef87c984fb4845890c4600a517b"
       ],
       "layout": "IPY_MODEL_67d8d21814424a7e8311a000dc344f32"
      }
     },
     "5a0713b5a6334256926b9657d7728d61": {
      "model_module": "@jupyter-widgets/controls",
      "model_module_version": "1.2.0",
      "model_name": "HTMLModel",
      "state": {
       "layout": "IPY_MODEL_be965b80a700460fbe5de041362ca0b9",
       "style": "IPY_MODEL_8f861598bf55415c9a07357f6f38315e",
       "value": "100% 26/26 [01:25&lt;00:00,  3.28s/it]"
      }
     },
     "5a1eed064aee459a966e729cfb8975a2": {
      "model_module": "@jupyter-widgets/base",
      "model_module_version": "1.0.0",
      "model_name": "LayoutModel",
      "state": {}
     },
     "5ad6b18c4f51447d8b6921dc3ae33711": {
      "model_module": "@jupyter-widgets/controls",
      "model_module_version": "1.2.0",
      "model_name": "HBoxModel",
      "state": {
       "children": [
        "IPY_MODEL_363dd5a9150e452d9a41a854d2afdea7",
        "IPY_MODEL_fd05a6d67e8f4549a0449ae76b0eaba1"
       ],
       "layout": "IPY_MODEL_3a176b8cd03540c7b00653e92b522356"
      }
     },
     "5b11fa2ab439476088c494d1b29e6a34": {
      "model_module": "@jupyter-widgets/base",
      "model_module_version": "1.0.0",
      "model_name": "LayoutModel",
      "state": {}
     },
     "5b1e78eb74e14f11a17882690a4d1a11": {
      "model_module": "@jupyter-widgets/controls",
      "model_module_version": "1.2.0",
      "model_name": "HBoxModel",
      "state": {
       "children": [
        "IPY_MODEL_e6e13f8939c64beabdf833ae71702c93",
        "IPY_MODEL_89606dd403e64705a9e5b40c0e2711ce"
       ],
       "layout": "IPY_MODEL_b60ea1f387b24b74aded39f8ee822667"
      }
     },
     "5b6a5844b080495eb193080ed81c535e": {
      "model_module": "@jupyter-widgets/controls",
      "model_module_version": "1.2.0",
      "model_name": "IntProgressModel",
      "state": {
       "bar_style": "success",
       "layout": "IPY_MODEL_1b6beebdfed54997a01c6d8f79950a7f",
       "max": 26,
       "style": "IPY_MODEL_16341921dbe7421b8638808e6588256f",
       "value": 26
      }
     },
     "5b997d5e2d55465a87304959cd932727": {
      "model_module": "@jupyter-widgets/controls",
      "model_module_version": "1.2.0",
      "model_name": "HBoxModel",
      "state": {
       "children": [
        "IPY_MODEL_274825e174684eeba7fe693ad9a3226b",
        "IPY_MODEL_0ce178b40004407d8b9dcec4214334c0"
       ],
       "layout": "IPY_MODEL_016550faecde4f9ab8151bb65f9d6b78"
      }
     },
     "5ce79adec04d4ff096ae536fc155d281": {
      "model_module": "@jupyter-widgets/controls",
      "model_module_version": "1.2.0",
      "model_name": "IntProgressModel",
      "state": {
       "bar_style": "success",
       "layout": "IPY_MODEL_9e6a43e424c247299ac20a659733419c",
       "max": 26,
       "style": "IPY_MODEL_66b9b14d51e443c1a1ff77552c89316f",
       "value": 26
      }
     },
     "5d05ff2c716f49dc9ea2ab2926f80f2f": {
      "model_module": "@jupyter-widgets/controls",
      "model_module_version": "1.2.0",
      "model_name": "DescriptionStyleModel",
      "state": {
       "description_width": ""
      }
     },
     "5d23ee93ea824219bce406fc687b7776": {
      "model_module": "@jupyter-widgets/controls",
      "model_module_version": "1.2.0",
      "model_name": "ProgressStyleModel",
      "state": {
       "description_width": ""
      }
     },
     "5ded14352ce54b47857d1ee057b67dab": {
      "model_module": "@jupyter-widgets/base",
      "model_module_version": "1.0.0",
      "model_name": "LayoutModel",
      "state": {}
     },
     "5e312476981043a9ab084577f971b307": {
      "model_module": "@jupyter-widgets/base",
      "model_module_version": "1.0.0",
      "model_name": "LayoutModel",
      "state": {}
     },
     "5ee80dabb3a947d0ac2263eed28cc206": {
      "model_module": "@jupyter-widgets/base",
      "model_module_version": "1.0.0",
      "model_name": "LayoutModel",
      "state": {}
     },
     "5ee84bddf3c144b1a706363ea3dc8666": {
      "model_module": "@jupyter-widgets/base",
      "model_module_version": "1.0.0",
      "model_name": "LayoutModel",
      "state": {}
     },
     "5f86bd619c484253b36c6a1e98c72b1f": {
      "model_module": "@jupyter-widgets/controls",
      "model_module_version": "1.2.0",
      "model_name": "ProgressStyleModel",
      "state": {
       "description_width": ""
      }
     },
     "5faf35c6a8b7489aacc5a24bd3acb915": {
      "model_module": "@jupyter-widgets/controls",
      "model_module_version": "1.2.0",
      "model_name": "HTMLModel",
      "state": {
       "layout": "IPY_MODEL_5ee80dabb3a947d0ac2263eed28cc206",
       "style": "IPY_MODEL_d2585b4ab2c64e6fad9f9a76c76414cc",
       "value": "100% 26/26 [01:29&lt;00:00,  3.49s/it]"
      }
     },
     "5ff08c6ee5174f0b94a0779885772c6f": {
      "model_module": "@jupyter-widgets/controls",
      "model_module_version": "1.2.0",
      "model_name": "HTMLModel",
      "state": {
       "layout": "IPY_MODEL_e72e8b3721454a5aa8463c1b666c342b",
       "style": "IPY_MODEL_ba0dd332716d4cd2aadc4be9a5d5e50d",
       "value": "100% 26/26 [01:24&lt;00:00,  3.26s/it]"
      }
     },
     "6015498beb7d46fd86bf48cdbceb44ef": {
      "model_module": "@jupyter-widgets/base",
      "model_module_version": "1.0.0",
      "model_name": "LayoutModel",
      "state": {}
     },
     "60d6f97a2a524531ac9d6156431b6d06": {
      "model_module": "@jupyter-widgets/base",
      "model_module_version": "1.0.0",
      "model_name": "LayoutModel",
      "state": {}
     },
     "615243e5b0894b3da66992e1e0ddaffd": {
      "model_module": "@jupyter-widgets/base",
      "model_module_version": "1.0.0",
      "model_name": "LayoutModel",
      "state": {}
     },
     "61e1e293f3a048c58cfbc0e3f1aad2d8": {
      "model_module": "@jupyter-widgets/base",
      "model_module_version": "1.0.0",
      "model_name": "LayoutModel",
      "state": {}
     },
     "62199e5960e340ab99c7a7b39ec324fd": {
      "model_module": "@jupyter-widgets/base",
      "model_module_version": "1.0.0",
      "model_name": "LayoutModel",
      "state": {}
     },
     "621c782faeb44a42b3b3ee28bb8c754c": {
      "model_module": "@jupyter-widgets/controls",
      "model_module_version": "1.2.0",
      "model_name": "HTMLModel",
      "state": {
       "layout": "IPY_MODEL_ae5d07a0576347a9afbd641f8b875b04",
       "style": "IPY_MODEL_2d45d31431cc430fab9073a8ef071fb1",
       "value": "100% 26/26 [01:26&lt;00:00,  3.37s/it]"
      }
     },
     "631e04dfb1f5495498955a3842426fea": {
      "model_module": "@jupyter-widgets/controls",
      "model_module_version": "1.2.0",
      "model_name": "HBoxModel",
      "state": {
       "children": [
        "IPY_MODEL_16574fc42cb64f6b9f8be04cb7d8613b",
        "IPY_MODEL_9ae12728ed8f477081b8cdeec97939ad"
       ],
       "layout": "IPY_MODEL_85d0d271022d4fd1bd46a929622a1fb6"
      }
     },
     "63706805549e415ca12e87db8926c9e8": {
      "model_module": "@jupyter-widgets/controls",
      "model_module_version": "1.2.0",
      "model_name": "ProgressStyleModel",
      "state": {
       "description_width": ""
      }
     },
     "63cd29105041456e97b93fdffa679a51": {
      "model_module": "@jupyter-widgets/controls",
      "model_module_version": "1.2.0",
      "model_name": "DescriptionStyleModel",
      "state": {
       "description_width": ""
      }
     },
     "63d37e0b0af74cc6b39445538269ed7a": {
      "model_module": "@jupyter-widgets/controls",
      "model_module_version": "1.2.0",
      "model_name": "HBoxModel",
      "state": {
       "children": [
        "IPY_MODEL_cfeb4e4476b440d693fb7ca57f77dfbb",
        "IPY_MODEL_e0408f35fdb64699b9b159733ee9fea2"
       ],
       "layout": "IPY_MODEL_9ff8ad245b8b4b579035f33c99e19abf"
      }
     },
     "64afccda1fb54f94ad1fb19966cbc239": {
      "model_module": "@jupyter-widgets/base",
      "model_module_version": "1.0.0",
      "model_name": "LayoutModel",
      "state": {}
     },
     "64ee16e38a764fc3b863c7d1390470c6": {
      "model_module": "@jupyter-widgets/controls",
      "model_module_version": "1.2.0",
      "model_name": "HBoxModel",
      "state": {
       "children": [
        "IPY_MODEL_f7f505f548a745cdaaafd257c026ac20",
        "IPY_MODEL_3251276a1e774fd99acc222165f4259a"
       ],
       "layout": "IPY_MODEL_38b10c8ee04047e197c26497b531f22d"
      }
     },
     "659c6dd2bf2340f29232c7ad0851dfd7": {
      "model_module": "@jupyter-widgets/controls",
      "model_module_version": "1.2.0",
      "model_name": "IntProgressModel",
      "state": {
       "bar_style": "success",
       "layout": "IPY_MODEL_14477cb0ac6c458c92893b44f4e6968f",
       "max": 26,
       "style": "IPY_MODEL_09f8c9d66d4545c1981e624887b72d55",
       "value": 26
      }
     },
     "65b2fc64ff314541aa49d9e3207aea3f": {
      "model_module": "@jupyter-widgets/controls",
      "model_module_version": "1.2.0",
      "model_name": "ProgressStyleModel",
      "state": {
       "description_width": ""
      }
     },
     "65d1c854298644439cbf7905c524ef65": {
      "model_module": "@jupyter-widgets/controls",
      "model_module_version": "1.2.0",
      "model_name": "ProgressStyleModel",
      "state": {
       "description_width": ""
      }
     },
     "6637bc0f8dcd43a084d0e8cd7e37b48c": {
      "model_module": "@jupyter-widgets/controls",
      "model_module_version": "1.2.0",
      "model_name": "ProgressStyleModel",
      "state": {
       "description_width": ""
      }
     },
     "6662b13fdfc7441baee296a2f20452e2": {
      "model_module": "@jupyter-widgets/controls",
      "model_module_version": "1.2.0",
      "model_name": "IntProgressModel",
      "state": {
       "bar_style": "success",
       "layout": "IPY_MODEL_774087dbdf3347e09b504472168cba8d",
       "max": 26,
       "style": "IPY_MODEL_6637bc0f8dcd43a084d0e8cd7e37b48c",
       "value": 26
      }
     },
     "66b031df80b3492688d60f9f3ee01cac": {
      "model_module": "@jupyter-widgets/controls",
      "model_module_version": "1.2.0",
      "model_name": "HBoxModel",
      "state": {
       "children": [
        "IPY_MODEL_33b96be5081d4c948aefb49211ac3767",
        "IPY_MODEL_a7c4866b417642aebb5cde91fa05b87f"
       ],
       "layout": "IPY_MODEL_26170a27901f467facdc1547af9dc8ed"
      }
     },
     "66b9b14d51e443c1a1ff77552c89316f": {
      "model_module": "@jupyter-widgets/controls",
      "model_module_version": "1.2.0",
      "model_name": "ProgressStyleModel",
      "state": {
       "description_width": ""
      }
     },
     "67d8d21814424a7e8311a000dc344f32": {
      "model_module": "@jupyter-widgets/base",
      "model_module_version": "1.0.0",
      "model_name": "LayoutModel",
      "state": {}
     },
     "68a88d2faa0a4f85a2300eda20c0946e": {
      "model_module": "@jupyter-widgets/controls",
      "model_module_version": "1.2.0",
      "model_name": "HBoxModel",
      "state": {
       "children": [
        "IPY_MODEL_274bdbf312f74bb281628ad4ff4a57e0",
        "IPY_MODEL_78429fdc9193470c95c09aa8c4e3d898"
       ],
       "layout": "IPY_MODEL_9a192f386c3c4c8b9054e5a6260e7806"
      }
     },
     "68d23e0f9efc4ba6b12c036d62d232fa": {
      "model_module": "@jupyter-widgets/base",
      "model_module_version": "1.0.0",
      "model_name": "LayoutModel",
      "state": {}
     },
     "68d3a704cc99405ab1f488e7a0d2466f": {
      "model_module": "@jupyter-widgets/controls",
      "model_module_version": "1.2.0",
      "model_name": "HBoxModel",
      "state": {
       "children": [
        "IPY_MODEL_e7034e5e51f34d2fa0495a0a3d1aa602",
        "IPY_MODEL_c91140ad6d314b1cba878ea31bcd0419"
       ],
       "layout": "IPY_MODEL_61e1e293f3a048c58cfbc0e3f1aad2d8"
      }
     },
     "69bed939fe9544739c3d879388e55155": {
      "model_module": "@jupyter-widgets/base",
      "model_module_version": "1.0.0",
      "model_name": "LayoutModel",
      "state": {}
     },
     "6b4894f04f73460089d0b19b4c669dd1": {
      "model_module": "@jupyter-widgets/controls",
      "model_module_version": "1.2.0",
      "model_name": "HBoxModel",
      "state": {
       "children": [
        "IPY_MODEL_9ebdbefd75474317a1ed2959408f9a25",
        "IPY_MODEL_abf47520187a4e9d9c816f027187630d"
       ],
       "layout": "IPY_MODEL_7c815c481fad4793ae7b8aaae5b5bf4c"
      }
     },
     "6b4937692b6f4004ba59aeaf150d030d": {
      "model_module": "@jupyter-widgets/base",
      "model_module_version": "1.0.0",
      "model_name": "LayoutModel",
      "state": {}
     },
     "6be4fe25414e4f409fbf94376def5dc9": {
      "model_module": "@jupyter-widgets/controls",
      "model_module_version": "1.2.0",
      "model_name": "DescriptionStyleModel",
      "state": {
       "description_width": ""
      }
     },
     "6be733bf36054619ae1c1caa5ba17767": {
      "model_module": "@jupyter-widgets/controls",
      "model_module_version": "1.2.0",
      "model_name": "IntProgressModel",
      "state": {
       "bar_style": "success",
       "layout": "IPY_MODEL_fac68bd9eb074bdb876f340807e04c68",
       "max": 26,
       "style": "IPY_MODEL_786486c1e4a946c1b7729bbf0aec5b9d",
       "value": 26
      }
     },
     "6c645d33ce154b14b7fddeddbd82726e": {
      "model_module": "@jupyter-widgets/controls",
      "model_module_version": "1.2.0",
      "model_name": "HBoxModel",
      "state": {
       "children": [
        "IPY_MODEL_15d70fbcf00b406ba25c613424e8ad20",
        "IPY_MODEL_1e53bd8007d94d3fb083aea422d89dad"
       ],
       "layout": "IPY_MODEL_db5c619a1c3d4a2a9928fad9e783845e"
      }
     },
     "6c97318001d94489a4bd1045f745092a": {
      "model_module": "@jupyter-widgets/controls",
      "model_module_version": "1.2.0",
      "model_name": "HBoxModel",
      "state": {
       "children": [
        "IPY_MODEL_e380e1fbddc54f4ab81b9673d5988526",
        "IPY_MODEL_2b240b96449d4da28afbabf426f4adc4"
       ],
       "layout": "IPY_MODEL_b86c142a895f4dd995f7452f5431b220"
      }
     },
     "6ca0ed0bbed74e89b595dad5c159983e": {
      "model_module": "@jupyter-widgets/base",
      "model_module_version": "1.0.0",
      "model_name": "LayoutModel",
      "state": {}
     },
     "6d151c586438410b8d45feff4f972ffd": {
      "model_module": "@jupyter-widgets/base",
      "model_module_version": "1.0.0",
      "model_name": "LayoutModel",
      "state": {}
     },
     "6d1726e52c114283bafa86d9bbd27846": {
      "model_module": "@jupyter-widgets/controls",
      "model_module_version": "1.2.0",
      "model_name": "HTMLModel",
      "state": {
       "layout": "IPY_MODEL_5a1eed064aee459a966e729cfb8975a2",
       "style": "IPY_MODEL_d204aeabcefd4a76896077c9872f1fe6",
       "value": "100% 26/26 [01:25&lt;00:00,  3.32s/it]"
      }
     },
     "6d7f5e7486c14d89b040bb066c1960d8": {
      "model_module": "@jupyter-widgets/controls",
      "model_module_version": "1.2.0",
      "model_name": "HBoxModel",
      "state": {
       "children": [
        "IPY_MODEL_bd8b951d14f24a8180e0053a7b9de0f4",
        "IPY_MODEL_84e16b01856f4243906036b7aa9029dd"
       ],
       "layout": "IPY_MODEL_a44428e978da4933a4e744a305246b71"
      }
     },
     "6d942a95269e4283bf945b41adfe0b3c": {
      "model_module": "@jupyter-widgets/controls",
      "model_module_version": "1.2.0",
      "model_name": "HBoxModel",
      "state": {
       "children": [
        "IPY_MODEL_fe4665c1205747b28c0120ee1e991b02",
        "IPY_MODEL_b989d626b7f44fe88508cf68883a9cdc"
       ],
       "layout": "IPY_MODEL_fc39524cc0704d9fb020a80d7a592181"
      }
     },
     "6dc93e6e6acc41cd99e5858ab9e7db7d": {
      "model_module": "@jupyter-widgets/controls",
      "model_module_version": "1.2.0",
      "model_name": "ProgressStyleModel",
      "state": {
       "description_width": ""
      }
     },
     "6ea070df4e2749b8bdf8cbdd6b2dc441": {
      "model_module": "@jupyter-widgets/controls",
      "model_module_version": "1.2.0",
      "model_name": "IntProgressModel",
      "state": {
       "bar_style": "success",
       "layout": "IPY_MODEL_8d254e63207b48d88f728ff5581fa9b0",
       "max": 26,
       "style": "IPY_MODEL_a8edd625532a4e959298ca3f94247c60",
       "value": 26
      }
     },
     "6ebf44cc950c4ffd8d31570442af5fa9": {
      "model_module": "@jupyter-widgets/controls",
      "model_module_version": "1.2.0",
      "model_name": "DescriptionStyleModel",
      "state": {
       "description_width": ""
      }
     },
     "6ee4bd77b24b4d65a8b0f1149ef293eb": {
      "model_module": "@jupyter-widgets/base",
      "model_module_version": "1.0.0",
      "model_name": "LayoutModel",
      "state": {}
     },
     "6f06961f6c344f3f948685a8a719b275": {
      "model_module": "@jupyter-widgets/base",
      "model_module_version": "1.0.0",
      "model_name": "LayoutModel",
      "state": {}
     },
     "6f60dcb8ce7a40fa86a7e83038dbaf51": {
      "model_module": "@jupyter-widgets/controls",
      "model_module_version": "1.2.0",
      "model_name": "HTMLModel",
      "state": {
       "layout": "IPY_MODEL_50a3063953f549c28c2300c5c595f59a",
       "style": "IPY_MODEL_8639247b210b45b8b43be9181b2b4ef6",
       "value": "100% 1/1 [01:26&lt;00:00, 86.91s/it]"
      }
     },
     "6f97e3e7ee614eff9f2e67bfe92f7095": {
      "model_module": "@jupyter-widgets/base",
      "model_module_version": "1.0.0",
      "model_name": "LayoutModel",
      "state": {}
     },
     "6fb2c970273e42378e6eaa8c4acbf5c9": {
      "model_module": "@jupyter-widgets/controls",
      "model_module_version": "1.2.0",
      "model_name": "ProgressStyleModel",
      "state": {
       "description_width": ""
      }
     },
     "6fe55b85a9ea4823bdc6e4244eab44b1": {
      "model_module": "@jupyter-widgets/controls",
      "model_module_version": "1.2.0",
      "model_name": "IntProgressModel",
      "state": {
       "bar_style": "success",
       "layout": "IPY_MODEL_f83da668fb2d4bc3b15ee4a9bbc405a2",
       "max": 26,
       "style": "IPY_MODEL_14766e9af7f7430f83e0875e143fa386",
       "value": 26
      }
     },
     "6fffdc29d1ee46f7b7daf827257e8aed": {
      "model_module": "@jupyter-widgets/controls",
      "model_module_version": "1.2.0",
      "model_name": "DescriptionStyleModel",
      "state": {
       "description_width": ""
      }
     },
     "7005acfb8f73410db2c9dbbafd6d44cf": {
      "model_module": "@jupyter-widgets/controls",
      "model_module_version": "1.2.0",
      "model_name": "IntProgressModel",
      "state": {
       "bar_style": "success",
       "layout": "IPY_MODEL_8da40ded2c7e4b1da5786461138a2582",
       "max": 26,
       "style": "IPY_MODEL_370217bd1b784dfba3a6e4b7b71d19a4",
       "value": 26
      }
     },
     "704e8eb809e74956aad10e8e953bd42d": {
      "model_module": "@jupyter-widgets/controls",
      "model_module_version": "1.2.0",
      "model_name": "ProgressStyleModel",
      "state": {
       "description_width": ""
      }
     },
     "70a1d022bfe64cc4bdd6fd65334094b8": {
      "model_module": "@jupyter-widgets/base",
      "model_module_version": "1.0.0",
      "model_name": "LayoutModel",
      "state": {}
     },
     "70a28d100e67409cb4ae1b64b36b458d": {
      "model_module": "@jupyter-widgets/controls",
      "model_module_version": "1.2.0",
      "model_name": "DescriptionStyleModel",
      "state": {
       "description_width": ""
      }
     },
     "70adf3c6e9014255a8db61e96d367068": {
      "model_module": "@jupyter-widgets/controls",
      "model_module_version": "1.2.0",
      "model_name": "ProgressStyleModel",
      "state": {
       "description_width": ""
      }
     },
     "71114ad673594604a19a1702ee606b85": {
      "model_module": "@jupyter-widgets/base",
      "model_module_version": "1.0.0",
      "model_name": "LayoutModel",
      "state": {}
     },
     "712dd872d4474bd8b8b41c08d9592641": {
      "model_module": "@jupyter-widgets/controls",
      "model_module_version": "1.2.0",
      "model_name": "DescriptionStyleModel",
      "state": {
       "description_width": ""
      }
     },
     "716a0adf7ae04f13823c381ff0c45105": {
      "model_module": "@jupyter-widgets/controls",
      "model_module_version": "1.2.0",
      "model_name": "IntProgressModel",
      "state": {
       "bar_style": "success",
       "layout": "IPY_MODEL_e09b1a57ed2a47dcaa21ed6ad5769c74",
       "max": 26,
       "style": "IPY_MODEL_f529b49452ed4013849561c7a122f4ef",
       "value": 26
      }
     },
     "716dd257da8948cab7d2114e47bc37a1": {
      "model_module": "@jupyter-widgets/controls",
      "model_module_version": "1.2.0",
      "model_name": "IntProgressModel",
      "state": {
       "bar_style": "success",
       "layout": "IPY_MODEL_36246d8eaa3a42fbafd0bee20aa1f755",
       "max": 26,
       "style": "IPY_MODEL_9a6c0ebf927940969fe557601c44143f",
       "value": 26
      }
     },
     "719753cca79845cdba41338d134034df": {
      "model_module": "@jupyter-widgets/controls",
      "model_module_version": "1.2.0",
      "model_name": "HBoxModel",
      "state": {
       "children": [
        "IPY_MODEL_6be733bf36054619ae1c1caa5ba17767",
        "IPY_MODEL_843247c6a8784fd6b756d7c294222b76"
       ],
       "layout": "IPY_MODEL_8617c87a67f54c83be59a106e80b703e"
      }
     },
     "71bfdeec9ed745f89874e288f90e96b3": {
      "model_module": "@jupyter-widgets/controls",
      "model_module_version": "1.2.0",
      "model_name": "HTMLModel",
      "state": {
       "layout": "IPY_MODEL_c4f91ecbaf10435490900c802ea1fd08",
       "style": "IPY_MODEL_d0a7b2f316814db5a99f2f4057b0b177",
       "value": "100% 26/26 [01:25&lt;00:00,  3.28s/it]"
      }
     },
     "71c8247b29fa4a0ab81b51d83113c5e2": {
      "model_module": "@jupyter-widgets/controls",
      "model_module_version": "1.2.0",
      "model_name": "IntProgressModel",
      "state": {
       "bar_style": "success",
       "layout": "IPY_MODEL_32483523b6924339bdae9199028a7748",
       "max": 26,
       "style": "IPY_MODEL_1e9af1e70ed248b59e6d6fa3879463a5",
       "value": 26
      }
     },
     "71d6817a27d041618fb9b3a0e40bdd2b": {
      "model_module": "@jupyter-widgets/controls",
      "model_module_version": "1.2.0",
      "model_name": "IntProgressModel",
      "state": {
       "bar_style": "success",
       "layout": "IPY_MODEL_3491d691cc4d431c9f6adafee6dbde73",
       "max": 26,
       "style": "IPY_MODEL_8b8fcc4fa63b4985aff7721bf61ed3d9",
       "value": 26
      }
     },
     "726062d3a546404eaf8384c6958b9b4a": {
      "model_module": "@jupyter-widgets/controls",
      "model_module_version": "1.2.0",
      "model_name": "IntProgressModel",
      "state": {
       "bar_style": "success",
       "layout": "IPY_MODEL_b6d1e4a41eff4c13b0e08cf2adab3f6c",
       "max": 26,
       "style": "IPY_MODEL_1ba35b6f351b4885b2ef4788e1104639",
       "value": 26
      }
     },
     "729ea916447b4265a6c5c53a307464bc": {
      "model_module": "@jupyter-widgets/controls",
      "model_module_version": "1.2.0",
      "model_name": "DescriptionStyleModel",
      "state": {
       "description_width": ""
      }
     },
     "72bc905c473c4ed18c6ec151a590e5b4": {
      "model_module": "@jupyter-widgets/controls",
      "model_module_version": "1.2.0",
      "model_name": "DescriptionStyleModel",
      "state": {
       "description_width": ""
      }
     },
     "73074792d2064a3ab490cac3810ac6ac": {
      "model_module": "@jupyter-widgets/base",
      "model_module_version": "1.0.0",
      "model_name": "LayoutModel",
      "state": {}
     },
     "7455d8249dbc4da9ab0c3c9a599e2f87": {
      "model_module": "@jupyter-widgets/controls",
      "model_module_version": "1.2.0",
      "model_name": "ProgressStyleModel",
      "state": {
       "description_width": ""
      }
     },
     "749a4c500f0443ab97723ee20da86356": {
      "model_module": "@jupyter-widgets/controls",
      "model_module_version": "1.2.0",
      "model_name": "HTMLModel",
      "state": {
       "layout": "IPY_MODEL_d194d42df6ea4259bc947867ec57380c",
       "style": "IPY_MODEL_6fffdc29d1ee46f7b7daf827257e8aed",
       "value": "100% 26/26 [01:25&lt;00:00,  3.30s/it]"
      }
     },
     "75010c8a47cc4bb0af4f9944818ffaa8": {
      "model_module": "@jupyter-widgets/controls",
      "model_module_version": "1.2.0",
      "model_name": "DescriptionStyleModel",
      "state": {
       "description_width": ""
      }
     },
     "752cced58e8f41ca8c4e15788389b1c3": {
      "model_module": "@jupyter-widgets/controls",
      "model_module_version": "1.2.0",
      "model_name": "HTMLModel",
      "state": {
       "layout": "IPY_MODEL_99484bdd4f924f619d6f69b2c522cc83",
       "style": "IPY_MODEL_11cb505f51344dffb847fed74ecadd82",
       "value": "100% 26/26 [01:26&lt;00:00,  3.33s/it]"
      }
     },
     "752ce0b3364c450d97886dde6c6d142a": {
      "model_module": "@jupyter-widgets/controls",
      "model_module_version": "1.2.0",
      "model_name": "ProgressStyleModel",
      "state": {
       "description_width": ""
      }
     },
     "753c3b43553c4bf8917b0f66fd8b20ed": {
      "model_module": "@jupyter-widgets/base",
      "model_module_version": "1.0.0",
      "model_name": "LayoutModel",
      "state": {}
     },
     "7578ebf06d8f4f6fa288a9e151f471a5": {
      "model_module": "@jupyter-widgets/controls",
      "model_module_version": "1.2.0",
      "model_name": "DescriptionStyleModel",
      "state": {
       "description_width": ""
      }
     },
     "758984afad2a4fd4b38ee312c6608f6d": {
      "model_module": "@jupyter-widgets/base",
      "model_module_version": "1.0.0",
      "model_name": "LayoutModel",
      "state": {}
     },
     "75c1ec13c1e64628a8c913948d42f97e": {
      "model_module": "@jupyter-widgets/base",
      "model_module_version": "1.0.0",
      "model_name": "LayoutModel",
      "state": {}
     },
     "75e97c3dcee04a44b9f9228235f776a0": {
      "model_module": "@jupyter-widgets/controls",
      "model_module_version": "1.2.0",
      "model_name": "HBoxModel",
      "state": {
       "children": [
        "IPY_MODEL_a6c3f68c6a1441d995bacf7e80fb04e7",
        "IPY_MODEL_2726c7adad7e44b0b4c95737bb4870e4"
       ],
       "layout": "IPY_MODEL_03b8f5155f97432e9b7e1ee4034cc4f2"
      }
     },
     "767ec8cf79f84931bd3cb683d86a386c": {
      "model_module": "@jupyter-widgets/base",
      "model_module_version": "1.0.0",
      "model_name": "LayoutModel",
      "state": {}
     },
     "774087dbdf3347e09b504472168cba8d": {
      "model_module": "@jupyter-widgets/base",
      "model_module_version": "1.0.0",
      "model_name": "LayoutModel",
      "state": {}
     },
     "7773ed68a91a4330ad39656367e54b6b": {
      "model_module": "@jupyter-widgets/controls",
      "model_module_version": "1.2.0",
      "model_name": "ProgressStyleModel",
      "state": {
       "description_width": ""
      }
     },
     "77cb31bd57f74d5e9446fd778a56759f": {
      "model_module": "@jupyter-widgets/base",
      "model_module_version": "1.0.0",
      "model_name": "LayoutModel",
      "state": {}
     },
     "780918dfdcda4c86bd1e79e69b990ac2": {
      "model_module": "@jupyter-widgets/controls",
      "model_module_version": "1.2.0",
      "model_name": "ProgressStyleModel",
      "state": {
       "description_width": ""
      }
     },
     "780ebfa8017d4ea69ca9ef12fdbdc69c": {
      "model_module": "@jupyter-widgets/controls",
      "model_module_version": "1.2.0",
      "model_name": "ProgressStyleModel",
      "state": {
       "description_width": ""
      }
     },
     "782c9cc7f9734b9dba6017dc753a643a": {
      "model_module": "@jupyter-widgets/controls",
      "model_module_version": "1.2.0",
      "model_name": "HBoxModel",
      "state": {
       "children": [
        "IPY_MODEL_1104433e3f2649d2a3b23d891e11d6b4",
        "IPY_MODEL_7a9a862e77aa410f8bc426f8415a807f"
       ],
       "layout": "IPY_MODEL_b6682ff6a8294cef9b6a1de4acdc7a12"
      }
     },
     "78429fdc9193470c95c09aa8c4e3d898": {
      "model_module": "@jupyter-widgets/controls",
      "model_module_version": "1.2.0",
      "model_name": "HTMLModel",
      "state": {
       "layout": "IPY_MODEL_f213b6d4ce124256ad8ed14e8bdad850",
       "style": "IPY_MODEL_154c3d804c264671bcfafd3fbc6f69f3",
       "value": "100% 26/26 [01:25&lt;00:00,  3.29s/it]"
      }
     },
     "786486c1e4a946c1b7729bbf0aec5b9d": {
      "model_module": "@jupyter-widgets/controls",
      "model_module_version": "1.2.0",
      "model_name": "ProgressStyleModel",
      "state": {
       "description_width": ""
      }
     },
     "78a3037c2cf44f3fb31580fd50548cc3": {
      "model_module": "@jupyter-widgets/controls",
      "model_module_version": "1.2.0",
      "model_name": "HTMLModel",
      "state": {
       "layout": "IPY_MODEL_4d528bac314e40a8ba253aedd3f35d73",
       "style": "IPY_MODEL_19cadfaa4d224237862a5577d04a00fa",
       "value": "100% 26/26 [01:26&lt;00:00,  3.31s/it]"
      }
     },
     "79bdb6fb53f4421e8d099c915c87fead": {
      "model_module": "@jupyter-widgets/base",
      "model_module_version": "1.0.0",
      "model_name": "LayoutModel",
      "state": {}
     },
     "7a05c7e25a0f4b90b39dfc7eaf23f0ce": {
      "model_module": "@jupyter-widgets/base",
      "model_module_version": "1.0.0",
      "model_name": "LayoutModel",
      "state": {}
     },
     "7a17dfac9f574bd590298a287b0140e8": {
      "model_module": "@jupyter-widgets/base",
      "model_module_version": "1.0.0",
      "model_name": "LayoutModel",
      "state": {}
     },
     "7a8ca9e8fa6148488920876ff80ab837": {
      "model_module": "@jupyter-widgets/controls",
      "model_module_version": "1.2.0",
      "model_name": "HTMLModel",
      "state": {
       "layout": "IPY_MODEL_7da95576eb994987bc7a0a12ffc03115",
       "style": "IPY_MODEL_0a57e7f657774ec889fe6cf7dd5a7b8d",
       "value": "100% 26/26 [01:26&lt;00:00,  3.31s/it]"
      }
     },
     "7a9a862e77aa410f8bc426f8415a807f": {
      "model_module": "@jupyter-widgets/controls",
      "model_module_version": "1.2.0",
      "model_name": "HTMLModel",
      "state": {
       "layout": "IPY_MODEL_68d23e0f9efc4ba6b12c036d62d232fa",
       "style": "IPY_MODEL_729ea916447b4265a6c5c53a307464bc",
       "value": "100% 26/26 [01:25&lt;00:00,  3.28s/it]"
      }
     },
     "7ad34901ff0d4cfc9e326e34d386951f": {
      "model_module": "@jupyter-widgets/controls",
      "model_module_version": "1.2.0",
      "model_name": "DescriptionStyleModel",
      "state": {
       "description_width": ""
      }
     },
     "7b0f633c940b47c3bf2cee8290b41a57": {
      "model_module": "@jupyter-widgets/controls",
      "model_module_version": "1.2.0",
      "model_name": "IntProgressModel",
      "state": {
       "bar_style": "success",
       "layout": "IPY_MODEL_ae188995903a466dbaaf1cc8aa4d2cff",
       "max": 26,
       "style": "IPY_MODEL_8cc78ab979204900b341227f391a857a",
       "value": 26
      }
     },
     "7b69340f003f48c5804026bd045eeceb": {
      "model_module": "@jupyter-widgets/controls",
      "model_module_version": "1.2.0",
      "model_name": "HTMLModel",
      "state": {
       "layout": "IPY_MODEL_2322449dcfeb4794bc4650b575dae9a7",
       "style": "IPY_MODEL_5d05ff2c716f49dc9ea2ab2926f80f2f",
       "value": "100% 26/26 [01:26&lt;00:00,  3.32s/it]"
      }
     },
     "7b74be3727684000838d7ae2f54a4619": {
      "model_module": "@jupyter-widgets/base",
      "model_module_version": "1.0.0",
      "model_name": "LayoutModel",
      "state": {}
     },
     "7b7eada30ee341ca9c4ad1fc33767177": {
      "model_module": "@jupyter-widgets/controls",
      "model_module_version": "1.2.0",
      "model_name": "IntProgressModel",
      "state": {
       "bar_style": "success",
       "layout": "IPY_MODEL_80b7ee249bd94fa59e3013ae9e728e39",
       "max": 26,
       "style": "IPY_MODEL_14f7511f0a8e425d979f2989cd5b8eab",
       "value": 26
      }
     },
     "7c49f0e77f6b40f382420777d869da3c": {
      "model_module": "@jupyter-widgets/base",
      "model_module_version": "1.0.0",
      "model_name": "LayoutModel",
      "state": {}
     },
     "7c815c481fad4793ae7b8aaae5b5bf4c": {
      "model_module": "@jupyter-widgets/base",
      "model_module_version": "1.0.0",
      "model_name": "LayoutModel",
      "state": {}
     },
     "7c94f749b52c45c7b313743bebbb7ad5": {
      "model_module": "@jupyter-widgets/controls",
      "model_module_version": "1.2.0",
      "model_name": "IntProgressModel",
      "state": {
       "bar_style": "success",
       "layout": "IPY_MODEL_efc09943b3054ebe88a2fa3b74cefa52",
       "max": 26,
       "style": "IPY_MODEL_35678305c0f64c1ba84a601bf1d7b8b7",
       "value": 26
      }
     },
     "7cc407f2adf24e9199441032816ba16c": {
      "model_module": "@jupyter-widgets/controls",
      "model_module_version": "1.2.0",
      "model_name": "DescriptionStyleModel",
      "state": {
       "description_width": ""
      }
     },
     "7cdeca19449547fd857d3a495a5174c8": {
      "model_module": "@jupyter-widgets/controls",
      "model_module_version": "1.2.0",
      "model_name": "IntProgressModel",
      "state": {
       "bar_style": "success",
       "layout": "IPY_MODEL_47c05a3f6aa5443999739315f7996cb2",
       "max": 26,
       "style": "IPY_MODEL_c471cf048c5842e092cbaf26888eb7d7",
       "value": 26
      }
     },
     "7cf99ebe80604ecb90770c76cee14256": {
      "model_module": "@jupyter-widgets/base",
      "model_module_version": "1.0.0",
      "model_name": "LayoutModel",
      "state": {}
     },
     "7da95576eb994987bc7a0a12ffc03115": {
      "model_module": "@jupyter-widgets/base",
      "model_module_version": "1.0.0",
      "model_name": "LayoutModel",
      "state": {}
     },
     "7e3232fd0e9c46bea0ec4e0c17d1bc12": {
      "model_module": "@jupyter-widgets/base",
      "model_module_version": "1.0.0",
      "model_name": "LayoutModel",
      "state": {}
     },
     "7f9e7cb698f5410a91921d569165e848": {
      "model_module": "@jupyter-widgets/controls",
      "model_module_version": "1.2.0",
      "model_name": "HTMLModel",
      "state": {
       "layout": "IPY_MODEL_3c73897ec6654e17843f462313e7ff59",
       "style": "IPY_MODEL_2e1bb733d45a4a368ab6cff9e7b3d7af",
       "value": "  0% 0/100 [00:00&lt;?, ?it/s]"
      }
     },
     "80477e31514d4a58bd4ea849b8cf1c0c": {
      "model_module": "@jupyter-widgets/base",
      "model_module_version": "1.0.0",
      "model_name": "LayoutModel",
      "state": {}
     },
     "8048e0362c054578ae1f6da535b5d36e": {
      "model_module": "@jupyter-widgets/controls",
      "model_module_version": "1.2.0",
      "model_name": "DescriptionStyleModel",
      "state": {
       "description_width": ""
      }
     },
     "807fb5e9a424400babc89540e9913ebb": {
      "model_module": "@jupyter-widgets/base",
      "model_module_version": "1.0.0",
      "model_name": "LayoutModel",
      "state": {}
     },
     "8084c86450034cac8309d9dc5fbd1651": {
      "model_module": "@jupyter-widgets/controls",
      "model_module_version": "1.2.0",
      "model_name": "ProgressStyleModel",
      "state": {
       "description_width": ""
      }
     },
     "808838d49cbe4cc0a321848026f753b7": {
      "model_module": "@jupyter-widgets/controls",
      "model_module_version": "1.2.0",
      "model_name": "IntProgressModel",
      "state": {
       "bar_style": "success",
       "layout": "IPY_MODEL_4ec4a7b79a894ca3ae97b9cd160e9c6c",
       "max": 26,
       "style": "IPY_MODEL_37e7b329ecff47fc9242b85676d54451",
       "value": 26
      }
     },
     "80b7ee249bd94fa59e3013ae9e728e39": {
      "model_module": "@jupyter-widgets/base",
      "model_module_version": "1.0.0",
      "model_name": "LayoutModel",
      "state": {}
     },
     "80cc5e9d0d054ffe9263f700e2843ea7": {
      "model_module": "@jupyter-widgets/controls",
      "model_module_version": "1.2.0",
      "model_name": "HBoxModel",
      "state": {
       "children": [
        "IPY_MODEL_002e71ecc2d345aea34ebcfd829cb8ee",
        "IPY_MODEL_f814c456cbf74b1dab644a8374f1405f"
       ],
       "layout": "IPY_MODEL_261925e10e0640d597d8207d1b60a71a"
      }
     },
     "8154ea4ac1b8439981a4ce81bdbca21e": {
      "model_module": "@jupyter-widgets/controls",
      "model_module_version": "1.2.0",
      "model_name": "DescriptionStyleModel",
      "state": {
       "description_width": ""
      }
     },
     "8156d30dc4794dc7af2ce14b7ddf1dec": {
      "model_module": "@jupyter-widgets/base",
      "model_module_version": "1.0.0",
      "model_name": "LayoutModel",
      "state": {}
     },
     "817ebf446f344936910a1d41bed09fda": {
      "model_module": "@jupyter-widgets/base",
      "model_module_version": "1.0.0",
      "model_name": "LayoutModel",
      "state": {}
     },
     "817fdba671e3460cac86697afb9bb494": {
      "model_module": "@jupyter-widgets/controls",
      "model_module_version": "1.2.0",
      "model_name": "DescriptionStyleModel",
      "state": {
       "description_width": ""
      }
     },
     "81a6dcae5bd9499eb0c2eb4c2dd04a1e": {
      "model_module": "@jupyter-widgets/base",
      "model_module_version": "1.0.0",
      "model_name": "LayoutModel",
      "state": {}
     },
     "82c7aa86943a4b8aa98f96291c3d4fe1": {
      "model_module": "@jupyter-widgets/controls",
      "model_module_version": "1.2.0",
      "model_name": "IntProgressModel",
      "state": {
       "bar_style": "success",
       "layout": "IPY_MODEL_b2f8ed0235334313b2e4a5660465adde",
       "max": 26,
       "style": "IPY_MODEL_7773ed68a91a4330ad39656367e54b6b",
       "value": 26
      }
     },
     "84191145955541d99fe11705cabb85a9": {
      "model_module": "@jupyter-widgets/controls",
      "model_module_version": "1.2.0",
      "model_name": "DescriptionStyleModel",
      "state": {
       "description_width": ""
      }
     },
     "841d378716e141cf8d934e3ace99cf73": {
      "model_module": "@jupyter-widgets/base",
      "model_module_version": "1.0.0",
      "model_name": "LayoutModel",
      "state": {}
     },
     "843247c6a8784fd6b756d7c294222b76": {
      "model_module": "@jupyter-widgets/controls",
      "model_module_version": "1.2.0",
      "model_name": "HTMLModel",
      "state": {
       "layout": "IPY_MODEL_d380b403c0574d3293eafaba11c88dc8",
       "style": "IPY_MODEL_f92d95e84fb94e1a94231cdf1d83ac81",
       "value": "100% 26/26 [01:26&lt;00:00,  3.35s/it]"
      }
     },
     "84e16b01856f4243906036b7aa9029dd": {
      "model_module": "@jupyter-widgets/controls",
      "model_module_version": "1.2.0",
      "model_name": "HTMLModel",
      "state": {
       "layout": "IPY_MODEL_ead82cce0fec405a94bb5699b1b6dd5b",
       "style": "IPY_MODEL_75010c8a47cc4bb0af4f9944818ffaa8",
       "value": "100% 26/26 [01:25&lt;00:00,  3.26s/it]"
      }
     },
     "85252f8f4b0742529cf85ec0d9fb184b": {
      "model_module": "@jupyter-widgets/base",
      "model_module_version": "1.0.0",
      "model_name": "LayoutModel",
      "state": {}
     },
     "85662fbaa6594cb78640d2ef447cb0dd": {
      "model_module": "@jupyter-widgets/controls",
      "model_module_version": "1.2.0",
      "model_name": "HTMLModel",
      "state": {
       "layout": "IPY_MODEL_52f40c98a4b84e1dbe072b3ed55db628",
       "style": "IPY_MODEL_097071cf6c3f4f29b374ad499f116a32",
       "value": "100% 26/26 [01:25&lt;00:00,  3.28s/it]"
      }
     },
     "85d06b76e142457eaf5eba9737aea30c": {
      "model_module": "@jupyter-widgets/controls",
      "model_module_version": "1.2.0",
      "model_name": "DescriptionStyleModel",
      "state": {
       "description_width": ""
      }
     },
     "85d0d271022d4fd1bd46a929622a1fb6": {
      "model_module": "@jupyter-widgets/base",
      "model_module_version": "1.0.0",
      "model_name": "LayoutModel",
      "state": {}
     },
     "85d529bf9ff84352970f5515013df8c8": {
      "model_module": "@jupyter-widgets/controls",
      "model_module_version": "1.2.0",
      "model_name": "HTMLModel",
      "state": {
       "layout": "IPY_MODEL_d23a81dbab874d3899fb369aaf289baa",
       "style": "IPY_MODEL_d9d10f09b3384af2aedafb1be6c7d2df",
       "value": "100% 26/26 [01:25&lt;00:00,  3.27s/it]"
      }
     },
     "8617c87a67f54c83be59a106e80b703e": {
      "model_module": "@jupyter-widgets/base",
      "model_module_version": "1.0.0",
      "model_name": "LayoutModel",
      "state": {}
     },
     "8639247b210b45b8b43be9181b2b4ef6": {
      "model_module": "@jupyter-widgets/controls",
      "model_module_version": "1.2.0",
      "model_name": "DescriptionStyleModel",
      "state": {
       "description_width": ""
      }
     },
     "8691930ea6b24ca2a0cc753577623b9a": {
      "model_module": "@jupyter-widgets/controls",
      "model_module_version": "1.2.0",
      "model_name": "ProgressStyleModel",
      "state": {
       "description_width": ""
      }
     },
     "86afcd870fc44859a8c6f1b39246fd86": {
      "model_module": "@jupyter-widgets/controls",
      "model_module_version": "1.2.0",
      "model_name": "DescriptionStyleModel",
      "state": {
       "description_width": ""
      }
     },
     "874295ba6d844afab4ab5b6f6319e498": {
      "model_module": "@jupyter-widgets/base",
      "model_module_version": "1.0.0",
      "model_name": "LayoutModel",
      "state": {}
     },
     "87ac95707ef94b5f947bdb8eb0aece22": {
      "model_module": "@jupyter-widgets/controls",
      "model_module_version": "1.2.0",
      "model_name": "DescriptionStyleModel",
      "state": {
       "description_width": ""
      }
     },
     "8852bcd3ef9d45c7a948ef0ceb4057f3": {
      "model_module": "@jupyter-widgets/controls",
      "model_module_version": "1.2.0",
      "model_name": "HTMLModel",
      "state": {
       "layout": "IPY_MODEL_b612193779d04a3499f44f61adca8d7e",
       "style": "IPY_MODEL_dbbe4e211b404b4c8353bdb2cafc4f14",
       "value": "100% 26/26 [01:25&lt;00:00,  3.28s/it]"
      }
     },
     "8865a8fc77344509915806bded6640e3": {
      "model_module": "@jupyter-widgets/controls",
      "model_module_version": "1.2.0",
      "model_name": "IntProgressModel",
      "state": {
       "bar_style": "success",
       "layout": "IPY_MODEL_7e3232fd0e9c46bea0ec4e0c17d1bc12",
       "max": 26,
       "style": "IPY_MODEL_b22047b21f754ac7ab7a04aff09ef4f4",
       "value": 26
      }
     },
     "88effc476ad34ed2922d84bd8aa232a3": {
      "model_module": "@jupyter-widgets/controls",
      "model_module_version": "1.2.0",
      "model_name": "DescriptionStyleModel",
      "state": {
       "description_width": ""
      }
     },
     "891218d5ed5c4555a4244b7db76d5c15": {
      "model_module": "@jupyter-widgets/controls",
      "model_module_version": "1.2.0",
      "model_name": "DescriptionStyleModel",
      "state": {
       "description_width": ""
      }
     },
     "89195b114c4c46ac824dbd19d4e21806": {
      "model_module": "@jupyter-widgets/controls",
      "model_module_version": "1.2.0",
      "model_name": "DescriptionStyleModel",
      "state": {
       "description_width": ""
      }
     },
     "89606dd403e64705a9e5b40c0e2711ce": {
      "model_module": "@jupyter-widgets/controls",
      "model_module_version": "1.2.0",
      "model_name": "HTMLModel",
      "state": {
       "layout": "IPY_MODEL_9930028e6f3c488681c0bfd7e2101a81",
       "style": "IPY_MODEL_af838fd459e9498bb040ac614e8b8ac9",
       "value": "100% 26/26 [01:25&lt;00:00,  3.29s/it]"
      }
     },
     "8966bac1431d42219cd7a670f0f0856c": {
      "model_module": "@jupyter-widgets/base",
      "model_module_version": "1.0.0",
      "model_name": "LayoutModel",
      "state": {}
     },
     "89791d5fa82a444291f41d5b63af682e": {
      "model_module": "@jupyter-widgets/controls",
      "model_module_version": "1.2.0",
      "model_name": "HTMLModel",
      "state": {
       "layout": "IPY_MODEL_f757c4989f394a0db8bc05df1b6de690",
       "style": "IPY_MODEL_a903010178d846cd9868f70b5281ee0d",
       "value": "100% 26/26 [01:25&lt;00:00,  3.28s/it]"
      }
     },
     "89d1b45fa0124ca8ad89d6baa07bc72a": {
      "model_module": "@jupyter-widgets/controls",
      "model_module_version": "1.2.0",
      "model_name": "IntProgressModel",
      "state": {
       "bar_style": "success",
       "layout": "IPY_MODEL_3e0e3ad3f9264dc38481b85e7dd9f79b",
       "max": 5,
       "style": "IPY_MODEL_a15b13dc0f4c4114a0205b4a74e66ebd",
       "value": 5
      }
     },
     "89e28e06c3b44d12a7aa99a04d66fd1f": {
      "model_module": "@jupyter-widgets/controls",
      "model_module_version": "1.2.0",
      "model_name": "ProgressStyleModel",
      "state": {
       "description_width": ""
      }
     },
     "8b8fcc4fa63b4985aff7721bf61ed3d9": {
      "model_module": "@jupyter-widgets/controls",
      "model_module_version": "1.2.0",
      "model_name": "ProgressStyleModel",
      "state": {
       "description_width": ""
      }
     },
     "8c568c5189c5498b9f159c434cfcd7e3": {
      "model_module": "@jupyter-widgets/controls",
      "model_module_version": "1.2.0",
      "model_name": "IntProgressModel",
      "state": {
       "bar_style": "success",
       "layout": "IPY_MODEL_bffc31366846460d9c1fbbdf97f02664",
       "max": 26,
       "style": "IPY_MODEL_704e8eb809e74956aad10e8e953bd42d",
       "value": 26
      }
     },
     "8c64043f3c3c47c789f5e583906c2efe": {
      "model_module": "@jupyter-widgets/controls",
      "model_module_version": "1.2.0",
      "model_name": "ProgressStyleModel",
      "state": {
       "description_width": ""
      }
     },
     "8c68b4c4a3b148129190113fd907b5d8": {
      "model_module": "@jupyter-widgets/base",
      "model_module_version": "1.0.0",
      "model_name": "LayoutModel",
      "state": {}
     },
     "8cc78ab979204900b341227f391a857a": {
      "model_module": "@jupyter-widgets/controls",
      "model_module_version": "1.2.0",
      "model_name": "ProgressStyleModel",
      "state": {
       "description_width": ""
      }
     },
     "8cef7d5566614b979cf9fde9c7600291": {
      "model_module": "@jupyter-widgets/controls",
      "model_module_version": "1.2.0",
      "model_name": "DescriptionStyleModel",
      "state": {
       "description_width": ""
      }
     },
     "8cf412bf9ff049f18ac569ed61b7b1e7": {
      "model_module": "@jupyter-widgets/controls",
      "model_module_version": "1.2.0",
      "model_name": "HTMLModel",
      "state": {
       "layout": "IPY_MODEL_fe15389b9f2d4e248113cf4ad2a6d868",
       "style": "IPY_MODEL_6be4fe25414e4f409fbf94376def5dc9",
       "value": "100% 26/26 [01:26&lt;00:00,  3.42s/it]"
      }
     },
     "8d183a54adb540fdbda1e13b88a275d3": {
      "model_module": "@jupyter-widgets/controls",
      "model_module_version": "1.2.0",
      "model_name": "HBoxModel",
      "state": {
       "children": [
        "IPY_MODEL_d0827972a8894216b3b54772904123bd",
        "IPY_MODEL_71bfdeec9ed745f89874e288f90e96b3"
       ],
       "layout": "IPY_MODEL_f3837d7fd66f44d88b135bf2e3c9a810"
      }
     },
     "8d254e63207b48d88f728ff5581fa9b0": {
      "model_module": "@jupyter-widgets/base",
      "model_module_version": "1.0.0",
      "model_name": "LayoutModel",
      "state": {}
     },
     "8d4faf07bc504da0ab27ac39fb69edba": {
      "model_module": "@jupyter-widgets/base",
      "model_module_version": "1.0.0",
      "model_name": "LayoutModel",
      "state": {}
     },
     "8da40ded2c7e4b1da5786461138a2582": {
      "model_module": "@jupyter-widgets/base",
      "model_module_version": "1.0.0",
      "model_name": "LayoutModel",
      "state": {}
     },
     "8dcb8b1ca64f4cd79290884e9be8a4da": {
      "model_module": "@jupyter-widgets/controls",
      "model_module_version": "1.2.0",
      "model_name": "DescriptionStyleModel",
      "state": {
       "description_width": ""
      }
     },
     "8e53c0bb80b74435aae45929644b5bd2": {
      "model_module": "@jupyter-widgets/controls",
      "model_module_version": "1.2.0",
      "model_name": "IntProgressModel",
      "state": {
       "bar_style": "success",
       "layout": "IPY_MODEL_28261b04c4ee44e4933d6d5694bcbf32",
       "max": 26,
       "style": "IPY_MODEL_ddd1e5d4308f4638b40efa54f4b880ef",
       "value": 26
      }
     },
     "8f239fd67f994f4ea94392e112da295b": {
      "model_module": "@jupyter-widgets/controls",
      "model_module_version": "1.2.0",
      "model_name": "HBoxModel",
      "state": {
       "children": [
        "IPY_MODEL_b1a3ecb5e7fb4e7b8e9d705c3b79841f",
        "IPY_MODEL_2e5b5e53025940b780ca137f8b101851"
       ],
       "layout": "IPY_MODEL_2d485f09486e417b9efd7708a97e5770"
      }
     },
     "8f3ccd5585ef48f7af9226f31337f974": {
      "model_module": "@jupyter-widgets/base",
      "model_module_version": "1.0.0",
      "model_name": "LayoutModel",
      "state": {}
     },
     "8f48f067eb81402782f8b0e395f1f8db": {
      "model_module": "@jupyter-widgets/controls",
      "model_module_version": "1.2.0",
      "model_name": "IntProgressModel",
      "state": {
       "bar_style": "success",
       "layout": "IPY_MODEL_590c9370b3484e919d564920071a5354",
       "max": 26,
       "style": "IPY_MODEL_ad6e2ed9c3ce4055920b9968505d83d9",
       "value": 26
      }
     },
     "8f4deb4233d04368b1c5cb0bc89c7a4b": {
      "model_module": "@jupyter-widgets/base",
      "model_module_version": "1.0.0",
      "model_name": "LayoutModel",
      "state": {}
     },
     "8f861598bf55415c9a07357f6f38315e": {
      "model_module": "@jupyter-widgets/controls",
      "model_module_version": "1.2.0",
      "model_name": "DescriptionStyleModel",
      "state": {
       "description_width": ""
      }
     },
     "8fa921a023ec4edc859bb06fc20a6e43": {
      "model_module": "@jupyter-widgets/controls",
      "model_module_version": "1.2.0",
      "model_name": "ProgressStyleModel",
      "state": {
       "description_width": ""
      }
     },
     "9134cc732af44729a9508ae666783cf3": {
      "model_module": "@jupyter-widgets/base",
      "model_module_version": "1.0.0",
      "model_name": "LayoutModel",
      "state": {}
     },
     "9197c7c9eef0418686334e64cbc574ca": {
      "model_module": "@jupyter-widgets/controls",
      "model_module_version": "1.2.0",
      "model_name": "DescriptionStyleModel",
      "state": {
       "description_width": ""
      }
     },
     "919ff5fad5e4441aa6eba50e466f1d41": {
      "model_module": "@jupyter-widgets/controls",
      "model_module_version": "1.2.0",
      "model_name": "DescriptionStyleModel",
      "state": {
       "description_width": ""
      }
     },
     "91dde14e620c45d88c7c153fa011f3f4": {
      "model_module": "@jupyter-widgets/controls",
      "model_module_version": "1.2.0",
      "model_name": "HTMLModel",
      "state": {
       "layout": "IPY_MODEL_6f06961f6c344f3f948685a8a719b275",
       "style": "IPY_MODEL_a28bae056c974f208449c4f303f34991",
       "value": "100% 26/26 [01:28&lt;00:00,  3.40s/it]"
      }
     },
     "9302450ca35d4466ab6f3de18fffcdfd": {
      "model_module": "@jupyter-widgets/base",
      "model_module_version": "1.0.0",
      "model_name": "LayoutModel",
      "state": {}
     },
     "9334b6c353e145f88d7add0bac47e8cc": {
      "model_module": "@jupyter-widgets/controls",
      "model_module_version": "1.2.0",
      "model_name": "HBoxModel",
      "state": {
       "children": [
        "IPY_MODEL_c37ed61123f14d64a66004bb66add48f",
        "IPY_MODEL_8cf412bf9ff049f18ac569ed61b7b1e7"
       ],
       "layout": "IPY_MODEL_da8393b4701240d18f7fecd04eb712fd"
      }
     },
     "93798d76d8b547fd91ba94086c2dc825": {
      "model_module": "@jupyter-widgets/base",
      "model_module_version": "1.0.0",
      "model_name": "LayoutModel",
      "state": {}
     },
     "93cc8c765dbe4a51bded1a483b3263f4": {
      "model_module": "@jupyter-widgets/controls",
      "model_module_version": "1.2.0",
      "model_name": "ProgressStyleModel",
      "state": {
       "description_width": ""
      }
     },
     "94d7e72f13234ed5a2c4f8ab7d2762da": {
      "model_module": "@jupyter-widgets/base",
      "model_module_version": "1.0.0",
      "model_name": "LayoutModel",
      "state": {}
     },
     "95bd1cfe5321498883cc9834dea34211": {
      "model_module": "@jupyter-widgets/controls",
      "model_module_version": "1.2.0",
      "model_name": "IntProgressModel",
      "state": {
       "bar_style": "success",
       "layout": "IPY_MODEL_d08c0fa168a64ca2979b2d5d20b22582",
       "max": 26,
       "style": "IPY_MODEL_a1e88b3ee63647818dfb2ac769aeeb62",
       "value": 26
      }
     },
     "9617a5141b6b4960b2bab57ac3d2c0de": {
      "model_module": "@jupyter-widgets/controls",
      "model_module_version": "1.2.0",
      "model_name": "HBoxModel",
      "state": {
       "children": [
        "IPY_MODEL_0f9204c087574ffca86be2e745677551",
        "IPY_MODEL_3c16706265ca48e28358d541cec3233d"
       ],
       "layout": "IPY_MODEL_4b415225f3844a94b8aff7ef4b2716ec"
      }
     },
     "9740ec18d0324779acdac8646e499f75": {
      "model_module": "@jupyter-widgets/controls",
      "model_module_version": "1.2.0",
      "model_name": "HBoxModel",
      "state": {
       "children": [
        "IPY_MODEL_b7d4fa2402594ab689eef1706c7ffd19",
        "IPY_MODEL_03d7f54e02bc42d38cc6ad6c4effcfd3"
       ],
       "layout": "IPY_MODEL_dbe33a816e644627a5b5f25b7bcaef08"
      }
     },
     "979655e3a4624670b009cacc3f39cd93": {
      "model_module": "@jupyter-widgets/controls",
      "model_module_version": "1.2.0",
      "model_name": "HTMLModel",
      "state": {
       "layout": "IPY_MODEL_0047b0e7f74b4208b36d50377e455771",
       "style": "IPY_MODEL_22cc6a7b4cbe4822b025425590be061f",
       "value": "100% 26/26 [01:26&lt;00:00,  3.32s/it]"
      }
     },
     "97abe2af2cf7459eab17e47972401502": {
      "model_module": "@jupyter-widgets/base",
      "model_module_version": "1.0.0",
      "model_name": "LayoutModel",
      "state": {}
     },
     "984a04b6ce364a9bb391908308f643d4": {
      "model_module": "@jupyter-widgets/controls",
      "model_module_version": "1.2.0",
      "model_name": "IntProgressModel",
      "state": {
       "bar_style": "success",
       "layout": "IPY_MODEL_e79c02b257634f2391c71bc73b2a74b1",
       "max": 26,
       "style": "IPY_MODEL_03fe3fa727e249118a6ee7d2465adb05",
       "value": 26
      }
     },
     "985b6ed550c04ac19a21ba5dd08c57f2": {
      "model_module": "@jupyter-widgets/controls",
      "model_module_version": "1.2.0",
      "model_name": "ProgressStyleModel",
      "state": {
       "description_width": ""
      }
     },
     "98a450b86ccf4e55a6b3389e532cda3f": {
      "model_module": "@jupyter-widgets/controls",
      "model_module_version": "1.2.0",
      "model_name": "HBoxModel",
      "state": {
       "children": [
        "IPY_MODEL_4233707f555b46eb80a5014ff37a0e04",
        "IPY_MODEL_1ec9cbd797ea4f5b9364f59460f697f5"
       ],
       "layout": "IPY_MODEL_0d944a1166c84423838b393d27e025ac"
      }
     },
     "9908099908954dedbacec4555ee53ad0": {
      "model_module": "@jupyter-widgets/controls",
      "model_module_version": "1.2.0",
      "model_name": "IntProgressModel",
      "state": {
       "bar_style": "success",
       "layout": "IPY_MODEL_4cb4cb8d51774135916ea96a7b91bc1d",
       "max": 26,
       "style": "IPY_MODEL_f182041322f64caebc4d3761db2abdd6",
       "value": 26
      }
     },
     "9930028e6f3c488681c0bfd7e2101a81": {
      "model_module": "@jupyter-widgets/base",
      "model_module_version": "1.0.0",
      "model_name": "LayoutModel",
      "state": {}
     },
     "99484bdd4f924f619d6f69b2c522cc83": {
      "model_module": "@jupyter-widgets/base",
      "model_module_version": "1.0.0",
      "model_name": "LayoutModel",
      "state": {}
     },
     "9a192f386c3c4c8b9054e5a6260e7806": {
      "model_module": "@jupyter-widgets/base",
      "model_module_version": "1.0.0",
      "model_name": "LayoutModel",
      "state": {}
     },
     "9a6c0ebf927940969fe557601c44143f": {
      "model_module": "@jupyter-widgets/controls",
      "model_module_version": "1.2.0",
      "model_name": "ProgressStyleModel",
      "state": {
       "description_width": ""
      }
     },
     "9ae12728ed8f477081b8cdeec97939ad": {
      "model_module": "@jupyter-widgets/controls",
      "model_module_version": "1.2.0",
      "model_name": "HTMLModel",
      "state": {
       "layout": "IPY_MODEL_fe6e861963d841ff92e1979abe257913",
       "style": "IPY_MODEL_502ccf470a4e40d2ba906e6efb8b49db",
       "value": "100% 26/26 [01:28&lt;00:00,  3.40s/it]"
      }
     },
     "9cbfe05bb8464e4f916ed8a1ba9117b0": {
      "model_module": "@jupyter-widgets/base",
      "model_module_version": "1.0.0",
      "model_name": "LayoutModel",
      "state": {}
     },
     "9cc75d2b61bf40d7bbae6b865b166d4c": {
      "model_module": "@jupyter-widgets/base",
      "model_module_version": "1.0.0",
      "model_name": "LayoutModel",
      "state": {}
     },
     "9ce03a7089a74bd29a7ba2cf06cde15f": {
      "model_module": "@jupyter-widgets/controls",
      "model_module_version": "1.2.0",
      "model_name": "HTMLModel",
      "state": {
       "layout": "IPY_MODEL_a301121e5e0c407c99d22f0967714cab",
       "style": "IPY_MODEL_cc9dd2f8bd8749dd8677f68fb1ad5597",
       "value": "100% 26/26 [01:26&lt;00:00,  3.31s/it]"
      }
     },
     "9e1d7b5dd163467c89125f116385aa38": {
      "model_module": "@jupyter-widgets/controls",
      "model_module_version": "1.2.0",
      "model_name": "DescriptionStyleModel",
      "state": {
       "description_width": ""
      }
     },
     "9e6a43e424c247299ac20a659733419c": {
      "model_module": "@jupyter-widgets/base",
      "model_module_version": "1.0.0",
      "model_name": "LayoutModel",
      "state": {}
     },
     "9e6c89e32c25442a93832df837aae807": {
      "model_module": "@jupyter-widgets/base",
      "model_module_version": "1.0.0",
      "model_name": "LayoutModel",
      "state": {}
     },
     "9ebdbefd75474317a1ed2959408f9a25": {
      "model_module": "@jupyter-widgets/controls",
      "model_module_version": "1.2.0",
      "model_name": "IntProgressModel",
      "state": {
       "bar_style": "success",
       "layout": "IPY_MODEL_c8d6bdd5ff334a52ac07add6f05e8610",
       "max": 26,
       "style": "IPY_MODEL_478b33a9f34b4b8c83b55166b41268ce",
       "value": 26
      }
     },
     "9ece5faed27047b6b16dd432db236c86": {
      "model_module": "@jupyter-widgets/controls",
      "model_module_version": "1.2.0",
      "model_name": "IntProgressModel",
      "state": {
       "bar_style": "success",
       "layout": "IPY_MODEL_4c0063b9caf94c15b3226b6122d4126e",
       "max": 26,
       "style": "IPY_MODEL_bb723b48ec1143d899f273e87d740a16",
       "value": 26
      }
     },
     "9f43919214c64270b28323e8431d9d30": {
      "model_module": "@jupyter-widgets/controls",
      "model_module_version": "1.2.0",
      "model_name": "HBoxModel",
      "state": {
       "children": [
        "IPY_MODEL_a8fc8f6f15784304b01b5184446ae5c3",
        "IPY_MODEL_85d529bf9ff84352970f5515013df8c8"
       ],
       "layout": "IPY_MODEL_047406bea9a04e38880499cac1c866eb"
      }
     },
     "9f6526d74adb43a78664617fdfb5d848": {
      "model_module": "@jupyter-widgets/controls",
      "model_module_version": "1.2.0",
      "model_name": "ProgressStyleModel",
      "state": {
       "description_width": ""
      }
     },
     "9f663b1806b04d40bc5073e149436f29": {
      "model_module": "@jupyter-widgets/base",
      "model_module_version": "1.0.0",
      "model_name": "LayoutModel",
      "state": {}
     },
     "9ff8ad245b8b4b579035f33c99e19abf": {
      "model_module": "@jupyter-widgets/base",
      "model_module_version": "1.0.0",
      "model_name": "LayoutModel",
      "state": {}
     },
     "a041d99a18fd4a7fac2af6dbfff0fc0a": {
      "model_module": "@jupyter-widgets/base",
      "model_module_version": "1.0.0",
      "model_name": "LayoutModel",
      "state": {}
     },
     "a1172af4e9fe44b2a9cc3ecbc7e50fab": {
      "model_module": "@jupyter-widgets/controls",
      "model_module_version": "1.2.0",
      "model_name": "ProgressStyleModel",
      "state": {
       "description_width": ""
      }
     },
     "a15b13dc0f4c4114a0205b4a74e66ebd": {
      "model_module": "@jupyter-widgets/controls",
      "model_module_version": "1.2.0",
      "model_name": "ProgressStyleModel",
      "state": {
       "description_width": ""
      }
     },
     "a195a0a5e8054ca999ccee4bc346238e": {
      "model_module": "@jupyter-widgets/base",
      "model_module_version": "1.0.0",
      "model_name": "LayoutModel",
      "state": {}
     },
     "a1e6bde2fa234e16a8e685ef582d0591": {
      "model_module": "@jupyter-widgets/controls",
      "model_module_version": "1.2.0",
      "model_name": "HBoxModel",
      "state": {
       "children": [
        "IPY_MODEL_5ce79adec04d4ff096ae536fc155d281",
        "IPY_MODEL_e09cee718d284784a95fe7ef32162a51"
       ],
       "layout": "IPY_MODEL_00f6e17600414153a288f143bbdaf5a8"
      }
     },
     "a1e88b3ee63647818dfb2ac769aeeb62": {
      "model_module": "@jupyter-widgets/controls",
      "model_module_version": "1.2.0",
      "model_name": "ProgressStyleModel",
      "state": {
       "description_width": ""
      }
     },
     "a1fc11c8a2fb48f2ba5989b2fe66a910": {
      "model_module": "@jupyter-widgets/base",
      "model_module_version": "1.0.0",
      "model_name": "LayoutModel",
      "state": {}
     },
     "a21c47e6a8784ecc852cbdec46831d4d": {
      "model_module": "@jupyter-widgets/base",
      "model_module_version": "1.0.0",
      "model_name": "LayoutModel",
      "state": {}
     },
     "a24f19d3c3594cf1985e393f97e735eb": {
      "model_module": "@jupyter-widgets/base",
      "model_module_version": "1.0.0",
      "model_name": "LayoutModel",
      "state": {}
     },
     "a28bae056c974f208449c4f303f34991": {
      "model_module": "@jupyter-widgets/controls",
      "model_module_version": "1.2.0",
      "model_name": "DescriptionStyleModel",
      "state": {
       "description_width": ""
      }
     },
     "a2a21002fb994ee6b6f4ecf85d69c91d": {
      "model_module": "@jupyter-widgets/base",
      "model_module_version": "1.0.0",
      "model_name": "LayoutModel",
      "state": {}
     },
     "a2f8b8e5f84b4528bb5281b05c53844e": {
      "model_module": "@jupyter-widgets/controls",
      "model_module_version": "1.2.0",
      "model_name": "HBoxModel",
      "state": {
       "children": [
        "IPY_MODEL_ad0e4151c68b44008bad02d4fa998478",
        "IPY_MODEL_0f6e837b4c894a09a9a80b06f960c70d"
       ],
       "layout": "IPY_MODEL_8966bac1431d42219cd7a670f0f0856c"
      }
     },
     "a301121e5e0c407c99d22f0967714cab": {
      "model_module": "@jupyter-widgets/base",
      "model_module_version": "1.0.0",
      "model_name": "LayoutModel",
      "state": {}
     },
     "a308ec381a6b466a9a506e4ab53f3968": {
      "model_module": "@jupyter-widgets/base",
      "model_module_version": "1.0.0",
      "model_name": "LayoutModel",
      "state": {}
     },
     "a3374b6c9b274150949203f24b4ee59e": {
      "model_module": "@jupyter-widgets/base",
      "model_module_version": "1.0.0",
      "model_name": "LayoutModel",
      "state": {}
     },
     "a3a122a559f3490bbc4937c4d36c2b72": {
      "model_module": "@jupyter-widgets/controls",
      "model_module_version": "1.2.0",
      "model_name": "DescriptionStyleModel",
      "state": {
       "description_width": ""
      }
     },
     "a3acca47a6514d9a8121af91bdd05a32": {
      "model_module": "@jupyter-widgets/base",
      "model_module_version": "1.0.0",
      "model_name": "LayoutModel",
      "state": {}
     },
     "a3ae672f56b04a6fbcc447f668df6fda": {
      "model_module": "@jupyter-widgets/controls",
      "model_module_version": "1.2.0",
      "model_name": "ProgressStyleModel",
      "state": {
       "description_width": ""
      }
     },
     "a42c683c1cd842f0bdb5a255a464fac7": {
      "model_module": "@jupyter-widgets/base",
      "model_module_version": "1.0.0",
      "model_name": "LayoutModel",
      "state": {}
     },
     "a44428e978da4933a4e744a305246b71": {
      "model_module": "@jupyter-widgets/base",
      "model_module_version": "1.0.0",
      "model_name": "LayoutModel",
      "state": {}
     },
     "a463b6e0435247e7a1f05bc0573aacdc": {
      "model_module": "@jupyter-widgets/controls",
      "model_module_version": "1.2.0",
      "model_name": "DescriptionStyleModel",
      "state": {
       "description_width": ""
      }
     },
     "a47823bb80be462ea272b7290121ad4a": {
      "model_module": "@jupyter-widgets/controls",
      "model_module_version": "1.2.0",
      "model_name": "HBoxModel",
      "state": {
       "children": [
        "IPY_MODEL_659c6dd2bf2340f29232c7ad0851dfd7",
        "IPY_MODEL_3b854d121bdf428199314ecca4c9e28e"
       ],
       "layout": "IPY_MODEL_cac753f172704c25a2d46b5b9af39419"
      }
     },
     "a5debd24d6de4511a8401978dd06d489": {
      "model_module": "@jupyter-widgets/controls",
      "model_module_version": "1.2.0",
      "model_name": "HBoxModel",
      "state": {
       "children": [
        "IPY_MODEL_a8f231d3cce946599d65b933fb3cc3da",
        "IPY_MODEL_09e4a709ac3f4faa9d3ab274a21693e3"
       ],
       "layout": "IPY_MODEL_f447ad78046a42a0ac176f8fa6f16b00"
      }
     },
     "a5e85e2caa5d4aafa0a1049a5fdc5249": {
      "model_module": "@jupyter-widgets/controls",
      "model_module_version": "1.2.0",
      "model_name": "HBoxModel",
      "state": {
       "children": [
        "IPY_MODEL_a9984f230de04231be576e401e6a4763",
        "IPY_MODEL_4f310fc479524a8ca22a69d0ad34151e"
       ],
       "layout": "IPY_MODEL_a21c47e6a8784ecc852cbdec46831d4d"
      }
     },
     "a65bd9ce9f7c483e9144baed97e23a46": {
      "model_module": "@jupyter-widgets/base",
      "model_module_version": "1.0.0",
      "model_name": "LayoutModel",
      "state": {}
     },
     "a6a1eb6c9e144b60a5a18599a5b6a632": {
      "model_module": "@jupyter-widgets/base",
      "model_module_version": "1.0.0",
      "model_name": "LayoutModel",
      "state": {}
     },
     "a6c3f68c6a1441d995bacf7e80fb04e7": {
      "model_module": "@jupyter-widgets/controls",
      "model_module_version": "1.2.0",
      "model_name": "IntProgressModel",
      "state": {
       "bar_style": "success",
       "layout": "IPY_MODEL_5e312476981043a9ab084577f971b307",
       "max": 26,
       "style": "IPY_MODEL_a3ae672f56b04a6fbcc447f668df6fda",
       "value": 26
      }
     },
     "a70d76707ff149b997ae3f5fa105583f": {
      "model_module": "@jupyter-widgets/controls",
      "model_module_version": "1.2.0",
      "model_name": "DescriptionStyleModel",
      "state": {
       "description_width": ""
      }
     },
     "a76b16406221472bb8a1f7d4a6857542": {
      "model_module": "@jupyter-widgets/controls",
      "model_module_version": "1.2.0",
      "model_name": "HTMLModel",
      "state": {
       "layout": "IPY_MODEL_3fae14511a55462b8b67d8e5f4feb45d",
       "style": "IPY_MODEL_c80189f5eb0149f2bbd27ce82515360c",
       "value": "100% 26/26 [01:27&lt;00:00,  3.33s/it]"
      }
     },
     "a7c4866b417642aebb5cde91fa05b87f": {
      "model_module": "@jupyter-widgets/controls",
      "model_module_version": "1.2.0",
      "model_name": "HTMLModel",
      "state": {
       "layout": "IPY_MODEL_0a6365f27336487386400b5c62e7b7da",
       "style": "IPY_MODEL_47a24333a7e04b3c8cb24ec9e7510fed",
       "value": "100% 26/26 [01:25&lt;00:00,  3.27s/it]"
      }
     },
     "a7dec312962749328626b750cfa19088": {
      "model_module": "@jupyter-widgets/controls",
      "model_module_version": "1.2.0",
      "model_name": "IntProgressModel",
      "state": {
       "bar_style": "success",
       "layout": "IPY_MODEL_1e7824e6a2bb47ad9d421dd78dc4b216",
       "max": 26,
       "style": "IPY_MODEL_2d77bd57bf384360ad725e129d93ecff",
       "value": 26
      }
     },
     "a8336334e4064386baaefd3e7d64dc0c": {
      "model_module": "@jupyter-widgets/controls",
      "model_module_version": "1.2.0",
      "model_name": "DescriptionStyleModel",
      "state": {
       "description_width": ""
      }
     },
     "a8c9a26d58c24905817cc239c218706e": {
      "model_module": "@jupyter-widgets/controls",
      "model_module_version": "1.2.0",
      "model_name": "IntProgressModel",
      "state": {
       "bar_style": "success",
       "layout": "IPY_MODEL_d794ea1844084f7984f95d560e838ba9",
       "max": 26,
       "style": "IPY_MODEL_02dd65f680db475ab1a193824ebc79c9",
       "value": 26
      }
     },
     "a8edd625532a4e959298ca3f94247c60": {
      "model_module": "@jupyter-widgets/controls",
      "model_module_version": "1.2.0",
      "model_name": "ProgressStyleModel",
      "state": {
       "description_width": ""
      }
     },
     "a8f231d3cce946599d65b933fb3cc3da": {
      "model_module": "@jupyter-widgets/controls",
      "model_module_version": "1.2.0",
      "model_name": "IntProgressModel",
      "state": {
       "bar_style": "success",
       "layout": "IPY_MODEL_55b8254c65094141a0247d602a1de28c",
       "max": 1,
       "style": "IPY_MODEL_40353c03afb04baab9df7d42bf612920",
       "value": 1
      }
     },
     "a8fc8f6f15784304b01b5184446ae5c3": {
      "model_module": "@jupyter-widgets/controls",
      "model_module_version": "1.2.0",
      "model_name": "IntProgressModel",
      "state": {
       "bar_style": "success",
       "layout": "IPY_MODEL_efbd48444edf42a185d40b7522765a0d",
       "max": 26,
       "style": "IPY_MODEL_fda41f4bf9ec4c6f806f3d8a30e502bd",
       "value": 26
      }
     },
     "a903010178d846cd9868f70b5281ee0d": {
      "model_module": "@jupyter-widgets/controls",
      "model_module_version": "1.2.0",
      "model_name": "DescriptionStyleModel",
      "state": {
       "description_width": ""
      }
     },
     "a94d2ae826be4eb0936d59a8c837808a": {
      "model_module": "@jupyter-widgets/controls",
      "model_module_version": "1.2.0",
      "model_name": "HBoxModel",
      "state": {
       "children": [
        "IPY_MODEL_eadc51f45e8f4f52b5aac00770c5e741",
        "IPY_MODEL_008f9b65f2b3400485e82f10de68ee15"
       ],
       "layout": "IPY_MODEL_2329f9100e274bcb95667ac9200af67d"
      }
     },
     "a9984f230de04231be576e401e6a4763": {
      "model_module": "@jupyter-widgets/controls",
      "model_module_version": "1.2.0",
      "model_name": "IntProgressModel",
      "state": {
       "bar_style": "success",
       "layout": "IPY_MODEL_dab62fa3ecaf4a7c84ef88692dea4401",
       "max": 26,
       "style": "IPY_MODEL_780ebfa8017d4ea69ca9ef12fdbdc69c",
       "value": 26
      }
     },
     "aa2cc4d75b434d07aca8695eb83bbd34": {
      "model_module": "@jupyter-widgets/base",
      "model_module_version": "1.0.0",
      "model_name": "LayoutModel",
      "state": {}
     },
     "aa638e94a9344093843e7be78d016630": {
      "model_module": "@jupyter-widgets/base",
      "model_module_version": "1.0.0",
      "model_name": "LayoutModel",
      "state": {}
     },
     "aad523cf275d4d58928827ccff1faab4": {
      "model_module": "@jupyter-widgets/controls",
      "model_module_version": "1.2.0",
      "model_name": "IntProgressModel",
      "state": {
       "bar_style": "success",
       "layout": "IPY_MODEL_e66ae8d0c77d4a09a90780d8e259f291",
       "max": 26,
       "style": "IPY_MODEL_2df3eefaff9a4332a4e80755abda3bdb",
       "value": 26
      }
     },
     "ab48810b3883466db020a24c1b0e3054": {
      "model_module": "@jupyter-widgets/controls",
      "model_module_version": "1.2.0",
      "model_name": "DescriptionStyleModel",
      "state": {
       "description_width": ""
      }
     },
     "ab4c72545d0947b29da86b3253e425f6": {
      "model_module": "@jupyter-widgets/base",
      "model_module_version": "1.0.0",
      "model_name": "LayoutModel",
      "state": {}
     },
     "ab74a168b0944be69c35a2a9f4635cba": {
      "model_module": "@jupyter-widgets/base",
      "model_module_version": "1.0.0",
      "model_name": "LayoutModel",
      "state": {}
     },
     "ab8cc46d713047fc8caef467b617b793": {
      "model_module": "@jupyter-widgets/controls",
      "model_module_version": "1.2.0",
      "model_name": "HBoxModel",
      "state": {
       "children": [
        "IPY_MODEL_ae5d6e125f934b0fbba0958c8665f01b",
        "IPY_MODEL_32f2f269897a4d31bbc898eda0eafd6e"
       ],
       "layout": "IPY_MODEL_d36c5c0bd6f24250b32e7ade4261dcf0"
      }
     },
     "ab90750bdff84c578fcff057dbe687e1": {
      "model_module": "@jupyter-widgets/base",
      "model_module_version": "1.0.0",
      "model_name": "LayoutModel",
      "state": {}
     },
     "abf47520187a4e9d9c816f027187630d": {
      "model_module": "@jupyter-widgets/controls",
      "model_module_version": "1.2.0",
      "model_name": "HTMLModel",
      "state": {
       "layout": "IPY_MODEL_9cbfe05bb8464e4f916ed8a1ba9117b0",
       "style": "IPY_MODEL_8dcb8b1ca64f4cd79290884e9be8a4da",
       "value": "100% 26/26 [01:26&lt;00:00,  3.36s/it]"
      }
     },
     "abfe0cb472b049e9bf12baef173a419e": {
      "model_module": "@jupyter-widgets/controls",
      "model_module_version": "1.2.0",
      "model_name": "IntProgressModel",
      "state": {
       "bar_style": "success",
       "layout": "IPY_MODEL_7a17dfac9f574bd590298a287b0140e8",
       "max": 1,
       "style": "IPY_MODEL_7455d8249dbc4da9ab0c3c9a599e2f87",
       "value": 1
      }
     },
     "ac1ac828fda443af8e8f37fb9bb5f0b7": {
      "model_module": "@jupyter-widgets/base",
      "model_module_version": "1.0.0",
      "model_name": "LayoutModel",
      "state": {}
     },
     "ac2495d4bff14568bacb8902a3de5dbd": {
      "model_module": "@jupyter-widgets/controls",
      "model_module_version": "1.2.0",
      "model_name": "HTMLModel",
      "state": {
       "layout": "IPY_MODEL_2edeb106800d4d52a51f98553d7c9529",
       "style": "IPY_MODEL_3d2ace0ac72843579a6113be643ca5ea",
       "value": "100% 26/26 [01:26&lt;00:00,  3.28s/it]"
      }
     },
     "ac295db8689046f8a8a14b19fa334bd2": {
      "model_module": "@jupyter-widgets/controls",
      "model_module_version": "1.2.0",
      "model_name": "DescriptionStyleModel",
      "state": {
       "description_width": ""
      }
     },
     "ac4fe68815d24fe4bc180c340aa29db9": {
      "model_module": "@jupyter-widgets/base",
      "model_module_version": "1.0.0",
      "model_name": "LayoutModel",
      "state": {}
     },
     "acaec24e3a1a494f818dc61f292ad1d8": {
      "model_module": "@jupyter-widgets/controls",
      "model_module_version": "1.2.0",
      "model_name": "ProgressStyleModel",
      "state": {
       "description_width": ""
      }
     },
     "ad0e4151c68b44008bad02d4fa998478": {
      "model_module": "@jupyter-widgets/controls",
      "model_module_version": "1.2.0",
      "model_name": "IntProgressModel",
      "state": {
       "bar_style": "success",
       "layout": "IPY_MODEL_edda035749554fc9bcffee1693825b9d",
       "max": 26,
       "style": "IPY_MODEL_ec540225c6864557a5f647017464283b",
       "value": 26
      }
     },
     "ad2b1ee42149477895c1ef142bb014ec": {
      "model_module": "@jupyter-widgets/controls",
      "model_module_version": "1.2.0",
      "model_name": "HBoxModel",
      "state": {
       "children": [
        "IPY_MODEL_caa37d2d10ed46a2946bdda13083bbca",
        "IPY_MODEL_621c782faeb44a42b3b3ee28bb8c754c"
       ],
       "layout": "IPY_MODEL_f0d623c6d3f94e83835067029a459d78"
      }
     },
     "ad59d15faf0c47759d8460ba2b988cf3": {
      "model_module": "@jupyter-widgets/base",
      "model_module_version": "1.0.0",
      "model_name": "LayoutModel",
      "state": {}
     },
     "ad6e2ed9c3ce4055920b9968505d83d9": {
      "model_module": "@jupyter-widgets/controls",
      "model_module_version": "1.2.0",
      "model_name": "ProgressStyleModel",
      "state": {
       "description_width": ""
      }
     },
     "adcdb4bc4edd4e85ac063d79a72689f6": {
      "model_module": "@jupyter-widgets/base",
      "model_module_version": "1.0.0",
      "model_name": "LayoutModel",
      "state": {}
     },
     "ae188995903a466dbaaf1cc8aa4d2cff": {
      "model_module": "@jupyter-widgets/base",
      "model_module_version": "1.0.0",
      "model_name": "LayoutModel",
      "state": {}
     },
     "ae5d07a0576347a9afbd641f8b875b04": {
      "model_module": "@jupyter-widgets/base",
      "model_module_version": "1.0.0",
      "model_name": "LayoutModel",
      "state": {}
     },
     "ae5d6e125f934b0fbba0958c8665f01b": {
      "model_module": "@jupyter-widgets/controls",
      "model_module_version": "1.2.0",
      "model_name": "IntProgressModel",
      "state": {
       "bar_style": "success",
       "layout": "IPY_MODEL_a24f19d3c3594cf1985e393f97e735eb",
       "max": 26,
       "style": "IPY_MODEL_e3c1c6a8500e4d1cb00316d4189c7362",
       "value": 26
      }
     },
     "aee0a77e01b7493e87b0072fa74937db": {
      "model_module": "@jupyter-widgets/controls",
      "model_module_version": "1.2.0",
      "model_name": "IntProgressModel",
      "state": {
       "bar_style": "success",
       "layout": "IPY_MODEL_ffc91c46a9a043bd8c7a73a23cb3dab0",
       "max": 26,
       "style": "IPY_MODEL_780918dfdcda4c86bd1e79e69b990ac2",
       "value": 26
      }
     },
     "af188158bb964988852b5435c8297849": {
      "model_module": "@jupyter-widgets/base",
      "model_module_version": "1.0.0",
      "model_name": "LayoutModel",
      "state": {}
     },
     "af70877cad214e1da41679c29fdffdbe": {
      "model_module": "@jupyter-widgets/controls",
      "model_module_version": "1.2.0",
      "model_name": "HTMLModel",
      "state": {
       "layout": "IPY_MODEL_60d6f97a2a524531ac9d6156431b6d06",
       "style": "IPY_MODEL_8154ea4ac1b8439981a4ce81bdbca21e",
       "value": "100% 26/26 [01:26&lt;00:00,  3.31s/it]"
      }
     },
     "af838fd459e9498bb040ac614e8b8ac9": {
      "model_module": "@jupyter-widgets/controls",
      "model_module_version": "1.2.0",
      "model_name": "DescriptionStyleModel",
      "state": {
       "description_width": ""
      }
     },
     "b014274ce361410c9fa33c85f8045db9": {
      "model_module": "@jupyter-widgets/base",
      "model_module_version": "1.0.0",
      "model_name": "LayoutModel",
      "state": {}
     },
     "b0b00ec9c4934519b98a6c46e469bbc5": {
      "model_module": "@jupyter-widgets/base",
      "model_module_version": "1.0.0",
      "model_name": "LayoutModel",
      "state": {}
     },
     "b0bd8ca6828a4f6aa6823ee8887d8d2b": {
      "model_module": "@jupyter-widgets/controls",
      "model_module_version": "1.2.0",
      "model_name": "IntProgressModel",
      "state": {
       "bar_style": "success",
       "layout": "IPY_MODEL_f855ad5afec34478ab3949533aea5914",
       "max": 26,
       "style": "IPY_MODEL_d32a8a2878aa4798b656b4ff8627582c",
       "value": 26
      }
     },
     "b0e913656ecd42609b70cf1217f9ef4d": {
      "model_module": "@jupyter-widgets/controls",
      "model_module_version": "1.2.0",
      "model_name": "ProgressStyleModel",
      "state": {
       "description_width": ""
      }
     },
     "b1a3ecb5e7fb4e7b8e9d705c3b79841f": {
      "model_module": "@jupyter-widgets/controls",
      "model_module_version": "1.2.0",
      "model_name": "IntProgressModel",
      "state": {
       "bar_style": "success",
       "layout": "IPY_MODEL_b8e676c9b9a24c6e811cb4293e7cda58",
       "max": 26,
       "style": "IPY_MODEL_2cb0a0a804574f7f9599f190938451cc",
       "value": 26
      }
     },
     "b1e6320f98fb4a18bf3cce6730564618": {
      "model_module": "@jupyter-widgets/controls",
      "model_module_version": "1.2.0",
      "model_name": "IntProgressModel",
      "state": {
       "bar_style": "danger",
       "layout": "IPY_MODEL_f5936c7079e246e58ae22746632ffce7",
       "max": 26,
       "style": "IPY_MODEL_2823a51ab03b4df6851c5930b5c952d5"
      }
     },
     "b22047b21f754ac7ab7a04aff09ef4f4": {
      "model_module": "@jupyter-widgets/controls",
      "model_module_version": "1.2.0",
      "model_name": "ProgressStyleModel",
      "state": {
       "description_width": ""
      }
     },
     "b23340633bfb4acd89fa48a3beace900": {
      "model_module": "@jupyter-widgets/base",
      "model_module_version": "1.0.0",
      "model_name": "LayoutModel",
      "state": {}
     },
     "b27e9c4419cb4d9188afc3d965824aeb": {
      "model_module": "@jupyter-widgets/controls",
      "model_module_version": "1.2.0",
      "model_name": "HTMLModel",
      "state": {
       "layout": "IPY_MODEL_feefe45185e64ef5a2df377df189b3f4",
       "style": "IPY_MODEL_b3777d2242f94c82a288b109b8082062",
       "value": "100% 26/26 [01:26&lt;00:00,  3.32s/it]"
      }
     },
     "b2b1203b47a94ee0ab0d650e512145e5": {
      "model_module": "@jupyter-widgets/base",
      "model_module_version": "1.0.0",
      "model_name": "LayoutModel",
      "state": {}
     },
     "b2c9fd6afd64438699737a9554aacdfd": {
      "model_module": "@jupyter-widgets/controls",
      "model_module_version": "1.2.0",
      "model_name": "HBoxModel",
      "state": {
       "children": [
        "IPY_MODEL_1f916ab898c943ec85c95bab425cba83",
        "IPY_MODEL_17c8d19d0508499c8ab1c1d8da042a6c"
       ],
       "layout": "IPY_MODEL_f49913c25e06495b929e645353568827"
      }
     },
     "b2f8ed0235334313b2e4a5660465adde": {
      "model_module": "@jupyter-widgets/base",
      "model_module_version": "1.0.0",
      "model_name": "LayoutModel",
      "state": {}
     },
     "b35a5418278b4c679202b1bad5dfcbbf": {
      "model_module": "@jupyter-widgets/controls",
      "model_module_version": "1.2.0",
      "model_name": "HBoxModel",
      "state": {
       "children": [
        "IPY_MODEL_984a04b6ce364a9bb391908308f643d4",
        "IPY_MODEL_78a3037c2cf44f3fb31580fd50548cc3"
       ],
       "layout": "IPY_MODEL_45cc0ad0b5b342a6b9fad1898260ba93"
      }
     },
     "b3777d2242f94c82a288b109b8082062": {
      "model_module": "@jupyter-widgets/controls",
      "model_module_version": "1.2.0",
      "model_name": "DescriptionStyleModel",
      "state": {
       "description_width": ""
      }
     },
     "b3914d916bf84e46b0280db3fa9dd845": {
      "model_module": "@jupyter-widgets/controls",
      "model_module_version": "1.2.0",
      "model_name": "HBoxModel",
      "state": {
       "children": [
        "IPY_MODEL_95bd1cfe5321498883cc9834dea34211",
        "IPY_MODEL_eb42b51e12c14c2eb65ce50b32e9447f"
       ],
       "layout": "IPY_MODEL_adcdb4bc4edd4e85ac063d79a72689f6"
      }
     },
     "b4150ed25e8c43d0ba585d67b7979f07": {
      "model_module": "@jupyter-widgets/controls",
      "model_module_version": "1.2.0",
      "model_name": "IntProgressModel",
      "state": {
       "bar_style": "success",
       "layout": "IPY_MODEL_4f1616eadb6d405aa97b4fb6459b204d",
       "max": 26,
       "style": "IPY_MODEL_531238f0f69c4ea297f85ff0c85ebf9f",
       "value": 26
      }
     },
     "b450f9c8e4d74a68a703d482a5512a41": {
      "model_module": "@jupyter-widgets/controls",
      "model_module_version": "1.2.0",
      "model_name": "DescriptionStyleModel",
      "state": {
       "description_width": ""
      }
     },
     "b45586e472c54a0e847ccbebb5aa81ca": {
      "model_module": "@jupyter-widgets/controls",
      "model_module_version": "1.2.0",
      "model_name": "DescriptionStyleModel",
      "state": {
       "description_width": ""
      }
     },
     "b45ab177baba44da928e2fbd6f6ae7ce": {
      "model_module": "@jupyter-widgets/controls",
      "model_module_version": "1.2.0",
      "model_name": "ProgressStyleModel",
      "state": {
       "description_width": ""
      }
     },
     "b4824ee5007043f6a8bfa99efed23454": {
      "model_module": "@jupyter-widgets/base",
      "model_module_version": "1.0.0",
      "model_name": "LayoutModel",
      "state": {}
     },
     "b5247a8b980847919d0972c8e9cc4c58": {
      "model_module": "@jupyter-widgets/base",
      "model_module_version": "1.0.0",
      "model_name": "LayoutModel",
      "state": {}
     },
     "b5324245c63f4b919cca19df804fe723": {
      "model_module": "@jupyter-widgets/base",
      "model_module_version": "1.0.0",
      "model_name": "LayoutModel",
      "state": {}
     },
     "b543ecc7b1b848cbba3f3a6771ecafef": {
      "model_module": "@jupyter-widgets/controls",
      "model_module_version": "1.2.0",
      "model_name": "HBoxModel",
      "state": {
       "children": [
        "IPY_MODEL_2e5fc390ffbd44048c5f1603ef31deb5",
        "IPY_MODEL_f95eb9bf2e9d40ca839f7924ff69a80b"
       ],
       "layout": "IPY_MODEL_b5c79c8467964550bdfda1046e27ffd9"
      }
     },
     "b5c79c8467964550bdfda1046e27ffd9": {
      "model_module": "@jupyter-widgets/base",
      "model_module_version": "1.0.0",
      "model_name": "LayoutModel",
      "state": {}
     },
     "b5e753457d694b4f962b92917cd8e9ca": {
      "model_module": "@jupyter-widgets/base",
      "model_module_version": "1.0.0",
      "model_name": "LayoutModel",
      "state": {}
     },
     "b60ea1f387b24b74aded39f8ee822667": {
      "model_module": "@jupyter-widgets/base",
      "model_module_version": "1.0.0",
      "model_name": "LayoutModel",
      "state": {}
     },
     "b612193779d04a3499f44f61adca8d7e": {
      "model_module": "@jupyter-widgets/base",
      "model_module_version": "1.0.0",
      "model_name": "LayoutModel",
      "state": {}
     },
     "b6682ff6a8294cef9b6a1de4acdc7a12": {
      "model_module": "@jupyter-widgets/base",
      "model_module_version": "1.0.0",
      "model_name": "LayoutModel",
      "state": {}
     },
     "b6761a33803d4c7ea53ab8e3fa3992d0": {
      "model_module": "@jupyter-widgets/controls",
      "model_module_version": "1.2.0",
      "model_name": "HBoxModel",
      "state": {
       "children": [
        "IPY_MODEL_15e37ba8ab674b3a9fbaca83f4020ea4",
        "IPY_MODEL_e17d9fdc5b60436089d63a71802d38cc"
       ],
       "layout": "IPY_MODEL_2861851767e943d195c4d72581afdf68"
      }
     },
     "b6d1e4a41eff4c13b0e08cf2adab3f6c": {
      "model_module": "@jupyter-widgets/base",
      "model_module_version": "1.0.0",
      "model_name": "LayoutModel",
      "state": {}
     },
     "b6e259059613467c9f58828a8feb29cd": {
      "model_module": "@jupyter-widgets/base",
      "model_module_version": "1.0.0",
      "model_name": "LayoutModel",
      "state": {}
     },
     "b6fd71fcdf63466eb7779e8cd9e33cf1": {
      "model_module": "@jupyter-widgets/controls",
      "model_module_version": "1.2.0",
      "model_name": "IntProgressModel",
      "state": {
       "bar_style": "success",
       "layout": "IPY_MODEL_0ef268c924aa49fd93bbe84a37d7cefd",
       "max": 5,
       "style": "IPY_MODEL_4a990d32cb844efe99a16d60c5104cef",
       "value": 5
      }
     },
     "b73ca2ea6d0c4de9927ae544a03a9e31": {
      "model_module": "@jupyter-widgets/controls",
      "model_module_version": "1.2.0",
      "model_name": "DescriptionStyleModel",
      "state": {
       "description_width": ""
      }
     },
     "b78077b98f6741dfab665de6dc61435c": {
      "model_module": "@jupyter-widgets/controls",
      "model_module_version": "1.2.0",
      "model_name": "HBoxModel",
      "state": {
       "children": [
        "IPY_MODEL_36d8596ec33e43659e41c474044c363d",
        "IPY_MODEL_8852bcd3ef9d45c7a948ef0ceb4057f3"
       ],
       "layout": "IPY_MODEL_753c3b43553c4bf8917b0f66fd8b20ed"
      }
     },
     "b7d4fa2402594ab689eef1706c7ffd19": {
      "model_module": "@jupyter-widgets/controls",
      "model_module_version": "1.2.0",
      "model_name": "IntProgressModel",
      "state": {
       "bar_style": "success",
       "layout": "IPY_MODEL_393dfe3ed256424ba15b29d07c21565a",
       "max": 26,
       "style": "IPY_MODEL_b45ab177baba44da928e2fbd6f6ae7ce",
       "value": 26
      }
     },
     "b82d3039c8fe4b2ab6914f141202bc21": {
      "model_module": "@jupyter-widgets/controls",
      "model_module_version": "1.2.0",
      "model_name": "IntProgressModel",
      "state": {
       "bar_style": "success",
       "layout": "IPY_MODEL_baebce262ac143dfb78b7208af177570",
       "max": 26,
       "style": "IPY_MODEL_c8d7705c8f524621916c1324009ec39c",
       "value": 26
      }
     },
     "b86c142a895f4dd995f7452f5431b220": {
      "model_module": "@jupyter-widgets/base",
      "model_module_version": "1.0.0",
      "model_name": "LayoutModel",
      "state": {}
     },
     "b8806bfa1063440bb8f23e6366d11ca4": {
      "model_module": "@jupyter-widgets/controls",
      "model_module_version": "1.2.0",
      "model_name": "DescriptionStyleModel",
      "state": {
       "description_width": ""
      }
     },
     "b8c9bf6765114a49b66688440a34fe5b": {
      "model_module": "@jupyter-widgets/controls",
      "model_module_version": "1.2.0",
      "model_name": "ProgressStyleModel",
      "state": {
       "description_width": ""
      }
     },
     "b8e676c9b9a24c6e811cb4293e7cda58": {
      "model_module": "@jupyter-widgets/base",
      "model_module_version": "1.0.0",
      "model_name": "LayoutModel",
      "state": {}
     },
     "b9006caed7b54e54b138ca6fad7df7b2": {
      "model_module": "@jupyter-widgets/base",
      "model_module_version": "1.0.0",
      "model_name": "LayoutModel",
      "state": {}
     },
     "b934dca099b4450a91283de814faf72c": {
      "model_module": "@jupyter-widgets/controls",
      "model_module_version": "1.2.0",
      "model_name": "HBoxModel",
      "state": {
       "children": [
        "IPY_MODEL_1a3893c63edd4c92b82b49552ecaafff",
        "IPY_MODEL_4412d74a465546a5af841cf4b427cfb3"
       ],
       "layout": "IPY_MODEL_9f663b1806b04d40bc5073e149436f29"
      }
     },
     "b989d626b7f44fe88508cf68883a9cdc": {
      "model_module": "@jupyter-widgets/controls",
      "model_module_version": "1.2.0",
      "model_name": "HTMLModel",
      "state": {
       "layout": "IPY_MODEL_c98eb5fb13174d0d9a3c4cf500bb3e08",
       "style": "IPY_MODEL_a70d76707ff149b997ae3f5fa105583f",
       "value": "100% 26/26 [01:25&lt;00:00,  3.31s/it]"
      }
     },
     "ba0a184646ad40a89f26aa8f5860fe3f": {
      "model_module": "@jupyter-widgets/controls",
      "model_module_version": "1.2.0",
      "model_name": "HBoxModel",
      "state": {
       "children": [
        "IPY_MODEL_e853f2fdd2ca420e803670d6056b9b9c",
        "IPY_MODEL_7b69340f003f48c5804026bd045eeceb"
       ],
       "layout": "IPY_MODEL_1ed2a21367f2463fa9814b1117b07f74"
      }
     },
     "ba0dd332716d4cd2aadc4be9a5d5e50d": {
      "model_module": "@jupyter-widgets/controls",
      "model_module_version": "1.2.0",
      "model_name": "DescriptionStyleModel",
      "state": {
       "description_width": ""
      }
     },
     "baebce262ac143dfb78b7208af177570": {
      "model_module": "@jupyter-widgets/base",
      "model_module_version": "1.0.0",
      "model_name": "LayoutModel",
      "state": {}
     },
     "bb3aff02f01344ecb5de689cb99854b5": {
      "model_module": "@jupyter-widgets/controls",
      "model_module_version": "1.2.0",
      "model_name": "HBoxModel",
      "state": {
       "children": [
        "IPY_MODEL_726062d3a546404eaf8384c6958b9b4a",
        "IPY_MODEL_4193119eb948461b844672be7fd5e453"
       ],
       "layout": "IPY_MODEL_8c68b4c4a3b148129190113fd907b5d8"
      }
     },
     "bb723b48ec1143d899f273e87d740a16": {
      "model_module": "@jupyter-widgets/controls",
      "model_module_version": "1.2.0",
      "model_name": "ProgressStyleModel",
      "state": {
       "description_width": ""
      }
     },
     "bb74137cbeb0428f98e01819e40723d2": {
      "model_module": "@jupyter-widgets/base",
      "model_module_version": "1.0.0",
      "model_name": "LayoutModel",
      "state": {}
     },
     "bc6377c3f7754b9fabcfa4a70ae66249": {
      "model_module": "@jupyter-widgets/controls",
      "model_module_version": "1.2.0",
      "model_name": "HBoxModel",
      "state": {
       "children": [
        "IPY_MODEL_abfe0cb472b049e9bf12baef173a419e",
        "IPY_MODEL_6f60dcb8ce7a40fa86a7e83038dbaf51"
       ],
       "layout": "IPY_MODEL_c61a6fabc14c4418b825c02add756501"
      }
     },
     "bc7e2d7657eb4f71821149de2a575f8d": {
      "model_module": "@jupyter-widgets/base",
      "model_module_version": "1.0.0",
      "model_name": "LayoutModel",
      "state": {}
     },
     "bcaa592bc4e54296a703d90652cd068f": {
      "model_module": "@jupyter-widgets/controls",
      "model_module_version": "1.2.0",
      "model_name": "HBoxModel",
      "state": {
       "children": [
        "IPY_MODEL_ed13d19f8c6b4ce8a3532cea44bf1552",
        "IPY_MODEL_91dde14e620c45d88c7c153fa011f3f4"
       ],
       "layout": "IPY_MODEL_caddae2ee0a84579befa2463497ce3a9"
      }
     },
     "bcbf168542294aa6bf787fd07f7dbdb9": {
      "model_module": "@jupyter-widgets/controls",
      "model_module_version": "1.2.0",
      "model_name": "HBoxModel",
      "state": {
       "children": [
        "IPY_MODEL_7cdeca19449547fd857d3a495a5174c8",
        "IPY_MODEL_17a125aa8ca8499d97fa355c8bc94443"
       ],
       "layout": "IPY_MODEL_2b295968f4f642ee83157caab1f21e1d"
      }
     },
     "bccbe4f4b60d4d7589ca602099ebdcf8": {
      "model_module": "@jupyter-widgets/base",
      "model_module_version": "1.0.0",
      "model_name": "LayoutModel",
      "state": {}
     },
     "bd49035854724149af48cdea69a5d18c": {
      "model_module": "@jupyter-widgets/controls",
      "model_module_version": "1.2.0",
      "model_name": "ProgressStyleModel",
      "state": {
       "description_width": ""
      }
     },
     "bd4b5ea9e3414865ae890a7ed917c27f": {
      "model_module": "@jupyter-widgets/controls",
      "model_module_version": "1.2.0",
      "model_name": "HBoxModel",
      "state": {
       "children": [
        "IPY_MODEL_716a0adf7ae04f13823c381ff0c45105",
        "IPY_MODEL_565bb153c3004618810cf0823376175a"
       ],
       "layout": "IPY_MODEL_2cd967b1388f4541b1e168c988d841c4"
      }
     },
     "bd4d7977d66842ea8ec430130d173bd9": {
      "model_module": "@jupyter-widgets/base",
      "model_module_version": "1.0.0",
      "model_name": "LayoutModel",
      "state": {}
     },
     "bd5332b824824c97873d9988561bff35": {
      "model_module": "@jupyter-widgets/controls",
      "model_module_version": "1.2.0",
      "model_name": "HBoxModel",
      "state": {
       "children": [
        "IPY_MODEL_8e53c0bb80b74435aae45929644b5bd2",
        "IPY_MODEL_3877bde2f12d4d6db2a232013e45a362"
       ],
       "layout": "IPY_MODEL_6ca0ed0bbed74e89b595dad5c159983e"
      }
     },
     "bd8b951d14f24a8180e0053a7b9de0f4": {
      "model_module": "@jupyter-widgets/controls",
      "model_module_version": "1.2.0",
      "model_name": "IntProgressModel",
      "state": {
       "bar_style": "success",
       "layout": "IPY_MODEL_0465fb0b07324903b1f3386a775cd357",
       "max": 26,
       "style": "IPY_MODEL_2b2db8a321b94df5850c011b66e30802",
       "value": 26
      }
     },
     "bd9f52aea7a24f42aa68a2ccb67e7c61": {
      "model_module": "@jupyter-widgets/controls",
      "model_module_version": "1.2.0",
      "model_name": "HBoxModel",
      "state": {
       "children": [
        "IPY_MODEL_6ea070df4e2749b8bdf8cbdd6b2dc441",
        "IPY_MODEL_296e68f2419f4ecb8c1702866021da4f"
       ],
       "layout": "IPY_MODEL_ebd4987542fa458fbf60957a65629f59"
      }
     },
     "bdb9cc35fcec443daf3e22f288be518e": {
      "model_module": "@jupyter-widgets/base",
      "model_module_version": "1.0.0",
      "model_name": "LayoutModel",
      "state": {}
     },
     "be3bef9cb63743ee88f485f1f854c67c": {
      "model_module": "@jupyter-widgets/controls",
      "model_module_version": "1.2.0",
      "model_name": "ProgressStyleModel",
      "state": {
       "description_width": ""
      }
     },
     "be965b80a700460fbe5de041362ca0b9": {
      "model_module": "@jupyter-widgets/base",
      "model_module_version": "1.0.0",
      "model_name": "LayoutModel",
      "state": {}
     },
     "bf9a2568f69e413ea33a548f7930b439": {
      "model_module": "@jupyter-widgets/controls",
      "model_module_version": "1.2.0",
      "model_name": "HTMLModel",
      "state": {
       "layout": "IPY_MODEL_c60ccb551e15418b9565857fbddaa2a4",
       "style": "IPY_MODEL_425d05adb8d7463c863e72b8507023a1",
       "value": "  0% 0/26 [00:00&lt;?, ?it/s]"
      }
     },
     "bffc31366846460d9c1fbbdf97f02664": {
      "model_module": "@jupyter-widgets/base",
      "model_module_version": "1.0.0",
      "model_name": "LayoutModel",
      "state": {}
     },
     "c024ca4b489c4314ac9230a68bb53ecf": {
      "model_module": "@jupyter-widgets/controls",
      "model_module_version": "1.2.0",
      "model_name": "IntProgressModel",
      "state": {
       "bar_style": "success",
       "layout": "IPY_MODEL_ccacd62ef2a542beb6c3761d231e8672",
       "max": 26,
       "style": "IPY_MODEL_1da55efef8754e0f9915e9262fbdf6ad",
       "value": 26
      }
     },
     "c0c1984d785544fd9883b6c514acf021": {
      "model_module": "@jupyter-widgets/base",
      "model_module_version": "1.0.0",
      "model_name": "LayoutModel",
      "state": {}
     },
     "c1b50218d2014dde9999c14159c34d39": {
      "model_module": "@jupyter-widgets/base",
      "model_module_version": "1.0.0",
      "model_name": "LayoutModel",
      "state": {}
     },
     "c1c299cd790b4a04862aaec32d12ab38": {
      "model_module": "@jupyter-widgets/base",
      "model_module_version": "1.0.0",
      "model_name": "LayoutModel",
      "state": {}
     },
     "c2564b6999df4dc89bb165b46fe1195b": {
      "model_module": "@jupyter-widgets/base",
      "model_module_version": "1.0.0",
      "model_name": "LayoutModel",
      "state": {}
     },
     "c2665a96da834f25be29197bfd9f9955": {
      "model_module": "@jupyter-widgets/base",
      "model_module_version": "1.0.0",
      "model_name": "LayoutModel",
      "state": {}
     },
     "c2aa971d62f64825b0cbaa67c429a124": {
      "model_module": "@jupyter-widgets/controls",
      "model_module_version": "1.2.0",
      "model_name": "IntProgressModel",
      "state": {
       "bar_style": "success",
       "layout": "IPY_MODEL_0cbef24463764cbabef14b96a3dc4311",
       "max": 26,
       "style": "IPY_MODEL_1965175ca3b34dee84d73aacd81cdc4f",
       "value": 26
      }
     },
     "c3024aee21bc4f62ad6557b09aee36a8": {
      "model_module": "@jupyter-widgets/controls",
      "model_module_version": "1.2.0",
      "model_name": "IntProgressModel",
      "state": {
       "bar_style": "success",
       "layout": "IPY_MODEL_f7ca890c08c34a008587171b697ceb54",
       "max": 26,
       "style": "IPY_MODEL_dc68408c951040ffbd448644b44219d0",
       "value": 26
      }
     },
     "c37ed61123f14d64a66004bb66add48f": {
      "model_module": "@jupyter-widgets/controls",
      "model_module_version": "1.2.0",
      "model_name": "IntProgressModel",
      "state": {
       "bar_style": "success",
       "layout": "IPY_MODEL_06e5860b20c849c3b092c17c8de17f43",
       "max": 26,
       "style": "IPY_MODEL_e1b3504f47ed454c944d75c643277f17",
       "value": 26
      }
     },
     "c471cf048c5842e092cbaf26888eb7d7": {
      "model_module": "@jupyter-widgets/controls",
      "model_module_version": "1.2.0",
      "model_name": "ProgressStyleModel",
      "state": {
       "description_width": ""
      }
     },
     "c4f2212b417b4c6ead963c48110283db": {
      "model_module": "@jupyter-widgets/controls",
      "model_module_version": "1.2.0",
      "model_name": "HTMLModel",
      "state": {
       "layout": "IPY_MODEL_5b11fa2ab439476088c494d1b29e6a34",
       "style": "IPY_MODEL_d655070b84f94ce6a409f295bc611241",
       "value": "100% 26/26 [01:26&lt;00:00,  3.31s/it]"
      }
     },
     "c4f91ecbaf10435490900c802ea1fd08": {
      "model_module": "@jupyter-widgets/base",
      "model_module_version": "1.0.0",
      "model_name": "LayoutModel",
      "state": {}
     },
     "c60ccb551e15418b9565857fbddaa2a4": {
      "model_module": "@jupyter-widgets/base",
      "model_module_version": "1.0.0",
      "model_name": "LayoutModel",
      "state": {}
     },
     "c61a6fabc14c4418b825c02add756501": {
      "model_module": "@jupyter-widgets/base",
      "model_module_version": "1.0.0",
      "model_name": "LayoutModel",
      "state": {}
     },
     "c63ba11020934f09a2595a2f8babcbb7": {
      "model_module": "@jupyter-widgets/controls",
      "model_module_version": "1.2.0",
      "model_name": "HTMLModel",
      "state": {
       "layout": "IPY_MODEL_758984afad2a4fd4b38ee312c6608f6d",
       "style": "IPY_MODEL_6ebf44cc950c4ffd8d31570442af5fa9",
       "value": "100% 26/26 [01:25&lt;00:00,  3.27s/it]"
      }
     },
     "c667ea698863411dafa7539e3e40619f": {
      "model_module": "@jupyter-widgets/controls",
      "model_module_version": "1.2.0",
      "model_name": "HBoxModel",
      "state": {
       "children": [
        "IPY_MODEL_f560dcfbdfba431e93cf07274b71906f",
        "IPY_MODEL_6d1726e52c114283bafa86d9bbd27846"
       ],
       "layout": "IPY_MODEL_b4824ee5007043f6a8bfa99efed23454"
      }
     },
     "c6ce3c385702452cb63e03fc3f9de808": {
      "model_module": "@jupyter-widgets/controls",
      "model_module_version": "1.2.0",
      "model_name": "HBoxModel",
      "state": {
       "children": [
        "IPY_MODEL_fffa85e89fb646b6b2469e51f1ead6fe",
        "IPY_MODEL_f2fba5fc606646d28477a8ef8bd9f294"
       ],
       "layout": "IPY_MODEL_6ee4bd77b24b4d65a8b0f1149ef293eb"
      }
     },
     "c71c461db4364e2b98f6d4327f2d3b33": {
      "model_module": "@jupyter-widgets/controls",
      "model_module_version": "1.2.0",
      "model_name": "DescriptionStyleModel",
      "state": {
       "description_width": ""
      }
     },
     "c80189f5eb0149f2bbd27ce82515360c": {
      "model_module": "@jupyter-widgets/controls",
      "model_module_version": "1.2.0",
      "model_name": "DescriptionStyleModel",
      "state": {
       "description_width": ""
      }
     },
     "c803663b87184ef99c74b9308df7db2a": {
      "model_module": "@jupyter-widgets/controls",
      "model_module_version": "1.2.0",
      "model_name": "ProgressStyleModel",
      "state": {
       "description_width": ""
      }
     },
     "c8450eb4aa5f4c508e6de8bb3dadbe20": {
      "model_module": "@jupyter-widgets/controls",
      "model_module_version": "1.2.0",
      "model_name": "HBoxModel",
      "state": {
       "children": [
        "IPY_MODEL_5b6a5844b080495eb193080ed81c535e",
        "IPY_MODEL_f7eeb1bddc6f418fa8dee7568d781011"
       ],
       "layout": "IPY_MODEL_cdae9ae70eef4e678c495a7a0f62f3dc"
      }
     },
     "c8a45f1d5a6243ee93301a215f98dca0": {
      "model_module": "@jupyter-widgets/controls",
      "model_module_version": "1.2.0",
      "model_name": "HBoxModel",
      "state": {
       "children": [
        "IPY_MODEL_d379dd14f83148cda5c480bd3daf74fa",
        "IPY_MODEL_37a70ef8a61a4434a823c62646c09915"
       ],
       "layout": "IPY_MODEL_16f1dfc281f540ba86a64b2fd58f451e"
      }
     },
     "c8d6bdd5ff334a52ac07add6f05e8610": {
      "model_module": "@jupyter-widgets/base",
      "model_module_version": "1.0.0",
      "model_name": "LayoutModel",
      "state": {}
     },
     "c8d7705c8f524621916c1324009ec39c": {
      "model_module": "@jupyter-widgets/controls",
      "model_module_version": "1.2.0",
      "model_name": "ProgressStyleModel",
      "state": {
       "description_width": ""
      }
     },
     "c91140ad6d314b1cba878ea31bcd0419": {
      "model_module": "@jupyter-widgets/controls",
      "model_module_version": "1.2.0",
      "model_name": "HTMLModel",
      "state": {
       "layout": "IPY_MODEL_77cb31bd57f74d5e9446fd778a56759f",
       "style": "IPY_MODEL_d6f326372f3d48d1b2b1a7e8559b5ac1",
       "value": "100% 26/26 [01:26&lt;00:00,  3.30s/it]"
      }
     },
     "c98eb5fb13174d0d9a3c4cf500bb3e08": {
      "model_module": "@jupyter-widgets/base",
      "model_module_version": "1.0.0",
      "model_name": "LayoutModel",
      "state": {}
     },
     "c9cf40abea7449baa27d73dfaa53679a": {
      "model_module": "@jupyter-widgets/controls",
      "model_module_version": "1.2.0",
      "model_name": "ProgressStyleModel",
      "state": {
       "description_width": ""
      }
     },
     "c9d50958a7e84f8e859ae9ded97002a7": {
      "model_module": "@jupyter-widgets/base",
      "model_module_version": "1.0.0",
      "model_name": "LayoutModel",
      "state": {}
     },
     "caa37d2d10ed46a2946bdda13083bbca": {
      "model_module": "@jupyter-widgets/controls",
      "model_module_version": "1.2.0",
      "model_name": "IntProgressModel",
      "state": {
       "bar_style": "success",
       "layout": "IPY_MODEL_d726ec80db304fe1b015d3db5f99fa87",
       "max": 26,
       "style": "IPY_MODEL_985b6ed550c04ac19a21ba5dd08c57f2",
       "value": 26
      }
     },
     "cac753f172704c25a2d46b5b9af39419": {
      "model_module": "@jupyter-widgets/base",
      "model_module_version": "1.0.0",
      "model_name": "LayoutModel",
      "state": {}
     },
     "caddae2ee0a84579befa2463497ce3a9": {
      "model_module": "@jupyter-widgets/base",
      "model_module_version": "1.0.0",
      "model_name": "LayoutModel",
      "state": {}
     },
     "cb157676582049c9b3e6b21f71170852": {
      "model_module": "@jupyter-widgets/base",
      "model_module_version": "1.0.0",
      "model_name": "LayoutModel",
      "state": {}
     },
     "cb4828171ca44a36ba757c8076c4c75e": {
      "model_module": "@jupyter-widgets/controls",
      "model_module_version": "1.2.0",
      "model_name": "HTMLModel",
      "state": {
       "layout": "IPY_MODEL_4de300e762c84d6a8bfc62540796f692",
       "style": "IPY_MODEL_72bc905c473c4ed18c6ec151a590e5b4",
       "value": "100% 26/26 [01:25&lt;00:00,  3.28s/it]"
      }
     },
     "cbb30e502f9f4631a0a4d83c20fbec27": {
      "model_module": "@jupyter-widgets/controls",
      "model_module_version": "1.2.0",
      "model_name": "HBoxModel",
      "state": {
       "children": [
        "IPY_MODEL_fd7efea9d17b4c628b42c06a4b849bb6",
        "IPY_MODEL_f76f119e07dc491ea2e49ab43cb4156a"
       ],
       "layout": "IPY_MODEL_f8ef419ed6dd4e3c862126f881e21984"
      }
     },
     "cc641acf009849beb2ff023301f16f7d": {
      "model_module": "@jupyter-widgets/controls",
      "model_module_version": "1.2.0",
      "model_name": "IntProgressModel",
      "state": {
       "bar_style": "success",
       "layout": "IPY_MODEL_13a39117823c4691bbc52be7850206a3",
       "style": "IPY_MODEL_1206586d8427468582e7b89066d86979",
       "value": 100
      }
     },
     "cc75b22ac19b4dc49a788963ac7af0bc": {
      "model_module": "@jupyter-widgets/controls",
      "model_module_version": "1.2.0",
      "model_name": "DescriptionStyleModel",
      "state": {
       "description_width": ""
      }
     },
     "cc97904136d4435b8844ff82047147f6": {
      "model_module": "@jupyter-widgets/base",
      "model_module_version": "1.0.0",
      "model_name": "LayoutModel",
      "state": {}
     },
     "cc9dd2f8bd8749dd8677f68fb1ad5597": {
      "model_module": "@jupyter-widgets/controls",
      "model_module_version": "1.2.0",
      "model_name": "DescriptionStyleModel",
      "state": {
       "description_width": ""
      }
     },
     "cca5a59a7e1f4b1dbf7b8e603720624e": {
      "model_module": "@jupyter-widgets/controls",
      "model_module_version": "1.2.0",
      "model_name": "DescriptionStyleModel",
      "state": {
       "description_width": ""
      }
     },
     "ccacd62ef2a542beb6c3761d231e8672": {
      "model_module": "@jupyter-widgets/base",
      "model_module_version": "1.0.0",
      "model_name": "LayoutModel",
      "state": {}
     },
     "cd125c123f664d91a5698bcc44e51291": {
      "model_module": "@jupyter-widgets/controls",
      "model_module_version": "1.2.0",
      "model_name": "HBoxModel",
      "state": {
       "children": [
        "IPY_MODEL_d1f617057df2440baf6d2b0c6116a21b",
        "IPY_MODEL_25d79235e94945f9ac4c36bb7aa48e66"
       ],
       "layout": "IPY_MODEL_7a05c7e25a0f4b90b39dfc7eaf23f0ce"
      }
     },
     "cdae9ae70eef4e678c495a7a0f62f3dc": {
      "model_module": "@jupyter-widgets/base",
      "model_module_version": "1.0.0",
      "model_name": "LayoutModel",
      "state": {}
     },
     "ce3caf83c442486ba7704ea8213dede0": {
      "model_module": "@jupyter-widgets/base",
      "model_module_version": "1.0.0",
      "model_name": "LayoutModel",
      "state": {}
     },
     "ce4bc4a2f185402cbc43b833c893183f": {
      "model_module": "@jupyter-widgets/controls",
      "model_module_version": "1.2.0",
      "model_name": "HTMLModel",
      "state": {
       "layout": "IPY_MODEL_018af060af044f7d9f3f71411dda976a",
       "style": "IPY_MODEL_86afcd870fc44859a8c6f1b39246fd86",
       "value": "100% 26/26 [01:26&lt;00:00,  3.37s/it]"
      }
     },
     "ce727333fe3a4471bf18ab7d8af15d6a": {
      "model_module": "@jupyter-widgets/base",
      "model_module_version": "1.0.0",
      "model_name": "LayoutModel",
      "state": {}
     },
     "ce80e069796248f4b69897062658111c": {
      "model_module": "@jupyter-widgets/base",
      "model_module_version": "1.0.0",
      "model_name": "LayoutModel",
      "state": {}
     },
     "ce885db5ffcb41f481fb4d2a3ad15f77": {
      "model_module": "@jupyter-widgets/controls",
      "model_module_version": "1.2.0",
      "model_name": "HTMLModel",
      "state": {
       "layout": "IPY_MODEL_049d1debc56b4f83975cba9827e63af6",
       "style": "IPY_MODEL_d06f463dda124b73ae5f02780b1274de",
       "value": "100% 26/26 [01:26&lt;00:00,  3.35s/it]"
      }
     },
     "ced891e5ed3d4cfcbf79b9755d56e2cd": {
      "model_module": "@jupyter-widgets/controls",
      "model_module_version": "1.2.0",
      "model_name": "HBoxModel",
      "state": {
       "children": [
        "IPY_MODEL_58dcd1659149424eafd18f7b566c2546",
        "IPY_MODEL_e31e2eabb61344a98c4403acd977bad7"
       ],
       "layout": "IPY_MODEL_3be30c8077a24ecfad1c07e0ea184cab"
      }
     },
     "cf619a08b697487e840e56f9946d9154": {
      "model_module": "@jupyter-widgets/controls",
      "model_module_version": "1.2.0",
      "model_name": "DescriptionStyleModel",
      "state": {
       "description_width": ""
      }
     },
     "cf7715002d8d4e3f92f237f9a369ed41": {
      "model_module": "@jupyter-widgets/controls",
      "model_module_version": "1.2.0",
      "model_name": "DescriptionStyleModel",
      "state": {
       "description_width": ""
      }
     },
     "cfb91182b24745b9bbeef493c64ec307": {
      "model_module": "@jupyter-widgets/controls",
      "model_module_version": "1.2.0",
      "model_name": "HBoxModel",
      "state": {
       "children": [
        "IPY_MODEL_146caf6100f74459be3de8f18ec8fdd6",
        "IPY_MODEL_979655e3a4624670b009cacc3f39cd93"
       ],
       "layout": "IPY_MODEL_491757ec08364142ab4e26436247d5da"
      }
     },
     "cfeb4e4476b440d693fb7ca57f77dfbb": {
      "model_module": "@jupyter-widgets/controls",
      "model_module_version": "1.2.0",
      "model_name": "IntProgressModel",
      "state": {
       "bar_style": "success",
       "layout": "IPY_MODEL_d09ef929352c43558715a1f9700d7b85",
       "max": 26,
       "style": "IPY_MODEL_fa7c4737154a4a12987bb7189709108f",
       "value": 26
      }
     },
     "d06f463dda124b73ae5f02780b1274de": {
      "model_module": "@jupyter-widgets/controls",
      "model_module_version": "1.2.0",
      "model_name": "DescriptionStyleModel",
      "state": {
       "description_width": ""
      }
     },
     "d0827972a8894216b3b54772904123bd": {
      "model_module": "@jupyter-widgets/controls",
      "model_module_version": "1.2.0",
      "model_name": "IntProgressModel",
      "state": {
       "bar_style": "success",
       "layout": "IPY_MODEL_2d8bfd695ca5456898ea4dff62817a98",
       "max": 26,
       "style": "IPY_MODEL_587558acba5545f8b796e474eb1b402a",
       "value": 26
      }
     },
     "d08c0fa168a64ca2979b2d5d20b22582": {
      "model_module": "@jupyter-widgets/base",
      "model_module_version": "1.0.0",
      "model_name": "LayoutModel",
      "state": {}
     },
     "d09ef929352c43558715a1f9700d7b85": {
      "model_module": "@jupyter-widgets/base",
      "model_module_version": "1.0.0",
      "model_name": "LayoutModel",
      "state": {}
     },
     "d0a7b2f316814db5a99f2f4057b0b177": {
      "model_module": "@jupyter-widgets/controls",
      "model_module_version": "1.2.0",
      "model_name": "DescriptionStyleModel",
      "state": {
       "description_width": ""
      }
     },
     "d131280451614ed3baf00217cede42b2": {
      "model_module": "@jupyter-widgets/base",
      "model_module_version": "1.0.0",
      "model_name": "LayoutModel",
      "state": {}
     },
     "d16dc294159446cc91d017f1d66cf5ce": {
      "model_module": "@jupyter-widgets/controls",
      "model_module_version": "1.2.0",
      "model_name": "ProgressStyleModel",
      "state": {
       "description_width": ""
      }
     },
     "d194d42df6ea4259bc947867ec57380c": {
      "model_module": "@jupyter-widgets/base",
      "model_module_version": "1.0.0",
      "model_name": "LayoutModel",
      "state": {}
     },
     "d1f617057df2440baf6d2b0c6116a21b": {
      "model_module": "@jupyter-widgets/controls",
      "model_module_version": "1.2.0",
      "model_name": "IntProgressModel",
      "state": {
       "bar_style": "success",
       "layout": "IPY_MODEL_4b8e0011388947f0a93bae3c3bbc3185",
       "max": 26,
       "style": "IPY_MODEL_bd49035854724149af48cdea69a5d18c",
       "value": 26
      }
     },
     "d204aeabcefd4a76896077c9872f1fe6": {
      "model_module": "@jupyter-widgets/controls",
      "model_module_version": "1.2.0",
      "model_name": "DescriptionStyleModel",
      "state": {
       "description_width": ""
      }
     },
     "d23a81dbab874d3899fb369aaf289baa": {
      "model_module": "@jupyter-widgets/base",
      "model_module_version": "1.0.0",
      "model_name": "LayoutModel",
      "state": {}
     },
     "d2585b4ab2c64e6fad9f9a76c76414cc": {
      "model_module": "@jupyter-widgets/controls",
      "model_module_version": "1.2.0",
      "model_name": "DescriptionStyleModel",
      "state": {
       "description_width": ""
      }
     },
     "d271077ab4ba44359a232437d585b5a6": {
      "model_module": "@jupyter-widgets/base",
      "model_module_version": "1.0.0",
      "model_name": "LayoutModel",
      "state": {}
     },
     "d273f222c9e44726860552ab1f0e9b5d": {
      "model_module": "@jupyter-widgets/base",
      "model_module_version": "1.0.0",
      "model_name": "LayoutModel",
      "state": {}
     },
     "d2d1095b622c44519a8b67f466a91d12": {
      "model_module": "@jupyter-widgets/base",
      "model_module_version": "1.0.0",
      "model_name": "LayoutModel",
      "state": {}
     },
     "d32a8a2878aa4798b656b4ff8627582c": {
      "model_module": "@jupyter-widgets/controls",
      "model_module_version": "1.2.0",
      "model_name": "ProgressStyleModel",
      "state": {
       "description_width": ""
      }
     },
     "d36c5c0bd6f24250b32e7ade4261dcf0": {
      "model_module": "@jupyter-widgets/base",
      "model_module_version": "1.0.0",
      "model_name": "LayoutModel",
      "state": {}
     },
     "d379dd14f83148cda5c480bd3daf74fa": {
      "model_module": "@jupyter-widgets/controls",
      "model_module_version": "1.2.0",
      "model_name": "IntProgressModel",
      "state": {
       "bar_style": "success",
       "layout": "IPY_MODEL_1de2c26a42c041958b19e6ddce57445c",
       "max": 26,
       "style": "IPY_MODEL_93cc8c765dbe4a51bded1a483b3263f4",
       "value": 26
      }
     },
     "d380b403c0574d3293eafaba11c88dc8": {
      "model_module": "@jupyter-widgets/base",
      "model_module_version": "1.0.0",
      "model_name": "LayoutModel",
      "state": {}
     },
     "d407c387a8ba4af0b27a158a30511e21": {
      "model_module": "@jupyter-widgets/controls",
      "model_module_version": "1.2.0",
      "model_name": "IntProgressModel",
      "state": {
       "bar_style": "success",
       "layout": "IPY_MODEL_df1245c7cd7b4dd29ffe49995d4b0de5",
       "max": 26,
       "style": "IPY_MODEL_fa380eb4b9af4f56a943c79e638a4d6e",
       "value": 26
      }
     },
     "d455b112bdfd4335907a502e2ff7a913": {
      "model_module": "@jupyter-widgets/controls",
      "model_module_version": "1.2.0",
      "model_name": "HBoxModel",
      "state": {
       "children": [
        "IPY_MODEL_808838d49cbe4cc0a321848026f753b7",
        "IPY_MODEL_0dc19c5a8c80416e88ea46b346500a29"
       ],
       "layout": "IPY_MODEL_57c8df5d8b5e4da0b7e1eed13887b78a"
      }
     },
     "d46a195754fe4bb4b4e4f62d00aafd7b": {
      "model_module": "@jupyter-widgets/controls",
      "model_module_version": "1.2.0",
      "model_name": "IntProgressModel",
      "state": {
       "bar_style": "success",
       "layout": "IPY_MODEL_59392882923f4190b813db65f61b6731",
       "max": 26,
       "style": "IPY_MODEL_158a6e1352e84eb7ae2912101db7dead",
       "value": 26
      }
     },
     "d4cf06217c39468480e8ac6a7168f53a": {
      "model_module": "@jupyter-widgets/controls",
      "model_module_version": "1.2.0",
      "model_name": "HTMLModel",
      "state": {
       "layout": "IPY_MODEL_a42c683c1cd842f0bdb5a255a464fac7",
       "style": "IPY_MODEL_db4d391cffbb49f1801bfd97c369913d",
       "value": "100% 26/26 [01:25&lt;00:00,  3.28s/it]"
      }
     },
     "d511c97afa0c42d298d738755dfcd1f0": {
      "model_module": "@jupyter-widgets/base",
      "model_module_version": "1.0.0",
      "model_name": "LayoutModel",
      "state": {}
     },
     "d57d76e9df7843748d74c0044abb6b3c": {
      "model_module": "@jupyter-widgets/base",
      "model_module_version": "1.0.0",
      "model_name": "LayoutModel",
      "state": {}
     },
     "d58024c90d5845c2a0d558e251f49bcc": {
      "model_module": "@jupyter-widgets/base",
      "model_module_version": "1.0.0",
      "model_name": "LayoutModel",
      "state": {}
     },
     "d655070b84f94ce6a409f295bc611241": {
      "model_module": "@jupyter-widgets/controls",
      "model_module_version": "1.2.0",
      "model_name": "DescriptionStyleModel",
      "state": {
       "description_width": ""
      }
     },
     "d6f326372f3d48d1b2b1a7e8559b5ac1": {
      "model_module": "@jupyter-widgets/controls",
      "model_module_version": "1.2.0",
      "model_name": "DescriptionStyleModel",
      "state": {
       "description_width": ""
      }
     },
     "d70772262a7743b2829474c2d72faefb": {
      "model_module": "@jupyter-widgets/base",
      "model_module_version": "1.0.0",
      "model_name": "LayoutModel",
      "state": {}
     },
     "d726ec80db304fe1b015d3db5f99fa87": {
      "model_module": "@jupyter-widgets/base",
      "model_module_version": "1.0.0",
      "model_name": "LayoutModel",
      "state": {}
     },
     "d77b373cbf744ab0a2fd7c98eaf572b9": {
      "model_module": "@jupyter-widgets/controls",
      "model_module_version": "1.2.0",
      "model_name": "HBoxModel",
      "state": {
       "children": [
        "IPY_MODEL_7005acfb8f73410db2c9dbbafd6d44cf",
        "IPY_MODEL_89791d5fa82a444291f41d5b63af682e"
       ],
       "layout": "IPY_MODEL_bdb9cc35fcec443daf3e22f288be518e"
      }
     },
     "d77d7daa2c974c98bd420ecf9a2cd947": {
      "model_module": "@jupyter-widgets/controls",
      "model_module_version": "1.2.0",
      "model_name": "HTMLModel",
      "state": {
       "layout": "IPY_MODEL_5784853798814c6f90c4fed6d2e80641",
       "style": "IPY_MODEL_18bbee80102745898653c93091e89d60",
       "value": "100% 26/26 [01:25&lt;00:00,  3.27s/it]"
      }
     },
     "d794ea1844084f7984f95d560e838ba9": {
      "model_module": "@jupyter-widgets/base",
      "model_module_version": "1.0.0",
      "model_name": "LayoutModel",
      "state": {}
     },
     "d7c725dd1c10486797ee0cca042e415a": {
      "model_module": "@jupyter-widgets/controls",
      "model_module_version": "1.2.0",
      "model_name": "HBoxModel",
      "state": {
       "children": [
        "IPY_MODEL_08abae062a784421bb6eeb2c2a226c20",
        "IPY_MODEL_e7740bfdbe6440a59d5867603bafa5aa"
       ],
       "layout": "IPY_MODEL_e3e0c8f5c4494792bbdd1965e6743843"
      }
     },
     "d80c2f0c8613414f9901efd16a532b0b": {
      "model_module": "@jupyter-widgets/controls",
      "model_module_version": "1.2.0",
      "model_name": "HBoxModel",
      "state": {
       "children": [
        "IPY_MODEL_b82d3039c8fe4b2ab6914f141202bc21",
        "IPY_MODEL_149da078c9b6483ea29a8216f04e8eb5"
       ],
       "layout": "IPY_MODEL_817ebf446f344936910a1d41bed09fda"
      }
     },
     "d9a4afdae87045008037e7aface2ff43": {
      "model_module": "@jupyter-widgets/controls",
      "model_module_version": "1.2.0",
      "model_name": "IntProgressModel",
      "state": {
       "bar_style": "success",
       "layout": "IPY_MODEL_268576623fbf48f38f1417a8b57f6d88",
       "max": 26,
       "style": "IPY_MODEL_8691930ea6b24ca2a0cc753577623b9a",
       "value": 26
      }
     },
     "d9d10f09b3384af2aedafb1be6c7d2df": {
      "model_module": "@jupyter-widgets/controls",
      "model_module_version": "1.2.0",
      "model_name": "DescriptionStyleModel",
      "state": {
       "description_width": ""
      }
     },
     "da7a9821eaaa45e9afcced93a5b2a46a": {
      "model_module": "@jupyter-widgets/controls",
      "model_module_version": "1.2.0",
      "model_name": "HTMLModel",
      "state": {
       "layout": "IPY_MODEL_7cf99ebe80604ecb90770c76cee14256",
       "style": "IPY_MODEL_7cc407f2adf24e9199441032816ba16c",
       "value": "100% 26/26 [01:26&lt;00:00,  3.36s/it]"
      }
     },
     "da8393b4701240d18f7fecd04eb712fd": {
      "model_module": "@jupyter-widgets/base",
      "model_module_version": "1.0.0",
      "model_name": "LayoutModel",
      "state": {}
     },
     "dab62fa3ecaf4a7c84ef88692dea4401": {
      "model_module": "@jupyter-widgets/base",
      "model_module_version": "1.0.0",
      "model_name": "LayoutModel",
      "state": {}
     },
     "dac5ae164a094aaea1c000ec88fe63a1": {
      "model_module": "@jupyter-widgets/base",
      "model_module_version": "1.0.0",
      "model_name": "LayoutModel",
      "state": {}
     },
     "dafab64adb4246cf8a3471b5722f22da": {
      "model_module": "@jupyter-widgets/base",
      "model_module_version": "1.0.0",
      "model_name": "LayoutModel",
      "state": {}
     },
     "dafc2e26ac7641afa16cdceab7522ade": {
      "model_module": "@jupyter-widgets/controls",
      "model_module_version": "1.2.0",
      "model_name": "HTMLModel",
      "state": {
       "layout": "IPY_MODEL_4cff5cd680304bfb9d15b2556119c494",
       "style": "IPY_MODEL_36c57bbcbe6845959009b37cbbab3600",
       "value": "100% 26/26 [01:25&lt;00:00,  3.29s/it]"
      }
     },
     "db4d391cffbb49f1801bfd97c369913d": {
      "model_module": "@jupyter-widgets/controls",
      "model_module_version": "1.2.0",
      "model_name": "DescriptionStyleModel",
      "state": {
       "description_width": ""
      }
     },
     "db57684928db4fa491056e40cde06b82": {
      "model_module": "@jupyter-widgets/controls",
      "model_module_version": "1.2.0",
      "model_name": "DescriptionStyleModel",
      "state": {
       "description_width": ""
      }
     },
     "db5c619a1c3d4a2a9928fad9e783845e": {
      "model_module": "@jupyter-widgets/base",
      "model_module_version": "1.0.0",
      "model_name": "LayoutModel",
      "state": {}
     },
     "dbbe4e211b404b4c8353bdb2cafc4f14": {
      "model_module": "@jupyter-widgets/controls",
      "model_module_version": "1.2.0",
      "model_name": "DescriptionStyleModel",
      "state": {
       "description_width": ""
      }
     },
     "dbe33a816e644627a5b5f25b7bcaef08": {
      "model_module": "@jupyter-widgets/base",
      "model_module_version": "1.0.0",
      "model_name": "LayoutModel",
      "state": {}
     },
     "dbefe62b075d409cb2e33b5085416af3": {
      "model_module": "@jupyter-widgets/controls",
      "model_module_version": "1.2.0",
      "model_name": "DescriptionStyleModel",
      "state": {
       "description_width": ""
      }
     },
     "dc68408c951040ffbd448644b44219d0": {
      "model_module": "@jupyter-widgets/controls",
      "model_module_version": "1.2.0",
      "model_name": "ProgressStyleModel",
      "state": {
       "description_width": ""
      }
     },
     "dd69de7ac7e94b64a6e44a0e01b563bc": {
      "model_module": "@jupyter-widgets/controls",
      "model_module_version": "1.2.0",
      "model_name": "HBoxModel",
      "state": {
       "children": [
        "IPY_MODEL_7c94f749b52c45c7b313743bebbb7ad5",
        "IPY_MODEL_081fe98f2a9246a18854932a2449c1d4"
       ],
       "layout": "IPY_MODEL_433755e0397b4ddc83beeda5d1a47cf4"
      }
     },
     "dd8a4cc91e434f83b299852aed65a1ed": {
      "model_module": "@jupyter-widgets/controls",
      "model_module_version": "1.2.0",
      "model_name": "HBoxModel",
      "state": {
       "children": [
        "IPY_MODEL_9ece5faed27047b6b16dd432db236c86",
        "IPY_MODEL_5150370af2264d55b438034f14dde654"
       ],
       "layout": "IPY_MODEL_d271077ab4ba44359a232437d585b5a6"
      }
     },
     "ddab06c0d4924efd84d4cbbc9d5fd282": {
      "model_module": "@jupyter-widgets/controls",
      "model_module_version": "1.2.0",
      "model_name": "DescriptionStyleModel",
      "state": {
       "description_width": ""
      }
     },
     "ddd1e5d4308f4638b40efa54f4b880ef": {
      "model_module": "@jupyter-widgets/controls",
      "model_module_version": "1.2.0",
      "model_name": "ProgressStyleModel",
      "state": {
       "description_width": ""
      }
     },
     "de1b6ab58ad64698afca84546890bd5a": {
      "model_module": "@jupyter-widgets/controls",
      "model_module_version": "1.2.0",
      "model_name": "ProgressStyleModel",
      "state": {
       "description_width": ""
      }
     },
     "dec793f72a4a48a0af278e380c4bbf6c": {
      "model_module": "@jupyter-widgets/base",
      "model_module_version": "1.0.0",
      "model_name": "LayoutModel",
      "state": {}
     },
     "df1245c7cd7b4dd29ffe49995d4b0de5": {
      "model_module": "@jupyter-widgets/base",
      "model_module_version": "1.0.0",
      "model_name": "LayoutModel",
      "state": {}
     },
     "df75a3c881364aca8a965b2e931b0b3c": {
      "model_module": "@jupyter-widgets/controls",
      "model_module_version": "1.2.0",
      "model_name": "HTMLModel",
      "state": {
       "layout": "IPY_MODEL_f09301d9cf884eb4835f5c20e4661792",
       "style": "IPY_MODEL_f74364ac3f59430a8aa2a5dafb60bc40",
       "value": "100% 26/26 [01:25&lt;00:00,  3.33s/it]"
      }
     },
     "df8696eb28ed49f0aa709615e8cb7ad1": {
      "model_module": "@jupyter-widgets/base",
      "model_module_version": "1.0.0",
      "model_name": "LayoutModel",
      "state": {}
     },
     "dff8c992c3ab4c1bb56e25aaa6332e78": {
      "model_module": "@jupyter-widgets/base",
      "model_module_version": "1.0.0",
      "model_name": "LayoutModel",
      "state": {}
     },
     "e0408f35fdb64699b9b159733ee9fea2": {
      "model_module": "@jupyter-widgets/controls",
      "model_module_version": "1.2.0",
      "model_name": "HTMLModel",
      "state": {
       "layout": "IPY_MODEL_18c4df95bb1a4f78bfbbba9972fedfea",
       "style": "IPY_MODEL_712dd872d4474bd8b8b41c08d9592641",
       "value": "100% 26/26 [01:25&lt;00:00,  3.29s/it]"
      }
     },
     "e09b1a57ed2a47dcaa21ed6ad5769c74": {
      "model_module": "@jupyter-widgets/base",
      "model_module_version": "1.0.0",
      "model_name": "LayoutModel",
      "state": {}
     },
     "e09cee718d284784a95fe7ef32162a51": {
      "model_module": "@jupyter-widgets/controls",
      "model_module_version": "1.2.0",
      "model_name": "HTMLModel",
      "state": {
       "layout": "IPY_MODEL_cc97904136d4435b8844ff82047147f6",
       "style": "IPY_MODEL_4053d61c49ef453fb68ca6f771657413",
       "value": "100% 26/26 [01:26&lt;00:00,  3.31s/it]"
      }
     },
     "e10a17242d4f46f0828ee5153d375b19": {
      "model_module": "@jupyter-widgets/controls",
      "model_module_version": "1.2.0",
      "model_name": "ProgressStyleModel",
      "state": {
       "description_width": ""
      }
     },
     "e125e53f1e51458dae9aff9d20c958dc": {
      "model_module": "@jupyter-widgets/controls",
      "model_module_version": "1.2.0",
      "model_name": "HBoxModel",
      "state": {
       "children": [
        "IPY_MODEL_a7dec312962749328626b750cfa19088",
        "IPY_MODEL_2556e3d3832d48a2b41edcc4b4f71ee6"
       ],
       "layout": "IPY_MODEL_3917d7ec69f64ac18dc7909c932139f5"
      }
     },
     "e1592c38a23b4bdd98ec6f52368b1b36": {
      "model_module": "@jupyter-widgets/controls",
      "model_module_version": "1.2.0",
      "model_name": "ProgressStyleModel",
      "state": {
       "description_width": ""
      }
     },
     "e17d9fdc5b60436089d63a71802d38cc": {
      "model_module": "@jupyter-widgets/controls",
      "model_module_version": "1.2.0",
      "model_name": "HTMLModel",
      "state": {
       "layout": "IPY_MODEL_bd4d7977d66842ea8ec430130d173bd9",
       "style": "IPY_MODEL_03b38623988b4541aa68fc3e45473d83",
       "value": "100% 26/26 [01:25&lt;00:00,  3.28s/it]"
      }
     },
     "e1aea33fb845480bba0bcb03d647c91d": {
      "model_module": "@jupyter-widgets/base",
      "model_module_version": "1.0.0",
      "model_name": "LayoutModel",
      "state": {}
     },
     "e1b3504f47ed454c944d75c643277f17": {
      "model_module": "@jupyter-widgets/controls",
      "model_module_version": "1.2.0",
      "model_name": "ProgressStyleModel",
      "state": {
       "description_width": ""
      }
     },
     "e29e05bfd4474ad69c12088b054e7937": {
      "model_module": "@jupyter-widgets/controls",
      "model_module_version": "1.2.0",
      "model_name": "HBoxModel",
      "state": {
       "children": [
        "IPY_MODEL_716dd257da8948cab7d2114e47bc37a1",
        "IPY_MODEL_1b52c3abe5d14a0f853fb03181985932"
       ],
       "layout": "IPY_MODEL_9e6c89e32c25442a93832df837aae807"
      }
     },
     "e2bb2fdcc29f4cdb98d00c57a9ebc945": {
      "model_module": "@jupyter-widgets/controls",
      "model_module_version": "1.2.0",
      "model_name": "HBoxModel",
      "state": {
       "children": [
        "IPY_MODEL_ed614b9e5174489183ce7ba839d870a1",
        "IPY_MODEL_a76b16406221472bb8a1f7d4a6857542"
       ],
       "layout": "IPY_MODEL_fc21b3afec3b4cf595e51d9bf601895d"
      }
     },
     "e30f2d5f25ad41c2ae1afc89e71c1670": {
      "model_module": "@jupyter-widgets/base",
      "model_module_version": "1.0.0",
      "model_name": "LayoutModel",
      "state": {}
     },
     "e31e2eabb61344a98c4403acd977bad7": {
      "model_module": "@jupyter-widgets/controls",
      "model_module_version": "1.2.0",
      "model_name": "HTMLModel",
      "state": {
       "layout": "IPY_MODEL_0939ccb43be545538463963788e29ae5",
       "style": "IPY_MODEL_8048e0362c054578ae1f6da535b5d36e",
       "value": "  0% 0/26 [00:00&lt;?, ?it/s]"
      }
     },
     "e362e92e548f406194ef0a27e1ec47c7": {
      "model_module": "@jupyter-widgets/controls",
      "model_module_version": "1.2.0",
      "model_name": "HTMLModel",
      "state": {
       "layout": "IPY_MODEL_8d4faf07bc504da0ab27ac39fb69edba",
       "style": "IPY_MODEL_4d17d673dbc64d8f992f284399ba5991",
       "value": "100% 1/1 [01:40&lt;00:00, 100.09s/it]"
      }
     },
     "e36a9c75585c4854b9c95b01931dcdad": {
      "model_module": "@jupyter-widgets/base",
      "model_module_version": "1.0.0",
      "model_name": "LayoutModel",
      "state": {}
     },
     "e380e1fbddc54f4ab81b9673d5988526": {
      "model_module": "@jupyter-widgets/controls",
      "model_module_version": "1.2.0",
      "model_name": "IntProgressModel",
      "state": {
       "bar_style": "success",
       "layout": "IPY_MODEL_d58024c90d5845c2a0d558e251f49bcc",
       "max": 26,
       "style": "IPY_MODEL_65b2fc64ff314541aa49d9e3207aea3f",
       "value": 26
      }
     },
     "e3c1c6a8500e4d1cb00316d4189c7362": {
      "model_module": "@jupyter-widgets/controls",
      "model_module_version": "1.2.0",
      "model_name": "ProgressStyleModel",
      "state": {
       "description_width": ""
      }
     },
     "e3e0c8f5c4494792bbdd1965e6743843": {
      "model_module": "@jupyter-widgets/base",
      "model_module_version": "1.0.0",
      "model_name": "LayoutModel",
      "state": {}
     },
     "e51134d0359648f0bde9fb2172db825d": {
      "model_module": "@jupyter-widgets/base",
      "model_module_version": "1.0.0",
      "model_name": "LayoutModel",
      "state": {}
     },
     "e56ff2c193a347008c556edca5e1b56f": {
      "model_module": "@jupyter-widgets/controls",
      "model_module_version": "1.2.0",
      "model_name": "DescriptionStyleModel",
      "state": {
       "description_width": ""
      }
     },
     "e5812a2af0d541f48115faca6772297c": {
      "model_module": "@jupyter-widgets/base",
      "model_module_version": "1.0.0",
      "model_name": "LayoutModel",
      "state": {}
     },
     "e5e9529481f1491ab0ccb90189be99b7": {
      "model_module": "@jupyter-widgets/controls",
      "model_module_version": "1.2.0",
      "model_name": "DescriptionStyleModel",
      "state": {
       "description_width": ""
      }
     },
     "e66ae8d0c77d4a09a90780d8e259f291": {
      "model_module": "@jupyter-widgets/base",
      "model_module_version": "1.0.0",
      "model_name": "LayoutModel",
      "state": {}
     },
     "e6c506b3635d46cc8c116228124e31ef": {
      "model_module": "@jupyter-widgets/controls",
      "model_module_version": "1.2.0",
      "model_name": "DescriptionStyleModel",
      "state": {
       "description_width": ""
      }
     },
     "e6e13f8939c64beabdf833ae71702c93": {
      "model_module": "@jupyter-widgets/controls",
      "model_module_version": "1.2.0",
      "model_name": "IntProgressModel",
      "state": {
       "bar_style": "success",
       "layout": "IPY_MODEL_62199e5960e340ab99c7a7b39ec324fd",
       "max": 26,
       "style": "IPY_MODEL_f86b2543088049019ff70bba236046a0",
       "value": 26
      }
     },
     "e6f7bee62d5b4d3091e1a9867fb06bf2": {
      "model_module": "@jupyter-widgets/controls",
      "model_module_version": "1.2.0",
      "model_name": "IntProgressModel",
      "state": {
       "bar_style": "success",
       "layout": "IPY_MODEL_b5e753457d694b4f962b92917cd8e9ca",
       "max": 26,
       "style": "IPY_MODEL_89e28e06c3b44d12a7aa99a04d66fd1f",
       "value": 26
      }
     },
     "e7034e5e51f34d2fa0495a0a3d1aa602": {
      "model_module": "@jupyter-widgets/controls",
      "model_module_version": "1.2.0",
      "model_name": "IntProgressModel",
      "state": {
       "bar_style": "success",
       "layout": "IPY_MODEL_15b0a050ea4548e2aa3d64120f30e4f4",
       "max": 26,
       "style": "IPY_MODEL_27bac3a534af4cdebf00518c89b7983f",
       "value": 26
      }
     },
     "e72e8b3721454a5aa8463c1b666c342b": {
      "model_module": "@jupyter-widgets/base",
      "model_module_version": "1.0.0",
      "model_name": "LayoutModel",
      "state": {}
     },
     "e7740bfdbe6440a59d5867603bafa5aa": {
      "model_module": "@jupyter-widgets/controls",
      "model_module_version": "1.2.0",
      "model_name": "HTMLModel",
      "state": {
       "layout": "IPY_MODEL_bc7e2d7657eb4f71821149de2a575f8d",
       "style": "IPY_MODEL_4db8aeea513e47d39b12522ee5096494",
       "value": "100% 26/26 [01:26&lt;00:00,  3.33s/it]"
      }
     },
     "e79c02b257634f2391c71bc73b2a74b1": {
      "model_module": "@jupyter-widgets/base",
      "model_module_version": "1.0.0",
      "model_name": "LayoutModel",
      "state": {}
     },
     "e811012e100e4c4da119bb5c27e81909": {
      "model_module": "@jupyter-widgets/controls",
      "model_module_version": "1.2.0",
      "model_name": "IntProgressModel",
      "state": {
       "bar_style": "success",
       "layout": "IPY_MODEL_29335175624b413393b945459024433b",
       "max": 26,
       "style": "IPY_MODEL_3bd92257331b4f80b74ca2fe9a4aacfa",
       "value": 26
      }
     },
     "e819bc7ff16b4ec291edd5a6db128602": {
      "model_module": "@jupyter-widgets/base",
      "model_module_version": "1.0.0",
      "model_name": "LayoutModel",
      "state": {}
     },
     "e84b108a2200471dbf918673d4f047a3": {
      "model_module": "@jupyter-widgets/base",
      "model_module_version": "1.0.0",
      "model_name": "LayoutModel",
      "state": {}
     },
     "e853f2fdd2ca420e803670d6056b9b9c": {
      "model_module": "@jupyter-widgets/controls",
      "model_module_version": "1.2.0",
      "model_name": "IntProgressModel",
      "state": {
       "bar_style": "success",
       "layout": "IPY_MODEL_a1fc11c8a2fb48f2ba5989b2fe66a910",
       "max": 26,
       "style": "IPY_MODEL_c9cf40abea7449baa27d73dfaa53679a",
       "value": 26
      }
     },
     "e89d1ab557c542f5b8b3398222433096": {
      "model_module": "@jupyter-widgets/controls",
      "model_module_version": "1.2.0",
      "model_name": "DescriptionStyleModel",
      "state": {
       "description_width": ""
      }
     },
     "e8c41efa617e4c3883091eb4d145db3e": {
      "model_module": "@jupyter-widgets/base",
      "model_module_version": "1.0.0",
      "model_name": "LayoutModel",
      "state": {}
     },
     "e8f63c24e56f4daeacf6283f82001c35": {
      "model_module": "@jupyter-widgets/controls",
      "model_module_version": "1.2.0",
      "model_name": "DescriptionStyleModel",
      "state": {
       "description_width": ""
      }
     },
     "e926223dc41c482b967845cd3c6b170f": {
      "model_module": "@jupyter-widgets/controls",
      "model_module_version": "1.2.0",
      "model_name": "HBoxModel",
      "state": {
       "children": [
        "IPY_MODEL_b6fd71fcdf63466eb7779e8cd9e33cf1",
        "IPY_MODEL_172c9b440aac4a8c8395831b5a970d42"
       ],
       "layout": "IPY_MODEL_5ee84bddf3c144b1a706363ea3dc8666"
      }
     },
     "e9a4882b55744268a0809983175d6f9d": {
      "model_module": "@jupyter-widgets/controls",
      "model_module_version": "1.2.0",
      "model_name": "HTMLModel",
      "state": {
       "layout": "IPY_MODEL_d2d1095b622c44519a8b67f466a91d12",
       "style": "IPY_MODEL_3f93f9420ba64bf393df48d45d24a828",
       "value": "100% 26/26 [01:25&lt;00:00,  3.30s/it]"
      }
     },
     "ea090141b52642ccb90538c788aa86ba": {
      "model_module": "@jupyter-widgets/controls",
      "model_module_version": "1.2.0",
      "model_name": "HTMLModel",
      "state": {
       "layout": "IPY_MODEL_c1b50218d2014dde9999c14159c34d39",
       "style": "IPY_MODEL_70a28d100e67409cb4ae1b64b36b458d",
       "value": "100% 26/26 [01:25&lt;00:00,  3.26s/it]"
      }
     },
     "ea109f406e6d4b1cb5b519b2ad158ae8": {
      "model_module": "@jupyter-widgets/controls",
      "model_module_version": "1.2.0",
      "model_name": "HBoxModel",
      "state": {
       "children": [
        "IPY_MODEL_4d960b9660414699b09d945efcec1604",
        "IPY_MODEL_fd827dff8378438aa5fedaa35b930967"
       ],
       "layout": "IPY_MODEL_80477e31514d4a58bd4ea849b8cf1c0c"
      }
     },
     "ea64e97d6ffb4d9ca83b7a5e5b7289f2": {
      "model_module": "@jupyter-widgets/controls",
      "model_module_version": "1.2.0",
      "model_name": "HTMLModel",
      "state": {
       "layout": "IPY_MODEL_555f254505c5437aba54ea169d7e2ae2",
       "style": "IPY_MODEL_2812424391d84a15839691aff870a260",
       "value": "100% 26/26 [01:26&lt;00:00,  3.31s/it]"
      }
     },
     "ead82cce0fec405a94bb5699b1b6dd5b": {
      "model_module": "@jupyter-widgets/base",
      "model_module_version": "1.0.0",
      "model_name": "LayoutModel",
      "state": {}
     },
     "eadc51f45e8f4f52b5aac00770c5e741": {
      "model_module": "@jupyter-widgets/controls",
      "model_module_version": "1.2.0",
      "model_name": "IntProgressModel",
      "state": {
       "bar_style": "success",
       "layout": "IPY_MODEL_df8696eb28ed49f0aa709615e8cb7ad1",
       "max": 1,
       "style": "IPY_MODEL_6dc93e6e6acc41cd99e5858ab9e7db7d",
       "value": 1
      }
     },
     "eae692d829d74cdb9c9294b594a76980": {
      "model_module": "@jupyter-widgets/controls",
      "model_module_version": "1.2.0",
      "model_name": "IntProgressModel",
      "state": {
       "bar_style": "success",
       "layout": "IPY_MODEL_efe48c36766b4ec3995a5eb970aa7f08",
       "max": 26,
       "style": "IPY_MODEL_4264ea72843d4051a9baf3eb7099c186",
       "value": 26
      }
     },
     "eb3f25c5e7384af9a5741b67310d8c2a": {
      "model_module": "@jupyter-widgets/base",
      "model_module_version": "1.0.0",
      "model_name": "LayoutModel",
      "state": {}
     },
     "eb42b51e12c14c2eb65ce50b32e9447f": {
      "model_module": "@jupyter-widgets/controls",
      "model_module_version": "1.2.0",
      "model_name": "HTMLModel",
      "state": {
       "layout": "IPY_MODEL_1ef2d35a376d4c3fa56e605ee335e583",
       "style": "IPY_MODEL_e5e9529481f1491ab0ccb90189be99b7",
       "value": "100% 26/26 [01:25&lt;00:00,  3.30s/it]"
      }
     },
     "eb546044d55d47b6a7fecfbeb5c82417": {
      "model_module": "@jupyter-widgets/controls",
      "model_module_version": "1.2.0",
      "model_name": "HBoxModel",
      "state": {
       "children": [
        "IPY_MODEL_71d6817a27d041618fb9b3a0e40bdd2b",
        "IPY_MODEL_31d0e7dec454434082c3e63683ba4df5"
       ],
       "layout": "IPY_MODEL_6015498beb7d46fd86bf48cdbceb44ef"
      }
     },
     "ebb4a2a9ec1f4d45af7e6a9345a3028c": {
      "model_module": "@jupyter-widgets/base",
      "model_module_version": "1.0.0",
      "model_name": "LayoutModel",
      "state": {}
     },
     "ebd4987542fa458fbf60957a65629f59": {
      "model_module": "@jupyter-widgets/base",
      "model_module_version": "1.0.0",
      "model_name": "LayoutModel",
      "state": {}
     },
     "ec39732e42fd41438ed2309569725674": {
      "model_module": "@jupyter-widgets/base",
      "model_module_version": "1.0.0",
      "model_name": "LayoutModel",
      "state": {}
     },
     "ec540225c6864557a5f647017464283b": {
      "model_module": "@jupyter-widgets/controls",
      "model_module_version": "1.2.0",
      "model_name": "ProgressStyleModel",
      "state": {
       "description_width": ""
      }
     },
     "ec5d88e997c94ddd96ff43c83b217687": {
      "model_module": "@jupyter-widgets/controls",
      "model_module_version": "1.2.0",
      "model_name": "DescriptionStyleModel",
      "state": {
       "description_width": ""
      }
     },
     "ecc7a6cf8e7140759c85a10864aec5a8": {
      "model_module": "@jupyter-widgets/controls",
      "model_module_version": "1.2.0",
      "model_name": "ProgressStyleModel",
      "state": {
       "description_width": ""
      }
     },
     "ed13d19f8c6b4ce8a3532cea44bf1552": {
      "model_module": "@jupyter-widgets/controls",
      "model_module_version": "1.2.0",
      "model_name": "IntProgressModel",
      "state": {
       "bar_style": "success",
       "layout": "IPY_MODEL_29e1a11aa22540f4b657922bc35d4c0c",
       "max": 26,
       "style": "IPY_MODEL_8084c86450034cac8309d9dc5fbd1651",
       "value": 26
      }
     },
     "ed46dcc48ca64357a69d3938cefe8b13": {
      "model_module": "@jupyter-widgets/controls",
      "model_module_version": "1.2.0",
      "model_name": "ProgressStyleModel",
      "state": {
       "description_width": ""
      }
     },
     "ed614b9e5174489183ce7ba839d870a1": {
      "model_module": "@jupyter-widgets/controls",
      "model_module_version": "1.2.0",
      "model_name": "IntProgressModel",
      "state": {
       "bar_style": "success",
       "layout": "IPY_MODEL_71114ad673594604a19a1702ee606b85",
       "max": 26,
       "style": "IPY_MODEL_1bf02fd234e24fd3bd00d3a37a844599",
       "value": 26
      }
     },
     "ed8d1b8d4f074787af25ffef4fd2dc35": {
      "model_module": "@jupyter-widgets/base",
      "model_module_version": "1.0.0",
      "model_name": "LayoutModel",
      "state": {}
     },
     "edda035749554fc9bcffee1693825b9d": {
      "model_module": "@jupyter-widgets/base",
      "model_module_version": "1.0.0",
      "model_name": "LayoutModel",
      "state": {}
     },
     "ef00952353e54c0cbfa3f927a419cf8b": {
      "model_module": "@jupyter-widgets/controls",
      "model_module_version": "1.2.0",
      "model_name": "IntProgressModel",
      "state": {
       "bar_style": "success",
       "layout": "IPY_MODEL_b23340633bfb4acd89fa48a3beace900",
       "max": 26,
       "style": "IPY_MODEL_44cbbf4f5313440eb4a8d31fabe86e57",
       "value": 26
      }
     },
     "ef1a96c13b32474e840cddc83a3596d8": {
      "model_module": "@jupyter-widgets/controls",
      "model_module_version": "1.2.0",
      "model_name": "HBoxModel",
      "state": {
       "children": [
        "IPY_MODEL_8f48f067eb81402782f8b0e395f1f8db",
        "IPY_MODEL_48af3ec95c1e41528ee105a805693a72"
       ],
       "layout": "IPY_MODEL_2b173e901e68474a82be5f14f598247d"
      }
     },
     "efbd48444edf42a185d40b7522765a0d": {
      "model_module": "@jupyter-widgets/base",
      "model_module_version": "1.0.0",
      "model_name": "LayoutModel",
      "state": {}
     },
     "efc09943b3054ebe88a2fa3b74cefa52": {
      "model_module": "@jupyter-widgets/base",
      "model_module_version": "1.0.0",
      "model_name": "LayoutModel",
      "state": {}
     },
     "efe48c36766b4ec3995a5eb970aa7f08": {
      "model_module": "@jupyter-widgets/base",
      "model_module_version": "1.0.0",
      "model_name": "LayoutModel",
      "state": {}
     },
     "f007760ee0e949fb835b719ee2c6a210": {
      "model_module": "@jupyter-widgets/controls",
      "model_module_version": "1.2.0",
      "model_name": "HTMLModel",
      "state": {
       "layout": "IPY_MODEL_d131280451614ed3baf00217cede42b2",
       "style": "IPY_MODEL_a3a122a559f3490bbc4937c4d36c2b72",
       "value": "100% 26/26 [01:25&lt;00:00,  3.33s/it]"
      }
     },
     "f00bc37a5c414a5da067c873780a1948": {
      "model_module": "@jupyter-widgets/base",
      "model_module_version": "1.0.0",
      "model_name": "LayoutModel",
      "state": {}
     },
     "f0566c13b2024122bade1e6aaadda9e6": {
      "model_module": "@jupyter-widgets/controls",
      "model_module_version": "1.2.0",
      "model_name": "HBoxModel",
      "state": {
       "children": [
        "IPY_MODEL_1ea00389864c4af697bf53689637efc6",
        "IPY_MODEL_e362e92e548f406194ef0a27e1ec47c7"
       ],
       "layout": "IPY_MODEL_7c49f0e77f6b40f382420777d869da3c"
      }
     },
     "f09301d9cf884eb4835f5c20e4661792": {
      "model_module": "@jupyter-widgets/base",
      "model_module_version": "1.0.0",
      "model_name": "LayoutModel",
      "state": {}
     },
     "f0d623c6d3f94e83835067029a459d78": {
      "model_module": "@jupyter-widgets/base",
      "model_module_version": "1.0.0",
      "model_name": "LayoutModel",
      "state": {}
     },
     "f182041322f64caebc4d3761db2abdd6": {
      "model_module": "@jupyter-widgets/controls",
      "model_module_version": "1.2.0",
      "model_name": "ProgressStyleModel",
      "state": {
       "description_width": ""
      }
     },
     "f1c777fb42dc46ee8d59ff481159dbe6": {
      "model_module": "@jupyter-widgets/controls",
      "model_module_version": "1.2.0",
      "model_name": "ProgressStyleModel",
      "state": {
       "description_width": ""
      }
     },
     "f213b6d4ce124256ad8ed14e8bdad850": {
      "model_module": "@jupyter-widgets/base",
      "model_module_version": "1.0.0",
      "model_name": "LayoutModel",
      "state": {}
     },
     "f24b689dab214b84b3a12da20f486261": {
      "model_module": "@jupyter-widgets/controls",
      "model_module_version": "1.2.0",
      "model_name": "ProgressStyleModel",
      "state": {
       "description_width": ""
      }
     },
     "f27652a30ba94900a435ca71f564ecf7": {
      "model_module": "@jupyter-widgets/controls",
      "model_module_version": "1.2.0",
      "model_name": "IntProgressModel",
      "state": {
       "bar_style": "success",
       "layout": "IPY_MODEL_45cfbbcbf7554b12b838ba2ec4a3256b",
       "max": 26,
       "style": "IPY_MODEL_0851d61f22b64f778e4ef58de64ded7d",
       "value": 26
      }
     },
     "f2fba5fc606646d28477a8ef8bd9f294": {
      "model_module": "@jupyter-widgets/controls",
      "model_module_version": "1.2.0",
      "model_name": "HTMLModel",
      "state": {
       "layout": "IPY_MODEL_1969a9d857de48d99b8f9b5b187a0e21",
       "style": "IPY_MODEL_88effc476ad34ed2922d84bd8aa232a3",
       "value": "100% 26/26 [01:40&lt;00:00,  3.85s/it]"
      }
     },
     "f3837d7fd66f44d88b135bf2e3c9a810": {
      "model_module": "@jupyter-widgets/base",
      "model_module_version": "1.0.0",
      "model_name": "LayoutModel",
      "state": {}
     },
     "f3b97f7d4b6e4bfdb6070232f3d60fcb": {
      "model_module": "@jupyter-widgets/controls",
      "model_module_version": "1.2.0",
      "model_name": "DescriptionStyleModel",
      "state": {
       "description_width": ""
      }
     },
     "f432c688a13d4626b7cc6385da197797": {
      "model_module": "@jupyter-widgets/base",
      "model_module_version": "1.0.0",
      "model_name": "LayoutModel",
      "state": {}
     },
     "f447ad78046a42a0ac176f8fa6f16b00": {
      "model_module": "@jupyter-widgets/base",
      "model_module_version": "1.0.0",
      "model_name": "LayoutModel",
      "state": {}
     },
     "f49913c25e06495b929e645353568827": {
      "model_module": "@jupyter-widgets/base",
      "model_module_version": "1.0.0",
      "model_name": "LayoutModel",
      "state": {}
     },
     "f4a28799ed4d402eab85a7f85a26ff5c": {
      "model_module": "@jupyter-widgets/controls",
      "model_module_version": "1.2.0",
      "model_name": "ProgressStyleModel",
      "state": {
       "description_width": ""
      }
     },
     "f4b3d64928624aa784db046fb3a248a5": {
      "model_module": "@jupyter-widgets/base",
      "model_module_version": "1.0.0",
      "model_name": "LayoutModel",
      "state": {}
     },
     "f4f69d5cfadc4e15bbc2c4570f5c3813": {
      "model_module": "@jupyter-widgets/controls",
      "model_module_version": "1.2.0",
      "model_name": "IntProgressModel",
      "state": {
       "bar_style": "success",
       "layout": "IPY_MODEL_dafab64adb4246cf8a3471b5722f22da",
       "max": 26,
       "style": "IPY_MODEL_e1592c38a23b4bdd98ec6f52368b1b36",
       "value": 26
      }
     },
     "f511434d6a3449ceb16c0bddaedf940e": {
      "model_module": "@jupyter-widgets/controls",
      "model_module_version": "1.2.0",
      "model_name": "HBoxModel",
      "state": {
       "children": [
        "IPY_MODEL_a8c9a26d58c24905817cc239c218706e",
        "IPY_MODEL_d4cf06217c39468480e8ac6a7168f53a"
       ],
       "layout": "IPY_MODEL_2317c7d7c9cf489d9f89a499b8b3783a"
      }
     },
     "f529b49452ed4013849561c7a122f4ef": {
      "model_module": "@jupyter-widgets/controls",
      "model_module_version": "1.2.0",
      "model_name": "ProgressStyleModel",
      "state": {
       "description_width": ""
      }
     },
     "f560dcfbdfba431e93cf07274b71906f": {
      "model_module": "@jupyter-widgets/controls",
      "model_module_version": "1.2.0",
      "model_name": "IntProgressModel",
      "state": {
       "bar_style": "success",
       "layout": "IPY_MODEL_81a6dcae5bd9499eb0c2eb4c2dd04a1e",
       "max": 26,
       "style": "IPY_MODEL_0e4e8fe4e12148c1813fe85f000478d9",
       "value": 26
      }
     },
     "f57c0289c12d495487e9a3977a5d23ff": {
      "model_module": "@jupyter-widgets/controls",
      "model_module_version": "1.2.0",
      "model_name": "HTMLModel",
      "state": {
       "layout": "IPY_MODEL_807fb5e9a424400babc89540e9913ebb",
       "style": "IPY_MODEL_8cef7d5566614b979cf9fde9c7600291",
       "value": "100% 26/26 [01:25&lt;00:00,  3.28s/it]"
      }
     },
     "f5936c7079e246e58ae22746632ffce7": {
      "model_module": "@jupyter-widgets/base",
      "model_module_version": "1.0.0",
      "model_name": "LayoutModel",
      "state": {}
     },
     "f6c08e64494143c5b57a6a3c4f687310": {
      "model_module": "@jupyter-widgets/base",
      "model_module_version": "1.0.0",
      "model_name": "LayoutModel",
      "state": {}
     },
     "f6dd1529307e41839dc68fc9aef37790": {
      "model_module": "@jupyter-widgets/controls",
      "model_module_version": "1.2.0",
      "model_name": "HBoxModel",
      "state": {
       "children": [
        "IPY_MODEL_d46a195754fe4bb4b4e4f62d00aafd7b",
        "IPY_MODEL_749a4c500f0443ab97723ee20da86356"
       ],
       "layout": "IPY_MODEL_368feae49ae9408f872b13640247ef76"
      }
     },
     "f74364ac3f59430a8aa2a5dafb60bc40": {
      "model_module": "@jupyter-widgets/controls",
      "model_module_version": "1.2.0",
      "model_name": "DescriptionStyleModel",
      "state": {
       "description_width": ""
      }
     },
     "f757c4989f394a0db8bc05df1b6de690": {
      "model_module": "@jupyter-widgets/base",
      "model_module_version": "1.0.0",
      "model_name": "LayoutModel",
      "state": {}
     },
     "f76f119e07dc491ea2e49ab43cb4156a": {
      "model_module": "@jupyter-widgets/controls",
      "model_module_version": "1.2.0",
      "model_name": "HTMLModel",
      "state": {
       "layout": "IPY_MODEL_b6e259059613467c9f58828a8feb29cd",
       "style": "IPY_MODEL_0a78b613177f4c05bc30793430d7e513",
       "value": "100% 5/5 [00:27&lt;00:00,  5.43s/it]"
      }
     },
     "f7ca890c08c34a008587171b697ceb54": {
      "model_module": "@jupyter-widgets/base",
      "model_module_version": "1.0.0",
      "model_name": "LayoutModel",
      "state": {}
     },
     "f7eeb1bddc6f418fa8dee7568d781011": {
      "model_module": "@jupyter-widgets/controls",
      "model_module_version": "1.2.0",
      "model_name": "HTMLModel",
      "state": {
       "layout": "IPY_MODEL_aa638e94a9344093843e7be78d016630",
       "style": "IPY_MODEL_89195b114c4c46ac824dbd19d4e21806",
       "value": "100% 26/26 [01:26&lt;00:00,  3.32s/it]"
      }
     },
     "f7f505f548a745cdaaafd257c026ac20": {
      "model_module": "@jupyter-widgets/controls",
      "model_module_version": "1.2.0",
      "model_name": "IntProgressModel",
      "state": {
       "bar_style": "success",
       "layout": "IPY_MODEL_8f4deb4233d04368b1c5cb0bc89c7a4b",
       "max": 26,
       "style": "IPY_MODEL_f1c777fb42dc46ee8d59ff481159dbe6",
       "value": 26
      }
     },
     "f814c456cbf74b1dab644a8374f1405f": {
      "model_module": "@jupyter-widgets/controls",
      "model_module_version": "1.2.0",
      "model_name": "HTMLModel",
      "state": {
       "layout": "IPY_MODEL_346300b176704b7184e598304722d44f",
       "style": "IPY_MODEL_9e1d7b5dd163467c89125f116385aa38",
       "value": "100% 26/26 [01:25&lt;00:00,  3.28s/it]"
      }
     },
     "f838b732f2924e5eab4698d7533b9529": {
      "model_module": "@jupyter-widgets/controls",
      "model_module_version": "1.2.0",
      "model_name": "HBoxModel",
      "state": {
       "children": [
        "IPY_MODEL_c2aa971d62f64825b0cbaa67c429a124",
        "IPY_MODEL_ce4bc4a2f185402cbc43b833c893183f"
       ],
       "layout": "IPY_MODEL_6d151c586438410b8d45feff4f972ffd"
      }
     },
     "f83da668fb2d4bc3b15ee4a9bbc405a2": {
      "model_module": "@jupyter-widgets/base",
      "model_module_version": "1.0.0",
      "model_name": "LayoutModel",
      "state": {}
     },
     "f855ad5afec34478ab3949533aea5914": {
      "model_module": "@jupyter-widgets/base",
      "model_module_version": "1.0.0",
      "model_name": "LayoutModel",
      "state": {}
     },
     "f86b2543088049019ff70bba236046a0": {
      "model_module": "@jupyter-widgets/controls",
      "model_module_version": "1.2.0",
      "model_name": "ProgressStyleModel",
      "state": {
       "description_width": ""
      }
     },
     "f8ef419ed6dd4e3c862126f881e21984": {
      "model_module": "@jupyter-widgets/base",
      "model_module_version": "1.0.0",
      "model_name": "LayoutModel",
      "state": {}
     },
     "f92d95e84fb94e1a94231cdf1d83ac81": {
      "model_module": "@jupyter-widgets/controls",
      "model_module_version": "1.2.0",
      "model_name": "DescriptionStyleModel",
      "state": {
       "description_width": ""
      }
     },
     "f95eb9bf2e9d40ca839f7924ff69a80b": {
      "model_module": "@jupyter-widgets/controls",
      "model_module_version": "1.2.0",
      "model_name": "HTMLModel",
      "state": {
       "layout": "IPY_MODEL_e51134d0359648f0bde9fb2172db825d",
       "style": "IPY_MODEL_db57684928db4fa491056e40cde06b82",
       "value": "100% 26/26 [01:25&lt;00:00,  3.28s/it]"
      }
     },
     "f95f684ff63c4eafbfb74286202b43fd": {
      "model_module": "@jupyter-widgets/controls",
      "model_module_version": "1.2.0",
      "model_name": "IntProgressModel",
      "state": {
       "bar_style": "success",
       "layout": "IPY_MODEL_ffcecdb6733045bdbed49e4a933cc24c",
       "max": 26,
       "style": "IPY_MODEL_5d23ee93ea824219bce406fc687b7776",
       "value": 26
      }
     },
     "fa380eb4b9af4f56a943c79e638a4d6e": {
      "model_module": "@jupyter-widgets/controls",
      "model_module_version": "1.2.0",
      "model_name": "ProgressStyleModel",
      "state": {
       "description_width": ""
      }
     },
     "fa7c4737154a4a12987bb7189709108f": {
      "model_module": "@jupyter-widgets/controls",
      "model_module_version": "1.2.0",
      "model_name": "ProgressStyleModel",
      "state": {
       "description_width": ""
      }
     },
     "fac68bd9eb074bdb876f340807e04c68": {
      "model_module": "@jupyter-widgets/base",
      "model_module_version": "1.0.0",
      "model_name": "LayoutModel",
      "state": {}
     },
     "fb085584cadb46c0af8f9d2dae0f12b9": {
      "model_module": "@jupyter-widgets/controls",
      "model_module_version": "1.2.0",
      "model_name": "ProgressStyleModel",
      "state": {
       "description_width": ""
      }
     },
     "fb4b3fab1d554e64a6eb7abbe2825a3d": {
      "model_module": "@jupyter-widgets/controls",
      "model_module_version": "1.2.0",
      "model_name": "HBoxModel",
      "state": {
       "children": [
        "IPY_MODEL_260cd3e3cc8f492180fc14d3c78fbc0d",
        "IPY_MODEL_7f9e7cb698f5410a91921d569165e848"
       ],
       "layout": "IPY_MODEL_26bf45a2348646edb7ec57e3ca0448bf"
      }
     },
     "fb5aebac020b41d186811a5a552e0adb": {
      "model_module": "@jupyter-widgets/controls",
      "model_module_version": "1.2.0",
      "model_name": "DescriptionStyleModel",
      "state": {
       "description_width": ""
      }
     },
     "fbbdcbdab44e4ba4a2f510f1e268f676": {
      "model_module": "@jupyter-widgets/controls",
      "model_module_version": "1.2.0",
      "model_name": "HTMLModel",
      "state": {
       "layout": "IPY_MODEL_b2b1203b47a94ee0ab0d650e512145e5",
       "style": "IPY_MODEL_00ee3ccac1ac4e61a2a4f86b33f42606",
       "value": "100% 26/26 [01:25&lt;00:00,  3.27s/it]"
      }
     },
     "fc21b3afec3b4cf595e51d9bf601895d": {
      "model_module": "@jupyter-widgets/base",
      "model_module_version": "1.0.0",
      "model_name": "LayoutModel",
      "state": {}
     },
     "fc39524cc0704d9fb020a80d7a592181": {
      "model_module": "@jupyter-widgets/base",
      "model_module_version": "1.0.0",
      "model_name": "LayoutModel",
      "state": {}
     },
     "fc6f409c2ddd486c910800cef02ed688": {
      "model_module": "@jupyter-widgets/base",
      "model_module_version": "1.0.0",
      "model_name": "LayoutModel",
      "state": {}
     },
     "fcb09dcb33d544029e16230d9df355d1": {
      "model_module": "@jupyter-widgets/controls",
      "model_module_version": "1.2.0",
      "model_name": "HBoxModel",
      "state": {
       "children": [
        "IPY_MODEL_289b3ea22469467397312a0efa0f6054",
        "IPY_MODEL_f57c0289c12d495487e9a3977a5d23ff"
       ],
       "layout": "IPY_MODEL_8156d30dc4794dc7af2ce14b7ddf1dec"
      }
     },
     "fcdbf314a33746acb8373e5d9cff2084": {
      "model_module": "@jupyter-widgets/controls",
      "model_module_version": "1.2.0",
      "model_name": "HBoxModel",
      "state": {
       "children": [
        "IPY_MODEL_4b2a3ea49d50446c91cacac278b8337c",
        "IPY_MODEL_5a0713b5a6334256926b9657d7728d61"
       ],
       "layout": "IPY_MODEL_19fbdb69f6b040deb1d5a68a5c745542"
      }
     },
     "fd05a6d67e8f4549a0449ae76b0eaba1": {
      "model_module": "@jupyter-widgets/controls",
      "model_module_version": "1.2.0",
      "model_name": "HTMLModel",
      "state": {
       "layout": "IPY_MODEL_51d3a10aaf8d4fcbb9c99b5f90133cc5",
       "style": "IPY_MODEL_2c02b19c40cc4ec7b1ddb875a15a9e8d",
       "value": "100% 26/26 [01:27&lt;00:00,  3.31s/it]"
      }
     },
     "fd41a44103be46849499b4c319d0a58c": {
      "model_module": "@jupyter-widgets/controls",
      "model_module_version": "1.2.0",
      "model_name": "DescriptionStyleModel",
      "state": {
       "description_width": ""
      }
     },
     "fd7efea9d17b4c628b42c06a4b849bb6": {
      "model_module": "@jupyter-widgets/controls",
      "model_module_version": "1.2.0",
      "model_name": "IntProgressModel",
      "state": {
       "bar_style": "success",
       "layout": "IPY_MODEL_19e81e8dd56b47a0b4774bed207301e1",
       "max": 5,
       "style": "IPY_MODEL_b8c9bf6765114a49b66688440a34fe5b",
       "value": 5
      }
     },
     "fd827dff8378438aa5fedaa35b930967": {
      "model_module": "@jupyter-widgets/controls",
      "model_module_version": "1.2.0",
      "model_name": "HTMLModel",
      "state": {
       "layout": "IPY_MODEL_138639448aa2422f8713afe1e3c945a2",
       "style": "IPY_MODEL_561483c894f6426db40d170e923954e6",
       "value": "100% 26/26 [01:25&lt;00:00,  3.27s/it]"
      }
     },
     "fda41f4bf9ec4c6f806f3d8a30e502bd": {
      "model_module": "@jupyter-widgets/controls",
      "model_module_version": "1.2.0",
      "model_name": "ProgressStyleModel",
      "state": {
       "description_width": ""
      }
     },
     "fdf53735213b43c984701caa8f06e1fa": {
      "model_module": "@jupyter-widgets/base",
      "model_module_version": "1.0.0",
      "model_name": "LayoutModel",
      "state": {}
     },
     "fe15389b9f2d4e248113cf4ad2a6d868": {
      "model_module": "@jupyter-widgets/base",
      "model_module_version": "1.0.0",
      "model_name": "LayoutModel",
      "state": {}
     },
     "fe42a1cdc30a41d28e20a97c72184230": {
      "model_module": "@jupyter-widgets/controls",
      "model_module_version": "1.2.0",
      "model_name": "HTMLModel",
      "state": {
       "layout": "IPY_MODEL_9134cc732af44729a9508ae666783cf3",
       "style": "IPY_MODEL_33db67ce837e4dfd8856e79e03aab7da",
       "value": "100% 26/26 [01:24&lt;00:00,  3.27s/it]"
      }
     },
     "fe4665c1205747b28c0120ee1e991b02": {
      "model_module": "@jupyter-widgets/controls",
      "model_module_version": "1.2.0",
      "model_name": "IntProgressModel",
      "state": {
       "bar_style": "success",
       "layout": "IPY_MODEL_3c9eb190852b4ec594adaf9e0f665682",
       "max": 26,
       "style": "IPY_MODEL_32f83661da8f4c1e92e88138453c4ea4",
       "value": 26
      }
     },
     "fe6e861963d841ff92e1979abe257913": {
      "model_module": "@jupyter-widgets/base",
      "model_module_version": "1.0.0",
      "model_name": "LayoutModel",
      "state": {}
     },
     "feefe45185e64ef5a2df377df189b3f4": {
      "model_module": "@jupyter-widgets/base",
      "model_module_version": "1.0.0",
      "model_name": "LayoutModel",
      "state": {}
     },
     "ff1deec60cba4428bb8142d4a475c895": {
      "model_module": "@jupyter-widgets/base",
      "model_module_version": "1.0.0",
      "model_name": "LayoutModel",
      "state": {}
     },
     "ff65657668b345969d6b26bc4dd98cef": {
      "model_module": "@jupyter-widgets/controls",
      "model_module_version": "1.2.0",
      "model_name": "DescriptionStyleModel",
      "state": {
       "description_width": ""
      }
     },
     "ff90e5d6ce104bd4bd8436d56ffedaf0": {
      "model_module": "@jupyter-widgets/controls",
      "model_module_version": "1.2.0",
      "model_name": "DescriptionStyleModel",
      "state": {
       "description_width": ""
      }
     },
     "ffc91c46a9a043bd8c7a73a23cb3dab0": {
      "model_module": "@jupyter-widgets/base",
      "model_module_version": "1.0.0",
      "model_name": "LayoutModel",
      "state": {}
     },
     "ffcecdb6733045bdbed49e4a933cc24c": {
      "model_module": "@jupyter-widgets/base",
      "model_module_version": "1.0.0",
      "model_name": "LayoutModel",
      "state": {}
     },
     "ffee4b6c8568474da50c66aadfb8f783": {
      "model_module": "@jupyter-widgets/base",
      "model_module_version": "1.0.0",
      "model_name": "LayoutModel",
      "state": {}
     },
     "fffa85e89fb646b6b2469e51f1ead6fe": {
      "model_module": "@jupyter-widgets/controls",
      "model_module_version": "1.2.0",
      "model_name": "IntProgressModel",
      "state": {
       "bar_style": "success",
       "layout": "IPY_MODEL_94d7e72f13234ed5a2c4f8ab7d2762da",
       "max": 26,
       "style": "IPY_MODEL_0943eb2baae4458480e7cabca6ab34ed",
       "value": 26
      }
     }
    },
    "version_major": 2,
    "version_minor": 0
   }
  }
 },
 "nbformat": 4,
 "nbformat_minor": 2
}
