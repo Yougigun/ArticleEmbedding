{
 "cells": [
  {
   "cell_type": "code",
   "execution_count": 1,
   "metadata": {},
   "outputs": [],
   "source": [
    "# import pickle\n",
    "import pandas as pd\n",
    "import numpy as np\n",
    "from tqdm import tqdm_notebook\n",
    "import torch"
   ]
  },
  {
   "cell_type": "code",
   "execution_count": null,
   "metadata": {},
   "outputs": [],
   "source": [
    "## MLP"
   ]
  },
  {
   "cell_type": "code",
   "execution_count": 19,
   "metadata": {},
   "outputs": [],
   "source": [
    "x=np.random.randint(0,5,(100000,5000))\n",
    "y=np.random.randint(0,5,(20,5000))\n",
    "x_=torch.from_numpy(x)\n",
    "y_=torch.from_numpy(y)\n",
    "# print(x)\n",
    "# print(x_)"
   ]
  },
  {
   "cell_type": "code",
   "execution_count": 30,
   "metadata": {
    "scrolled": true
   },
   "outputs": [
    {
     "name": "stdout",
     "output_type": "stream",
     "text": [
      "Wall time: 3.79 s\n"
     ]
    },
    {
     "data": {
      "text/plain": [
       "array([[19850, 19463, 20152, ..., 19810, 20163, 19665],\n",
       "       [19446, 19349, 19842, ..., 19296, 19855, 19209],\n",
       "       [20515, 20083, 20471, ..., 20112, 20519, 20160],\n",
       "       ...,\n",
       "       [19415, 19233, 19348, ..., 19314, 19550, 19348],\n",
       "       [19841, 19371, 20035, ..., 19755, 20315, 19802],\n",
       "       [20065, 19710, 20124, ..., 19679, 20069, 19761]])"
      ]
     },
     "execution_count": 30,
     "metadata": {},
     "output_type": "execute_result"
    }
   ],
   "source": [
    "%%time\n",
    "x.dot(y.T)"
   ]
  },
  {
   "cell_type": "code",
   "execution_count": 35,
   "metadata": {},
   "outputs": [
    {
     "name": "stdout",
     "output_type": "stream",
     "text": [
      "Wall time: 2.74 s\n"
     ]
    },
    {
     "data": {
      "text/plain": [
       "array([[19850, 19463, 20152, ..., 19810, 20163, 19665],\n",
       "       [19446, 19349, 19842, ..., 19296, 19855, 19209],\n",
       "       [20515, 20083, 20471, ..., 20112, 20519, 20160],\n",
       "       ...,\n",
       "       [19415, 19233, 19348, ..., 19314, 19550, 19348],\n",
       "       [19841, 19371, 20035, ..., 19755, 20315, 19802],\n",
       "       [20065, 19710, 20124, ..., 19679, 20069, 19761]])"
      ]
     },
     "execution_count": 35,
     "metadata": {},
     "output_type": "execute_result"
    }
   ],
   "source": [
    "%%time\n",
    "np.einsum(\"ik,jk->ij\",x,y)"
   ]
  },
  {
   "cell_type": "code",
   "execution_count": 34,
   "metadata": {},
   "outputs": [
    {
     "name": "stdout",
     "output_type": "stream",
     "text": [
      "Wall time: 2.27 s\n"
     ]
    },
    {
     "data": {
      "text/plain": [
       "tensor([[19850, 19463, 20152,  ..., 19810, 20163, 19665],\n",
       "        [19446, 19349, 19842,  ..., 19296, 19855, 19209],\n",
       "        [20515, 20083, 20471,  ..., 20112, 20519, 20160],\n",
       "        ...,\n",
       "        [19415, 19233, 19348,  ..., 19314, 19550, 19348],\n",
       "        [19841, 19371, 20035,  ..., 19755, 20315, 19802],\n",
       "        [20065, 19710, 20124,  ..., 19679, 20069, 19761]], dtype=torch.int32)"
      ]
     },
     "execution_count": 34,
     "metadata": {},
     "output_type": "execute_result"
    }
   ],
   "source": [
    "%%time\n",
    "torch.matmul(x_,y_.t())"
   ]
  },
  {
   "cell_type": "code",
   "execution_count": 29,
   "metadata": {},
   "outputs": [
    {
     "name": "stdout",
     "output_type": "stream",
     "text": [
      "Wall time: 2.17 s\n"
     ]
    },
    {
     "data": {
      "text/plain": [
       "tensor([[19850, 19463, 20152,  ..., 19810, 20163, 19665],\n",
       "        [19446, 19349, 19842,  ..., 19296, 19855, 19209],\n",
       "        [20515, 20083, 20471,  ..., 20112, 20519, 20160],\n",
       "        ...,\n",
       "        [19415, 19233, 19348,  ..., 19314, 19550, 19348],\n",
       "        [19841, 19371, 20035,  ..., 19755, 20315, 19802],\n",
       "        [20065, 19710, 20124,  ..., 19679, 20069, 19761]], dtype=torch.int32)"
      ]
     },
     "execution_count": 29,
     "metadata": {},
     "output_type": "execute_result"
    }
   ],
   "source": []
  },
  {
   "cell_type": "code",
   "execution_count": 153,
   "metadata": {},
   "outputs": [
    {
     "ename": "RuntimeError",
     "evalue": "dot: Expected 1-D argument self, but got 2-D",
     "output_type": "error",
     "traceback": [
      "\u001b[1;31m---------------------------------------------------------------------------\u001b[0m",
      "\u001b[1;31mRuntimeError\u001b[0m                              Traceback (most recent call last)",
      "\u001b[1;32m<timed eval>\u001b[0m in \u001b[0;36m<module>\u001b[1;34m()\u001b[0m\n",
      "\u001b[1;31mRuntimeError\u001b[0m: dot: Expected 1-D argument self, but got 2-D"
     ]
    }
   ],
   "source": [
    "## "
   ]
  },
  {
   "cell_type": "code",
   "execution_count": 32,
   "metadata": {},
   "outputs": [],
   "source": [
    "# x=np.random.randint(0,2,(10800,5000))\n",
    "# y=np.random.randint(0,2,(10800,5000))\n",
    "x=np.random.rand(20800,5000)\n",
    "y=np.random.rand(20800,5000)\n",
    "x_=torch.from_numpy(x)\n",
    "y_=torch.from_numpy(y)"
   ]
  },
  {
   "cell_type": "code",
   "execution_count": 35,
   "metadata": {},
   "outputs": [
    {
     "name": "stdout",
     "output_type": "stream",
     "text": [
      "383 ms ± 4.13 ms per loop (mean ± std. dev. of 7 runs, 1 loop each)\n"
     ]
    }
   ],
   "source": [
    "%%timeit\n",
    "torch.sum(x_*x_)"
   ]
  },
  {
   "cell_type": "code",
   "execution_count": 36,
   "metadata": {},
   "outputs": [
    {
     "name": "stdout",
     "output_type": "stream",
     "text": [
      "539 ms ± 18.8 ms per loop (mean ± std. dev. of 7 runs, 1 loop each)\n"
     ]
    }
   ],
   "source": [
    "%%timeit\n",
    "torch.einsum(\"ij,ij->\",x_,x_)"
   ]
  },
  {
   "cell_type": "code",
   "execution_count": null,
   "metadata": {},
   "outputs": [],
   "source": []
  },
  {
   "cell_type": "code",
   "execution_count": null,
   "metadata": {},
   "outputs": [],
   "source": []
  }
 ],
 "metadata": {
  "kernelspec": {
   "display_name": "Python 3",
   "language": "python",
   "name": "python3"
  },
  "language_info": {
   "codemirror_mode": {
    "name": "ipython",
    "version": 3
   },
   "file_extension": ".py",
   "mimetype": "text/x-python",
   "name": "python",
   "nbconvert_exporter": "python",
   "pygments_lexer": "ipython3",
   "version": "3.5.5"
  }
 },
 "nbformat": 4,
 "nbformat_minor": 2
}
