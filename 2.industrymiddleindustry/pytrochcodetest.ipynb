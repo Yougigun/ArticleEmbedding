{
 "cells": [
  {
   "cell_type": "code",
   "execution_count": 1,
   "metadata": {},
   "outputs": [],
   "source": [
    "# import pickle\n",
    "import pandas as pd\n",
    "import numpy as np\n",
    "from tqdm import tqdm_notebook\n",
    "import torch"
   ]
  },
  {
   "cell_type": "code",
   "execution_count": 21,
   "metadata": {},
   "outputs": [
    {
     "data": {
      "text/plain": [
       "tensor([2., 0., 2.])"
      ]
     },
     "execution_count": 21,
     "metadata": {},
     "output_type": "execute_result"
    }
   ],
   "source": [
    "x=torch.tensor([1,2,3],requires_grad=True,dtype=torch.float32)\n",
    "\n",
    "mask=torch.tensor([0,1,0],dtype=torch.uint8)\n",
    "z=x.masked_fill(mask,0)*2\n",
    "z.backward(torch.tensor([1.0,1.0,1.0]))\n",
    "x.grad"
   ]
  },
  {
   "cell_type": "code",
   "execution_count": 49,
   "metadata": {},
   "outputs": [
    {
     "data": {
      "text/plain": [
       "tensor([0., 0., 0., 2.])"
      ]
     },
     "execution_count": 49,
     "metadata": {},
     "output_type": "execute_result"
    }
   ],
   "source": [
    "x=torch.tensor([1,2,3,4],requires_grad=True,dtype=torch.float32)\n",
    "y=x.max()\n",
    "z=y*2\n",
    "z.backward()\n",
    "x.grad"
   ]
  },
  {
   "cell_type": "code",
   "execution_count": 158,
   "metadata": {},
   "outputs": [
    {
     "name": "stdout",
     "output_type": "stream",
     "text": [
      "tensor(1.2080) tensor(5.4012)\n"
     ]
    },
    {
     "ename": "AssertionError",
     "evalue": "size isn't assigned yet",
     "output_type": "error",
     "traceback": [
      "\u001b[1;31m---------------------------------------------------------------------------\u001b[0m",
      "\u001b[1;31mAssertionError\u001b[0m                            Traceback (most recent call last)",
      "\u001b[1;32m<ipython-input-158-7e394f976832>\u001b[0m in \u001b[0;36m<module>\u001b[1;34m()\u001b[0m\n\u001b[0;32m     46\u001b[0m \u001b[0mloss\u001b[0m   \u001b[1;33m=\u001b[0m\u001b[0mcriterionTri\u001b[0m\u001b[1;33m(\u001b[0m\u001b[0mh0\u001b[0m\u001b[1;33m,\u001b[0m\u001b[0mh1\u001b[0m\u001b[1;33m,\u001b[0m\u001b[0mh2\u001b[0m\u001b[1;33m)\u001b[0m\u001b[1;33m[\u001b[0m\u001b[1;34m\"Lt\"\u001b[0m\u001b[1;33m]\u001b[0m\u001b[1;33m\u001b[0m\u001b[0m\n\u001b[0;32m     47\u001b[0m \u001b[0mcriterionTri\u001b[0m\u001b[1;33m=\u001b[0m\u001b[0mTriLossOri\u001b[0m\u001b[1;33m(\u001b[0m\u001b[0mreduction\u001b[0m\u001b[1;33m=\u001b[0m\u001b[1;34m\"max\"\u001b[0m\u001b[1;33m)\u001b[0m\u001b[1;33m\u001b[0m\u001b[0m\n\u001b[1;32m---> 48\u001b[1;33m \u001b[0mlossmax\u001b[0m   \u001b[1;33m=\u001b[0m\u001b[0mcriterionTri\u001b[0m\u001b[1;33m(\u001b[0m\u001b[0mh0\u001b[0m\u001b[1;33m,\u001b[0m\u001b[0mh1\u001b[0m\u001b[1;33m,\u001b[0m\u001b[0mh2\u001b[0m\u001b[1;33m)\u001b[0m\u001b[1;33m[\u001b[0m\u001b[1;34m\"Lt\"\u001b[0m\u001b[1;33m]\u001b[0m\u001b[1;33m\u001b[0m\u001b[0m\n\u001b[0m\u001b[0;32m     49\u001b[0m \u001b[0mprint\u001b[0m\u001b[1;33m(\u001b[0m\u001b[0mloss\u001b[0m\u001b[1;33m,\u001b[0m\u001b[0mlossmax\u001b[0m\u001b[1;33m)\u001b[0m\u001b[1;33m\u001b[0m\u001b[0m\n",
      "\u001b[1;32m<ipython-input-158-7e394f976832>\u001b[0m in \u001b[0;36m__call__\u001b[1;34m(self, h0, h1, h2)\u001b[0m\n\u001b[0;32m     32\u001b[0m             \u001b[1;32mreturn\u001b[0m \u001b[1;33m{\u001b[0m\u001b[1;34m\"Lt\"\u001b[0m\u001b[1;33m:\u001b[0m\u001b[0mlossmax\u001b[0m\u001b[1;33m.\u001b[0m\u001b[0mmean\u001b[0m\u001b[1;33m(\u001b[0m\u001b[1;33m)\u001b[0m\u001b[1;33m}\u001b[0m\u001b[1;33m\u001b[0m\u001b[0m\n\u001b[0;32m     33\u001b[0m     \u001b[1;32mdef\u001b[0m \u001b[0m__call__\u001b[0m\u001b[1;33m(\u001b[0m\u001b[0mself\u001b[0m\u001b[1;33m,\u001b[0m\u001b[0mh0\u001b[0m\u001b[1;33m,\u001b[0m\u001b[0mh1\u001b[0m\u001b[1;33m,\u001b[0m\u001b[0mh2\u001b[0m\u001b[1;33m)\u001b[0m\u001b[1;33m:\u001b[0m\u001b[1;33m\u001b[0m\u001b[0m\n\u001b[1;32m---> 34\u001b[1;33m         \u001b[1;32mreturn\u001b[0m \u001b[0mself\u001b[0m\u001b[1;33m.\u001b[0m\u001b[0mforward\u001b[0m\u001b[1;33m(\u001b[0m\u001b[0mh0\u001b[0m\u001b[1;33m,\u001b[0m\u001b[0mh1\u001b[0m\u001b[1;33m,\u001b[0m\u001b[0mh2\u001b[0m\u001b[1;33m)\u001b[0m\u001b[1;33m\u001b[0m\u001b[0m\n\u001b[0m\u001b[0;32m     35\u001b[0m \u001b[1;33m\u001b[0m\u001b[0m\n\u001b[0;32m     36\u001b[0m \u001b[1;33m\u001b[0m\u001b[0m\n",
      "\u001b[1;32m<ipython-input-158-7e394f976832>\u001b[0m in \u001b[0;36mforward\u001b[1;34m(self, h0, h1, h2)\u001b[0m\n\u001b[0;32m     26\u001b[0m             \u001b[1;32mreturn\u001b[0m \u001b[1;33m{\u001b[0m\u001b[1;34m\"Lt\"\u001b[0m\u001b[1;33m:\u001b[0m\u001b[0mLt\u001b[0m\u001b[1;33m.\u001b[0m\u001b[0mmean\u001b[0m\u001b[1;33m(\u001b[0m\u001b[1;33m)\u001b[0m\u001b[1;33m}\u001b[0m\u001b[1;33m\u001b[0m\u001b[0m\n\u001b[0;32m     27\u001b[0m         \u001b[1;32mif\u001b[0m \u001b[0mself\u001b[0m\u001b[1;33m.\u001b[0m\u001b[0mreduction\u001b[0m\u001b[1;33m==\u001b[0m\u001b[1;34m\"max\"\u001b[0m\u001b[1;33m:\u001b[0m\u001b[1;33m\u001b[0m\u001b[0m\n\u001b[1;32m---> 28\u001b[1;33m             \u001b[1;32massert\u001b[0m \u001b[0mself\u001b[0m\u001b[1;33m.\u001b[0m\u001b[0msize\u001b[0m \u001b[1;33m,\u001b[0m\u001b[1;34m\"size isn't assigned yet\"\u001b[0m\u001b[1;33m\u001b[0m\u001b[0m\n\u001b[0m\u001b[0;32m     29\u001b[0m             lossmax=torch.nn.functional.max_pool1d(Lt.view(1,1,Lt.size()[0])\n\u001b[0;32m     30\u001b[0m                                                    ,kernel_size=self.size,stride=self.size).squeeze()\n",
      "\u001b[1;31mAssertionError\u001b[0m: size isn't assigned yet"
     ]
    }
   ],
   "source": [
    "size=60\n",
    "def criterionTriOrig(reduction=\"mean\",size=None):\n",
    "    def do(h0,h1,h2):\n",
    "        h01=(h0*h1).sum(dim=1)\n",
    "        h02=(h0*h2).sum(dim=1)\n",
    "        Lt=torch.log(1+torch.exp(h02-h01))\n",
    "        if reduction==\"mean\":\n",
    "            assert size == None,\"No need size\"\n",
    "            return {\"Lt\":Lt.mean()}\n",
    "        if reduction==\"max\": \n",
    "            assert size ,\"size isn't assigned yet\"\n",
    "            lossmax=torch.nn.functional.max_pool1d(Lt.view(1,1,Lt.size()[0]),kernel_size=size,stride=size).squeeze()\n",
    "            assert lossmax.size()[0]==Lt.size()[0]/size,\"Check if size is corrected\"\n",
    "            return {\"Lt\":lossmax.mean()}\n",
    "    return do\n",
    "class TriLossOri():\n",
    "    def __init__(self,reduction=\"mean\",size=None):\n",
    "        self.reduction=reduction\n",
    "        self.size=size\n",
    "    def forward(self,h0,h1,h2):\n",
    "        h01=(h0*h1).sum(dim=1)\n",
    "        h02=(h0*h2).sum(dim=1)\n",
    "        Lt=torch.log(1+torch.exp(h02-h01))\n",
    "        if self.reduction==\"mean\":\n",
    "            assert self.size == None,\"No need size\"\n",
    "            return {\"Lt\":Lt.mean()}\n",
    "        if self.reduction==\"max\": \n",
    "            assert self.size ,\"size isn't assigned yet\"\n",
    "            lossmax=torch.nn.functional.max_pool1d(Lt.view(1,1,Lt.size()[0])\n",
    "                                                   ,kernel_size=self.size,stride=self.size).squeeze()\n",
    "            assert lossmax.size()[0]==Lt.size()[0]/self.size,\"Check if size is corrected\"\n",
    "            return {\"Lt\":lossmax.mean()}\n",
    "    def __call__(self,h0,h1,h2):\n",
    "        return self.forward(h0,h1,h2)\n",
    "\n",
    "\n",
    "h0=torch.rand(1080,100)\n",
    "h1=torch.rand(1080,100)\n",
    "h2=torch.rand(1080,100)\n",
    "criterionTri=criterionTriOrig()\n",
    "loss   =criterionTri(h0,h1,h2)[\"Lt\"]\n",
    "criterionTri=criterionTriOrig(reduction=\"max\",size=60)\n",
    "lossmax=criterionTri(h0,h1,h2)[\"Lt\"]\n",
    "print(loss,lossmax)\n",
    "criterionTri=TriLossOri()\n",
    "loss   =criterionTri(h0,h1,h2)[\"Lt\"]\n",
    "criterionTri=TriLossOri(reduction=\"max\")\n",
    "lossmax   =criterionTri(h0,h1,h2)[\"Lt\"]\n",
    "print(loss,lossmax)"
   ]
  },
  {
   "cell_type": "code",
   "execution_count": 157,
   "metadata": {},
   "outputs": [
    {
     "data": {
      "text/plain": [
       "'LOSQ'"
      ]
     },
     "execution_count": 157,
     "metadata": {},
     "output_type": "execute_result"
    }
   ],
   "source": [
    "s=\"lOsQ\"\n",
    "s.upper()"
   ]
  },
  {
   "cell_type": "code",
   "execution_count": 140,
   "metadata": {},
   "outputs": [
    {
     "data": {
      "text/plain": [
       "tensor(5.5739)"
      ]
     },
     "execution_count": 140,
     "metadata": {},
     "output_type": "execute_result"
    }
   ],
   "source": [
    "lossmax"
   ]
  },
  {
   "cell_type": "code",
   "execution_count": 84,
   "metadata": {},
   "outputs": [
    {
     "data": {
      "text/plain": [
       "tensor([0.2734, 0.6865, 0.1541,  ..., 0.1351, 0.0864, 0.0310])"
      ]
     },
     "execution_count": 84,
     "metadata": {},
     "output_type": "execute_result"
    }
   ],
   "source": [
    "from BuildDataset import Tripletdataset\n",
    "## Load industry dictionary\n",
    "with open(\"D:4.AutoencoderForArticle.Mid-Industry/dict_guid_sparsebow_20000_single.v05.p\",\"rb\") as f:\n",
    "    dict_guid_sparsebow_single= pickle.load(f)\n",
    "with open(\"D:4.AutoencoderForArticle.Mid-Industry/dict_singleindustry_guid.p\",\"rb\") as f:\n",
    "    dict_singleindustry_guid= pickle.load(f)"
   ]
  },
  {
   "cell_type": "code",
   "execution_count": 89,
   "metadata": {},
   "outputs": [],
   "source": [
    "x=torch.tensor([2,1,3,4],requires_grad=True,dtype=torch.float32)\n",
    "y=torch.nn.functional.max_pool1d(x.view(1,1,x.size()[0]),kernel_size=2,stride=2).squeeze()\n",
    "z=y*2\n",
    "z=z.mean()\n",
    "z.backward()"
   ]
  },
  {
   "cell_type": "code",
   "execution_count": 90,
   "metadata": {},
   "outputs": [
    {
     "data": {
      "text/plain": [
       "tensor([1., 0., 0., 1.])"
      ]
     },
     "execution_count": 90,
     "metadata": {},
     "output_type": "execute_result"
    }
   ],
   "source": [
    "x.grad"
   ]
  },
  {
   "cell_type": "code",
   "execution_count": null,
   "metadata": {},
   "outputs": [],
   "source": []
  }
 ],
 "metadata": {
  "kernelspec": {
   "display_name": "Python 3",
   "language": "python",
   "name": "python3"
  },
  "language_info": {
   "codemirror_mode": {
    "name": "ipython",
    "version": 3
   },
   "file_extension": ".py",
   "mimetype": "text/x-python",
   "name": "python",
   "nbconvert_exporter": "python",
   "pygments_lexer": "ipython3",
   "version": "3.5.5"
  }
 },
 "nbformat": 4,
 "nbformat_minor": 2
}
