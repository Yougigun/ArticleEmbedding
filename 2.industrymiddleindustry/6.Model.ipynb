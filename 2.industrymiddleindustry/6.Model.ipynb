{
 "cells": [
  {
   "cell_type": "code",
   "execution_count": 1,
   "metadata": {},
   "outputs": [],
   "source": [
    "import pickle\n",
    "import numpy as np\n",
    "from scipy import sparse\n",
    "import pandas as pd\n",
    "import seaborn as sns\n",
    "sns.set() ## set up style\n",
    "import uuid\n",
    "import matplotlib.pyplot as plt\n",
    "#solved chinese display in matplotlib\n",
    "from matplotlib import rcParams\n",
    "rcParams['font.family'] = 'sans-serif'\n",
    "rcParams[\"font.family\"] = \"DFKai-SB\"\n",
    "rcParams['axes.unicode_minus'] = False\n",
    "import torch\n"
   ]
  },
  {
   "cell_type": "code",
   "execution_count": 204,
   "metadata": {},
   "outputs": [],
   "source": [
    "class Encoder(torch.nn.Module):\n",
    "    def __init__(self,in_features,embedding_features):\n",
    "        super(Encoder,self).__init__()\n",
    "        self.linear1=torch.nn.Linear(in_features,2000)\n",
    "        self.linear2=torch.nn.Linear(2000,embedding_features)\n",
    "        self.sigmoid=torch.nn.Sigmoid()\n",
    "        self.tanh=torch.nn.Tanh()\n",
    "        self.p=torch.rand(in_features)\n",
    "    def forward(self,x):\n",
    "        if self.training:\n",
    "            x=x*(1-torch.rand_like(x))\n",
    "        else:\n",
    "            x=x*(1-self.p)\n",
    "        ##Layer1\n",
    "        x=self.linear1(x)\n",
    "        x=self.tanh(x)\n",
    "        ##Layer2\n",
    "        x=self.linear2(x)\n",
    "        x=self.sigmoid(x)\n",
    "        ## Calibration\n",
    "        fb=self.sigmoid(self.linear2.bias)\n",
    "        x=x-fb\n",
    "        \n",
    "        return x\n",
    "       "
   ]
  },
  {
   "cell_type": "code",
   "execution_count": 214,
   "metadata": {},
   "outputs": [],
   "source": [
    "class Decoder(torch.nn.Module):\n",
    "    def __init__(self,embedding_features,in_features):\n",
    "        super(Decoder,self).__init__()\n",
    "        self.linear1=torch.nn.Linear(embedding_features,2000)\n",
    "        self.linear2=torch.nn.Linear(2000,in_features)\n",
    "        self.sigmoid=torch.nn.Sigmoid()\n",
    "        self.tanh=torch.nn.Tanh()\n",
    "    def forward(self,x):\n",
    "        ##linear 1 \n",
    "        x=self.linear1(x)\n",
    "        x=self.tanh(x)\n",
    "        ##linear 2\n",
    "        x=self.linear2(x)\n",
    "        x=self.sigmoid(x)\n",
    "        return x"
   ]
  },
  {
   "cell_type": "code",
   "execution_count": null,
   "metadata": {},
   "outputs": [],
   "source": [
    "x=100"
   ]
  }
 ],
 "metadata": {
  "kernelspec": {
   "display_name": "Python 3",
   "language": "python",
   "name": "python3"
  },
  "language_info": {
   "codemirror_mode": {
    "name": "ipython",
    "version": 3
   },
   "file_extension": ".py",
   "mimetype": "text/x-python",
   "name": "python",
   "nbconvert_exporter": "python",
   "pygments_lexer": "ipython3",
   "version": "3.5.5"
  }
 },
 "nbformat": 4,
 "nbformat_minor": 2
}
