{
 "cells": [
  {
   "cell_type": "code",
   "execution_count": 42,
   "metadata": {},
   "outputs": [],
   "source": [
    "from Model import Encoder\n",
    "import torch\n",
    "import numpy as np"
   ]
  },
  {
   "cell_type": "markdown",
   "metadata": {},
   "source": [
    "#### load model"
   ]
  },
  {
   "cell_type": "code",
   "execution_count": 34,
   "metadata": {},
   "outputs": [
    {
     "data": {
      "text/plain": [
       "Encoder(\n",
       "  (linear1): Linear(in_features=70000, out_features=2000, bias=True)\n",
       "  (linear2): Linear(in_features=2000, out_features=500, bias=True)\n",
       "  (sigmoid): Sigmoid()\n",
       "  (tanh): Tanh()\n",
       ")"
      ]
     },
     "execution_count": 34,
     "metadata": {},
     "output_type": "execute_result"
    }
   ],
   "source": [
    "model=Encoder(70000,500)\n",
    "for p in model.parameters():\n",
    "    p.requires_grad_(False)\n",
    "model.load_state_dict(torch.load(\"test_model_state_dict.pth\"))\n",
    "model.eval()"
   ]
  },
  {
   "cell_type": "markdown",
   "metadata": {},
   "source": [
    "#### Infer"
   ]
  },
  {
   "cell_type": "code",
   "execution_count": 50,
   "metadata": {},
   "outputs": [],
   "source": [
    "### Initial data may be numpy structure\n",
    "### 1000 pieces of News onehot\n",
    "Article_onehot_numpy=np.random.randint(0,2,(1000,70000))\n",
    "\n",
    "### Change it to tensor\n",
    "Article_onehot_tensor=torch.tensor(Article_onehot_numpy,dtype=torch.float32) ##300 pieces of News"
   ]
  },
  {
   "cell_type": "code",
   "execution_count": 51,
   "metadata": {},
   "outputs": [],
   "source": [
    "Article_representation=model(Article_onehot)"
   ]
  },
  {
   "cell_type": "code",
   "execution_count": 52,
   "metadata": {},
   "outputs": [
    {
     "data": {
      "text/plain": [
       "tensor([[-0.0239,  0.0007, -0.0191,  ...,  0.0091, -0.0503, -0.0401],\n",
       "        [ 0.0113,  0.0012, -0.0317,  ..., -0.0258, -0.0440, -0.0663],\n",
       "        [ 0.0050,  0.0002, -0.0324,  ..., -0.0374,  0.0186, -0.0057],\n",
       "        ...,\n",
       "        [ 0.0037,  0.0154,  0.0226,  ..., -0.0148, -0.0123, -0.0327],\n",
       "        [-0.0111,  0.0499, -0.0135,  ..., -0.0415, -0.0411,  0.0276],\n",
       "        [ 0.0078, -0.0217, -0.0058,  ..., -0.0372, -0.0204,  0.0059]])"
      ]
     },
     "execution_count": 52,
     "metadata": {},
     "output_type": "execute_result"
    }
   ],
   "source": [
    "Article_repz"
   ]
  },
  {
   "cell_type": "code",
   "execution_count": null,
   "metadata": {},
   "outputs": [],
   "source": [
    "repr"
   ]
  }
 ],
 "metadata": {
  "kernelspec": {
   "display_name": "Python 3",
   "language": "python",
   "name": "python3"
  },
  "language_info": {
   "codemirror_mode": {
    "name": "ipython",
    "version": 3
   },
   "file_extension": ".py",
   "mimetype": "text/x-python",
   "name": "python",
   "nbconvert_exporter": "python",
   "pygments_lexer": "ipython3",
   "version": "3.5.5"
  },
  "widgets": {
   "application/vnd.jupyter.widget-state+json": {
    "state": {},
    "version_major": 2,
    "version_minor": 0
   }
  }
 },
 "nbformat": 4,
 "nbformat_minor": 2
}
