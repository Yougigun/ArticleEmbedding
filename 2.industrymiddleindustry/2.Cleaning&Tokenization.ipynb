{
 "cells": [
  {
   "cell_type": "code",
   "execution_count": 1,
   "metadata": {},
   "outputs": [
    {
     "name": "stderr",
     "output_type": "stream",
     "text": [
      "C:\\Users\\garyyu\\AppData\\Local\\Continuum\\anaconda3\\envs\\deeplearningcpu\\lib\\site-packages\\tqdm\\autonotebook\\__init__.py:14: TqdmExperimentalWarning: Using `tqdm.autonotebook.tqdm` in notebook mode. Use `tqdm.tqdm` instead to force console mode (e.g. in jupyter console)\n",
      "  \" (e.g. in jupyter console)\", TqdmExperimentalWarning)\n"
     ]
    }
   ],
   "source": [
    "import pickle\n",
    "import numpy as np\n",
    "import pandas as pd\n",
    "import seaborn as sns\n",
    "import matplotlib.pyplot as plt\n",
    "#solved chinese display in matplotlib\n",
    "from matplotlib import rcParams\n",
    "rcParams['font.family'] = 'sans-serif'\n",
    "rcParams[\"font.family\"] = \"DFKai-SB\"\n",
    "rcParams['axes.unicode_minus'] = False\n",
    "\n",
    "from tqdm import tqdm_notebook,tnrange\n",
    "from tqdm.autonotebook import tqdm\n",
    "tqdm.pandas()\n",
    "\n",
    "import regex as re"
   ]
  },
  {
   "cell_type": "code",
   "execution_count": 2,
   "metadata": {},
   "outputs": [],
   "source": [
    "news_vip_v04=pd.read_pickle(\"D:4.AutoencoderForArticle.Mid-Industry/news_vip_v04.p\")"
   ]
  },
  {
   "cell_type": "code",
   "execution_count": 17,
   "metadata": {},
   "outputs": [],
   "source": [
    "news_vip_v04[\"title_token_plus_body_token\"]=news_vip_v04[\"title_token\"]+\" \"+news_vip_v04[\"body_token\"]"
   ]
  },
  {
   "cell_type": "code",
   "execution_count": 18,
   "metadata": {},
   "outputs": [
    {
     "data": {
      "text/plain": [
       "'Fund 消息 資金 連 周 回流 收債 後市 看 樂觀 美國 景氣 維持 暢旺 加上 市場 貿易戰 消息 反應 漸有 鈍化 跡象 帶動 高收益債 買氣 增溫 觀察 iShares iBoxx 收債 ETF 不僅 連續 周 獲得 資金 淨流入 上周 為止 累計 淨流入 億美元 逼近 億美元 單月 次 法人 認為 當前 景氣 復甦 趨勢 沒 改變 信用風險 改善 收債 投資 價值 浮現 預期 持續 吸引 收息 興趣 投資人 進場 根據 美銀 美林 公布 資料 顯示 美國 企業 稅前 息前 折舊 攤銷 獲利 EBITDA 年增率 連續 季度 高於 債務 增幅 扭轉 過去 季度 走勢 金融海嘯 以來 首見 代表 企業 財務槓桿 改善 事實 更為 收債 投資人 增添 不少 信心 第一金 全球 高收益債 券 基金經理人 鄭宇君 表示 美國經濟 穩步 復甦 減稅 政策 企業 獲利 帶來 強勁 成長動能 而 信用 水準 亦 獲得 明顯改善 原先 預期 收債 違約 率將 截至 月底 為止 過去 一年 平均 違約 率為 如 太大意 全年 實際 違約 情形 有機 優於市場預期 此外 鄭宇君 認為 因為 企業 營收 獲利成長 支撐 升息 循環 並未 企業信用 還款 造成 壓力 依據 美國 智庫 N BER 編 製 經濟衰退 指標 信用貸款 狀況 透露 目前 銀行業 對於 大型企業 借貸 條件 仍然 寬鬆 過往 衰退 指標 出現 警訊 水準 比較 相距甚遠 顯示 當前 環境 有利於 收債 高收益債 方面 安聯 收益 成長 多重 資產 基金經理人 林素萍則 表示 高收益債 報酬 表現 空間 接近 股票 下檔 風險 又 股票 低 預期 2018 2019 兩年 違約 率 仍將 低於 長期 平均 因此 對於 高收益債 後市 偏 多 看待 其中 又 穩健 基本面 支撐 整體 收益率 表現 相對 高的 美國 高收益債 相對 獲 看好 林素萍 進一步 說明 根據 研究 資料 顯示 高收益債 各信評 級別 券種 若 扣除 掉 未來 五年 預期的 違約 損失 BB 級 債約 剩下 利差 B 級債 剩下 利差 CCC 級 債則 剩下 利差 考慮 風險 報酬 來看 BB 級債 B 級債 較佳 選擇 周高 收債 ETF 資金 淨流入 情形 億美元 )： 資料 來源 Bloomberg 統計 日為止'"
      ]
     },
     "execution_count": 18,
     "metadata": {},
     "output_type": "execute_result"
    }
   ],
   "source": [
    "news_vip_v04[\"title_token_plus_body_token\"].iloc[0]"
   ]
  },
  {
   "cell_type": "code",
   "execution_count": 19,
   "metadata": {},
   "outputs": [
    {
     "data": {
      "application/vnd.jupyter.widget-view+json": {
       "model_id": "a5419da1bfdc4c91aa3650db452b29ce",
       "version_major": 2,
       "version_minor": 0
      },
      "text/plain": [
       "HBox(children=(IntProgress(value=0, max=504261), HTML(value='')))"
      ]
     },
     "metadata": {},
     "output_type": "display_data"
    }
   ],
   "source": [
    "#clean token\n",
    "def CleanToken(string):\n",
    "    pattern=[re.compile(\"[\\)》\\，\\.\\、\\-\\%\\《\\(\\\"\\'\\％\\」\\「\\。\\（\\）\\；\\●：]\"),\n",
    "         re.compile(\"\\d\\d%\"),##EX: 85%\n",
    "         re.compile(\"\\d+\"),##EX:9,10,123..\n",
    "         re.compile(\" [a-zA-Z] \"),##EX: x , d ,...\n",
    "#          re.compile(\"[a-zA-Z]\"),\n",
    "        ]\n",
    "# string=trainset_vip[\"Title_and_body\"][7000]\n",
    "    for p in pattern:\n",
    "        string=p.sub(\" \",string)\n",
    "    string=re.sub(\"  +\",\" \",string)# two or above space to one space\n",
    "    string=re.sub(\"^ \",\"\",string)#space at beginning\n",
    "    string=re.sub(\" $\",\"\",string)#space at end\n",
    "    return string\n",
    "news_vip_v04[\"title_token_plus_body_token\"]=news_vip_v04[\"title_token_plus_body_token\"].progress_apply(CleanToken)"
   ]
  },
  {
   "cell_type": "code",
   "execution_count": 16,
   "metadata": {},
   "outputs": [
    {
     "data": {
      "text/plain": [
       "'春燕 回來 了 中國 三 官方 PMI 復甦 超出 預期 中國 冬天 限產 令 解除 營建 活動 回到 高速 檔 加持 三月 製造業 景氣 復甦 力道 超出 預期 路透社 報導 中國 官方 採購經理人指數 PMI 月報 較前 所創 一年 半 低點 增加 明顯 脫離 榮枯 警戒線 按照 定義 PMI 高於 象徵 景氣 擴張 反之 萎縮 此前 經濟學家 平均 預期 PMI 產出 分項 指數 從前 跳 增至 反映 季節性 需求 回升 工廠 大幅 加快 生產 腳步 除此之外 新接 訂單 升至 出口 訂單 翻 升至 值得注意的 高科技 製造業 PMI 不增 反減 下滑 可能 受 近期 中美 貿易 摩擦 升溫 影響 美國 總統 川普 日前 宣布 計畫 從中 國 進口 億美元 商品 加徵 關稅 科技 通訊 產品 預料 受 衝擊 最大'"
      ]
     },
     "execution_count": 16,
     "metadata": {},
     "output_type": "execute_result"
    }
   ],
   "source": [
    "news_vip_v04[\"title_token_plus_body_token\"].iloc[12302]"
   ]
  },
  {
   "cell_type": "code",
   "execution_count": 104,
   "metadata": {},
   "outputs": [],
   "source": [
    "news_vip_clean=news_vip_v04[[\"guid\",\"medi-industry\",\"title_token_plus_body_token\"]]"
   ]
  },
  {
   "cell_type": "code",
   "execution_count": 48,
   "metadata": {},
   "outputs": [],
   "source": [
    "news_vip_clean.to_pickle(\"D:4.AutoencoderForArticle.Mid-Industry/news_vip_clean.p\")"
   ]
  },
  {
   "cell_type": "markdown",
   "metadata": {},
   "source": [
    "#### De-duplicate & delete news wo industry"
   ]
  },
  {
   "cell_type": "code",
   "execution_count": 114,
   "metadata": {},
   "outputs": [
    {
     "data": {
      "application/vnd.jupyter.widget-view+json": {
       "model_id": "edc6a64edbec428d9d8129fd933e1373",
       "version_major": 2,
       "version_minor": 0
      },
      "text/plain": [
       "HBox(children=(IntProgress(value=0, max=504261), HTML(value='')))"
      ]
     },
     "metadata": {},
     "output_type": "display_data"
    }
   ],
   "source": [
    "pick=news_vip_clean[\"medi-industry\"].progress_apply(lambda x : True if len(x)>=1 else False)"
   ]
  },
  {
   "cell_type": "code",
   "execution_count": 76,
   "metadata": {
    "scrolled": true
   },
   "outputs": [
    {
     "data": {
      "text/plain": [
       "443"
      ]
     },
     "execution_count": 76,
     "metadata": {},
     "output_type": "execute_result"
    }
   ],
   "source": [
    "# pick=news_vip_clean[pcik][\"title_token_plus_body_token\"].value_counts().reset_index()\n",
    "# (pick[\"title_token_plus_body_token\"]>1).sum()"
   ]
  },
  {
   "cell_type": "code",
   "execution_count": 122,
   "metadata": {
    "scrolled": true
   },
   "outputs": [],
   "source": [
    "news_vip_clean_wo_duplicate=news_vip_clean[pick].reset_index(drop=True)\n",
    "news_vip_clean_wo_duplicate=news_vip_clean_wo_duplicate.drop_duplicates(\"title_token_plus_body_token\").reset_index(drop=True)"
   ]
  },
  {
   "cell_type": "code",
   "execution_count": 120,
   "metadata": {
    "scrolled": true
   },
   "outputs": [
    {
     "data": {
      "text/html": [
       "<div>\n",
       "<style scoped>\n",
       "    .dataframe tbody tr th:only-of-type {\n",
       "        vertical-align: middle;\n",
       "    }\n",
       "\n",
       "    .dataframe tbody tr th {\n",
       "        vertical-align: top;\n",
       "    }\n",
       "\n",
       "    .dataframe thead th {\n",
       "        text-align: right;\n",
       "    }\n",
       "</style>\n",
       "<table border=\"1\" class=\"dataframe\">\n",
       "  <thead>\n",
       "    <tr style=\"text-align: right;\">\n",
       "      <th></th>\n",
       "      <th>index</th>\n",
       "      <th>title_token_plus_body_token</th>\n",
       "    </tr>\n",
       "  </thead>\n",
       "  <tbody>\n",
       "    <tr>\n",
       "      <th>0</th>\n",
       "      <td>華碩 品牌 NB 要 成為 亞太區 第四名 今年 NB 期望 成長 成 華碩 亞太 事業 群...</td>\n",
       "      <td>1</td>\n",
       "    </tr>\n",
       "    <tr>\n",
       "      <th>1</th>\n",
       "      <td>愛立信 行動 寬頻 雲端 勢力 催生 網路 型 社會 愛立信 世界 通訊 行動 大會 MWC...</td>\n",
       "      <td>1</td>\n",
       "    </tr>\n",
       "    <tr>\n",
       "      <th>2</th>\n",
       "      <td>宏達電 自拍 神器 HTC Eye 規格 曝光 傳採 吋 螢幕 宏達電 HTC 之前 傳出 ...</td>\n",
       "      <td>1</td>\n",
       "    </tr>\n",
       "    <tr>\n",
       "      <th>3</th>\n",
       "      <td>中美 貿易戰 意外 受惠 豐田 七月 中國 新車 銷售量 飆升 華盛頓 北京 貿易 對峙 白...</td>\n",
       "      <td>1</td>\n",
       "    </tr>\n",
       "    <tr>\n",
       "      <th>4</th>\n",
       "      <td>終端用戶 需求 大減 抵銷 減產 效應 鋼鐵廠 庫存 水位 依舊 偏高 Mine web 網...</td>\n",
       "      <td>1</td>\n",
       "    </tr>\n",
       "    <tr>\n",
       "      <th>5</th>\n",
       "      <td>QE 減碼 誰 最 受傷 野村 香港 新加坡 印度 印尼 過去 幾年 各國 央行 實施 量化...</td>\n",
       "      <td>1</td>\n",
       "    </tr>\n",
       "    <tr>\n",
       "      <th>6</th>\n",
       "      <td>新壽 標脫 高雄 三多 大樓 獲利 新光金 旗下 新壽 宣布 順利 標脫 高雄 三多 大樓 ...</td>\n",
       "      <td>1</td>\n",
       "    </tr>\n",
       "    <tr>\n",
       "      <th>7</th>\n",
       "      <td>藍光LED 年底 緊俏 晶粒 晶電 續 增溫 儘管 LED 新產能 持續 開出 不過 受到 ...</td>\n",
       "      <td>1</td>\n",
       "    </tr>\n",
       "    <tr>\n",
       "      <th>8</th>\n",
       "      <td>台塑 配合 大陸 彈性纖維 反傾銷 調查 面對 中國大陸 將對 台灣 輸往 大陸 氨綸 彈性...</td>\n",
       "      <td>1</td>\n",
       "    </tr>\n",
       "    <tr>\n",
       "      <th>9</th>\n",
       "      <td>祝文宇 房市 熱 但 青埔 開價 字頭 很 奇怪 國內 重量級 代銷 業者 甲 山林 董事長...</td>\n",
       "      <td>1</td>\n",
       "    </tr>\n",
       "    <tr>\n",
       "      <th>10</th>\n",
       "      <td>新 客戶 加持 鑽 全年 營收 年增 釘 槍 氣動 工具機 大廠 鑽全 今年 客戶 加持 保...</td>\n",
       "      <td>1</td>\n",
       "    </tr>\n",
       "    <tr>\n",
       "      <th>11</th>\n",
       "      <td>全台 筆都 更 大案 釋出 總 投資 金額 千億 內政部 宣布 下半年 將在 全台 推出 筆...</td>\n",
       "      <td>1</td>\n",
       "    </tr>\n",
       "    <tr>\n",
       "      <th>12</th>\n",
       "      <td>長興 月營收 獲利 高檔 季 稅前 EPS 長興 化工 估算 月營收 億元 億元 成長 估算...</td>\n",
       "      <td>1</td>\n",
       "    </tr>\n",
       "    <tr>\n",
       "      <th>13</th>\n",
       "      <td>允強 月營收 再 創歷史新高 不鏽鋼 廠商 允強 自結 月營收 創歷史新高 億元 除 月營收...</td>\n",
       "      <td>1</td>\n",
       "    </tr>\n",
       "    <tr>\n",
       "      <th>14</th>\n",
       "      <td>鋰電池 芯 廠商 NEC Tok in 受災 兩廠 恢復 生產 日經 新聞 英文版 報導 日...</td>\n",
       "      <td>1</td>\n",
       "    </tr>\n",
       "    <tr>\n",
       "      <th>15</th>\n",
       "      <td>大中華 文教 中華電 結合 平板 搶進 數位 教學 市場 平板電腦 搶進 教育 市場 大中華...</td>\n",
       "      <td>1</td>\n",
       "    </tr>\n",
       "    <tr>\n",
       "      <th>16</th>\n",
       "      <td>Hynix Mb DDR 已獲 英特爾 認證 明年 起將 採用 微米 製程 量產 DDR 南...</td>\n",
       "      <td>1</td>\n",
       "    </tr>\n",
       "    <tr>\n",
       "      <th>17</th>\n",
       "      <td>韓廠 鋰電池 市 佔 走升 Toray 大幅 擴增 南韓 分 膈膜 產能 日經 新聞報導 T...</td>\n",
       "      <td>1</td>\n",
       "    </tr>\n",
       "    <tr>\n",
       "      <th>18</th>\n",
       "      <td>日本 六大 銀行 集團 上半 會計年度 純益 預估 下滑 創下 會計年度 迄今 新低 日經 ...</td>\n",
       "      <td>1</td>\n",
       "    </tr>\n",
       "    <tr>\n",
       "      <th>19</th>\n",
       "      <td>報載 富士 寫真 今夏 斥資 日圓 中國 興建 一座 照相 手機鏡頭 日經 新聞 報導 富士...</td>\n",
       "      <td>1</td>\n",
       "    </tr>\n",
       "    <tr>\n",
       "      <th>20</th>\n",
       "      <td>今國光 月份 營收 改寫 歷史新高 照相 手機 用 模造 鏡片 可望 於 明年 出貨 由於 ...</td>\n",
       "      <td>1</td>\n",
       "    </tr>\n",
       "    <tr>\n",
       "      <th>21</th>\n",
       "      <td>聯一光 今年 業績 估增 成 毛利率 將在 掛牌 上櫃 光學玻璃 毛胚廠 聯一光 召開 法人...</td>\n",
       "      <td>1</td>\n",
       "    </tr>\n",
       "    <tr>\n",
       "      <th>22</th>\n",
       "      <td>台積電 今 舉辦 三十週年 慶 論壇 全程 於 官網 直播 台積電 日將 舉辦 三十週年 慶...</td>\n",
       "      <td>1</td>\n",
       "    </tr>\n",
       "    <tr>\n",
       "      <th>23</th>\n",
       "      <td>大陸 大豆 進口量 年增 年增 一財網 報導 大陸 海關總署 發佈 統計數據 顯示 大陸 累...</td>\n",
       "      <td>1</td>\n",
       "    </tr>\n",
       "    <tr>\n",
       "      <th>24</th>\n",
       "      <td>銀監會 要求 城市 商銀 扼止 信貸 過度 擴張 不當 用途 中國 銀監會 發佈 兩條 涉及...</td>\n",
       "      <td>1</td>\n",
       "    </tr>\n",
       "    <tr>\n",
       "      <th>25</th>\n",
       "      <td>銘異 獲利 季增 倍 惟 恐小虧 硬碟 零組件 銘異 三季 受惠 產品價格 調漲 出貨量 放...</td>\n",
       "      <td>1</td>\n",
       "    </tr>\n",
       "    <tr>\n",
       "      <th>26</th>\n",
       "      <td>凡甲 本季 營收 季增 拼增 一成 毛利率 可望 止跌 客戶 受 強震 影響 不大 加上 產...</td>\n",
       "      <td>1</td>\n",
       "    </tr>\n",
       "    <tr>\n",
       "      <th>27</th>\n",
       "      <td>憶聲 推出 品牌 平板 集團 營收 目標 百億元 顯示器 代工 大廠 憶聲 發表 自有品牌 ...</td>\n",
       "      <td>1</td>\n",
       "    </tr>\n",
       "    <tr>\n",
       "      <th>28</th>\n",
       "      <td>傳 三洋電 機 研發 出 超薄型 太陽能電池 厚度 僅 μ 日經 新聞 報導 日本 太陽能電...</td>\n",
       "      <td>1</td>\n",
       "    </tr>\n",
       "    <tr>\n",
       "      <th>29</th>\n",
       "      <td>美國 天然氣 日均 淨 進口量 創 新低 美國能源 資訊 局 EIA 公佈 截至 日止 上週...</td>\n",
       "      <td>1</td>\n",
       "    </tr>\n",
       "    <tr>\n",
       "      <th>...</th>\n",
       "      <td>...</td>\n",
       "      <td>...</td>\n",
       "    </tr>\n",
       "    <tr>\n",
       "      <th>349256</th>\n",
       "      <td>房價 續 居高不下 京 滬深 二手房 成交量 俱跌 中新網 報導 依據 世紀 不動產 報告 ...</td>\n",
       "      <td>1</td>\n",
       "    </tr>\n",
       "    <tr>\n",
       "      <th>349257</th>\n",
       "      <td>一圖 秒 懂 市值 龍頭 蘋果 面臨 空頭 吞噬 死亡交叉 威脅 MarketWatch 報...</td>\n",
       "      <td>1</td>\n",
       "    </tr>\n",
       "    <tr>\n",
       "      <th>349258</th>\n",
       "      <td>房仲 不動產 步 重稅 時代 新建 案實 揭交屋 契稅 倍增 內政部 於今 揭露 截至 去 ...</td>\n",
       "      <td>1</td>\n",
       "    </tr>\n",
       "    <tr>\n",
       "      <th>349259</th>\n",
       "      <td>無線滑鼠 遊戲機 用 麥克風 熱賣 羅技 月營收 優於市場預期 公司 重申 今 年度 財測 ...</td>\n",
       "      <td>1</td>\n",
       "    </tr>\n",
       "    <tr>\n",
       "      <th>349260</th>\n",
       "      <td>聯電 集團 旗 下聯 半導體 預期 今年 純益 下滑 隸屬 聯電 集團 聯日 半導體 UMC...</td>\n",
       "      <td>1</td>\n",
       "    </tr>\n",
       "    <tr>\n",
       "      <th>349261</th>\n",
       "      <td>中鋼構 月營收 億元 連 創新高 惟鋼 價續揚 仍具 成本 壓力 中鋼 集團 鋼構 中鋼構 ...</td>\n",
       "      <td>1</td>\n",
       "    </tr>\n",
       "    <tr>\n",
       "      <th>349262</th>\n",
       "      <td>遠雄 大陸 投資 遠雄 蘇州 獲准 登陸 遠雄 建設 公告 經濟部 投審會 通過 蘇州 遠雄...</td>\n",
       "      <td>1</td>\n",
       "    </tr>\n",
       "    <tr>\n",
       "      <th>349263</th>\n",
       "      <td>筆電 應用 固態硬碟 趨勢 可期 SanDisk 創 新高 美國 知名 財經 週報 Barr...</td>\n",
       "      <td>1</td>\n",
       "    </tr>\n",
       "    <tr>\n",
       "      <th>349264</th>\n",
       "      <td>日本 寫真 印刷 獲 Pe rate ch 授權 將可 獨家 運用 TC 一年 英國 觸控 ...</td>\n",
       "      <td>1</td>\n",
       "    </tr>\n",
       "    <tr>\n",
       "      <th>349265</th>\n",
       "      <td>華星光 今年 擴產 七成 訂單 能見度 一季 光通訊 主動元件 華星光 將啟 動 一條龍 擴...</td>\n",
       "      <td>1</td>\n",
       "    </tr>\n",
       "    <tr>\n",
       "      <th>349266</th>\n",
       "      <td>沙國 增產 帶動 OPEC 原油 產量 創下 三年 新高 石油 天然氣 網站 Oil Voi...</td>\n",
       "      <td>1</td>\n",
       "    </tr>\n",
       "    <tr>\n",
       "      <th>349267</th>\n",
       "      <td>立 錡 致新 月營收 一減 一增 惟 均 悲觀 類比IC 設計 大廠 立 錡 致新 月營收 ...</td>\n",
       "      <td>1</td>\n",
       "    </tr>\n",
       "    <tr>\n",
       "      <th>349268</th>\n",
       "      <td>黃 崇仁 力晶 直接 跳 奈米 下半年 量產 今年 資本支出 億元 力晶 召開 今年 第一次...</td>\n",
       "      <td>1</td>\n",
       "    </tr>\n",
       "    <tr>\n",
       "      <th>349269</th>\n",
       "      <td>鳳還巢 大華 證 延攬 黃幼玲 出任 承銷 主管 開發金 旗下 大華 證 董事會 通過 決議...</td>\n",
       "      <td>1</td>\n",
       "    </tr>\n",
       "    <tr>\n",
       "      <th>349270</th>\n",
       "      <td>華碩 新平 板 美元 起跳 新品 陸續 上市 華碩 變型 平板 系列 新產品 第二季 陸續 ...</td>\n",
       "      <td>1</td>\n",
       "    </tr>\n",
       "    <tr>\n",
       "      <th>349271</th>\n",
       "      <td>華紙 去年 一舉 轉盈 今年 業績 續 看好 華紙 受惠 油價 木片 價格 下跌 國際 紙漿...</td>\n",
       "      <td>1</td>\n",
       "    </tr>\n",
       "    <tr>\n",
       "      <th>349272</th>\n",
       "      <td>美國升息 次 機率 跌破 五成 銀行 ETF 因太 擁擠 多殺多 英國 金融時報 報導 川普...</td>\n",
       "      <td>1</td>\n",
       "    </tr>\n",
       "    <tr>\n",
       "      <th>349273</th>\n",
       "      <td>SEMI 南韓 半導體設備 材料 銷售額 可望 成長 億美元 根據 EE Times com...</td>\n",
       "      <td>1</td>\n",
       "    </tr>\n",
       "    <tr>\n",
       "      <th>349274</th>\n",
       "      <td>Snap 飆 巴克萊 明年 進入 轉捩點 營收 將增 即時通 軟體 商 Snap 股票 上市...</td>\n",
       "      <td>1</td>\n",
       "    </tr>\n",
       "    <tr>\n",
       "      <th>349275</th>\n",
       "      <td>明基材 放棄 偏光板 事業 加速 醫療 市場 布局 偏光板 大廠 明基材 表示 偏光板 產品...</td>\n",
       "      <td>1</td>\n",
       "    </tr>\n",
       "    <tr>\n",
       "      <th>349276</th>\n",
       "      <td>麥 格里 三星電子 重點 轉至 低階 手機 零組件 供應商 三星電機 營益 恐 低於 預期 ...</td>\n",
       "      <td>1</td>\n",
       "    </tr>\n",
       "    <tr>\n",
       "      <th>349277</th>\n",
       "      <td>威剛 月營收 逆勢 估 進入 旺季 雖然 月份 DRAM 價格 下跌 記憶體模組 廠商 威剛...</td>\n",
       "      <td>1</td>\n",
       "    </tr>\n",
       "    <tr>\n",
       "      <th>349278</th>\n",
       "      <td>宏齊 稅後淨利 較 大幅 倍增 LED封裝 廠商 宏齊 公佈 季報 內容 分別 毛利率 持續...</td>\n",
       "      <td>1</td>\n",
       "    </tr>\n",
       "    <tr>\n",
       "      <th>349279</th>\n",
       "      <td>歐股 觀望 ECB 利率 決策 Stoxx 量縮 收跌 歐元區 通膨 低於 預期 拖累 歐股...</td>\n",
       "      <td>1</td>\n",
       "    </tr>\n",
       "    <tr>\n",
       "      <th>349280</th>\n",
       "      <td>歐盟 號令 實施 陸 原料 藥業 面臨 市場 洗牌 歐盟 號令 即將 於今 正式 實施 對此...</td>\n",
       "      <td>1</td>\n",
       "    </tr>\n",
       "    <tr>\n",
       "      <th>349281</th>\n",
       "      <td>紡織 綜合 研究所 人民幣 阻升 台灣 廠商 受 衝擊 最大 對沖基金 蠢蠢欲動 新台幣 防...</td>\n",
       "      <td>1</td>\n",
       "    </tr>\n",
       "    <tr>\n",
       "      <th>349282</th>\n",
       "      <td>聰明 消費 討好 阿娜 答 百貨 七夕 大方 送 浪漫的 七夕 情人節 快要 許多 情侶 還...</td>\n",
       "      <td>1</td>\n",
       "    </tr>\n",
       "    <tr>\n",
       "      <th>349283</th>\n",
       "      <td>LGD 奪 首季 車用 面板 王 友達 群創 分占二 三名 南韓 面板廠 LG Displa...</td>\n",
       "      <td>1</td>\n",
       "    </tr>\n",
       "    <tr>\n",
       "      <th>349284</th>\n",
       "      <td>德國 銀行 傳需 額外 籌募 歐元 資金 Thomson Reuters 引述 德國 平面媒...</td>\n",
       "      <td>1</td>\n",
       "    </tr>\n",
       "    <tr>\n",
       "      <th>349285</th>\n",
       "      <td>泰鼎 汽車 板 成長 快 韓系 一線 客戶 訂單 上修 泰鼎 營運 展望 續創新高 毛利率 ...</td>\n",
       "      <td>1</td>\n",
       "    </tr>\n",
       "  </tbody>\n",
       "</table>\n",
       "<p>349286 rows × 2 columns</p>\n",
       "</div>"
      ],
      "text/plain": [
       "                                                    index  \\\n",
       "0       華碩 品牌 NB 要 成為 亞太區 第四名 今年 NB 期望 成長 成 華碩 亞太 事業 群...   \n",
       "1       愛立信 行動 寬頻 雲端 勢力 催生 網路 型 社會 愛立信 世界 通訊 行動 大會 MWC...   \n",
       "2       宏達電 自拍 神器 HTC Eye 規格 曝光 傳採 吋 螢幕 宏達電 HTC 之前 傳出 ...   \n",
       "3       中美 貿易戰 意外 受惠 豐田 七月 中國 新車 銷售量 飆升 華盛頓 北京 貿易 對峙 白...   \n",
       "4       終端用戶 需求 大減 抵銷 減產 效應 鋼鐵廠 庫存 水位 依舊 偏高 Mine web 網...   \n",
       "5       QE 減碼 誰 最 受傷 野村 香港 新加坡 印度 印尼 過去 幾年 各國 央行 實施 量化...   \n",
       "6       新壽 標脫 高雄 三多 大樓 獲利 新光金 旗下 新壽 宣布 順利 標脫 高雄 三多 大樓 ...   \n",
       "7       藍光LED 年底 緊俏 晶粒 晶電 續 增溫 儘管 LED 新產能 持續 開出 不過 受到 ...   \n",
       "8       台塑 配合 大陸 彈性纖維 反傾銷 調查 面對 中國大陸 將對 台灣 輸往 大陸 氨綸 彈性...   \n",
       "9       祝文宇 房市 熱 但 青埔 開價 字頭 很 奇怪 國內 重量級 代銷 業者 甲 山林 董事長...   \n",
       "10      新 客戶 加持 鑽 全年 營收 年增 釘 槍 氣動 工具機 大廠 鑽全 今年 客戶 加持 保...   \n",
       "11      全台 筆都 更 大案 釋出 總 投資 金額 千億 內政部 宣布 下半年 將在 全台 推出 筆...   \n",
       "12      長興 月營收 獲利 高檔 季 稅前 EPS 長興 化工 估算 月營收 億元 億元 成長 估算...   \n",
       "13      允強 月營收 再 創歷史新高 不鏽鋼 廠商 允強 自結 月營收 創歷史新高 億元 除 月營收...   \n",
       "14      鋰電池 芯 廠商 NEC Tok in 受災 兩廠 恢復 生產 日經 新聞 英文版 報導 日...   \n",
       "15      大中華 文教 中華電 結合 平板 搶進 數位 教學 市場 平板電腦 搶進 教育 市場 大中華...   \n",
       "16      Hynix Mb DDR 已獲 英特爾 認證 明年 起將 採用 微米 製程 量產 DDR 南...   \n",
       "17      韓廠 鋰電池 市 佔 走升 Toray 大幅 擴增 南韓 分 膈膜 產能 日經 新聞報導 T...   \n",
       "18      日本 六大 銀行 集團 上半 會計年度 純益 預估 下滑 創下 會計年度 迄今 新低 日經 ...   \n",
       "19      報載 富士 寫真 今夏 斥資 日圓 中國 興建 一座 照相 手機鏡頭 日經 新聞 報導 富士...   \n",
       "20      今國光 月份 營收 改寫 歷史新高 照相 手機 用 模造 鏡片 可望 於 明年 出貨 由於 ...   \n",
       "21      聯一光 今年 業績 估增 成 毛利率 將在 掛牌 上櫃 光學玻璃 毛胚廠 聯一光 召開 法人...   \n",
       "22      台積電 今 舉辦 三十週年 慶 論壇 全程 於 官網 直播 台積電 日將 舉辦 三十週年 慶...   \n",
       "23      大陸 大豆 進口量 年增 年增 一財網 報導 大陸 海關總署 發佈 統計數據 顯示 大陸 累...   \n",
       "24      銀監會 要求 城市 商銀 扼止 信貸 過度 擴張 不當 用途 中國 銀監會 發佈 兩條 涉及...   \n",
       "25      銘異 獲利 季增 倍 惟 恐小虧 硬碟 零組件 銘異 三季 受惠 產品價格 調漲 出貨量 放...   \n",
       "26      凡甲 本季 營收 季增 拼增 一成 毛利率 可望 止跌 客戶 受 強震 影響 不大 加上 產...   \n",
       "27      憶聲 推出 品牌 平板 集團 營收 目標 百億元 顯示器 代工 大廠 憶聲 發表 自有品牌 ...   \n",
       "28      傳 三洋電 機 研發 出 超薄型 太陽能電池 厚度 僅 μ 日經 新聞 報導 日本 太陽能電...   \n",
       "29      美國 天然氣 日均 淨 進口量 創 新低 美國能源 資訊 局 EIA 公佈 截至 日止 上週...   \n",
       "...                                                   ...   \n",
       "349256  房價 續 居高不下 京 滬深 二手房 成交量 俱跌 中新網 報導 依據 世紀 不動產 報告 ...   \n",
       "349257  一圖 秒 懂 市值 龍頭 蘋果 面臨 空頭 吞噬 死亡交叉 威脅 MarketWatch 報...   \n",
       "349258  房仲 不動產 步 重稅 時代 新建 案實 揭交屋 契稅 倍增 內政部 於今 揭露 截至 去 ...   \n",
       "349259  無線滑鼠 遊戲機 用 麥克風 熱賣 羅技 月營收 優於市場預期 公司 重申 今 年度 財測 ...   \n",
       "349260  聯電 集團 旗 下聯 半導體 預期 今年 純益 下滑 隸屬 聯電 集團 聯日 半導體 UMC...   \n",
       "349261  中鋼構 月營收 億元 連 創新高 惟鋼 價續揚 仍具 成本 壓力 中鋼 集團 鋼構 中鋼構 ...   \n",
       "349262  遠雄 大陸 投資 遠雄 蘇州 獲准 登陸 遠雄 建設 公告 經濟部 投審會 通過 蘇州 遠雄...   \n",
       "349263  筆電 應用 固態硬碟 趨勢 可期 SanDisk 創 新高 美國 知名 財經 週報 Barr...   \n",
       "349264  日本 寫真 印刷 獲 Pe rate ch 授權 將可 獨家 運用 TC 一年 英國 觸控 ...   \n",
       "349265  華星光 今年 擴產 七成 訂單 能見度 一季 光通訊 主動元件 華星光 將啟 動 一條龍 擴...   \n",
       "349266  沙國 增產 帶動 OPEC 原油 產量 創下 三年 新高 石油 天然氣 網站 Oil Voi...   \n",
       "349267  立 錡 致新 月營收 一減 一增 惟 均 悲觀 類比IC 設計 大廠 立 錡 致新 月營收 ...   \n",
       "349268  黃 崇仁 力晶 直接 跳 奈米 下半年 量產 今年 資本支出 億元 力晶 召開 今年 第一次...   \n",
       "349269  鳳還巢 大華 證 延攬 黃幼玲 出任 承銷 主管 開發金 旗下 大華 證 董事會 通過 決議...   \n",
       "349270  華碩 新平 板 美元 起跳 新品 陸續 上市 華碩 變型 平板 系列 新產品 第二季 陸續 ...   \n",
       "349271  華紙 去年 一舉 轉盈 今年 業績 續 看好 華紙 受惠 油價 木片 價格 下跌 國際 紙漿...   \n",
       "349272  美國升息 次 機率 跌破 五成 銀行 ETF 因太 擁擠 多殺多 英國 金融時報 報導 川普...   \n",
       "349273  SEMI 南韓 半導體設備 材料 銷售額 可望 成長 億美元 根據 EE Times com...   \n",
       "349274  Snap 飆 巴克萊 明年 進入 轉捩點 營收 將增 即時通 軟體 商 Snap 股票 上市...   \n",
       "349275  明基材 放棄 偏光板 事業 加速 醫療 市場 布局 偏光板 大廠 明基材 表示 偏光板 產品...   \n",
       "349276  麥 格里 三星電子 重點 轉至 低階 手機 零組件 供應商 三星電機 營益 恐 低於 預期 ...   \n",
       "349277  威剛 月營收 逆勢 估 進入 旺季 雖然 月份 DRAM 價格 下跌 記憶體模組 廠商 威剛...   \n",
       "349278  宏齊 稅後淨利 較 大幅 倍增 LED封裝 廠商 宏齊 公佈 季報 內容 分別 毛利率 持續...   \n",
       "349279  歐股 觀望 ECB 利率 決策 Stoxx 量縮 收跌 歐元區 通膨 低於 預期 拖累 歐股...   \n",
       "349280  歐盟 號令 實施 陸 原料 藥業 面臨 市場 洗牌 歐盟 號令 即將 於今 正式 實施 對此...   \n",
       "349281  紡織 綜合 研究所 人民幣 阻升 台灣 廠商 受 衝擊 最大 對沖基金 蠢蠢欲動 新台幣 防...   \n",
       "349282  聰明 消費 討好 阿娜 答 百貨 七夕 大方 送 浪漫的 七夕 情人節 快要 許多 情侶 還...   \n",
       "349283  LGD 奪 首季 車用 面板 王 友達 群創 分占二 三名 南韓 面板廠 LG Displa...   \n",
       "349284  德國 銀行 傳需 額外 籌募 歐元 資金 Thomson Reuters 引述 德國 平面媒...   \n",
       "349285  泰鼎 汽車 板 成長 快 韓系 一線 客戶 訂單 上修 泰鼎 營運 展望 續創新高 毛利率 ...   \n",
       "\n",
       "        title_token_plus_body_token  \n",
       "0                                 1  \n",
       "1                                 1  \n",
       "2                                 1  \n",
       "3                                 1  \n",
       "4                                 1  \n",
       "5                                 1  \n",
       "6                                 1  \n",
       "7                                 1  \n",
       "8                                 1  \n",
       "9                                 1  \n",
       "10                                1  \n",
       "11                                1  \n",
       "12                                1  \n",
       "13                                1  \n",
       "14                                1  \n",
       "15                                1  \n",
       "16                                1  \n",
       "17                                1  \n",
       "18                                1  \n",
       "19                                1  \n",
       "20                                1  \n",
       "21                                1  \n",
       "22                                1  \n",
       "23                                1  \n",
       "24                                1  \n",
       "25                                1  \n",
       "26                                1  \n",
       "27                                1  \n",
       "28                                1  \n",
       "29                                1  \n",
       "...                             ...  \n",
       "349256                            1  \n",
       "349257                            1  \n",
       "349258                            1  \n",
       "349259                            1  \n",
       "349260                            1  \n",
       "349261                            1  \n",
       "349262                            1  \n",
       "349263                            1  \n",
       "349264                            1  \n",
       "349265                            1  \n",
       "349266                            1  \n",
       "349267                            1  \n",
       "349268                            1  \n",
       "349269                            1  \n",
       "349270                            1  \n",
       "349271                            1  \n",
       "349272                            1  \n",
       "349273                            1  \n",
       "349274                            1  \n",
       "349275                            1  \n",
       "349276                            1  \n",
       "349277                            1  \n",
       "349278                            1  \n",
       "349279                            1  \n",
       "349280                            1  \n",
       "349281                            1  \n",
       "349282                            1  \n",
       "349283                            1  \n",
       "349284                            1  \n",
       "349285                            1  \n",
       "\n",
       "[349286 rows x 2 columns]"
      ]
     },
     "execution_count": 120,
     "metadata": {},
     "output_type": "execute_result"
    }
   ],
   "source": [
    "news_vip_clean_wo_duplicate[\"title_token_plus_body_token\"].value_counts().reset_index()"
   ]
  },
  {
   "cell_type": "code",
   "execution_count": 125,
   "metadata": {
    "scrolled": true
   },
   "outputs": [],
   "source": [
    "# news_vip_clean_wo_duplicate.to_pickle(\"D:4.AutoencoderForArticle.Mid-Industry/news_vip_clean_wo_duplicate.p\")"
   ]
  },
  {
   "cell_type": "markdown",
   "metadata": {},
   "source": [
    "#### split to single and multi industry"
   ]
  },
  {
   "cell_type": "code",
   "execution_count": 133,
   "metadata": {},
   "outputs": [
    {
     "data": {
      "application/vnd.jupyter.widget-view+json": {
       "model_id": "e7d201702d454cec82dc9d37dc45efea",
       "version_major": 2,
       "version_minor": 0
      },
      "text/plain": [
       "HBox(children=(IntProgress(value=0, max=349286), HTML(value='')))"
      ]
     },
     "metadata": {},
     "output_type": "display_data"
    }
   ],
   "source": [
    "pick_single=news_vip_clean_wo_duplicate[\"medi-industry\"].progress_apply(lambda x: len(x)==1)"
   ]
  },
  {
   "cell_type": "code",
   "execution_count": 137,
   "metadata": {},
   "outputs": [],
   "source": [
    "news_vip_clean_wo_duplicate_single_industry=news_vip_clean_wo_duplicate[pick_single].reset_index(drop=True)"
   ]
  },
  {
   "cell_type": "code",
   "execution_count": 140,
   "metadata": {},
   "outputs": [],
   "source": [
    "# news_vip_clean_wo_duplicate_single_industry.to_pickle(\"D:4.AutoencoderForArticle.Mid-Industry/news_vip_clean_wo_duplicate_single_industry.p\")"
   ]
  },
  {
   "cell_type": "code",
   "execution_count": 144,
   "metadata": {},
   "outputs": [
    {
     "data": {
      "application/vnd.jupyter.widget-view+json": {
       "model_id": "791b7ee318804a8caa46ddea9318264e",
       "version_major": 2,
       "version_minor": 0
      },
      "text/plain": [
       "HBox(children=(IntProgress(value=0, max=349286), HTML(value='')))"
      ]
     },
     "metadata": {},
     "output_type": "display_data"
    }
   ],
   "source": [
    "pick_multi=news_vip_clean_wo_duplicate[\"medi-industry\"].progress_apply(lambda x: len(x)>1)"
   ]
  },
  {
   "cell_type": "code",
   "execution_count": 145,
   "metadata": {},
   "outputs": [],
   "source": [
    "news_vip_clean_wo_duplicate_multi_industry=news_vip_clean_wo_duplicate[pick_multi].reset_index(drop=True)"
   ]
  },
  {
   "cell_type": "code",
   "execution_count": 152,
   "metadata": {},
   "outputs": [],
   "source": [
    "# news_vip_clean_wo_duplicate_multi_industry.to_pickle(\"D:4.AutoencoderForArticle.Mid-Industry/news_vip_clean_wo_duplicate_multi_industry.p\")"
   ]
  }
 ],
 "metadata": {
  "kernelspec": {
   "display_name": "Python 3",
   "language": "python",
   "name": "python3"
  },
  "language_info": {
   "codemirror_mode": {
    "name": "ipython",
    "version": 3
   },
   "file_extension": ".py",
   "mimetype": "text/x-python",
   "name": "python",
   "nbconvert_exporter": "python",
   "pygments_lexer": "ipython3",
   "version": "3.5.5"
  }
 },
 "nbformat": 4,
 "nbformat_minor": 2
}
