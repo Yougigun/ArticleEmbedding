{
 "cells": [
  {
   "cell_type": "code",
   "execution_count": 1,
   "metadata": {},
   "outputs": [
    {
     "name": "stderr",
     "output_type": "stream",
     "text": [
      "C:\\Users\\garyyu\\AppData\\Local\\Continuum\\anaconda3\\envs\\deeplearningcpu\\lib\\site-packages\\tqdm\\autonotebook\\__init__.py:14: TqdmExperimentalWarning: Using `tqdm.autonotebook.tqdm` in notebook mode. Use `tqdm.tqdm` instead to force console mode (e.g. in jupyter console)\n",
      "  \" (e.g. in jupyter console)\", TqdmExperimentalWarning)\n"
     ]
    }
   ],
   "source": [
    "import pickle\n",
    "import numpy as np\n",
    "import pandas as pd\n",
    "import seaborn as sns\n",
    "import matplotlib.pyplot as plt\n",
    "#solved chinese display in matplotlib\n",
    "from matplotlib import rcParams\n",
    "rcParams['font.family'] = 'sans-serif'\n",
    "rcParams[\"font.family\"] = \"DFKai-SB\"\n",
    "rcParams['axes.unicode_minus'] = False\n",
    "\n",
    "from tqdm import tqdm_notebook,tnrange\n",
    "from tqdm.autonotebook import tqdm\n",
    "tqdm.pandas()\n",
    "\n",
    "import regex as re\n",
    "industry=['金融業', 'IC製造', 'IC設計', '電子零件元件', '電腦系統業', '石油及天然氣', '手機', '面板業', '太陽能',\n",
    "       '板鋼', '被動元件', '車輛整車', '非鐵金屬', '流通業', '地產', '通訊設備', '遊戲產業', '印刷電路板相關',\n",
    "       '貴金屬', '機械', '運輸事業', '電子通路', 'IC封裝測試', 'LED', '通訊服務', '消費性電子產品', '化學工業',\n",
    "       '醫藥產業', '軟體業', '週邊產品', '石化業', '旅館、餐飲', '汽機車零組件', '設備儀器廠商', '條鋼', '造紙業',\n",
    "       '水泥', '橡膠工業', '傳產其他', '數位相機', '顯示器', '不鏽鋼', '農林漁牧', '服務業', 'Internet相關',\n",
    "       '營造工程', '休閒娛樂', '紡織中游', '生物科技', '家電', '光碟片', '建材', '成衣', '電力', '運動產業',\n",
    "       '線材、盤元', '化纖原料', '其他公用事業', '大宗物資', '家居用品', '手機零組件', '食品加工', '電力設備',\n",
    "       '航天軍工', '分離式元件', '電子其他', '面板零組件', '飲料相關', '電線電纜', '封測服務與材料', '礦石開採',\n",
    "       '光通訊', '傳播事業', '輔助與彌補用醫材', '時尚產業', '基礎建設營運', '電聲產品', '水資源', '醫療器材通路',\n",
    "       '合金鋼', '文化創意產業', '車用金屬成型', '穿戴式裝置', '其他醫療器材', '汽車內裝', '車用電子',\n",
    "       '診斷與監測用醫材', '傳輸介面', '電子化工材料', '電池材料相關', '資產股', '醫療管理服務', '體外診斷用醫材', '煤',\n",
    "       '射頻前端晶片', '控股公司', '無店舖販售', '手術與治療用醫材', '金屬礦採選', '生物辨識相關']"
   ]
  },
  {
   "cell_type": "code",
   "execution_count": 2,
   "metadata": {},
   "outputs": [],
   "source": [
    "news=pd.read_pickle(\"D:4.AutoencoderForArticle.Mid-Industry/news_vip_clean_wo_duplicate_single_industry.p\")"
   ]
  },
  {
   "cell_type": "code",
   "execution_count": 3,
   "metadata": {},
   "outputs": [],
   "source": [
    "news[\"medi-industry\"]=news[\"medi-industry\"].apply(lambda x: list(x)[0])"
   ]
  },
  {
   "cell_type": "code",
   "execution_count": 5,
   "metadata": {
    "scrolled": true
   },
   "outputs": [
    {
     "data": {
      "text/plain": [
       "array(['安心 今年 高度 挑戰 一年 自助 點餐 機助 效率 提升 餐飲業 人事 成本 持續 攀升 基本工資 時薪將 調漲 代理 摩斯 漢堡 安心 表示 基本工資 調漲 影響 很大 摩斯 導入 自助 點餐機 有助 因應 此 趨勢 今年 高度 挑戰 一年 公司 導入 科技 應用 提升 工作效率 審慎 管控 採購 成本 方式 因應 未來 仍將 維持 穩健 展店 步調 安心 食品 總經理 高順興 指出 近年來 據點 租金 食材 人力 成本 均 持續 提高 摩斯 漢堡 食材 成本 而 計時 人員 員工 比重 雖 下降 目前 成多 基本工資 調漲 影響 很大 因應 去年 基本工資 時薪 調漲 今年 上半年 人事 成本 年增 左右 明年 基本工資 時薪 調升 成本 增幅 可能 又 高於 這幅 安心 食品 董事長 林 建元 指出 預期 年金改革 可能 消費市場 造成 影響 今年 將是 高度 挑戰 一年 因此 公司 藉由 導入 科技 應用 盼能 降低 員工 負擔 提升 工作效率 同時 審慎 管控 採購 成本 未來 仍將 維持 穩健 展店 步調 並且 因應 未來 發展趨勢 審慎 因應 關於 基本工資 調漲 因應 公司 指出 摩斯 積極 透過 APP 點餐 以及 店面 導入 自助 點餐機 來 紓 緩 尖峰 時段 點餐 人潮 自底 率先 宣布 導入 自助 點餐機 目前 已經 導入 家 自助 點餐 機台 自家 東元 集團 自行 開發 同時 摩斯 積極 提高 生產 速率 挹注 東元 集團 資源 透過 IT 資訊 設備 升級 來 輔助 工作效率 摩斯 目前 全台 共有 家 據點 公司 指出 摩斯 均 穩健 步調 展店 平均 新展 多家 店 同步進行 汰 弱 留強 而 關於 改 效應 目前 營業額 而言 沒 顯著 差異 無法 分辨 客群 消費 習慣 是否 變化 針對 人口老化 趨勢 摩斯 一直 掌握 並將 聚焦 商品 開發 因應',\n",
       "       '信義 房市 北溫 南冷 大雨 民俗 澆熄 熱度 信義 房屋 統計 全台 都會區 門市 交易 表現 指出 房市 今年 農曆年 房市 相 交易 平淡 時期 主要 受到 氣候 民俗 影響 房市 交易量 年減 月減 若以 區域 來看 交易 呈現 北溫 南冷 局面 連續 大雨 讓 南 台灣 房市 有點 悶 信義 房屋 不動產 企研室 專案 經理 曾敬德 表示 今年 多數 時間 交易量 多 優於去年同期 就是 今年 房市 買氣 交易 狀況 去年 好 出現 減且 年減 狀況 顯見 氣候 因素 影響 讓 房市 交易 速度 放慢 不過 預料 天氣 逐漸 穩定 遞延 買盤 有機 第四季 回流 信義 房屋 統計 雙北市 表現 狀況 穩定 台北市 交易量 年增 不過 市中心 區域 交易 速度 放緩 反而 平價 區域 如 大同區 萬華區 交易 增溫 因此 拉低 平均 成交 單價 新北市 交易量 則是 年增 但月減 雙北市 房市 交易 狀況 相 中南部 平穩 而 中南部 受 大雨 民俗 影響 台中市 交易量 呈現 減且 年減 幅度 超過 成 台南市 交易量 呈現 減近 成 去年同期 表現 相當 高雄市 則是 年減 月減 交易 狀況 受到 連日 大雨 影響 曾敬德 表示 今年 整體而言 買氣 狀況 去年 好 市場 買氣 持續 回流 雖然 年底 選舉 不確定 因素 地方 首長 選舉 通常 不會 太過 激烈的 房市 政策 預料 第四季 房市 旺季 買氣 仍會 持續 回流',\n",
       "       '陸 鋼鐵 PMI 降至 後市 鋼價料 高檔 支撐 西 本 新幹線 報導 物聯 鋼鐵 物流 專業 委員會 發布 鋼鐵行業 PMI 相較 下降 百分點 各 主要 分項 指數 出口 訂單 指數 採購 指數 購進 價格指數 上升 幅度 較大 生產指數 產成品 庫存 指數 明顯 下降 本次 PMI 顯示 大陸 當前 鋼鐵行業 生產 有所 趨緩 原材料 價格 上升 接單 情況 良好 出口 情況 好轉 產成品 銷售 順暢 企業 效益 較好 預期 後市 鋼材市場 運行 態勢 良好 鋼材價格 高檔 仍有 一定 支撐 數據 顯示 大陸 鋼鐵行業 生產 增速 有所 趨緩 生產指數 下降 百分點 原材料 採購 指數 升 百分點 原材料 進口 指數 升 百分點 原材料 庫存 指數 降 百分點 處於 擴展 區間 新訂單 指數 降 百分點 出口 訂單 指數 升 百分點 產成品 庫存 指數 降 百分點 連續 處於 收縮 區間 原材料 購進 價格指數 升 百分點 處於 水準 物聯 鋼鐵 物流 專業 委員會 表示 整體 來看 大陸 由於 高溫多雨 天氣 尚未 完結 原材料 成本 上升幅度 較大 鋼材 生產 增速 有所 趨緩 市場 預期 迎來 旺季 因此 鋼廠 接單 較好 產成品 庫存 加速 入市 市場 價格 上升 不過 這也 市場 供應 端 帶來 一 定 壓力 此外 該會 指出 大陸 政府 正 致力於 穩定 經濟 形勢 用鋼 單位 需求 加速 釋放 環保 限產 政策 強 執行 可能 直接 影響 鋼材 供應 有利於 鋼材市場 基本面 短期 趨好 因此 鋼材價格 高檔 仍有 一定 支撐 接下來 需求 如果 能夠 順利 釋放 市場 還有 向上 空間',\n",
       "       ...,\n",
       "       '精威將 辦理 現金增資 募集 億元 因應 購地 擴充 產能 之用 精威 科技 今日 公告 更新 財測 主要 由於 該 公司 將於 月初 送件 申請 辦理 現金增資 初步 估計 將募資 億元 主要 用於 購買 土地 興建 廠房 之用 其中 稅前 淨利 小幅 減少 萬元 精威 發言人 李錦樹 經理 表示 該 公司 原 預定 自有 資金 購買 位於 平鎮 坪 土地 不過 由於 公司 上櫃公司 公司 方面 認為 不該 自有 基金 押 不動產 如 土地 廠房 上面 因此 計劃 辦理 現增 已支 應該 筆購 地案 李錦樹 指出 辦理 現 增購 買 該地 除了 提 昇 自有 資金 靈活運用 並可 享有 投資 抵減 稅率 優惠 因此 公司 方面 決議 進行 現增 初步 估計 需 資金 億元 不過 由於 每股 溢價 金額 承銷商 洽談 因此 尚未 決定 增資 額度',\n",
       "       '國泰人壽 提高 中國 投資額 度至 萬美元 路透社 報導 國泰金 表示 由於 SARS 風暴 遠離 旗鑑 企業 國泰人壽 提高 投資 中國 合資 保險 子公司 額度 原先 投資 萬美元 提高 萬美元 國泰金 執行 副總 李長庚 表示 國泰人壽 已獲 政府 同意 提高 中國 投資額 我國 政府 目前 同意 家 保險公司 中國 設 辦事處',\n",
       "       'ABARE 明年 鋁的 供應 可能 出現 供過於求 情況 鋁的 均價 可能 下跌 澳洲 農業 暨 資源 經濟局 Australian Bureau of Agriculture and Resource Economics ABARE 發布 報告 指出 預期 今年 鋁的 均價 每噸 將為 美元 去年 成長 明年 鋁將 出現 供過於求 現象 可能 使 庫存 增加 並使鋁 均價 下跌 降至 每噸 美元 ABARE 指出 由於 中國 製造 活動 基礎建設 快速成長 至時 中國 取代 美國 成為 全球 最大 鋁的 消費國 中國 今年 對鋁 需求 將以 平均 複合 成長率 成長 萬噸 美國 今年 對鋁 需求 將以 平均 複合 成長率 成長 萬噸 ABARE 預期 鋁 今年 全球 需求量 成長 達噸 明年 將續 成長 達噸 期間 全球 鋁的 需求量 將以 年複合成長率 成長 預計 至鋁 需求量 將達噸 ABARE 預期 今年 全球 鋁的 供應量 將以 平均 每年 速度 成長 萬噸 全球 鋁 供應量 將以 每年 超過 速度 成長 達噸'],\n",
       "      dtype=object)"
      ]
     },
     "execution_count": 5,
     "metadata": {},
     "output_type": "execute_result"
    }
   ],
   "source": [
    "text=news.iloc[:,2].values\n",
    "text"
   ]
  },
  {
   "cell_type": "markdown",
   "metadata": {},
   "source": [
    "#### build tokenizer on all de-duplicate single industry News"
   ]
  },
  {
   "cell_type": "code",
   "execution_count": 6,
   "metadata": {},
   "outputs": [
    {
     "name": "stderr",
     "output_type": "stream",
     "text": [
      "C:\\Users\\garyyu\\AppData\\Local\\Continuum\\anaconda3\\envs\\deeplearningcpu\\lib\\site-packages\\h5py\\__init__.py:36: FutureWarning: Conversion of the second argument of issubdtype from `float` to `np.floating` is deprecated. In future, it will be treated as `np.float64 == np.dtype(float).type`.\n",
      "  from ._conv import register_converters as _register_converters\n",
      "Using TensorFlow backend.\n"
     ]
    }
   ],
   "source": [
    "from keras.preprocessing.text import Tokenizer"
   ]
  },
  {
   "cell_type": "code",
   "execution_count": 501,
   "metadata": {},
   "outputs": [],
   "source": [
    "tokenizer=Tokenizer()"
   ]
  },
  {
   "cell_type": "code",
   "execution_count": 502,
   "metadata": {},
   "outputs": [],
   "source": [
    "tokenizer.fit_on_texts(text)"
   ]
  },
  {
   "cell_type": "code",
   "execution_count": 503,
   "metadata": {},
   "outputs": [
    {
     "name": "stdout",
     "output_type": "stream",
     "text": [
      "Total words counts: 308681\n"
     ]
    }
   ],
   "source": [
    "print(\"Total words counts:\",len(tokenizer.word_counts))"
   ]
  },
  {
   "cell_type": "code",
   "execution_count": 504,
   "metadata": {},
   "outputs": [],
   "source": [
    "word_counts=pd.Series(tokenizer.word_counts)\n",
    "word_counts=word_counts.sort_values(ascending=False)"
   ]
  },
  {
   "cell_type": "code",
   "execution_count": 505,
   "metadata": {
    "scrolled": true
   },
   "outputs": [
    {
     "data": {
      "text/plain": [
       "億元           316225\n",
       "營收           295315\n",
       "今年           254154\n",
       "表示           228468\n",
       "公司           218020\n",
       "市場           197032\n",
       "成長           194345\n",
       "而            188551\n",
       "目前           154984\n",
       "產品           142511\n",
       "去年           139122\n",
       "指出           132001\n",
       "美元           131853\n",
       "獲利           124245\n",
       "預估           109164\n",
       "需求           104077\n",
       "客戶           101296\n",
       "全球            97881\n",
       "預期            97657\n",
       "中國            96348\n",
       "月營收           93593\n",
       "美國            93115\n",
       "可望            91893\n",
       "該             91442\n",
       "持續            89417\n",
       "季             87993\n",
       "大陸            87953\n",
       "營運            86682\n",
       "以及            83859\n",
       "價格            82563\n",
       "              ...  \n",
       "忠於               11\n",
       "aldi             11\n",
       "以稼動率             11\n",
       "海寶               11\n",
       "想靠               11\n",
       "防磁               11\n",
       "具較               11\n",
       "北大西洋             11\n",
       "找出路              11\n",
       "美國版              11\n",
       "明東               11\n",
       "穆欽               11\n",
       "腸炎               11\n",
       "報考               11\n",
       "收穫期              11\n",
       "觀光勝地             11\n",
       "協會理事             11\n",
       "民意調查             11\n",
       "多公里              11\n",
       "大沙公              11\n",
       "年營               11\n",
       "轉租給              11\n",
       "execution        11\n",
       "bleed            11\n",
       "廠傳將              11\n",
       "unisys           11\n",
       "求愛               11\n",
       "傳向               11\n",
       "通水               11\n",
       "skew             11\n",
       "Length: 70000, dtype: int64"
      ]
     },
     "execution_count": 505,
     "metadata": {},
     "output_type": "execute_result"
    }
   ],
   "source": [
    "word_counts[:70000]"
   ]
  },
  {
   "cell_type": "code",
   "execution_count": 549,
   "metadata": {
    "scrolled": true
   },
   "outputs": [
    {
     "data": {
      "application/vnd.jupyter.widget-view+json": {
       "model_id": "7ed471ea458547e6b21843820e17d450",
       "version_major": 2,
       "version_minor": 0
      },
      "text/plain": [
       "HBox(children=(IntProgress(value=0, max=6997), HTML(value='')))"
      ]
     },
     "metadata": {},
     "output_type": "display_data"
    },
    {
     "name": "stdout",
     "output_type": "stream",
     "text": [
      "578\n"
     ]
    },
    {
     "data": {
      "text/plain": [
       "True"
      ]
     },
     "execution_count": 549,
     "metadata": {},
     "output_type": "execute_result"
    }
   ],
   "source": [
    "alltrue=True\n",
    "pool=word_counts[:6997]\n",
    "for idx in tqdm_notebook(range(6997)):\n",
    "    idx+=1\n",
    "    alltrue=alltrue and (tokenizer.index_word[idx] in pool)\n",
    "#     if (tokenizer.index_word[idx] not in pool):alltrue=alltrue or word_counts.loc[tokenizer.index_word[idx]]==11\n",
    "print(word_counts.loc[tokenizer.index_word[idx]])\n",
    "alltrue"
   ]
  },
  {
   "cell_type": "code",
   "execution_count": 556,
   "metadata": {},
   "outputs": [
    {
     "data": {
      "application/vnd.jupyter.widget-view+json": {
       "model_id": "c4e82ca311334d08924bca0632780c22",
       "version_major": 2,
       "version_minor": 0
      },
      "text/plain": [
       "HBox(children=(IntProgress(value=0, max=70000), HTML(value='')))"
      ]
     },
     "metadata": {},
     "output_type": "display_data"
    }
   ],
   "source": [
    "counts=[]\n",
    "for i in tqdm_notebook(range(70000)):\n",
    "    i+=1\n",
    "    counts.append(tokenizer.word_counts[tokenizer.index_word[i]])\n"
   ]
  },
  {
   "cell_type": "code",
   "execution_count": 573,
   "metadata": {},
   "outputs": [
    {
     "data": {
      "text/plain": [
       "[<matplotlib.lines.Line2D at 0x16510911320>]"
      ]
     },
     "execution_count": 573,
     "metadata": {},
     "output_type": "execute_result"
    },
    {
     "data": {
      "image/png": "[encoded data removed]",
      "text/plain": [
       "<Figure size 432x288 with 1 Axes>"
      ]
     },
     "metadata": {},
     "output_type": "display_data"
    }
   ],
   "source": [
    "plt.plot(counts[:200])"
   ]
  },
  {
   "cell_type": "code",
   "execution_count": 574,
   "metadata": {},
   "outputs": [],
   "source": [
    "# with open(\"D:4.AutoencoderForArticle.Mid-Industry/tokenizer.p\",\"wb\") as f:\n",
    "#     pickle.dump(tokenizer,f)"
   ]
  },
  {
   "cell_type": "markdown",
   "metadata": {},
   "source": [
    "#### build tokenizer for individual industry"
   ]
  },
  {
   "cell_type": "code",
   "execution_count": 103,
   "metadata": {
    "scrolled": false
   },
   "outputs": [
    {
     "data": {
      "application/vnd.jupyter.widget-view+json": {
       "model_id": "6fcd3b770ceb4c1da7b45f6a65a9f8f7",
       "version_major": 2,
       "version_minor": 0
      },
      "text/plain": [
       "HBox(children=(IntProgress(value=0), HTML(value='')))"
      ]
     },
     "metadata": {},
     "output_type": "display_data"
    }
   ],
   "source": [
    "token={}\n",
    "for i in tqdm_notebook(industry):\n",
    "    tokenizer_partial=Tokenizer()\n",
    "    text_partial=news[news[\"medi-industry\"]==i].iloc[:,2]\n",
    "    tokenizer_partial.fit_on_texts(text_partial)\n",
    "    token[i]=tokenizer_partial\n",
    "    \n",
    "    "
   ]
  },
  {
   "cell_type": "code",
   "execution_count": 136,
   "metadata": {
    "scrolled": true
   },
   "outputs": [
    {
     "name": "stdout",
     "output_type": "stream",
     "text": [
      "手機零組件\n",
      "營收      1393\n",
      "億元       932\n",
      "手機       741\n",
      "季        724\n",
      "成長       680\n",
      "合併       626\n",
      "今年       622\n",
      "客戶       524\n",
      "產品       520\n",
      "而        458\n",
      "表示       450\n",
      "閎暉       442\n",
      "公司       434\n",
      "市場       389\n",
      "月份       386\n",
      "出貨       338\n",
      "大立光      328\n",
      "去年       324\n",
      "聯發科      304\n",
      "目前       299\n",
      "毛利率      298\n",
      "比重       296\n",
      "淳安       291\n",
      "訂單       284\n",
      "水準       259\n",
      "綠點       256\n",
      "營運       247\n",
      "表現       246\n",
      "手機按鍵     246\n",
      "畫素       239\n",
      "        ... \n",
      "億美元       17\n",
      "stn       17\n",
      "創新        17\n",
      "買進        17\n",
      "經營        17\n",
      "黑莓        17\n",
      "車用        17\n",
      "遊戲        17\n",
      "激勵        16\n",
      "影像        16\n",
      "市         16\n",
      "逐季        16\n",
      "拿下        16\n",
      "私募        16\n",
      "相對        16\n",
      "升值        16\n",
      "關鍵        16\n",
      "發行        16\n",
      "升高        16\n",
      "智能手機      16\n",
      "現金股利      16\n",
      "功能型       16\n",
      "季在        16\n",
      "事務機器      16\n",
      "pda       16\n",
      "態勢        16\n",
      "處理        16\n",
      "led       16\n",
      "規定        16\n",
      "支持        16\n",
      "Length: 700, dtype: int64\n"
     ]
    }
   ],
   "source": [
    "#### 已經計算出token (各產業的tokenizer)\n",
    "\n",
    "n=60\n",
    "print(industry[n])\n",
    "print(pd.Series(token[industry[n]].word_counts).sort_values(ascending=False)[:700])"
   ]
  },
  {
   "cell_type": "code",
   "execution_count": 576,
   "metadata": {},
   "outputs": [],
   "source": [
    "# with open(\"D:4.AutoencoderForArticle.Mid-Industry/tokenizers.p\",\"wb\") as f:\n",
    "#     pickle.dump(token,f)"
   ]
  }
 ],
 "metadata": {
  "kernelspec": {
   "display_name": "Python 3",
   "language": "python",
   "name": "python3"
  },
  "language_info": {
   "codemirror_mode": {
    "name": "ipython",
    "version": 3
   },
   "file_extension": ".py",
   "mimetype": "text/x-python",
   "name": "python",
   "nbconvert_exporter": "python",
   "pygments_lexer": "ipython3",
   "version": "3.5.5"
  }
 },
 "nbformat": 4,
 "nbformat_minor": 2
}
