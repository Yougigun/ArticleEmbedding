{
 "cells": [
  {
   "cell_type": "code",
   "execution_count": 1,
   "metadata": {},
   "outputs": [
    {
     "name": "stderr",
     "output_type": "stream",
     "text": [
      "C:\\Users\\garyyu\\AppData\\Local\\Continuum\\anaconda3\\envs\\deeplearningcpu\\lib\\site-packages\\tqdm\\autonotebook\\__init__.py:14: TqdmExperimentalWarning: Using `tqdm.autonotebook.tqdm` in notebook mode. Use `tqdm.tqdm` instead to force console mode (e.g. in jupyter console)\n",
      "  \" (e.g. in jupyter console)\", TqdmExperimentalWarning)\n"
     ]
    }
   ],
   "source": [
    "import pickle\n",
    "import numpy as np\n",
    "from scipy import sparse\n",
    "import pandas as pd\n",
    "import seaborn as sns\n",
    "import uuid\n",
    "import matplotlib.pyplot as plt\n",
    "#solved chinese display in matplotlib\n",
    "from matplotlib import rcParams\n",
    "rcParams['font.family'] = 'sans-serif'\n",
    "rcParams[\"font.family\"] = \"DFKai-SB\"\n",
    "rcParams['axes.unicode_minus'] = False\n",
    "\n",
    "from tqdm import tqdm_notebook,tnrange\n",
    "from tqdm.autonotebook import tqdm\n",
    "tqdm.pandas()\n",
    "import sys\n",
    "import regex as re"
   ]
  },
  {
   "cell_type": "code",
   "execution_count": 4,
   "metadata": {},
   "outputs": [],
   "source": [
    "with open(\"D:4.AutoencoderForArticle.Mid-Industry/dict_guid_sparsebow_single.v05.p\",\"rb\") as f:\n",
    "    dict_guid_sparsebow_single= pickle.load(f)"
   ]
  },
  {
   "cell_type": "code",
   "execution_count": 5,
   "metadata": {},
   "outputs": [],
   "source": [
    "with open(\"D:4.AutoencoderForArticle.Mid-Industry/dict_guid_sparsebow_20000_single.v05.p\",\"rb\") as f:\n",
    "    dict_guid_sparsebow_20000_single= pickle.load(f)"
   ]
  },
  {
   "cell_type": "markdown",
   "metadata": {},
   "source": [
    "# Total none-zero divde all elems"
   ]
  },
  {
   "cell_type": "code",
   "execution_count": 6,
   "metadata": {},
   "outputs": [
    {
     "name": "stdout",
     "output_type": "stream",
     "text": [
      "Sparsity: 0.011%\n"
     ]
    }
   ],
   "source": [
    "## Sparsity\n",
    "v=0\n",
    "dict_guid_sparse=dict_guid_sparsebow_single\n",
    "totalelement=(list(dict_guid_sparse.values())[0]).shape[1]*len(dict_guid_sparse)\n",
    "for guid in dict_guid_sparse:\n",
    "    vector=dict_guid_sparse[guid]\n",
    "    v+=vector\n",
    "sparsity=(v.sum())/totalelement\n",
    "print(\"Sparsity: {:.2}%\".format(sparsity*100))"
   ]
  },
  {
   "cell_type": "code",
   "execution_count": 7,
   "metadata": {},
   "outputs": [
    {
     "name": "stdout",
     "output_type": "stream",
     "text": [
      "Sparsity: 0.0017%\n"
     ]
    }
   ],
   "source": [
    "## Sparsity\n",
    "v=0\n",
    "dict_guid_sparse=dict_guid_sparsebow_20000_single\n",
    "totalelement=(list(dict_guid_sparse.values())[0]).shape[1]*len(dict_guid_sparse)\n",
    "for guid in dict_guid_sparse:\n",
    "    vector=dict_guid_sparse[guid]\n",
    "    v+=vector\n",
    "sparsity=(v.sum())/totalelement\n",
    "print(\"Sparsity: {:.2}%\".format(sparsity*100))"
   ]
  },
  {
   "cell_type": "markdown",
   "metadata": {},
   "source": [
    "# average of sparsity of each vector"
   ]
  },
  {
   "cell_type": "code",
   "execution_count": 12,
   "metadata": {},
   "outputs": [
    {
     "name": "stdout",
     "output_type": "stream",
     "text": [
      "Sparsity: 0.17%\n"
     ]
    }
   ],
   "source": [
    "### v05 70000dim\n",
    "s=0\n",
    "dict_guid_sparse=dict_guid_sparsebow_single\n",
    "nE=list(dict_guid_sparse.values())[0].shape[1]\n",
    "nV=len(dict_guid_sparse)\n",
    "for guid in dict_guid_sparse:\n",
    "    sparsity=((dict_guid_sparse[guid]).sum())/nE\n",
    "    s+=sparsity\n",
    "sparsity=s/nV\n",
    "print(\"Sparsity: {:.2}%\".format(sparsity*100))"
   ]
  },
  {
   "cell_type": "code",
   "execution_count": 11,
   "metadata": {},
   "outputs": [
    {
     "name": "stdout",
     "output_type": "stream",
     "text": [
      "Sparsity: 0.57%\n"
     ]
    }
   ],
   "source": [
    "### v05 20000dim\n",
    "s=0\n",
    "dict_guid_sparse=dict_guid_sparsebow_20000_single\n",
    "nE=list(dict_guid_sparse.values())[0].shape[1]\n",
    "nV=len(dict_guid_sparse)\n",
    "for guid in dict_guid_sparse:\n",
    "    sparsity=((dict_guid_sparse[guid]).sum())/nE\n",
    "    s+=sparsity\n",
    "sparsity=s/nV\n",
    "print(\"Sparsity: {:.2}%\".format(sparsity*100))"
   ]
  },
  {
   "cell_type": "code",
   "execution_count": 13,
   "metadata": {},
   "outputs": [
    {
     "data": {
      "text/plain": [
       "<1x70000 sparse matrix of type '<class 'numpy.int8'>'\n",
       "\twith 129 stored elements in Compressed Sparse Row format>"
      ]
     },
     "execution_count": 13,
     "metadata": {},
     "output_type": "execute_result"
    }
   ],
   "source": [
    "dict_guid_sparse[guid]"
   ]
  }
 ],
 "metadata": {
  "kernelspec": {
   "display_name": "Python 3",
   "language": "python",
   "name": "python3"
  },
  "language_info": {
   "codemirror_mode": {
    "name": "ipython",
    "version": 3
   },
   "file_extension": ".py",
   "mimetype": "text/x-python",
   "name": "python",
   "nbconvert_exporter": "python",
   "pygments_lexer": "ipython3",
   "version": "3.5.5"
  }
 },
 "nbformat": 4,
 "nbformat_minor": 2
}
