{
 "cells": [
  {
   "cell_type": "code",
   "execution_count": null,
   "metadata": {},
   "outputs": [],
   "source": [
    "from ArticlesRep import MeanSimilarityoneindustry,MeanSimilaritytwoindustry #common function\n",
    "\n",
    "import pandas as pd\n",
    "\n",
    "import numpy as np\n",
    "\n",
    "%matplotlib inline\n",
    "\n",
    "import pickle\n",
    "\n",
    "import visdom\n",
    "\n",
    "from tqdm import tnrange, tqdm_notebook\n",
    "from tqdm.autonotebook import tqdm\n",
    "tqdm.pandas()\n",
    "\n",
    "from time import time,sleep\n",
    "from datetime import datetime\n",
    "\n",
    "from sklearn.metrics.pairwise import cosine_similarity\n",
    "# import visdom\n",
    "# vis=visdom.Visdom()\n",
    "# env=\"TagBased\"\n",
    "\n",
    "import warnings\n",
    "warnings.simplefilter(action='ignore', category=FutureWarning)\n",
    "# %matplotlib inline\n",
    "\n",
    "import re\n",
    "import sys\n",
    "from pprint import pprint\n",
    "#coding:utf-8\n",
    "\n",
    "#solved chinese display in matplotlib\n",
    "from pylab import mpl\n",
    "mpl.rcParams[\"font.family\"] = 'DFKai-sb' \n",
    "mpl.rcParams['axes.unicode_minus'] = False\n",
    "\n",
    "from matplotlib import pyplot as plt\n",
    "\n",
    "list_industry=[\"水泥\",\"食品飲料\",\"石化\",\"紡織\",\"電機機械\",\"電器電纜\",\"化學工業\",\n",
    "               \"建材居家用品\",\"造紙\",\"鋼鐵金屬\",\"車輛相關\",\"科技相關\",\"營建地產\",\"運輸\",\"觀光休閒娛樂\",\n",
    "               \"金融相關\",\"百貨通路\",\"公用事業\",\"控股\",\"生技醫療保健\",\"農林漁牧\",\"航天軍工\",\"能源\",\"傳播出版\",\"綜合\",\n",
    "               \"傳產其他\",\"其他\",\"金屬礦採選\",\n",
    "              ]\n",
    "element=\"氫氦鋰鈹硼碳氮氧氟氖鈉鎂鋁矽磷硫氯氬鉀鈣鈧鈦釩鉻錳鐵鈷鎳銅鋅鎵鍺砷硒溴氪銣鍶銀鎘銦錫銻碲碘氙銫鋇鉑金汞鉈鉛鉍釙氡鍅鐳\""
   ]
  },
  {
   "cell_type": "code",
   "execution_count": null,
   "metadata": {},
   "outputs": [],
   "source": [
    "df=pd.read_hdf(\"Model/history.h5\")\n"
   ]
  },
  {
   "cell_type": "code",
   "execution_count": null,
   "metadata": {},
   "outputs": [],
   "source": [
    "df[[\"loss\",\"val_loss\"]][:200].plot(subplots=True,layout=(1,3),figsize=(18,6))"
   ]
  },
  {
   "cell_type": "code",
   "execution_count": null,
   "metadata": {},
   "outputs": [],
   "source": [
    "df[[\"triplet_loss\",\"val_triplet_loss\"]][:200].plot(subplots=True,layout=(1,3),figsize=(18,6))"
   ]
  },
  {
   "cell_type": "code",
   "execution_count": null,
   "metadata": {},
   "outputs": [],
   "source": [
    "df[[\"anchor_loss\",\"positive_loss\",\"negative_loss\"]][:50].plot(subplots=True,layout=(1,3),figsize=(18,6))"
   ]
  },
  {
   "cell_type": "code",
   "execution_count": null,
   "metadata": {},
   "outputs": [],
   "source": [
    "df[[\"val_anchor_loss\",\"val_positive_loss\",\"val_negative_loss\"]].plot(subplots=True,layout=(1,3),figsize=(18,6))"
   ]
  },
  {
   "cell_type": "code",
   "execution_count": null,
   "metadata": {},
   "outputs": [],
   "source": [
    "df[[\"loss\",\"val_loss\"]][:30].plot(subplots=True,layout=(1,3),figsize=(18,6))"
   ]
  },
  {
   "cell_type": "code",
   "execution_count": null,
   "metadata": {},
   "outputs": [],
   "source": [
    "df[\"triplet_loss\"][342:343]"
   ]
  },
  {
   "cell_type": "code",
   "execution_count": null,
   "metadata": {},
   "outputs": [],
   "source": [
    "l=800\n",
    "triplet_loss=pd.read_csv(\"run_model1-tag-triplet_loss.csv\")\n",
    "triplet_loss=triplet_loss[:l][\"Value\"]\n",
    "val_triplet_loss=pd.read_csv(\"run_model1-tag-val_triplet_loss.csv\")\n",
    "val_triplet_loss=val_triplet_loss[:l][\"Value\"]\n",
    "\n",
    "loss=pd.read_csv(\"run_model1-tag-loss.csv\")\n",
    "loss=loss[:l][\"Value\"]\n",
    "val_loss=pd.read_csv(\"run_model1-tag-val_loss.csv\")\n",
    "val_loss=val_loss[:l][\"Value\"]\n",
    "\n",
    "negative_loss=pd.read_csv(\"run_model1-tag-negative_loss.csv\")\n",
    "negative_loss=negative_loss[:l][\"Value\"]\n",
    "val_negative_loss=pd.read_csv(\"run_model1-tag-val_negative_loss.csv\")\n",
    "val_negative_loss=val_negative_loss[:l][\"Value\"]\n",
    "\n",
    "df2=pd.DataFrame({\"loss\":loss,\"val_loss\":val_loss,\n",
    "                  \"negative_loss\":negative_loss,\"val_negative_loss\":val_negative_loss,\n",
    "                  \"triplet_loss\":triplet_loss,\"val_triplet_loss\":val_triplet_loss})"
   ]
  },
  {
   "cell_type": "code",
   "execution_count": null,
   "metadata": {
    "scrolled": true
   },
   "outputs": [],
   "source": [
    "_ = pd.DataFrame({20000:df[\"loss\"][:l],19404:df2[\"loss\"][:l]})\n",
    "_.plot()"
   ]
  },
  {
   "cell_type": "code",
   "execution_count": null,
   "metadata": {},
   "outputs": [],
   "source": [
    "column=\"negative_loss\"\n",
    "_ = pd.DataFrame({20000:df[column][:l],19404:df2[column][:l]})\n",
    "_.plot()"
   ]
  },
  {
   "cell_type": "code",
   "execution_count": null,
   "metadata": {},
   "outputs": [],
   "source": [
    "column=\"val_loss\"\n",
    "_ = pd.DataFrame({20000:df[column][:l],19404:df2[column][:l]})\n",
    "_.plot()"
   ]
  },
  {
   "cell_type": "code",
   "execution_count": null,
   "metadata": {},
   "outputs": [],
   "source": [
    "column=\"val_triplet_loss\"\n",
    "_ = pd.DataFrame({20000:df[column][:l],19404:df2[column][:l]})\n",
    "_.plot()"
   ]
  },
  {
   "cell_type": "markdown",
   "metadata": {},
   "source": [
    "## Plot Tsene every 50 epochs"
   ]
  },
  {
   "cell_type": "markdown",
   "metadata": {},
   "source": [
    "#### load encoder model"
   ]
  },
  {
   "cell_type": "code",
   "execution_count": null,
   "metadata": {},
   "outputs": [],
   "source": [
    "from keras.models import load_model"
   ]
  },
  {
   "cell_type": "code",
   "execution_count": null,
   "metadata": {},
   "outputs": [],
   "source": [
    "def losspassfunction(y_true,y_pred):\n",
    "    return y_pred\n",
    "path=\"Models/Model2_addlayer/\"\n",
    "Tri_AutoEncoder=load_model(path+\"Tri_AutoEncoder.initial.h5\",custom_objects={\"losspassfunction\":losspassfunction})\n",
    "Tri_AutoEncoder.load_weights(path+\"regular/weights.1400.hdf5\")\n",
    "encoder=Tri_AutoEncoder.layers[3]"
   ]
  },
  {
   "cell_type": "markdown",
   "metadata": {},
   "source": [
    "#### load data"
   ]
  },
  {
   "cell_type": "code",
   "execution_count": null,
   "metadata": {},
   "outputs": [],
   "source": [
    "Data=np.load(\"D:3.AutoencoderForArticle/BOW_binary_v02.npy\")"
   ]
  },
  {
   "cell_type": "code",
   "execution_count": null,
   "metadata": {},
   "outputs": [],
   "source": [
    "with open(\"D:3.AutoencoderForArticle/train_dict_collect_small_industry\",\"rb\") as f:\n",
    "    train_dict_collect_small_industry=pickle.load(f)"
   ]
  },
  {
   "cell_type": "code",
   "execution_count": null,
   "metadata": {},
   "outputs": [],
   "source": [
    "with open(\"D:3.AutoencoderForArticle/test_dict_collect_small_industry\",\"rb\") as f:\n",
    "    test_dict_collect_small_industry=pickle.load(f)"
   ]
  },
  {
   "cell_type": "code",
   "execution_count": null,
   "metadata": {},
   "outputs": [],
   "source": [
    "test_x=np.load(\"D:3.AutoencoderForArticle/test_x_v2.npy\")\n",
    "test_y=np.load(\"D:3.AutoencoderForArticle/test_y_v2.npy\")"
   ]
  },
  {
   "cell_type": "code",
   "execution_count": null,
   "metadata": {},
   "outputs": [],
   "source": []
  },
  {
   "cell_type": "markdown",
   "metadata": {},
   "source": [
    "#### Embedding"
   ]
  },
  {
   "cell_type": "code",
   "execution_count": null,
   "metadata": {},
   "outputs": [],
   "source": [
    "emnedding_test_x=encoder.predict(test_x)"
   ]
  },
  {
   "cell_type": "markdown",
   "metadata": {},
   "source": [
    "#### TSEN"
   ]
  },
  {
   "cell_type": "code",
   "execution_count": null,
   "metadata": {},
   "outputs": [],
   "source": [
    "from sklearn.manifold import TSNE\n",
    "from scipy.spatial.distance import cosine\n",
    "#set\n",
    "tsne_data=emnedding_test_x\n",
    "c=test_y\n",
    "#metric\n",
    "def dot(u,v):\n",
    "    u=np.asarray(u)\n",
    "    v=np.asarray(v)\n",
    "    uv=np.dot(u,v)\n",
    "    sig=1/(1+np.exp(-uv))\n",
    "    return 1-sig\n",
    "\n",
    "tsne = TSNE(n_components=2, random_state=0,perplexity=30,n_iter=2000,\n",
    "            metric=cosine,\n",
    "            verbose=2)\n",
    "intermediates_tsne=tsne.fit_transform(tsne_data)"
   ]
  },
  {
   "cell_type": "code",
   "execution_count": null,
   "metadata": {},
   "outputs": [],
   "source": [
    "#plot\n",
    "color=[\"r\",\"b\",\"y\",\"g\",\"k\"]\n",
    "marker=[\"^\",\"s\",\"o\",\"D\",\"+\"]\n",
    "\n",
    "plt.figure(figsize=(8, 8),)\n",
    "for i,k in enumerate(set(c)):\n",
    "    c=np.asarray(c)\n",
    "    pick=c==k\n",
    "    plt.scatter(x = intermediates_tsne[pick,0], y=intermediates_tsne[pick,1],c=color[i],marker=marker[i],label=k,)\n",
    "plt.legend(fontsize=12)\n",
    "plt.savefig(\"tsnefig/fig1.png\")"
   ]
  },
  {
   "cell_type": "code",
   "execution_count": null,
   "metadata": {},
   "outputs": [],
   "source": [
    "import os\n",
    "def dot(u,v):\n",
    "    u=np.asarray(u)\n",
    "    v=np.asarray(v)\n",
    "    uv=np.dot(u,v)\n",
    "    sig=1/(1+np.exp(-uv))\n",
    "    return 1-sig\n",
    "def losspassfunction(y_true,y_pred):\n",
    "    return y_pred\n",
    "path=\"Models/Model2_addlayer/\"\n",
    "\n",
    "Tri_AutoEncoder=load_model(path+\"Tri_AutoEncoder.initial.h5\",custom_objects={\"losspassfunction\":losspassfunction})\n",
    "encoder=Tri_AutoEncoder.layers[3]\n",
    "\n",
    "\n",
    "metric=cosine\n",
    "perplexity=30\n",
    "n_iter=250\n",
    "weightlist=os.listdir(path+\"regular/\")\n",
    "tsen_result=[]\n",
    "for j,w in enumerate(tqdm_notebook(weightlist)):\n",
    "    Tri_AutoEncoder.load_weights(path+\"regular/{}\".format(w))\n",
    "    encoder=Tri_AutoEncoder.layers[3]\n",
    "    emnedding_test_x=encoder.predict(test_x)\n",
    "    \n",
    "    tsne_data=emnedding_test_x\n",
    "    c=test_y\n",
    "    \n",
    "    tsne = TSNE(n_components=2, random_state=0,perplexity=perplexity,n_iter=n_iter,metric=metric,verbose=0)\n",
    "    intermediates_tsne=tsne.fit_transform(tsne_data)\n",
    "    tsen_result.append(intermediates_tsne)\n",
    "\n",
    "    #plot\n",
    "    color=[\"r\",\"b\",\"y\",\"g\",\"k\"]\n",
    "    marker=[\"^\",\"s\",\"o\",\"D\",\"+\"]\n",
    "\n",
    "    plt.figure(figsize=(8, 8),)\n",
    "    for i,k in enumerate(set(c)):\n",
    "        c=np.asarray(c)\n",
    "        pick=c==k\n",
    "        plt.scatter(x = intermediates_tsne[pick,0], y=intermediates_tsne[pick,1],c=color[i],marker=marker[i],label=k,)\n",
    "    if j==0:plt.legend(fontsize=12)\n",
    "    plt.xlim((-30,30))\n",
    "    plt.ylim((-30,30))\n",
    "    tsnpath =path+\"tsnefigs/\"\n",
    "    if not os.path.isdir(tsnpath):\n",
    "        os.mkdir(tsnpath)\n",
    "    plt.savefig(tsnpath+\"fig{}.png\".format(j))\n",
    "    "
   ]
  },
  {
   "cell_type": "code",
   "execution_count": null,
   "metadata": {},
   "outputs": [],
   "source": [
    "#plot\n",
    "color=[\"r\",\"b\",\"y\",\"g\",\"k\"]\n",
    "marker=[\"^\",\"s\",\"o\",\"D\",\"+\"]\n",
    "\n",
    "plt.figure(figsize=(8, 8),)\n",
    "for i,k in enumerate(set(c)):\n",
    "    c=np.asarray(c)\n",
    "    pick=c==k\n",
    "    plt.scatter(x = intermediates_tsne[pick,0], y=intermediates_tsne[pick,1],c=color[i],marker=marker[i],label=k,)\n",
    "# plt.legend(fontsize=12)\n",
    "plt.xlim((-30,30))\n",
    "plt.ylim((-30,30))\n",
    "# plt.savefig(\"tsnefig/fig{}.png\".format(j))"
   ]
  },
  {
   "cell_type": "code",
   "execution_count": null,
   "metadata": {},
   "outputs": [],
   "source": []
  }
 ],
 "metadata": {
  "kernelspec": {
   "display_name": "Python 3",
   "language": "python",
   "name": "python3"
  },
  "language_info": {
   "codemirror_mode": {
    "name": "ipython",
    "version": 3
   },
   "file_extension": ".py",
   "mimetype": "text/x-python",
   "name": "python",
   "nbconvert_exporter": "python",
   "pygments_lexer": "ipython3",
   "version": "3.5.5"
  }
 },
 "nbformat": 4,
 "nbformat_minor": 2
}
