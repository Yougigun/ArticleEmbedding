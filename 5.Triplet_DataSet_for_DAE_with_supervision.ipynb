{
 "cells": [
  {
   "cell_type": "code",
   "execution_count": 3,
   "metadata": {},
   "outputs": [
    {
     "name": "stderr",
     "output_type": "stream",
     "text": [
      "C:\\Users\\garyyu\\AppData\\Local\\Continuum\\anaconda3\\envs\\deeplearningcpu\\lib\\site-packages\\tqdm\\autonotebook\\__init__.py:14: TqdmExperimentalWarning: Using `tqdm.autonotebook.tqdm` in notebook mode. Use `tqdm.tqdm` instead to force console mode (e.g. in jupyter console)\n",
      "  \" (e.g. in jupyter console)\", TqdmExperimentalWarning)\n"
     ]
    }
   ],
   "source": [
    "from ArticlesRep import MeanSimilarityoneindustry,MeanSimilaritytwoindustry #common function\n",
    "\n",
    "import pandas as pd\n",
    "\n",
    "import numpy as np\n",
    "\n",
    "%matplotlib inline\n",
    "\n",
    "import pickle\n",
    "\n",
    "import visdom\n",
    "\n",
    "from tqdm import tnrange, tqdm_notebook\n",
    "from tqdm.autonotebook import tqdm\n",
    "tqdm.pandas()\n",
    "\n",
    "from time import time,sleep\n",
    "from datetime import datetime\n",
    "\n",
    "from sklearn.metrics.pairwise import cosine_similarity\n",
    "# import visdom\n",
    "# vis=visdom.Visdom()\n",
    "# env=\"TagBased\"\n",
    "\n",
    "import warnings\n",
    "warnings.simplefilter(action='ignore', category=FutureWarning)\n",
    "# %matplotlib inline\n",
    "\n",
    "import re\n",
    "\n",
    "import sys\n",
    "from pprint import pprint\n",
    "#coding:utf-8\n",
    "import matplotlib.pyplot as plt\n",
    "plt.rcParams['font.sans-serif']=['SimHei'] #用来正常显示中文标签\n",
    "plt.rcParams['axes.unicode_minus']=False #用来正常显示负号\n",
    "#有中文出现的情况，需要u'内容'\n",
    "list_industry=[\"水泥\",\"食品飲料\",\"石化\",\"紡織\",\"電機機械\",\"電器電纜\",\"化學工業\",\n",
    "               \"建材居家用品\",\"造紙\",\"鋼鐵金屬\",\"車輛相關\",\"科技相關\",\"營建地產\",\"運輸\",\"觀光休閒娛樂\",\n",
    "               \"金融相關\",\"百貨通路\",\"公用事業\",\"控股\",\"生技醫療保健\",\"農林漁牧\",\"航天軍工\",\"能源\",\"傳播出版\",\"綜合\",\n",
    "               \"傳產其他\",\"其他\",\"金屬礦採選\",\n",
    "              ]\n",
    "small_list_insustry=[\"車輛相關\",\"生技醫療保健\",\"營建地產\",\"百貨通路\",\"傳播出版\"]"
   ]
  },
  {
   "cell_type": "code",
   "execution_count": 180,
   "metadata": {},
   "outputs": [
    {
     "data": {
      "text/plain": [
       "12000"
      ]
     },
     "execution_count": 180,
     "metadata": {},
     "output_type": "execute_result"
    }
   ],
   "source": [
    "picksample=np.load(\"D:3.AutoencoderForArticle/picksample.npy\")\n",
    "len(picksample)"
   ]
  },
  {
   "cell_type": "code",
   "execution_count": 181,
   "metadata": {},
   "outputs": [],
   "source": [
    "bow=np.load(\"D:3.AutoencoderForArticle/BOW_binary_v01.npy\")"
   ]
  },
  {
   "cell_type": "code",
   "execution_count": 182,
   "metadata": {},
   "outputs": [],
   "source": [
    "with open(\"D:3.AutoencoderForArticle/dict_collect_industry.p\",\"rb\") as f:\n",
    "    dict_collect_industry=pickle.load(f)"
   ]
  },
  {
   "cell_type": "code",
   "execution_count": 193,
   "metadata": {
    "scrolled": true
   },
   "outputs": [
    {
     "data": {
      "text/plain": [
       "科技相關      6499\n",
       "金融相關      1224\n",
       "鋼鐵金屬      1030\n",
       "車輛相關       392\n",
       "生技醫療保健     341\n",
       "營建地產       322\n",
       "百貨通路       301\n",
       "傳播出版       288\n",
       "電機機械       214\n",
       "能源         204\n",
       "傳產其他       172\n",
       "觀光休閒娛樂     166\n",
       "紡織         145\n",
       "運輸         117\n",
       "化學工業        88\n",
       "石化          86\n",
       "公用事業        80\n",
       "食品飲料        70\n",
       "農林漁牧        66\n",
       "造紙          55\n",
       "水泥          49\n",
       "建材居家用品      43\n",
       "電器電纜        24\n",
       "航天軍工        18\n",
       "綜合           6\n",
       "金屬礦採選        0\n",
       "控股           0\n",
       "其他           0\n",
       "dtype: int64"
      ]
     },
     "execution_count": 193,
     "metadata": {},
     "output_type": "execute_result"
    }
   ],
   "source": [
    "dict_={k:len(dict_collect_industry[k]) for k in dict_collect_industry}\n",
    "pd.Series(dict_).sort_values(ascending=False)"
   ]
  },
  {
   "cell_type": "code",
   "execution_count": 223,
   "metadata": {
    "scrolled": false
   },
   "outputs": [],
   "source": [
    "train_test_dict_collect_industry=dict()\n",
    "for k in dict_collect_industry:\n",
    "    split=int(len(dict_collect_industry[k])*0.8)\n",
    "    train_test_dict_collect_industry[\"train_{}\".format(k)]=dict_collect_industry[k][:split]\n",
    "    train_test_dict_collect_industry[\"test_{}\".format(k)]=dict_collect_industry[k][split:] "
   ]
  },
  {
   "cell_type": "code",
   "execution_count": 224,
   "metadata": {
    "collapsed": true
   },
   "outputs": [
    {
     "data": {
      "text/plain": [
       "train_科技相關      5199\n",
       "test_科技相關       1300\n",
       "train_金融相關       979\n",
       "train_鋼鐵金屬       824\n",
       "train_車輛相關       313\n",
       "train_生技醫療保健     272\n",
       "train_營建地產       257\n",
       "test_金融相關        245\n",
       "train_百貨通路       240\n",
       "train_傳播出版       230\n",
       "test_鋼鐵金屬        206\n",
       "train_電機機械       171\n",
       "train_能源         163\n",
       "train_傳產其他       137\n",
       "train_觀光休閒娛樂     132\n",
       "train_紡織         116\n",
       "train_運輸          93\n",
       "test_車輛相關         79\n",
       "train_化學工業        70\n",
       "test_生技醫療保健       69\n",
       "train_石化          68\n",
       "test_營建地產         65\n",
       "train_公用事業        64\n",
       "test_百貨通路         61\n",
       "test_傳播出版         58\n",
       "train_食品飲料        56\n",
       "train_農林漁牧        52\n",
       "train_造紙          44\n",
       "test_電機機械         43\n",
       "test_能源           41\n",
       "train_水泥          39\n",
       "test_傳產其他         35\n",
       "train_建材居家用品      34\n",
       "test_觀光休閒娛樂       34\n",
       "test_紡織           29\n",
       "test_運輸           24\n",
       "train_電器電纜        19\n",
       "test_化學工業         18\n",
       "test_石化           18\n",
       "test_公用事業         16\n",
       "test_食品飲料         14\n",
       "train_航天軍工        14\n",
       "test_農林漁牧         14\n",
       "test_造紙           11\n",
       "test_水泥           10\n",
       "test_建材居家用品        9\n",
       "test_電器電纜          5\n",
       "test_航天軍工          4\n",
       "train_綜合           4\n",
       "test_綜合            2\n",
       "test_控股            0\n",
       "train_金屬礦採選        0\n",
       "test_其他            0\n",
       "test_金屬礦採選         0\n",
       "train_控股           0\n",
       "train_其他           0\n",
       "dtype: int64"
      ]
     },
     "execution_count": 224,
     "metadata": {},
     "output_type": "execute_result"
    }
   ],
   "source": [
    "dict_={k:len(train_test_dict_collect_industry[k]) for k in train_test_dict_collect_industry}\n",
    "pd.Series(dict_).sort_values(ascending=False)"
   ]
  },
  {
   "cell_type": "code",
   "execution_count": 225,
   "metadata": {},
   "outputs": [],
   "source": [
    "# #Save train_test_dict_collect_industry\n",
    "# with open(\"D:3.AutoencoderForArticle/train_test_dict_collect_industry.p\",\"wb\") as f:\n",
    "#     pickle.dump(file=f,obj=train_test_dict_collect_industry)"
   ]
  },
  {
   "cell_type": "code",
   "execution_count": 244,
   "metadata": {},
   "outputs": [],
   "source": [
    "small_list_insustry=[\"車輛相關\",\"生技醫療保健\",\"營建地產\",\"百貨通路\",\"傳播出版\"]"
   ]
  },
  {
   "cell_type": "code",
   "execution_count": 236,
   "metadata": {},
   "outputs": [],
   "source": [
    "small_train_test_dict_collect_industry=dict()\n",
    "for i in test_insustry:\n",
    "    small_train_test_dict_collect_industry[\"train_{}\".format(i)]=train_test_dict_collect_industry[\"train_{}\".format(i)]\n",
    "    small_train_test_dict_collect_industry[\"test_{}\".format(i)]=train_test_dict_collect_industry[\"test_{}\".format(i)]\n",
    "    "
   ]
  },
  {
   "cell_type": "code",
   "execution_count": 243,
   "metadata": {
    "scrolled": true
   },
   "outputs": [],
   "source": [
    "triplet_train_test_dict_collect_industry=dict()\n",
    "for i in test_insustry:\n",
    "    triplet_train_test_dict_collect_industry[\"train_{}\".format(i)]=[]\n",
    "    triplet_train_test_dict_collect_industry[\"test_{}\".format(i)]=[]"
   ]
  },
  {
   "cell_type": "code",
   "execution_count": 240,
   "metadata": {},
   "outputs": [
    {
     "data": {
      "text/plain": [
       "{'test_傳播出版': [],\n",
       " 'test_營建地產': [],\n",
       " 'test_生技醫療保健': [],\n",
       " 'test_百貨通路': [],\n",
       " 'test_車輛相關': [],\n",
       " 'train_傳播出版': [],\n",
       " 'train_營建地產': [],\n",
       " 'train_生技醫療保健': [],\n",
       " 'train_百貨通路': [],\n",
       " 'train_車輛相關': []}"
      ]
     },
     "execution_count": 240,
     "metadata": {},
     "output_type": "execute_result"
    }
   ],
   "source": [
    "negative=dict()\n",
    "for k in small_train_test_dict_collect_industry:\n",
    "    print(k[:5])"
   ]
  },
  {
   "cell_type": "code",
   "execution_count": 246,
   "metadata": {},
   "outputs": [],
   "source": [
    "small_dict_collect_industry={k:dict_collect_industry[k] for k in small_list_insustry}"
   ]
  },
  {
   "cell_type": "code",
   "execution_count": 294,
   "metadata": {},
   "outputs": [],
   "source": [
    "negative_pool=dict({k:[] for k in small_dict_collect_industry })\n",
    "for k in small_dict_collect_industry:\n",
    "    for j in small_dict_collect_industry:\n",
    "        if k!=j:negative_pool[k]+=small_dict_collect_industry[j]\n",
    "    if len(negative_pool[k])!=0:negative_pool[k]=np.random.permutation(negative_pool[k])"
   ]
  },
  {
   "cell_type": "markdown",
   "metadata": {},
   "source": [
    "## Build dict train/test industry:index in 50,000 single industry VIP news  "
   ]
  },
  {
   "cell_type": "code",
   "execution_count": 8,
   "metadata": {},
   "outputs": [],
   "source": [
    "with open(\"D:3.AutoencoderForArticle/DataSet_vip_single_industry\",\"rb\") as f:\n",
    "    Dataset=pickle.load(f)"
   ]
  },
  {
   "cell_type": "code",
   "execution_count": 10,
   "metadata": {},
   "outputs": [
    {
     "name": "stdout",
     "output_type": "stream",
     "text": [
      "<class 'pandas.core.frame.DataFrame'>\n",
      "RangeIndex: 154884 entries, 0 to 154883\n",
      "Data columns (total 3 columns):\n",
      "guid                           154884 non-null object\n",
      "title_token_plus_body_token    154884 non-null object\n",
      "indusrty_tags                  154884 non-null object\n",
      "dtypes: object(3)\n",
      "memory usage: 3.5+ MB\n"
     ]
    }
   ],
   "source": [
    "Dataset.info()"
   ]
  },
  {
   "cell_type": "markdown",
   "metadata": {},
   "source": [
    "#### build dict_collect_industry_50000"
   ]
  },
  {
   "cell_type": "code",
   "execution_count": 121,
   "metadata": {},
   "outputs": [
    {
     "data": {
      "text/plain": [
       "array([ 54694, 107229,  12492, ...,  89717,  39250, 126195])"
      ]
     },
     "execution_count": 121,
     "metadata": {},
     "output_type": "execute_result"
    }
   ],
   "source": [
    "np.random.seed(0)\n",
    "suffleindex=np.random.permutation(len(Dataset))\n",
    "pick=suffleindex[:50000]\n",
    "pick"
   ]
  },
  {
   "cell_type": "code",
   "execution_count": 122,
   "metadata": {
    "scrolled": true
   },
   "outputs": [],
   "source": [
    "dict_collect_industry_50000={i:[] for i in list_industry }\n",
    "for i,j in Dataset.loc[pick].iterrows():\n",
    "    for k in dict_collect_industry_50000:\n",
    "        if k in j[2]:\n",
    "            dict_collect_industry_50000[k].append(i)\n",
    "            break"
   ]
  },
  {
   "cell_type": "code",
   "execution_count": 123,
   "metadata": {},
   "outputs": [
    {
     "data": {
      "text/plain": [
       "科技相關      27343\n",
       "金融相關       5037\n",
       "鋼鐵金屬       4330\n",
       "車輛相關       1436\n",
       "營建地產       1337\n",
       "生技醫療保健     1289\n",
       "百貨通路       1284\n",
       "傳播出版       1246\n",
       "能源          978\n",
       "電機機械        858\n",
       "傳產其他        717\n",
       "觀光休閒娛樂      698\n",
       "紡織          526\n",
       "運輸          503\n",
       "化學工業        387\n",
       "公用事業        345\n",
       "食品飲料        309\n",
       "石化          284\n",
       "水泥          237\n",
       "農林漁牧        233\n",
       "造紙          218\n",
       "建材居家用品      163\n",
       "電器電纜        122\n",
       "航天軍工         72\n",
       "綜合           44\n",
       "控股            4\n",
       "金屬礦採選         0\n",
       "其他            0\n",
       "dtype: int64"
      ]
     },
     "execution_count": 123,
     "metadata": {},
     "output_type": "execute_result"
    }
   ],
   "source": [
    "dict_count={}\n",
    "for k in dict_collect_industry_50000:\n",
    "    dict_count[k]=len(dict_collect_industry_50000[k])\n",
    "df=pd.Series(dict_count)\n",
    "df.sort_values(ascending=False)"
   ]
  },
  {
   "cell_type": "markdown",
   "metadata": {},
   "source": [
    "### build train and test"
   ]
  },
  {
   "cell_type": "code",
   "execution_count": 172,
   "metadata": {
    "scrolled": false
   },
   "outputs": [],
   "source": [
    "train_dict_collect_industry_50000=dict()\n",
    "test_dict_collect_industry_50000=dict()\n",
    "np.random.seed(10)\n",
    "rate=3/4\n",
    "for i in dict_collect_industry_50000:\n",
    "    induslist=np.random.permutation(dict_collect_industry_50000[i])\n",
    "    if 0!=len(induslist):\n",
    "        split=int(np.ceil(len(induslist)*rate))\n",
    "        train_dict_collect_industry_50000[i]=induslist[:split]\n",
    "        test_dict_collect_industry_50000[i]=induslist[split:]"
   ]
  },
  {
   "cell_type": "markdown",
   "metadata": {},
   "source": [
    "#### Save train_test_dict_collect_industry"
   ]
  },
  {
   "cell_type": "code",
   "execution_count": 176,
   "metadata": {},
   "outputs": [],
   "source": [
    "with open(\"D:3.AutoencoderForArticle/train_dict_collect_industry_50000.p\",\"wb\") as f:\n",
    "    pickle.dump(file=f,obj=train_dict_collect_industry_50000)\n",
    "with open(\"D:3.AutoencoderForArticle/test_dict_collect_industry_50000.p\",\"wb\") as f:\n",
    "    pickle.dump(file=f,obj=test_dict_collect_industry_50000)"
   ]
  },
  {
   "cell_type": "code",
   "execution_count": 173,
   "metadata": {},
   "outputs": [
    {
     "data": {
      "text/plain": [
       "科技相關      20508\n",
       "金融相關       3778\n",
       "鋼鐵金屬       3248\n",
       "車輛相關       1077\n",
       "營建地產       1003\n",
       "生技醫療保健      967\n",
       "百貨通路        963\n",
       "傳播出版        935\n",
       "能源          734\n",
       "電機機械        644\n",
       "傳產其他        538\n",
       "觀光休閒娛樂      524\n",
       "紡織          395\n",
       "運輸          378\n",
       "化學工業        291\n",
       "公用事業        259\n",
       "食品飲料        232\n",
       "石化          213\n",
       "水泥          178\n",
       "農林漁牧        175\n",
       "造紙          164\n",
       "建材居家用品      123\n",
       "電器電纜         92\n",
       "航天軍工         54\n",
       "綜合           33\n",
       "控股            3\n",
       "dtype: int64"
      ]
     },
     "execution_count": 173,
     "metadata": {},
     "output_type": "execute_result"
    }
   ],
   "source": [
    "dict_count={}\n",
    "dict_idu_list=train_dict_collect_industry_50000\n",
    "for k in dict_idu_list:\n",
    "    dict_count[k]=len(dict_idu_list[k])\n",
    "df=pd.Series(dict_count)\n",
    "df.sort_values(ascending=False)"
   ]
  },
  {
   "cell_type": "code",
   "execution_count": 174,
   "metadata": {},
   "outputs": [
    {
     "data": {
      "text/plain": [
       "科技相關      6835\n",
       "金融相關      1259\n",
       "鋼鐵金屬      1082\n",
       "車輛相關       359\n",
       "營建地產       334\n",
       "生技醫療保健     322\n",
       "百貨通路       321\n",
       "傳播出版       311\n",
       "能源         244\n",
       "電機機械       214\n",
       "傳產其他       179\n",
       "觀光休閒娛樂     174\n",
       "紡織         131\n",
       "運輸         125\n",
       "化學工業        96\n",
       "公用事業        86\n",
       "食品飲料        77\n",
       "石化          71\n",
       "水泥          59\n",
       "農林漁牧        58\n",
       "造紙          54\n",
       "建材居家用品      40\n",
       "電器電纜        30\n",
       "航天軍工        18\n",
       "綜合          11\n",
       "控股           1\n",
       "dtype: int64"
      ]
     },
     "execution_count": 174,
     "metadata": {},
     "output_type": "execute_result"
    }
   ],
   "source": [
    "dict_count={}\n",
    "dict_idu_list=test_dict_collect_industry_50000\n",
    "for k in dict_idu_list:\n",
    "    dict_count[k]=len(dict_idu_list[k])\n",
    "df=pd.Series(dict_count)\n",
    "df.sort_values(ascending=False)"
   ]
  },
  {
   "cell_type": "markdown",
   "metadata": {},
   "source": [
    "## Build dict train/test industry:index in all single industry VIP news  (140000 and 10000)"
   ]
  },
  {
   "cell_type": "code",
   "execution_count": 4,
   "metadata": {},
   "outputs": [],
   "source": [
    "with open(\"D:3.AutoencoderForArticle/DataSet_vip_single_industry\",\"rb\") as f:\n",
    "    Dataset=pickle.load(f)"
   ]
  },
  {
   "cell_type": "code",
   "execution_count": 5,
   "metadata": {},
   "outputs": [
    {
     "name": "stdout",
     "output_type": "stream",
     "text": [
      "<class 'pandas.core.frame.DataFrame'>\n",
      "RangeIndex: 154884 entries, 0 to 154883\n",
      "Data columns (total 3 columns):\n",
      "guid                           154884 non-null object\n",
      "title_token_plus_body_token    154884 non-null object\n",
      "indusrty_tags                  154884 non-null object\n",
      "dtypes: object(3)\n",
      "memory usage: 3.5+ MB\n"
     ]
    }
   ],
   "source": [
    "Dataset.info()"
   ]
  },
  {
   "cell_type": "markdown",
   "metadata": {},
   "source": [
    "#### build dict_collect_industry"
   ]
  },
  {
   "cell_type": "code",
   "execution_count": 8,
   "metadata": {},
   "outputs": [
    {
     "data": {
      "text/plain": [
       "array([ 15951, 142149,  67130, ...,  20463,  18638,  35683])"
      ]
     },
     "execution_count": 8,
     "metadata": {},
     "output_type": "execute_result"
    }
   ],
   "source": [
    "np.random.seed(5)\n",
    "suffleindex=np.random.permutation(len(Dataset))\n",
    "pick=suffleindex\n",
    "pick"
   ]
  },
  {
   "cell_type": "code",
   "execution_count": 9,
   "metadata": {
    "scrolled": true
   },
   "outputs": [],
   "source": [
    "dict_collect_industry={i:[] for i in list_industry }\n",
    "for i,j in Dataset.loc[pick].iterrows():\n",
    "    for k in dict_collect_industry:\n",
    "        if k in j[2]:\n",
    "            dict_collect_industry[k].append(i)\n",
    "            break"
   ]
  },
  {
   "cell_type": "code",
   "execution_count": 11,
   "metadata": {},
   "outputs": [
    {
     "data": {
      "text/plain": [
       "科技相關      84507\n",
       "金融相關      15791\n",
       "鋼鐵金屬      13147\n",
       "車輛相關       4551\n",
       "生技醫療保健     4098\n",
       "百貨通路       4064\n",
       "營建地產       4054\n",
       "傳播出版       3800\n",
       "能源         2965\n",
       "電機機械       2542\n",
       "傳產其他       2294\n",
       "觀光休閒娛樂     2105\n",
       "紡織         1700\n",
       "運輸         1523\n",
       "化學工業       1190\n",
       "公用事業       1060\n",
       "食品飲料        998\n",
       "石化          994\n",
       "農林漁牧        746\n",
       "水泥          735\n",
       "造紙          717\n",
       "建材居家用品      590\n",
       "電器電纜        350\n",
       "航天軍工        219\n",
       "綜合          136\n",
       "控股            8\n",
       "金屬礦採選         0\n",
       "其他            0\n",
       "dtype: int64"
      ]
     },
     "execution_count": 11,
     "metadata": {},
     "output_type": "execute_result"
    }
   ],
   "source": [
    "dict_count={}\n",
    "for k in dict_collect_industry:\n",
    "    dict_count[k]=len(dict_collect_industry[k])\n",
    "df=pd.Series(dict_count)\n",
    "df.sort_values(ascending=False)"
   ]
  },
  {
   "cell_type": "markdown",
   "metadata": {},
   "source": [
    "#### build train/test_dict_collect_industry"
   ]
  },
  {
   "cell_type": "code",
   "execution_count": 17,
   "metadata": {
    "scrolled": false
   },
   "outputs": [],
   "source": [
    "train_dict_collect_industry=dict()\n",
    "test_dict_collect_industry=dict()\n",
    "np.random.seed(10)\n",
    "rate=(154884-10000)/154884\n",
    "for i in dict_collect_industry:\n",
    "    induslist=np.random.permutation(dict_collect_industry[i])\n",
    "    if 0!=len(induslist):\n",
    "        split=int(np.floor(len(induslist)*rate))\n",
    "        train_dict_collect_industry[i]=induslist[:split]\n",
    "        test_dict_collect_industry[i]=induslist[split:]"
   ]
  },
  {
   "cell_type": "code",
   "execution_count": 18,
   "metadata": {},
   "outputs": [
    {
     "data": {
      "text/plain": [
       "科技相關      79050\n",
       "金融相關      14771\n",
       "鋼鐵金屬      12298\n",
       "車輛相關       4257\n",
       "生技醫療保健     3833\n",
       "百貨通路       3801\n",
       "營建地產       3792\n",
       "傳播出版       3554\n",
       "能源         2773\n",
       "電機機械       2377\n",
       "傳產其他       2145\n",
       "觀光休閒娛樂     1969\n",
       "紡織         1590\n",
       "運輸         1424\n",
       "化學工業       1113\n",
       "公用事業        991\n",
       "食品飲料        933\n",
       "石化          929\n",
       "農林漁牧        697\n",
       "水泥          687\n",
       "造紙          670\n",
       "建材居家用品      551\n",
       "電器電纜        327\n",
       "航天軍工        204\n",
       "綜合          127\n",
       "控股            7\n",
       "dtype: int64"
      ]
     },
     "execution_count": 18,
     "metadata": {},
     "output_type": "execute_result"
    }
   ],
   "source": [
    "dict_count={}\n",
    "dict_idu_list=train_dict_collect_industry\n",
    "for k in dict_idu_list:\n",
    "    dict_count[k]=len(dict_idu_list[k])\n",
    "df=pd.Series(dict_count)\n",
    "df.sort_values(ascending=False)"
   ]
  },
  {
   "cell_type": "code",
   "execution_count": 19,
   "metadata": {},
   "outputs": [
    {
     "data": {
      "text/plain": [
       "科技相關      5457\n",
       "金融相關      1020\n",
       "鋼鐵金屬       849\n",
       "車輛相關       294\n",
       "生技醫療保健     265\n",
       "百貨通路       263\n",
       "營建地產       262\n",
       "傳播出版       246\n",
       "能源         192\n",
       "電機機械       165\n",
       "傳產其他       149\n",
       "觀光休閒娛樂     136\n",
       "紡織         110\n",
       "運輸          99\n",
       "化學工業        77\n",
       "公用事業        69\n",
       "石化          65\n",
       "食品飲料        65\n",
       "農林漁牧        49\n",
       "水泥          48\n",
       "造紙          47\n",
       "建材居家用品      39\n",
       "電器電纜        23\n",
       "航天軍工        15\n",
       "綜合           9\n",
       "控股           1\n",
       "dtype: int64"
      ]
     },
     "execution_count": 19,
     "metadata": {},
     "output_type": "execute_result"
    }
   ],
   "source": [
    "dict_count={}\n",
    "dict_idu_list=test_dict_collect_industry\n",
    "for k in dict_idu_list:\n",
    "    dict_count[k]=len(dict_idu_list[k])\n",
    "df=pd.Series(dict_count)\n",
    "df.sort_values(ascending=False)"
   ]
  },
  {
   "cell_type": "markdown",
   "metadata": {},
   "source": [
    "#### Save train_test_dict_collect_industry"
   ]
  },
  {
   "cell_type": "code",
   "execution_count": 24,
   "metadata": {},
   "outputs": [],
   "source": [
    "with open(\"D:3.AutoencoderForArticle/train_dict_collect_industry.p\",\"wb\") as f:\n",
    "    pickle.dump(file=f,obj=train_dict_collect_industry)\n",
    "with open(\"D:3.AutoencoderForArticle/test_dict_collect_industry.p\",\"wb\") as f:\n",
    "    pickle.dump(file=f,obj=test_dict_collect_industry)"
   ]
  },
  {
   "cell_type": "code",
   "execution_count": null,
   "metadata": {},
   "outputs": [],
   "source": []
  },
  {
   "cell_type": "code",
   "execution_count": 25,
   "metadata": {},
   "outputs": [
    {
     "data": {
      "text/plain": [
       "array([0, 3, 4, 1, 2])"
      ]
     },
     "execution_count": 25,
     "metadata": {},
     "output_type": "execute_result"
    }
   ],
   "source": []
  },
  {
   "cell_type": "code",
   "execution_count": null,
   "metadata": {},
   "outputs": [],
   "source": []
  }
 ],
 "metadata": {
  "kernelspec": {
   "display_name": "Python 3",
   "language": "python",
   "name": "python3"
  },
  "language_info": {
   "codemirror_mode": {
    "name": "ipython",
    "version": 3
   },
   "file_extension": ".py",
   "mimetype": "text/x-python",
   "name": "python",
   "nbconvert_exporter": "python",
   "pygments_lexer": "ipython3",
   "version": "3.5.5"
  }
 },
 "nbformat": 4,
 "nbformat_minor": 2
}
