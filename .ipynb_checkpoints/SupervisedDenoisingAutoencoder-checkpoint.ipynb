{
 "cells": [
  {
   "cell_type": "code",
   "execution_count": 1,
   "metadata": {},
   "outputs": [
    {
     "name": "stderr",
     "output_type": "stream",
     "text": [
      "C:\\Users\\garyyu\\AppData\\Local\\Continuum\\anaconda3\\envs\\deeplearningcpu\\lib\\site-packages\\h5py\\__init__.py:36: FutureWarning: Conversion of the second argument of issubdtype from `float` to `np.floating` is deprecated. In future, it will be treated as `np.float64 == np.dtype(float).type`.\n",
      "  from ._conv import register_converters as _register_converters\n",
      "Using TensorFlow backend.\n"
     ]
    }
   ],
   "source": [
    "from keras.layers import Dense,Lambda,Input,Dot,Add,Subtract,GaussianDropout\n",
    "from keras.utils import Sequence,plot_model\n",
    "from keras.models import Model,load_model\n",
    "from keras import backend as K\n",
    "import numpy as np"
   ]
  },
  {
   "cell_type": "markdown",
   "metadata": {},
   "source": [
    "### Denoising Autoencoder with weak supervision"
   ]
  },
  {
   "cell_type": "code",
   "execution_count": 2,
   "metadata": {},
   "outputs": [],
   "source": [
    "# custommed function\n",
    "def noisefunction(x):\n",
    "    x_noise=K.ones_like(x)\n",
    "    return K.in_train_phase(x_noise,x,1)\n",
    "\n",
    "def tripletlossfunction(inputs):\n",
    "    r01=inputs[0]\n",
    "    r02=inputs[1]\n",
    "    loss=K.log(1+K.exp(r02-r01))\n",
    "    return loss\n",
    "\n",
    "def losspassfunction(y_true,y_pred):\n",
    "    return y_pred\n"
   ]
  },
  {
   "cell_type": "markdown",
   "metadata": {},
   "source": [
    "# Build model"
   ]
  },
  {
   "cell_type": "code",
   "execution_count": 3,
   "metadata": {},
   "outputs": [
    {
     "name": "stdout",
     "output_type": "stream",
     "text": [
      "__________________________________________________________________________________________________\n",
      "Layer (type)                    Output Shape         Param #     Connected to                     \n",
      "==================================================================================================\n",
      "input_6 (InputLayer)            (None, 20000)        0                                            \n",
      "__________________________________________________________________________________________________\n",
      "input_7 (InputLayer)            (None, 20000)        0                                            \n",
      "__________________________________________________________________________________________________\n",
      "input_8 (InputLayer)            (None, 20000)        0                                            \n",
      "__________________________________________________________________________________________________\n",
      "model_1 (Model)                 (None, 100)          2000000     input_6[0][0]                    \n",
      "                                                                 input_7[0][0]                    \n",
      "                                                                 input_8[0][0]                    \n",
      "__________________________________________________________________________________________________\n",
      "model_2 (Model)                 (None, 20000)        2020000     model_1[1][0]                    \n",
      "                                                                 model_1[2][0]                    \n",
      "                                                                 model_1[3][0]                    \n",
      "__________________________________________________________________________________________________\n",
      "model_3 (Model)                 (None, 1)            0           model_1[1][0]                    \n",
      "                                                                 model_1[2][0]                    \n",
      "                                                                 model_1[3][0]                    \n",
      "==================================================================================================\n",
      "Total params: 4,020,000\n",
      "Trainable params: 4,020,000\n",
      "Non-trainable params: 0\n",
      "__________________________________________________________________________________________________\n"
     ]
    }
   ],
   "source": [
    "x=Input((20000,))\n",
    "y=GaussianDropout(rate=0.8,name=\"noise\")(x)\n",
    "y=Dense(units=100,activation=\"sigmoid\",use_bias=False)(y)\n",
    "encoder=Model(x,y)\n",
    "x=Input((100,)) \n",
    "y=Dense(units=20000,activation=\"sigmoid\")(x)\n",
    "decoder=Model(x,y)\n",
    "x0=Input((100,))\n",
    "x1=Input((100,))\n",
    "x2=Input((100,))\n",
    "r01=Dot(axes=1)([x0,x1])\n",
    "r02=Dot(axes=1)([x0,x2])\n",
    "out=Lambda(tripletlossfunction)([r01,r02])\n",
    "tripletloss=Model(inputs=[x0,x1,x2],outputs=out)\n",
    "x0=Input((20000,))\n",
    "x1=Input((20000,))\n",
    "x2=Input((20000,))\n",
    "h0=encoder(x0)\n",
    "h1=encoder(x1)\n",
    "h2=encoder(x2)\n",
    "y0=decoder(h0)\n",
    "y1=decoder(h1)\n",
    "y2=decoder(h2)\n",
    "yt=tripletloss([h0,h1,h2])\n",
    "Tri_AutoEncoder=Model(inputs=[x0,x1,x2],outputs=[y0,y1,y2,yt])\n",
    "Tri_AutoEncoder.compile(optimizer=\"adam\",\n",
    "                        loss=['binary_crossentropy','binary_crossentropy','binary_crossentropy',losspassfunction]\n",
    "                       )"
   ]
  },
  {
   "cell_type": "markdown",
   "metadata": {},
   "source": [
    "# Data"
   ]
  },
  {
   "cell_type": "code",
   "execution_count": 4,
   "metadata": {},
   "outputs": [],
   "source": [
    "x0=np.random.randint(0,2,(32*3,20000))\n",
    "x1=np.random.randint(0,2,(32*3,20000))\n",
    "x2=np.random.randint(0,2,(32*3,20000))\n",
    "yt=np.random.randint(0,2,(32*3,1))\n",
    "X=[x0,x1,x2]\n",
    "Y=[x0,x1,x2,yt]"
   ]
  },
  {
   "cell_type": "markdown",
   "metadata": {},
   "source": [
    "# Train model"
   ]
  },
  {
   "cell_type": "code",
   "execution_count": 5,
   "metadata": {},
   "outputs": [
    {
     "name": "stdout",
     "output_type": "stream",
     "text": [
      "Epoch 1/5\n",
      "96/96 [==============================] - 1s 10ms/step - loss: 3.3372 - model_2_loss: 0.6936 - model_3_loss: 1.2565\n",
      "Epoch 2/5\n",
      "96/96 [==============================] - 0s 4ms/step - loss: 2.6980 - model_2_loss: 0.6925 - model_3_loss: 0.6207\n",
      "Epoch 3/5\n",
      "96/96 [==============================] - 0s 4ms/step - loss: 2.4871 - model_2_loss: 0.6919 - model_3_loss: 0.4115\n",
      "Epoch 4/5\n",
      "96/96 [==============================] - 0s 4ms/step - loss: 2.3749 - model_2_loss: 0.6917 - model_3_loss: 0.3000\n",
      "Epoch 5/5\n",
      "96/96 [==============================] - 0s 4ms/step - loss: 2.2967 - model_2_loss: 0.6916 - model_3_loss: 0.2220\n"
     ]
    },
    {
     "data": {
      "text/plain": [
       "<keras.callbacks.History at 0x210401fbf28>"
      ]
     },
     "execution_count": 5,
     "metadata": {},
     "output_type": "execute_result"
    }
   ],
   "source": [
    "Tri_AutoEncoder.fit(x=X,y=Y,epochs=5,batch_size=32)"
   ]
  },
  {
   "cell_type": "code",
   "execution_count": null,
   "metadata": {},
   "outputs": [],
   "source": []
  }
 ],
 "metadata": {
  "kernelspec": {
   "display_name": "Python 3",
   "language": "python",
   "name": "python3"
  },
  "language_info": {
   "codemirror_mode": {
    "name": "ipython",
    "version": 3
   },
   "file_extension": ".py",
   "mimetype": "text/x-python",
   "name": "python",
   "nbconvert_exporter": "python",
   "pygments_lexer": "ipython3",
   "version": "3.5.5"
  }
 },
 "nbformat": 4,
 "nbformat_minor": 2
}
