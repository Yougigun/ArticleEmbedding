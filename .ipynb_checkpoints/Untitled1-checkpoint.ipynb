{
 "cells": [
  {
   "cell_type": "code",
   "execution_count": 1,
   "metadata": {},
   "outputs": [],
   "source": [
    "from twnews.search import NewsSearch"
   ]
  },
  {
   "cell_type": "code",
   "execution_count": 16,
   "metadata": {},
   "outputs": [
    {
     "name": "stdout",
     "output_type": "stream",
     "text": [
      "頻道: udn\n",
      "標題: 精英獎／李智凱放眼奧運奪牌 增加知名度為首務\n",
      "日期: 2018-12-12 17:09:00\n",
      "記者: 劉肇育\n",
      "內文:\n",
      "林育信（右）與李智凱（左）師徒一同獲得體育運動精英獎最佳教練與最佳男運動員肯定。記者劉肇育／攝影 分享   facebook我國體操好手李智凱、唐嘉鴻與教練林育信，今天在107年體育運動精英獎頒獎典禮成為大贏家，分別拿下最佳男運動員、最佳運動精神與最佳教練獎，而3人接下來的目標也一致擺在兩年後的東京奧運，教練林育信強調，未來一年如何提升知名度，也將是李智凱等選手的首要任務。我國體操隊今年在亞運以2金1銀1銅的成績迎接豐收年，其中奪牌選手李智凱、唐嘉鴻、陳智郁以及教練林育信都入圍今年的體育運動精英獎，並有3人最終順利獲獎。其中過去16年來已經3度入圍的林育信，在今年首度獲獎後也強調，接下來的目標就是協助選手站上最高殿堂奧運的頒獎台，「2020東京奧運我們是有可能成隊參賽的，這也是我們不斷努力的目標，其中智凱在2019年的任務就是努力爭取積分把知名度打開，只要沒有受到傷勢困擾，2020會是他的天下。」李智凱也直言，從2016年受傷到2017年逐漸蛻變，接下來的目標就是朝著奧運奪牌前進，他坦言這個小時候的「夢想」，現在已經變成一個可以實現的計畫，「能夠在一年的最後獲得精英獎的肯定，對我來說是最開心的一天，也希望2020年我能夠再到這邊來。」對於教練希望他在明年打響國際知名度，李智凱也說：「過去我們選手參加國際賽的機會不多，要進決賽的機會更少，不過現在裁判已經慢慢知道我們，甚至知道我是來自台灣的選手，獲得好的印象分數一直是我再努力的目標，這將會在2020帶給我們好的優勢。」\n",
      "有效內容率: 0.78%\n"
     ]
    }
   ],
   "source": [
    "from twnews.soup import NewsSoup\n",
    "\n",
    "nsoup = NewsSoup('https://udn.com/news/story/7005/3533241?from=udn-catebreaknews_ch2')\n",
    "print('頻道: {}'.format(nsoup.channel))\n",
    "print('標題: {}'.format(nsoup.title()))\n",
    "print('日期: {}'.format(nsoup.date()))\n",
    "print('記者: {}'.format(nsoup.author()))\n",
    "print('內文:')\n",
    "print(nsoup.contents())\n",
    "print('有效內容率: {:.2f}%'.format(nsoup.effective_text_rate() * 100))"
   ]
  },
  {
   "cell_type": "code",
   "execution_count": 12,
   "metadata": {},
   "outputs": [
    {
     "name": "stdout",
     "output_type": "stream",
     "text": [
      "000: https://tw.appledaily.com/new/realtime/20181129/1475052/\n",
      "     記者: 政治中心 / 日期: 2018-11-29 22:00:00\n",
      "     標題: 【選民必收藏】2018綠地藍天消長　《蘋果》互動圖表帶你看\n",
      "     點我直接觀看 藍綠板塊大挪移 綠地藍天消長《蘋果》互動圖表帶 ...\n",
      "001: https://tw.appledaily.com/new/realtime/20181129/1475274/\n",
      "     記者: None / 日期: 2018-11-29 21:23:00\n",
      "     標題: 【叫伊第1名】便宜有差　蘋果：iXR是最暢銷機型\n",
      "     美股周三全面大漲，其中蘋果收盤勁揚3.85%，收180.94 ...\n",
      "002: https://tw.appledaily.com/new/realtime/20181129/1466547/\n",
      "     記者: 林彤潔 / 日期: 2018-11-29 21:10:00\n",
      "     標題: 【蘋果頭家】電腦老師為愛女創業　棄高薪做AI機器人\n",
      "     長相斯文保養得宜，他是AI機器人製作公司女媧創造的執行長郭柳 ...\n",
      "003: https://tw.appledaily.com/new/realtime/20181129/1475602/\n",
      "     記者: 吳國仲 / 日期: 2018-11-29 17:00:00\n",
      "     標題: 悲傷11月 ！蘋果單月跌幅　邁向10年來最慘\n",
      "     誠如大科學家牛頓所言，股票怎麼漲，就怎麼跌回去，11月的蘋果 ...\n",
      "004: https://tw.appledaily.com/new/realtime/20181129/1475510/\n",
      "     記者: 陳俐妏 / 日期: 2018-11-29 14:46:00\n",
      "     標題: iXR助攻　蘋果本季產量上看7600萬支挑戰第1\n",
      "     全球市場研究機構TrendForce出具最新報告指出，今年智 ...\n",
      "005: https://tw.appledaily.com/new/realtime/20181129/1475288/\n",
      "     記者: 陳俐妏 / 日期: 2018-11-29 11:10:00\n",
      "     標題: 貿易戰加速產能出走中國　但蘋果供應鏈還沒搬\n",
      "     川習會月底將登場，牽動全球經濟美中貿易紛爭是否有解，全球關注 ...\n",
      "006: https://tw.appledaily.com/new/realtime/20181129/1472040/\n",
      "     記者: None / 日期: 2018-11-29 10:40:00\n",
      "     標題: 訂《蘋果日報》超好康　「詩肯柚木家具」免費送\n",
      "     每到12月，街道上便處處可見聖誕歡樂氛圍，而北歐柚木家具用溫 ...\n",
      "007: https://tw.appledaily.com/new/realtime/20181129/1475296/\n",
      "     記者: 財經中心 / 日期: 2018-11-29 10:18:00\n",
      "     標題: 蘋果遭Mac用戶提告　缺少灰塵過濾導致電腦受損\n",
      "     蘋果依靠出色的產品設計和使用者體驗，獲得成功，但蘋果在歷史上 ...\n",
      "008: https://tw.appledaily.com/new/realtime/20181129/1446241/\n",
      "     記者: None / 日期: 2018-11-29 09:29:00\n",
      "     標題: 【精障哀歌3】「蘋果日報是我的」　美女「小潔」監護結束無家可歸\n",
      "     精神病患者犯案服刑出獄後，被法院裁定到適當處所做監護治療，最 ...\n",
      "009: https://tw.appledaily.com/new/realtime/20181129/1446237/\n",
      "     記者: None / 日期: 2018-11-29 09:28:00\n",
      "     標題: 【精障哀歌2】《蘋果》深入監護治療院所　揭病患鼻酸的虛幻人生\n",
      "     震驚全國的小燈泡命案，凶手王景玉因罹患思覺失調症逃過一死，高 ...\n"
     ]
    }
   ],
   "source": [
    "from twnews.search import NewsSearch\n",
    "\n",
    "nsearch = NewsSearch(channel=\"appledaily\",\n",
    "  limit=10,\n",
    "  beg_date='2018-11-1', # 自由時報的日期範圍只能在 90 天以內\n",
    "  end_date='2018-11-30'\n",
    ")\n",
    "nsoups = nsearch.by_keyword('蘋果', title_only=True).to_soup_list()\n",
    "\n",
    "for (i, nsoup) in enumerate(nsoups):\n",
    "    print('{:03d}: {}'.format(i, nsoup.path))\n",
    "    if nsoup.title() is not None:\n",
    "        print('     記者: {} / 日期: {}'.format(nsoup.author(), nsoup.date()))\n",
    "        print('     標題: {}'.format(nsoup.title()))\n",
    "        print('     {} ...'.format(nsoup.contents()[0:30]))\n",
    "    else:\n",
    "        print('     新聞分解失敗，無法識別 DOM 結構')"
   ]
  },
  {
   "cell_type": "code",
   "execution_count": 7,
   "metadata": {},
   "outputs": [
    {
     "data": {
      "text/plain": [
       "[]"
      ]
     },
     "execution_count": 7,
     "metadata": {},
     "output_type": "execute_result"
    }
   ],
   "source": [
    "nsoups"
   ]
  },
  {
   "cell_type": "code",
   "execution_count": null,
   "metadata": {},
   "outputs": [],
   "source": []
  }
 ],
 "metadata": {
  "kernelspec": {
   "display_name": "Python 3",
   "language": "python",
   "name": "python3"
  },
  "language_info": {
   "codemirror_mode": {
    "name": "ipython",
    "version": 3
   },
   "file_extension": ".py",
   "mimetype": "text/x-python",
   "name": "python",
   "nbconvert_exporter": "python",
   "pygments_lexer": "ipython3",
   "version": "3.5.5"
  }
 },
 "nbformat": 4,
 "nbformat_minor": 2
}
