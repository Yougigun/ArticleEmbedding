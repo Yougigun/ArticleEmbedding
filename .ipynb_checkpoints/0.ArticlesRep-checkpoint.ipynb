{
 "cells": [
  {
   "cell_type": "code",
   "execution_count": 1,
   "metadata": {},
   "outputs": [],
   "source": [
    "from sklearn.metrics.pairwise import cosine_similarity\n",
    "import numpy as np"
   ]
  },
  {
   "cell_type": "code",
   "execution_count": 2,
   "metadata": {},
   "outputs": [],
   "source": [
    "def MeanSimilarityoneindustry(array):\n",
    "    array=np.asarray(array)\n",
    "    simi_=cosine_similarity(array)\n",
    "    simi_tri=np.triu(simi_,1)\n",
    "    sum_=np.sum(simi_tri)\n",
    "    n=((1+array.shape[0]-1)*(array.shape[0]-1))/2\n",
    "    mean=sum_/n\n",
    "    return mean"
   ]
  },
  {
   "cell_type": "code",
   "execution_count": 8,
   "metadata": {},
   "outputs": [],
   "source": [
    "def MeanSimilaritytwoindustry(array1,array2):\n",
    "    arra1=np.asarray(array1)\n",
    "    arra2=np.asarray(array2)\n",
    "    simi_=cosine_similarity(arra1,arra2)\n",
    "    return np.mean(simi_)"
   ]
  },
  {
   "cell_type": "code",
   "execution_count": null,
   "metadata": {},
   "outputs": [],
   "source": [
    "#clean token\n",
    "def CleanToken(string):\n",
    "    pattern=[re.compile(\"[\\)》\\，\\.\\、\\-\\%\\《\\(\\\"\\'\\％\\」\\「\\。\\（\\）\\；\\● ]\"),\n",
    "         re.compile(\"\\d\\d%\"),##EX: 85%\n",
    "         re.compile(\"\\d+\"),##EX:9,10,123..\n",
    "         re.compile(\" [a-zA-Z] \"),##EX: x , d ,...\n",
    "#          re.compile(\"[a-zA-Z]\"),\n",
    "        ]\n",
    "# string=trainset_vip[\"Title_and_body\"][7000]\n",
    "    for p in pattern:\n",
    "        string=p.sub(\" \",string)\n",
    "    string=re.sub(\"  +\",\" \",string)# two or above space to one space\n",
    "    string=re.sub(\"^ \",\"\",string)#space at beginning\n",
    "    string=re.sub(\" $\",\"\",string)#space at end\n",
    "    return string"
   ]
  }
 ],
 "metadata": {
  "kernelspec": {
   "display_name": "Python 3",
   "language": "python",
   "name": "python3"
  },
  "language_info": {
   "codemirror_mode": {
    "name": "ipython",
    "version": 3
   },
   "file_extension": ".py",
   "mimetype": "text/x-python",
   "name": "python",
   "nbconvert_exporter": "python",
   "pygments_lexer": "ipython3",
   "version": "3.5.5"
  }
 },
 "nbformat": 4,
 "nbformat_minor": 2
}
