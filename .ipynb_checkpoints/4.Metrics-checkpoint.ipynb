{
 "cells": [
  {
   "cell_type": "code",
   "execution_count": 2,
   "metadata": {},
   "outputs": [],
   "source": [
    "from ArticlesRep import MeanSimilarityoneindustry,MeanSimilaritytwoindustry #common function\n",
    "\n",
    "import pandas as pd\n",
    "\n",
    "import numpy as np\n",
    "\n",
    "%matplotlib inline\n",
    "\n",
    "import pickle\n",
    "\n",
    "import visdom\n",
    "\n",
    "from tqdm import tnrange, tqdm_notebook\n",
    "from tqdm.autonotebook import tqdm\n",
    "tqdm.pandas()\n",
    "\n",
    "from time import time,sleep\n",
    "from datetime import datetime\n",
    "\n",
    "from sklearn.metrics.pairwise import cosine_similarity\n",
    "# import visdom\n",
    "# vis=visdom.Visdom()\n",
    "# env=\"TagBased\"\n",
    "\n",
    "import warnings\n",
    "warnings.simplefilter(action='ignore', category=FutureWarning)\n",
    "# %matplotlib inline\n",
    "\n",
    "import re\n",
    "\n",
    "from pprint import pprint\n",
    "#coding:utf-8\n",
    "import matplotlib.pyplot as plt\n",
    "plt.rcParams['font.sans-serif']=['SimHei'] #用来正常显示中文标签\n",
    "plt.rcParams['axes.unicode_minus']=False #用来正常显示负号\n",
    "#有中文出现的情况，需要u'内容'\n",
    "list_industry=[\"水泥\",\"食品飲料\",\"石化\",\"紡織\",\"電機機械\",\"電器電纜\",\"化學工業\",\n",
    "               \"建材居家用品\",\"造紙\",\"鋼鐵金屬\",\"車輛相關\",\"科技相關\",\"營建地產\",\"運輸\",\"觀光休閒娛樂\",\n",
    "               \"金融相關\",\"百貨通路\",\"公用事業\",\"控股\",\"生技醫療保健\",\"農林漁牧\",\"航天軍工\",\"能源\",\"傳播出版\",\"綜合\",\n",
    "               \"傳產其他\",\"其他\",\"金屬礦採選\",\n",
    "              ]"
   ]
  },
  {
   "cell_type": "code",
   "execution_count": null,
   "metadata": {},
   "outputs": [],
   "source": []
  },
  {
   "cell_type": "code",
   "execution_count": 3,
   "metadata": {},
   "outputs": [
    {
     "name": "stderr",
     "output_type": "stream",
     "text": [
      "Using TensorFlow backend.\n"
     ]
    }
   ],
   "source": [
    "from keras.layers import Input\n",
    "from keras.models import Model"
   ]
  },
  {
   "cell_type": "markdown",
   "metadata": {},
   "source": [
    "## Data Set"
   ]
  },
  {
   "cell_type": "code",
   "execution_count": 39,
   "metadata": {},
   "outputs": [],
   "source": [
    "picksample=np.load(\"D:3.AutoencoderForArticle/picksample.npy\")"
   ]
  },
  {
   "cell_type": "code",
   "execution_count": null,
   "metadata": {},
   "outputs": [],
   "source": [
    "bow=np.load(\"D:3.AutoencoderForArticle/BOW_binary_v01.npy\")"
   ]
  },
  {
   "cell_type": "code",
   "execution_count": null,
   "metadata": {
    "scrolled": true
   },
   "outputs": [],
   "source": [
    "with open(\"D:3.AutoencoderForArticle/dict_collect_industry.p\",\"rb\") as f:\n",
    "    dict_collect_industry=pickle.load(f)"
   ]
  },
  {
   "cell_type": "markdown",
   "metadata": {},
   "source": [
    "## Reconstruct Model"
   ]
  },
  {
   "cell_type": "code",
   "execution_count": 7,
   "metadata": {},
   "outputs": [],
   "source": [
    "from keras.models import load_model"
   ]
  },
  {
   "cell_type": "code",
   "execution_count": 8,
   "metadata": {},
   "outputs": [],
   "source": [
    "#Autoencoder\n",
    "autoencoder_untrained=load_model(\"autoencoder.initial.h5\")\n",
    "autoencoder_trained=load_model(\"best_weights.hdf5\")"
   ]
  },
  {
   "cell_type": "code",
   "execution_count": 9,
   "metadata": {},
   "outputs": [],
   "source": [
    "#Encoder_untrained\n",
    "##layer\n",
    "layer_encode=autoencoder_untrained.layers[1]\n",
    "##dataflow\n",
    "x=Input((20000,))\n",
    "y=layer_encode(x)\n",
    "##build Model\n",
    "Encoder_untrained = Model(inputs=x,outputs=y)"
   ]
  },
  {
   "cell_type": "code",
   "execution_count": 10,
   "metadata": {},
   "outputs": [],
   "source": [
    "#Encoder_rained\n",
    "##layer\n",
    "layer_encode=autoencoder_trained.layers[1]\n",
    "##dataflow\n",
    "x=Input((20000,))\n",
    "y=layer_encode(x)\n",
    "##build Model\n",
    "Encoder_trained = Model(inputs=x,outputs=y)"
   ]
  },
  {
   "cell_type": "markdown",
   "metadata": {},
   "source": [
    "## Similarity "
   ]
  },
  {
   "cell_type": "code",
   "execution_count": 11,
   "metadata": {},
   "outputs": [],
   "source": [
    "##除了同樣industry 也要比不同 industry 之間的"
   ]
  },
  {
   "cell_type": "code",
   "execution_count": 24,
   "metadata": {
    "scrolled": true
   },
   "outputs": [
    {
     "data": {
      "text/plain": [
       "科技相關      6499\n",
       "金融相關      1224\n",
       "鋼鐵金屬      1030\n",
       "車輛相關       392\n",
       "生技醫療保健     341\n",
       "營建地產       322\n",
       "百貨通路       301\n",
       "傳播出版       288\n",
       "電機機械       214\n",
       "能源         204\n",
       "傳產其他       172\n",
       "觀光休閒娛樂     166\n",
       "紡織         145\n",
       "運輸         117\n",
       "化學工業        88\n",
       "石化          86\n",
       "公用事業        80\n",
       "食品飲料        70\n",
       "農林漁牧        66\n",
       "造紙          55\n",
       "水泥          49\n",
       "建材居家用品      43\n",
       "電器電纜        24\n",
       "航天軍工        18\n",
       "綜合           6\n",
       "金屬礦採選        0\n",
       "控股           0\n",
       "其他           0\n",
       "dtype: int64"
      ]
     },
     "execution_count": 24,
     "metadata": {},
     "output_type": "execute_result"
    }
   ],
   "source": [
    "dict_=dict()\n",
    "for k in dict_collect_industry:\n",
    "    dict_[k]=len(dict_collect_industry[k])\n",
    "df=pd.Series(dict_)\n",
    "x=df.sort_values(ascending=False)\n",
    "x"
   ]
  },
  {
   "cell_type": "markdown",
   "metadata": {},
   "source": [
    "### Similarity  In terms of Bow"
   ]
  },
  {
   "cell_type": "code",
   "execution_count": 25,
   "metadata": {},
   "outputs": [
    {
     "data": {
      "application/vnd.jupyter.widget-view+json": {
       "model_id": "0a5a2a27027a4b3baca5bcaf4e2414ee",
       "version_major": 2,
       "version_minor": 0
      },
      "text/plain": [
       "HBox(children=(IntProgress(value=0, max=28), HTML(value='')))"
      ]
     },
     "metadata": {},
     "output_type": "display_data"
    },
    {
     "name": "stdout",
     "output_type": "stream",
     "text": [
      "\n"
     ]
    }
   ],
   "source": [
    "dict_=dict()\n",
    "for k in tqdm_notebook(dict_collect_industry):\n",
    "    array=bow[dict_collect_industry[k]]\n",
    "    if array.shape[0]!=0:\n",
    "        dict_[k]=MeanSimilarityoneindustry(array)\n",
    "y=pd.Series(dict_).sort_values(ascending=False)"
   ]
  },
  {
   "cell_type": "code",
   "execution_count": 38,
   "metadata": {
    "scrolled": true
   },
   "outputs": [
    {
     "data": {
      "text/html": [
       "<div>\n",
       "<style scoped>\n",
       "    .dataframe tbody tr th:only-of-type {\n",
       "        vertical-align: middle;\n",
       "    }\n",
       "\n",
       "    .dataframe tbody tr th {\n",
       "        vertical-align: top;\n",
       "    }\n",
       "\n",
       "    .dataframe thead th {\n",
       "        text-align: right;\n",
       "    }\n",
       "</style>\n",
       "<table border=\"1\" class=\"dataframe\">\n",
       "  <thead>\n",
       "    <tr style=\"text-align: right;\">\n",
       "      <th></th>\n",
       "      <th>similarity</th>\n",
       "      <th>counts</th>\n",
       "    </tr>\n",
       "  </thead>\n",
       "  <tbody>\n",
       "    <tr>\n",
       "      <th>傳播出版</th>\n",
       "      <td>0.678109</td>\n",
       "      <td>288.0</td>\n",
       "    </tr>\n",
       "    <tr>\n",
       "      <th>綜合</th>\n",
       "      <td>0.164056</td>\n",
       "      <td>6.0</td>\n",
       "    </tr>\n",
       "    <tr>\n",
       "      <th>建材居家用品</th>\n",
       "      <td>0.147406</td>\n",
       "      <td>43.0</td>\n",
       "    </tr>\n",
       "    <tr>\n",
       "      <th>水泥</th>\n",
       "      <td>0.140254</td>\n",
       "      <td>49.0</td>\n",
       "    </tr>\n",
       "    <tr>\n",
       "      <th>造紙</th>\n",
       "      <td>0.127686</td>\n",
       "      <td>55.0</td>\n",
       "    </tr>\n",
       "    <tr>\n",
       "      <th>能源</th>\n",
       "      <td>0.124400</td>\n",
       "      <td>204.0</td>\n",
       "    </tr>\n",
       "    <tr>\n",
       "      <th>紡織</th>\n",
       "      <td>0.119469</td>\n",
       "      <td>145.0</td>\n",
       "    </tr>\n",
       "    <tr>\n",
       "      <th>石化</th>\n",
       "      <td>0.119360</td>\n",
       "      <td>86.0</td>\n",
       "    </tr>\n",
       "    <tr>\n",
       "      <th>化學工業</th>\n",
       "      <td>0.109534</td>\n",
       "      <td>88.0</td>\n",
       "    </tr>\n",
       "    <tr>\n",
       "      <th>食品飲料</th>\n",
       "      <td>0.107475</td>\n",
       "      <td>70.0</td>\n",
       "    </tr>\n",
       "    <tr>\n",
       "      <th>電機機械</th>\n",
       "      <td>0.104356</td>\n",
       "      <td>214.0</td>\n",
       "    </tr>\n",
       "    <tr>\n",
       "      <th>生技醫療保健</th>\n",
       "      <td>0.100593</td>\n",
       "      <td>341.0</td>\n",
       "    </tr>\n",
       "    <tr>\n",
       "      <th>營建地產</th>\n",
       "      <td>0.100143</td>\n",
       "      <td>322.0</td>\n",
       "    </tr>\n",
       "    <tr>\n",
       "      <th>觀光休閒娛樂</th>\n",
       "      <td>0.095432</td>\n",
       "      <td>166.0</td>\n",
       "    </tr>\n",
       "    <tr>\n",
       "      <th>農林漁牧</th>\n",
       "      <td>0.095102</td>\n",
       "      <td>66.0</td>\n",
       "    </tr>\n",
       "    <tr>\n",
       "      <th>電器電纜</th>\n",
       "      <td>0.092631</td>\n",
       "      <td>24.0</td>\n",
       "    </tr>\n",
       "    <tr>\n",
       "      <th>運輸</th>\n",
       "      <td>0.090948</td>\n",
       "      <td>117.0</td>\n",
       "    </tr>\n",
       "    <tr>\n",
       "      <th>車輛相關</th>\n",
       "      <td>0.090764</td>\n",
       "      <td>392.0</td>\n",
       "    </tr>\n",
       "    <tr>\n",
       "      <th>鋼鐵金屬</th>\n",
       "      <td>0.088609</td>\n",
       "      <td>1030.0</td>\n",
       "    </tr>\n",
       "    <tr>\n",
       "      <th>科技相關</th>\n",
       "      <td>0.088499</td>\n",
       "      <td>6499.0</td>\n",
       "    </tr>\n",
       "    <tr>\n",
       "      <th>傳產其他</th>\n",
       "      <td>0.085696</td>\n",
       "      <td>172.0</td>\n",
       "    </tr>\n",
       "    <tr>\n",
       "      <th>公用事業</th>\n",
       "      <td>0.079742</td>\n",
       "      <td>80.0</td>\n",
       "    </tr>\n",
       "    <tr>\n",
       "      <th>百貨通路</th>\n",
       "      <td>0.078621</td>\n",
       "      <td>301.0</td>\n",
       "    </tr>\n",
       "    <tr>\n",
       "      <th>航天軍工</th>\n",
       "      <td>0.073742</td>\n",
       "      <td>18.0</td>\n",
       "    </tr>\n",
       "    <tr>\n",
       "      <th>金融相關</th>\n",
       "      <td>0.071718</td>\n",
       "      <td>1224.0</td>\n",
       "    </tr>\n",
       "    <tr>\n",
       "      <th>金屬礦採選</th>\n",
       "      <td>NaN</td>\n",
       "      <td>0.0</td>\n",
       "    </tr>\n",
       "    <tr>\n",
       "      <th>控股</th>\n",
       "      <td>NaN</td>\n",
       "      <td>0.0</td>\n",
       "    </tr>\n",
       "    <tr>\n",
       "      <th>其他</th>\n",
       "      <td>NaN</td>\n",
       "      <td>0.0</td>\n",
       "    </tr>\n",
       "  </tbody>\n",
       "</table>\n",
       "</div>"
      ],
      "text/plain": [
       "        similarity  counts\n",
       "傳播出版      0.678109   288.0\n",
       "綜合        0.164056     6.0\n",
       "建材居家用品    0.147406    43.0\n",
       "水泥        0.140254    49.0\n",
       "造紙        0.127686    55.0\n",
       "能源        0.124400   204.0\n",
       "紡織        0.119469   145.0\n",
       "石化        0.119360    86.0\n",
       "化學工業      0.109534    88.0\n",
       "食品飲料      0.107475    70.0\n",
       "電機機械      0.104356   214.0\n",
       "生技醫療保健    0.100593   341.0\n",
       "營建地產      0.100143   322.0\n",
       "觀光休閒娛樂    0.095432   166.0\n",
       "農林漁牧      0.095102    66.0\n",
       "電器電纜      0.092631    24.0\n",
       "運輸        0.090948   117.0\n",
       "車輛相關      0.090764   392.0\n",
       "鋼鐵金屬      0.088609  1030.0\n",
       "科技相關      0.088499  6499.0\n",
       "傳產其他      0.085696   172.0\n",
       "公用事業      0.079742    80.0\n",
       "百貨通路      0.078621   301.0\n",
       "航天軍工      0.073742    18.0\n",
       "金融相關      0.071718  1224.0\n",
       "金屬礦採選          NaN     0.0\n",
       "控股             NaN     0.0\n",
       "其他             NaN     0.0"
      ]
     },
     "execution_count": 38,
     "metadata": {},
     "output_type": "execute_result"
    }
   ],
   "source": [
    "pd.DataFrame(data=[y,x]).T.rename(columns={0:\"similarity\",1:\"counts\"})"
   ]
  },
  {
   "cell_type": "markdown",
   "metadata": {},
   "source": [
    "### Similarity  In terms of untrained AE"
   ]
  },
  {
   "cell_type": "code",
   "execution_count": null,
   "metadata": {},
   "outputs": [],
   "source": [
    "dict_=dict()\n",
    "for k in tqdm_notebook(dict_collect_industry):\n",
    "    array=bow[dict_collect_industry[k]]\n",
    "    array=\n",
    "    if array.shape[0]!=0:\n",
    "        dict_[k]=MeanSimilarityoneindustry(array)\n",
    "y=pd.Series(dict_).sort_values(ascending=False)"
   ]
  }
 ],
 "metadata": {
  "kernelspec": {
   "display_name": "Python 3",
   "language": "python",
   "name": "python3"
  },
  "language_info": {
   "codemirror_mode": {
    "name": "ipython",
    "version": 3
   },
   "file_extension": ".py",
   "mimetype": "text/x-python",
   "name": "python",
   "nbconvert_exporter": "python",
   "pygments_lexer": "ipython3",
   "version": "3.5.5"
  }
 },
 "nbformat": 4,
 "nbformat_minor": 2
}
