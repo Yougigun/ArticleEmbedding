{
 "cells": [
  {
   "cell_type": "code",
   "execution_count": 2,
   "metadata": {},
   "outputs": [],
   "source": [
    "from ArticlesRep import MeanSimilarityoneindustry,MeanSimilaritytwoindustry,MakeMatrixTSEN #common function\n",
    "\n",
    "import pandas as pd\n",
    "\n",
    "import numpy as np\n",
    "\n",
    "%matplotlib inline\n",
    "\n",
    "import pickle\n",
    "\n",
    "import visdom\n",
    "\n",
    "from tqdm import tnrange, tqdm_notebook\n",
    "from tqdm.autonotebook import tqdm\n",
    "tqdm.pandas()\n",
    "\n",
    "from time import time,sleep\n",
    "from datetime import datetime\n",
    "\n",
    "from sklearn.metrics.pairwise import cosine_similarity\n",
    "# import visdom\n",
    "# vis=visdom.Visdom()\n",
    "# env=\"TagBased\"\n",
    "\n",
    "import warnings\n",
    "warnings.simplefilter(action='ignore', category=FutureWarning)\n",
    "# %matplotlib inline\n",
    "\n",
    "import re\n",
    "import sys\n",
    "import os\n",
    "from pprint import pprint\n",
    "#coding:utf-8\n",
    "\n",
    "#solved chinese display in matplotlib\n",
    "from pylab import mpl\n",
    "mpl.rcParams[\"font.family\"] = 'DFKai-sb' \n",
    "mpl.rcParams['axes.unicode_minus'] = False\n",
    "\n",
    "list_industry=[\"水泥\",\"食品飲料\",\"石化\",\"紡織\",\"電機機械\",\"電器電纜\",\"化學工業\",\n",
    "               \"建材居家用品\",\"造紙\",\"鋼鐵金屬\",\"車輛相關\",\"科技相關\",\"營建地產\",\"運輸\",\"觀光休閒娛樂\",\n",
    "               \"金融相關\",\"百貨通路\",\"公用事業\",\"控股\",\"生技醫療保健\",\"農林漁牧\",\"航天軍工\",\"能源\",\"傳播出版\",\"綜合\",\n",
    "               \"傳產其他\",\"其他\",\"金屬礦採選\",\n",
    "              ]\n",
    "element=\"氫氦鋰鈹硼碳氮氧氟氖鈉鎂鋁矽磷硫氯氬鉀鈣鈧鈦釩鉻錳鐵鈷鎳銅鋅鎵鍺砷硒溴氪銣鍶銀鎘銦錫銻碲碘氙銫鋇鉑金汞鉈鉛鉍釙氡鍅鐳\""
   ]
  },
  {
   "cell_type": "code",
   "execution_count": 43,
   "metadata": {},
   "outputs": [],
   "source": [
    "with open(\"D:3.AutoencoderForArticle/train_dict_collect_industry_50000.p\",\"rb\") as f:\n",
    "    train_dict_collect_industry_50000=pickle.load(f)\n",
    "with open(\"D:3.AutoencoderForArticle/test_dict_collect_industry_50000.p\",\"rb\") as f:\n",
    "    test_dict_collect_industry_50000=pickle.load(f)\n",
    "with open(\"D:3.AutoencoderForArticle/dict_multi_industry\",\"rb\") as f:\n",
    "    dict_multi_industry=pickle.load(f)\n",
    "DATA_S=np.load(\"D:3.AutoencoderForArticle/BOW_binary_re_v02.npy\")\n",
    "DATA_M=np.load(\"D:3.AutoencoderForArticle/BOW_binary_multi_v01.npy\")\n",
    "with open(\"D:3.AutoencoderForArticle/DataSet_vip_multi_industry\",\"rb\") as f:\n",
    "    DataSet_vip_multi_industry=pickle.load(f)\n",
    "with open(\"D:3.AutoencoderForArticle/DataSet_vip_single_industry\",\"rb\") as f:\n",
    "    DataSet_vip_single_industry=pickle.load(f)"
   ]
  },
  {
   "cell_type": "code",
   "execution_count": 22,
   "metadata": {},
   "outputs": [],
   "source": [
    "#### Load Model\n",
    "from keras.models import load_model\n",
    "\n",
    "def losspassfunction(y_true,y_pred):\n",
    "    return y_pred\n",
    "path=\"Models/Model5_madeformulti/\"\n",
    "Tri_AutoEncoder=load_model(path+\"bestmodel.hdf5\",custom_objects={\"losspassfunction\":losspassfunction})\n",
    "Tri_AutoEncoder.load_weights(path+\"regular/weights.3400.hdf5\")\n",
    "encoder=Tri_AutoEncoder.layers[3]"
   ]
  },
  {
   "cell_type": "code",
   "execution_count": 61,
   "metadata": {},
   "outputs": [
    {
     "data": {
      "text/plain": [
       "{'科技相關', '電器電纜'}                                                      7000\n",
       "{'農林漁牧', '鋼鐵金屬'}                                                      5622\n",
       "{'農林漁牧', '食品飲料'}                                                      4312\n",
       "{'電機機械', '科技相關'}                                                      4090\n",
       "{'鋼鐵金屬', '金融相關'}                                                      3993\n",
       "{'科技相關', '傳產其他'}                                                      3790\n",
       "{'金融相關', '營建地產'}                                                      3424\n",
       "{'鋼鐵金屬', '科技相關'}                                                      3277\n",
       "{'傳播出版', '科技相關'}                                                      3244\n",
       "{'科技相關', '金融相關'}                                                      2857\n",
       "{'能源', '公用事業'}                                                        2484\n",
       "{'科技相關', '百貨通路'}                                                      1905\n",
       "{'科技相關', '車輛相關'}                                                      1868\n",
       "{'生技醫療保健', '科技相關'}                                                    1532\n",
       "{'農林漁牧', '紡織', '食品飲料'}                                                1501\n",
       "{'建材居家用品', '科技相關'}                                                    1296\n",
       "{'石化', '能源'}                                                          1137\n",
       "{'觀光休閒娛樂', '科技相關'}                                                    1059\n",
       "{'石化', '科技相關'}                                                        1027\n",
       "{'傳產其他', '營建地產'}                                                       868\n",
       "{'鋼鐵金屬', '科技相關', '車輛相關'}                                               852\n",
       "{'鋼鐵金屬', '車輛相關'}                                                       790\n",
       "{'石化', '能源', '公用事業'}                                                   780\n",
       "{'鋼鐵金屬', '百貨通路'}                                                       701\n",
       "{'電機機械', '科技相關', '車輛相關'}                                               656\n",
       "{'電機機械', '生技醫療保健'}                                                     650\n",
       "{'能源', '科技相關'}                                                         624\n",
       "{'航天軍工', '科技相關'}                                                       603\n",
       "{'觀光休閒娛樂', '營建地產'}                                                     571\n",
       "{'化學工業', '石化'}                                                         568\n",
       "                                                                      ... \n",
       "{'航天軍工', '公用事業', '車輛相關', '科技相關', '電器電纜', '鋼鐵金屬', '金融相關', '營建地產'}         1\n",
       "{'航天軍工', '公用事業', '生技醫療保健', '科技相關', '農林漁牧', '能源'}                         1\n",
       "{'航天軍工', '公用事業', '車輛相關', '科技相關', '電機機械', '營建地產'}                         1\n",
       "{'航天軍工', '公用事業', '鋼鐵金屬', '科技相關', '車輛相關'}                                 1\n",
       "{'航天軍工', '化學工業', '傳產其他', '科技相關', '金融相關'}                                 1\n",
       "{'航天軍工', '化學工業', '生技醫療保健', '農林漁牧', '電機機械'}                               1\n",
       "{'航天軍工', '化學工業', '石化', '能源', '鋼鐵金屬'}                                     1\n",
       "{'航天軍工', '化學工業', '石化', '鋼鐵金屬'}                                           1\n",
       "{'航天軍工', '化學工業', '科技相關', '公用事業'}                                         1\n",
       "{'航天軍工', '公用事業', '生技醫療保健', '科技相關', '金融相關', '營建地產', '電機機械', '傳產其他'}       1\n",
       "{'航天軍工', '公用事業', '生技醫療保健', '科技相關', '能源', '營建地產'}                         1\n",
       "{'電機機械', '生技醫療保健', '電器電纜', '車輛相關'}                                       1\n",
       "{'能源', '電器電纜', '鋼鐵金屬', '營建地產', '車輛相關'}                                   1\n",
       "{'電機機械', '生技醫療保健', '電器電纜', '營建地產', '紡織'}                                 1\n",
       "{'能源', '電器電纜', '百貨通路', '營建地產'}                                           1\n",
       "{'能源', '電器電纜', '百貨通路', '車輛相關'}                                           1\n",
       "{'能源', '電器電纜', '科技相關', '傳產其他', '公用事業'}                                   1\n",
       "{'能源', '電器電纜', '科技相關', '傳產其他', '車輛相關'}                                   1\n",
       "{'能源', '電器電纜', '科技相關', '車輛相關', '公用事業'}                                   1\n",
       "{'能源', '電器電纜', '鋼鐵金屬', '營建地產', '公用事業'}                                   1\n",
       "{'電機機械', '生技醫療保健', '電器電纜', '傳產其他', '營建地產'}                               1\n",
       "{'航天軍工', '公用事業', '生技醫療保健', '科技相關', '營建地產', '電機機械', '傳產其他'}               1\n",
       "{'能源', '食品飲料', '百貨通路', '公用事業'}                                           1\n",
       "{'航天軍工', '傳產其他', '公用事業', '科技相關', '電機機械', '營建地產'}                         1\n",
       "{'航天軍工', '傳產其他', '公用事業'}                                                 1\n",
       "{'航天軍工', '傳產其他', '科技相關', '營建地產'}                                         1\n",
       "{'航天軍工', '傳產其他', '科技相關', '百貨通路'}                                         1\n",
       "{'航天軍工', '傳產其他', '車輛相關', '科技相關', '電機機械', '營建地產'}                         1\n",
       "{'航天軍工', '公用事業', '生技醫療保健', '營建地產', '農林漁牧', '電機機械', '能源', '傳產其他'}         1\n",
       "{'科技相關', '生技醫療保健', '食品飲料', '傳產其他', '車輛相關'}                               1\n",
       "Length: 7543, dtype: int64"
      ]
     },
     "execution_count": 61,
     "metadata": {},
     "output_type": "execute_result"
    }
   ],
   "source": [
    "pd.Series({k:len(dict_multi_industry[k]) for k in dict_multi_industry}).sort_values(ascending=False)"
   ]
  },
  {
   "cell_type": "code",
   "execution_count": 28,
   "metadata": {},
   "outputs": [],
   "source": [
    "array1=encoder.predict(DATA_M[dict_multi_industry[\"{'航天軍工', '傳產其他', '公用事業'}\"]])\n",
    "dict_simi={}\n",
    "for i in test_dict_collect_industry_50000:\n",
    "    \n",
    "    array2=encoder.predict(DATA_S[test_dict_collect_industry_50000[i]])\n",
    "    dict_simi[i]=MeanSimilaritytwoindustry(array1,array2)\n",
    "    "
   ]
  },
  {
   "cell_type": "code",
   "execution_count": 29,
   "metadata": {},
   "outputs": [
    {
     "data": {
      "text/plain": [
       "航天軍工      0.785569\n",
       "電機機械      0.769786\n",
       "控股        0.755264\n",
       "科技相關      0.754688\n",
       "運輸        0.752821\n",
       "公用事業      0.704468\n",
       "傳產其他      0.691685\n",
       "金融相關      0.686887\n",
       "生技醫療保健    0.679872\n",
       "鋼鐵金屬      0.659332\n",
       "農林漁牧      0.651956\n",
       "車輛相關      0.648308\n",
       "能源        0.646079\n",
       "百貨通路      0.642347\n",
       "觀光休閒娛樂    0.636823\n",
       "綜合        0.634249\n",
       "電器電纜      0.631624\n",
       "營建地產      0.612743\n",
       "建材居家用品    0.606734\n",
       "化學工業      0.600622\n",
       "水泥        0.590481\n",
       "食品飲料      0.586763\n",
       "傳播出版      0.585670\n",
       "造紙        0.539251\n",
       "石化        0.515568\n",
       "紡織        0.482185\n",
       "dtype: float64"
      ]
     },
     "execution_count": 29,
     "metadata": {},
     "output_type": "execute_result"
    }
   ],
   "source": [
    "pd.Series(dict_simi).sort_values(ascending=False)"
   ]
  },
  {
   "cell_type": "code",
   "execution_count": 31,
   "metadata": {},
   "outputs": [],
   "source": [
    "array1=encoder.predict(DATA_M[dict_multi_industry[\"{'化學工業', '石化'}\"]])\n",
    "dict_simi={}\n",
    "for i in test_dict_collect_industry_50000:\n",
    "    \n",
    "    array2=encoder.predict(DATA_S[test_dict_collect_industry_50000[i]])\n",
    "    dict_simi[i]=MeanSimilaritytwoindustry(array1,array2)\n",
    "    "
   ]
  },
  {
   "cell_type": "code",
   "execution_count": 32,
   "metadata": {},
   "outputs": [
    {
     "data": {
      "text/plain": [
       "石化        0.808676\n",
       "化學工業      0.793915\n",
       "紡織        0.727844\n",
       "造紙        0.683597\n",
       "鋼鐵金屬      0.672448\n",
       "水泥        0.663047\n",
       "食品飲料      0.652556\n",
       "科技相關      0.639109\n",
       "建材居家用品    0.634523\n",
       "電機機械      0.633227\n",
       "能源        0.625854\n",
       "航天軍工      0.620020\n",
       "公用事業      0.613915\n",
       "車輛相關      0.612762\n",
       "電器電纜      0.611522\n",
       "傳產其他      0.609125\n",
       "農林漁牧      0.605966\n",
       "百貨通路      0.599106\n",
       "生技醫療保健    0.596274\n",
       "控股        0.591010\n",
       "綜合        0.587524\n",
       "金融相關      0.586785\n",
       "營建地產      0.585352\n",
       "運輸        0.584383\n",
       "觀光休閒娛樂    0.548741\n",
       "傳播出版      0.522930\n",
       "dtype: float64"
      ]
     },
     "execution_count": 32,
     "metadata": {},
     "output_type": "execute_result"
    }
   ],
   "source": [
    "pd.Series(dict_simi).sort_values(ascending=False)"
   ]
  },
  {
   "cell_type": "code",
   "execution_count": 33,
   "metadata": {},
   "outputs": [],
   "source": [
    "array1=encoder.predict(DATA_M[dict_multi_industry[\"{'能源', '公用事業'}\"]])\n",
    "dict_simi={}\n",
    "for i in test_dict_collect_industry_50000:\n",
    "    \n",
    "    array2=encoder.predict(DATA_S[test_dict_collect_industry_50000[i]])\n",
    "    dict_simi[i]=MeanSimilaritytwoindustry(array1,array2)\n",
    "    "
   ]
  },
  {
   "cell_type": "code",
   "execution_count": 34,
   "metadata": {},
   "outputs": [
    {
     "data": {
      "text/plain": [
       "能源        0.876338\n",
       "公用事業      0.744889\n",
       "鋼鐵金屬      0.681499\n",
       "農林漁牧      0.652387\n",
       "航天軍工      0.647512\n",
       "金融相關      0.633850\n",
       "食品飲料      0.626481\n",
       "石化        0.609715\n",
       "百貨通路      0.609638\n",
       "綜合        0.590770\n",
       "電機機械      0.582558\n",
       "傳產其他      0.580220\n",
       "化學工業      0.580081\n",
       "車輛相關      0.578951\n",
       "科技相關      0.565709\n",
       "水泥        0.565159\n",
       "紡織        0.556508\n",
       "運輸        0.555424\n",
       "造紙        0.551746\n",
       "電器電纜      0.550447\n",
       "傳播出版      0.535652\n",
       "控股        0.534535\n",
       "生技醫療保健    0.521566\n",
       "營建地產      0.514276\n",
       "建材居家用品    0.500310\n",
       "觀光休閒娛樂    0.496818\n",
       "dtype: float64"
      ]
     },
     "execution_count": 34,
     "metadata": {},
     "output_type": "execute_result"
    }
   ],
   "source": [
    "pd.Series(dict_simi).sort_values(ascending=False)"
   ]
  },
  {
   "cell_type": "code",
   "execution_count": 37,
   "metadata": {},
   "outputs": [
    {
     "data": {
      "text/plain": [
       "科技相關      0.840070\n",
       "控股        0.822668\n",
       "車輛相關      0.776056\n",
       "電機機械      0.764248\n",
       "航天軍工      0.733972\n",
       "建材居家用品    0.709502\n",
       "電器電纜      0.704559\n",
       "傳產其他      0.703912\n",
       "紡織        0.664791\n",
       "化學工業      0.663238\n",
       "生技醫療保健    0.662891\n",
       "百貨通路      0.658021\n",
       "鋼鐵金屬      0.644966\n",
       "金融相關      0.642215\n",
       "觀光休閒娛樂    0.639149\n",
       "公用事業      0.637656\n",
       "營建地產      0.628715\n",
       "運輸        0.623850\n",
       "食品飲料      0.621231\n",
       "石化        0.619610\n",
       "造紙        0.612425\n",
       "農林漁牧      0.608827\n",
       "水泥        0.598113\n",
       "綜合        0.593388\n",
       "能源        0.592991\n",
       "傳播出版      0.578180\n",
       "dtype: float64"
      ]
     },
     "execution_count": 37,
     "metadata": {},
     "output_type": "execute_result"
    }
   ],
   "source": [
    "array1=encoder.predict(DATA_M[dict_multi_industry[\"{'電機機械', '科技相關', '車輛相關'}\"]])\n",
    "dict_simi={}\n",
    "for i in test_dict_collect_industry_50000:\n",
    "    \n",
    "    array2=encoder.predict(DATA_S[test_dict_collect_industry_50000[i]])\n",
    "    dict_simi[i]=MeanSimilaritytwoindustry(array1,array2)\n",
    "pd.Series(dict_simi).sort_values(ascending=False)    "
   ]
  },
  {
   "cell_type": "code",
   "execution_count": 42,
   "metadata": {},
   "outputs": [
    {
     "data": {
      "text/plain": [
       "公用事業      0.820952\n",
       "傳產其他      0.782137\n",
       "科技相關      0.775504\n",
       "能源        0.766165\n",
       "航天軍工      0.754378\n",
       "電機機械      0.734501\n",
       "金融相關      0.730937\n",
       "農林漁牧      0.727406\n",
       "控股        0.723945\n",
       "營建地產      0.718579\n",
       "百貨通路      0.717061\n",
       "鋼鐵金屬      0.700539\n",
       "綜合        0.691069\n",
       "食品飲料      0.686177\n",
       "車輛相關      0.685654\n",
       "生技醫療保健    0.684051\n",
       "電器電纜      0.683678\n",
       "建材居家用品    0.681839\n",
       "運輸        0.680614\n",
       "觀光休閒娛樂    0.674920\n",
       "水泥        0.649639\n",
       "紡織        0.638579\n",
       "化學工業      0.638561\n",
       "石化        0.623206\n",
       "造紙        0.619181\n",
       "傳播出版      0.583685\n",
       "dtype: float64"
      ]
     },
     "execution_count": 42,
     "metadata": {},
     "output_type": "execute_result"
    }
   ],
   "source": [
    "\n",
    "array1=encoder.predict(DATA_M[dict_multi_industry[\"{'航天軍工', '公用事業', '生技醫療保健', '科技相關', '金融相關', '營建地產', '電機機械', '傳產其他'}\"]])\n",
    "dict_simi={}\n",
    "for i in test_dict_collect_industry_50000:\n",
    "    \n",
    "    array2=encoder.predict(DATA_S[test_dict_collect_industry_50000[i]])\n",
    "    dict_simi[i]=MeanSimilaritytwoindustry(array1,array2)\n",
    "pd.Series(dict_simi).sort_values(ascending=False) "
   ]
  },
  {
   "cell_type": "code",
   "execution_count": 58,
   "metadata": {},
   "outputs": [
    {
     "data": {
      "text/plain": [
       "[11832]"
      ]
     },
     "execution_count": 58,
     "metadata": {},
     "output_type": "execute_result"
    }
   ],
   "source": [
    "dict_multi_industry[\"{'航天軍工', '公用事業', '生技醫療保健', '科技相關', '金融相關', '營建地產', '電機機械', '傳產其他'}\"]"
   ]
  },
  {
   "cell_type": "code",
   "execution_count": 52,
   "metadata": {},
   "outputs": [
    {
     "data": {
      "text/html": [
       "<div>\n",
       "<style scoped>\n",
       "    .dataframe tbody tr th:only-of-type {\n",
       "        vertical-align: middle;\n",
       "    }\n",
       "\n",
       "    .dataframe tbody tr th {\n",
       "        vertical-align: top;\n",
       "    }\n",
       "\n",
       "    .dataframe thead th {\n",
       "        text-align: right;\n",
       "    }\n",
       "</style>\n",
       "<table border=\"1\" class=\"dataframe\">\n",
       "  <thead>\n",
       "    <tr style=\"text-align: right;\">\n",
       "      <th></th>\n",
       "      <th>guid</th>\n",
       "      <th>title_token_plus_body_token</th>\n",
       "      <th>indusrty_tags</th>\n",
       "    </tr>\n",
       "  </thead>\n",
       "  <tbody>\n",
       "    <tr>\n",
       "      <th>11832</th>\n",
       "      <td>ddf4f25e-524a-4b72-b0e9-53107c6c027e</td>\n",
       "      <td>政院 拍板 明年 總預算 公共建設 新南向 長 照 經費 大增 行政院 拍板 中央政府 總預...</td>\n",
       "      <td>{金融相關, 公用事業, 傳產其他, 科技相關, 航天軍工, 生技醫療保健, 營建地產, 電...</td>\n",
       "    </tr>\n",
       "  </tbody>\n",
       "</table>\n",
       "</div>"
      ],
      "text/plain": [
       "                                       guid  \\\n",
       "11832  ddf4f25e-524a-4b72-b0e9-53107c6c027e   \n",
       "\n",
       "                             title_token_plus_body_token  \\\n",
       "11832  政院 拍板 明年 總預算 公共建設 新南向 長 照 經費 大增 行政院 拍板 中央政府 總預...   \n",
       "\n",
       "                                           indusrty_tags  \n",
       "11832  {金融相關, 公用事業, 傳產其他, 科技相關, 航天軍工, 生技醫療保健, 營建地產, 電...  "
      ]
     },
     "execution_count": 52,
     "metadata": {},
     "output_type": "execute_result"
    }
   ],
   "source": [
    "DataSet_vip_multi_industry[DataSet_vip_multi_industry[\"indusrty_tags\"]=={'航天軍工', '公用事業', '生技醫療保健', '科技相關', '金融相關', '營建地產', '電機機械', '傳產其他'}]"
   ]
  },
  {
   "cell_type": "code",
   "execution_count": 60,
   "metadata": {},
   "outputs": [
    {
     "data": {
      "text/plain": [
       "公用事業      0.820952\n",
       "傳產其他      0.782137\n",
       "科技相關      0.775504\n",
       "能源        0.766165\n",
       "航天軍工      0.754378\n",
       "電機機械      0.734501\n",
       "金融相關      0.730937\n",
       "農林漁牧      0.727406\n",
       "控股        0.723945\n",
       "營建地產      0.718579\n",
       "百貨通路      0.717061\n",
       "鋼鐵金屬      0.700539\n",
       "綜合        0.691069\n",
       "食品飲料      0.686177\n",
       "車輛相關      0.685654\n",
       "生技醫療保健    0.684051\n",
       "電器電纜      0.683678\n",
       "建材居家用品    0.681839\n",
       "運輸        0.680614\n",
       "觀光休閒娛樂    0.674920\n",
       "水泥        0.649639\n",
       "紡織        0.638579\n",
       "化學工業      0.638561\n",
       "石化        0.623206\n",
       "造紙        0.619181\n",
       "傳播出版      0.583685\n",
       "dtype: float64"
      ]
     },
     "execution_count": 60,
     "metadata": {},
     "output_type": "execute_result"
    }
   ],
   "source": [
    "\n",
    "array1=encoder.predict(DATA_M[[11832]])\n",
    "dict_simi={}\n",
    "for i in test_dict_collect_industry_50000:\n",
    "    array2=encoder.predict(DATA_S[test_dict_collect_industry_50000[i]])\n",
    "    dict_simi[i]=MeanSimilaritytwoindustry(array1,array2)\n",
    "pd.Series(dict_simi).sort_values(ascending=False) "
   ]
  },
  {
   "cell_type": "code",
   "execution_count": 54,
   "metadata": {},
   "outputs": [
    {
     "data": {
      "text/plain": [
       "(127707, 19404)"
      ]
     },
     "execution_count": 54,
     "metadata": {},
     "output_type": "execute_result"
    }
   ],
   "source": []
  },
  {
   "cell_type": "code",
   "execution_count": 62,
   "metadata": {},
   "outputs": [
    {
     "data": {
      "text/plain": [
       "[18307]"
      ]
     },
     "execution_count": 62,
     "metadata": {},
     "output_type": "execute_result"
    }
   ],
   "source": []
  },
  {
   "cell_type": "code",
   "execution_count": 64,
   "metadata": {},
   "outputs": [
    {
     "data": {
      "text/html": [
       "<div>\n",
       "<style scoped>\n",
       "    .dataframe tbody tr th:only-of-type {\n",
       "        vertical-align: middle;\n",
       "    }\n",
       "\n",
       "    .dataframe tbody tr th {\n",
       "        vertical-align: top;\n",
       "    }\n",
       "\n",
       "    .dataframe thead th {\n",
       "        text-align: right;\n",
       "    }\n",
       "</style>\n",
       "<table border=\"1\" class=\"dataframe\">\n",
       "  <thead>\n",
       "    <tr style=\"text-align: right;\">\n",
       "      <th></th>\n",
       "      <th>guid</th>\n",
       "      <th>title_token_plus_body_token</th>\n",
       "      <th>indusrty_tags</th>\n",
       "    </tr>\n",
       "  </thead>\n",
       "  <tbody>\n",
       "    <tr>\n",
       "      <th>18307</th>\n",
       "      <td>e5f87514-ac6f-4ed5-8987-fb863e7eed5a</td>\n",
       "      <td>難怪 美國 百貨 家電 買氣 差 汽油 CPI 創 年 最大 升幅 美國 消費者物價指數 C...</td>\n",
       "      <td>{百貨通路, 能源, 營建地產, 電器電纜}</td>\n",
       "    </tr>\n",
       "  </tbody>\n",
       "</table>\n",
       "</div>"
      ],
      "text/plain": [
       "                                       guid  \\\n",
       "18307  e5f87514-ac6f-4ed5-8987-fb863e7eed5a   \n",
       "\n",
       "                             title_token_plus_body_token  \\\n",
       "18307  難怪 美國 百貨 家電 買氣 差 汽油 CPI 創 年 最大 升幅 美國 消費者物價指數 C...   \n",
       "\n",
       "                indusrty_tags  \n",
       "18307  {百貨通路, 能源, 營建地產, 電器電纜}  "
      ]
     },
     "execution_count": 64,
     "metadata": {},
     "output_type": "execute_result"
    }
   ],
   "source": [
    "DataSet_vip_multi_industry[DataSet_vip_multi_industry[\"indusrty_tags\"]=={'能源', '電器電纜', '百貨通路', '營建地產'}]"
   ]
  },
  {
   "cell_type": "code",
   "execution_count": 65,
   "metadata": {},
   "outputs": [
    {
     "data": {
      "text/plain": [
       "百貨通路      0.813376\n",
       "公用事業      0.781860\n",
       "觀光休閒娛樂    0.781780\n",
       "傳產其他      0.750936\n",
       "金融相關      0.736010\n",
       "生技醫療保健    0.734287\n",
       "農林漁牧      0.730911\n",
       "航天軍工      0.719065\n",
       "電器電纜      0.711687\n",
       "科技相關      0.706765\n",
       "能源        0.702762\n",
       "車輛相關      0.695846\n",
       "控股        0.693792\n",
       "營建地產      0.693600\n",
       "食品飲料      0.689833\n",
       "電機機械      0.688071\n",
       "鋼鐵金屬      0.683649\n",
       "綜合        0.674222\n",
       "紡織        0.666017\n",
       "建材居家用品    0.649499\n",
       "化學工業      0.617314\n",
       "運輸        0.601641\n",
       "石化        0.595514\n",
       "水泥        0.571461\n",
       "傳播出版      0.555209\n",
       "造紙        0.552553\n",
       "dtype: float64"
      ]
     },
     "execution_count": 65,
     "metadata": {},
     "output_type": "execute_result"
    }
   ],
   "source": [
    "array1=encoder.predict(DATA_M[[18307]])\n",
    "dict_simi={}\n",
    "for i in test_dict_collect_industry_50000:\n",
    "    array2=encoder.predict(DATA_S[test_dict_collect_industry_50000[i]])\n",
    "    dict_simi[i]=MeanSimilaritytwoindustry(array1,array2)\n",
    "pd.Series(dict_simi).sort_values(ascending=False) "
   ]
  },
  {
   "cell_type": "code",
   "execution_count": 73,
   "metadata": {},
   "outputs": [
    {
     "data": {
      "text/html": [
       "<div>\n",
       "<style scoped>\n",
       "    .dataframe tbody tr th:only-of-type {\n",
       "        vertical-align: middle;\n",
       "    }\n",
       "\n",
       "    .dataframe tbody tr th {\n",
       "        vertical-align: top;\n",
       "    }\n",
       "\n",
       "    .dataframe thead th {\n",
       "        text-align: right;\n",
       "    }\n",
       "</style>\n",
       "<table border=\"1\" class=\"dataframe\">\n",
       "  <thead>\n",
       "    <tr style=\"text-align: right;\">\n",
       "      <th></th>\n",
       "      <th>guid</th>\n",
       "      <th>title_token_plus_body_token</th>\n",
       "      <th>indusrty_tags</th>\n",
       "    </tr>\n",
       "  </thead>\n",
       "  <tbody>\n",
       "    <tr>\n",
       "      <th>1523</th>\n",
       "      <td>27b8bbe1-cffb-4151-93c3-daf5401a4b72</td>\n",
       "      <td>智慧 音箱 使用者 預估 破 一億人 亞馬遜 穩坐 龍頭 調研 機構 Canalys 預測 ...</td>\n",
       "      <td>{百貨通路, 科技相關}</td>\n",
       "    </tr>\n",
       "  </tbody>\n",
       "</table>\n",
       "</div>"
      ],
      "text/plain": [
       "                                      guid  \\\n",
       "1523  27b8bbe1-cffb-4151-93c3-daf5401a4b72   \n",
       "\n",
       "                            title_token_plus_body_token indusrty_tags  \n",
       "1523  智慧 音箱 使用者 預估 破 一億人 亞馬遜 穩坐 龍頭 調研 機構 Canalys 預測 ...  {百貨通路, 科技相關}  "
      ]
     },
     "execution_count": 73,
     "metadata": {},
     "output_type": "execute_result"
    }
   ],
   "source": [
    "DataSet_vip_multi_industry[1523:1524]"
   ]
  },
  {
   "cell_type": "code",
   "execution_count": 74,
   "metadata": {
    "scrolled": true
   },
   "outputs": [
    {
     "data": {
      "text/plain": [
       "科技相關      0.910477\n",
       "控股        0.831794\n",
       "金融相關      0.795507\n",
       "傳產其他      0.759189\n",
       "航天軍工      0.750855\n",
       "電機機械      0.740897\n",
       "電器電纜      0.735197\n",
       "百貨通路      0.732402\n",
       "生技醫療保健    0.728410\n",
       "傳播出版      0.728363\n",
       "公用事業      0.716079\n",
       "觀光休閒娛樂    0.694389\n",
       "綜合        0.694294\n",
       "石化        0.691677\n",
       "車輛相關      0.688840\n",
       "營建地產      0.686888\n",
       "建材居家用品    0.685761\n",
       "鋼鐵金屬      0.683980\n",
       "農林漁牧      0.670066\n",
       "化學工業      0.665079\n",
       "運輸        0.662135\n",
       "紡織        0.661016\n",
       "能源        0.658388\n",
       "食品飲料      0.654379\n",
       "造紙        0.651917\n",
       "水泥        0.598079\n",
       "dtype: float64"
      ]
     },
     "execution_count": 74,
     "metadata": {},
     "output_type": "execute_result"
    }
   ],
   "source": [
    "array1=encoder.predict(DATA_M[[1523]])\n",
    "dict_simi={}\n",
    "for i in test_dict_collect_industry_50000:\n",
    "    array2=encoder.predict(DATA_S[test_dict_collect_industry_50000[i]])\n",
    "    dict_simi[i]=MeanSimilaritytwoindustry(array1,array2)\n",
    "pd.Series(dict_simi).sort_values(ascending=False) "
   ]
  },
  {
   "cell_type": "markdown",
   "metadata": {},
   "source": [
    "#### 多LABEL也能找出來"
   ]
  },
  {
   "cell_type": "code",
   "execution_count": 77,
   "metadata": {},
   "outputs": [
    {
     "data": {
      "text/html": [
       "<div>\n",
       "<style scoped>\n",
       "    .dataframe tbody tr th:only-of-type {\n",
       "        vertical-align: middle;\n",
       "    }\n",
       "\n",
       "    .dataframe tbody tr th {\n",
       "        vertical-align: top;\n",
       "    }\n",
       "\n",
       "    .dataframe thead th {\n",
       "        text-align: right;\n",
       "    }\n",
       "</style>\n",
       "<table border=\"1\" class=\"dataframe\">\n",
       "  <thead>\n",
       "    <tr style=\"text-align: right;\">\n",
       "      <th></th>\n",
       "      <th>guid</th>\n",
       "      <th>title_token_plus_body_token</th>\n",
       "      <th>indusrty_tags</th>\n",
       "    </tr>\n",
       "  </thead>\n",
       "  <tbody>\n",
       "    <tr>\n",
       "      <th>28000</th>\n",
       "      <td>28b5c579-1ee3-432a-968d-de4679ad8c91</td>\n",
       "      <td>上海 祭 出 房市 調控 從嚴 實行 差別化 住房 信貸政策 大陸 上海市政府 舉行 新聞 ...</td>\n",
       "      <td>{營建地產, 金融相關}</td>\n",
       "    </tr>\n",
       "  </tbody>\n",
       "</table>\n",
       "</div>"
      ],
      "text/plain": [
       "                                       guid  \\\n",
       "28000  28b5c579-1ee3-432a-968d-de4679ad8c91   \n",
       "\n",
       "                             title_token_plus_body_token indusrty_tags  \n",
       "28000  上海 祭 出 房市 調控 從嚴 實行 差別化 住房 信貸政策 大陸 上海市政府 舉行 新聞 ...  {營建地產, 金融相關}  "
      ]
     },
     "execution_count": 77,
     "metadata": {},
     "output_type": "execute_result"
    }
   ],
   "source": [
    "DataSet_vip_multi_industry[28000:28001]"
   ]
  },
  {
   "cell_type": "code",
   "execution_count": 78,
   "metadata": {
    "scrolled": true
   },
   "outputs": [
    {
     "data": {
      "text/plain": [
       "營建地產      0.910378\n",
       "金融相關      0.777047\n",
       "水泥        0.694254\n",
       "傳產其他      0.689015\n",
       "鋼鐵金屬      0.682894\n",
       "綜合        0.682104\n",
       "公用事業      0.675047\n",
       "建材居家用品    0.673630\n",
       "控股        0.667678\n",
       "百貨通路      0.664923\n",
       "運輸        0.657763\n",
       "農林漁牧      0.650829\n",
       "觀光休閒娛樂    0.649194\n",
       "電器電纜      0.648134\n",
       "電機機械      0.635900\n",
       "科技相關      0.635746\n",
       "航天軍工      0.634803\n",
       "化學工業      0.618391\n",
       "生技醫療保健    0.616757\n",
       "食品飲料      0.615476\n",
       "車輛相關      0.614828\n",
       "石化        0.586616\n",
       "能源        0.574327\n",
       "傳播出版      0.557030\n",
       "紡織        0.536057\n",
       "造紙        0.521274\n",
       "dtype: float64"
      ]
     },
     "execution_count": 78,
     "metadata": {},
     "output_type": "execute_result"
    }
   ],
   "source": [
    "array1=encoder.predict(DATA_M[[28000]])\n",
    "dict_simi={}\n",
    "for i in test_dict_collect_industry_50000:\n",
    "    array2=encoder.predict(DATA_S[test_dict_collect_industry_50000[i]])\n",
    "    dict_simi[i]=MeanSimilaritytwoindustry(array1,array2)\n",
    "pd.Series(dict_simi).sort_values(ascending=False) "
   ]
  },
  {
   "cell_type": "code",
   "execution_count": 84,
   "metadata": {},
   "outputs": [
    {
     "data": {
      "text/html": [
       "<div>\n",
       "<style scoped>\n",
       "    .dataframe tbody tr th:only-of-type {\n",
       "        vertical-align: middle;\n",
       "    }\n",
       "\n",
       "    .dataframe tbody tr th {\n",
       "        vertical-align: top;\n",
       "    }\n",
       "\n",
       "    .dataframe thead th {\n",
       "        text-align: right;\n",
       "    }\n",
       "</style>\n",
       "<table border=\"1\" class=\"dataframe\">\n",
       "  <thead>\n",
       "    <tr style=\"text-align: right;\">\n",
       "      <th></th>\n",
       "      <th>guid</th>\n",
       "      <th>title_token_plus_body_token</th>\n",
       "      <th>indusrty_tags</th>\n",
       "    </tr>\n",
       "  </thead>\n",
       "  <tbody>\n",
       "    <tr>\n",
       "      <th>53000</th>\n",
       "      <td>0f32dee4-0b17-4154-93f0-11af41890948</td>\n",
       "      <td>陸企 平安銀行 去年 淨利 RMB 年增 平安銀行 SZ 昨 公佈 年報 實現 營業收入 億...</td>\n",
       "      <td>{鋼鐵金屬, 金融相關}</td>\n",
       "    </tr>\n",
       "  </tbody>\n",
       "</table>\n",
       "</div>"
      ],
      "text/plain": [
       "                                       guid  \\\n",
       "53000  0f32dee4-0b17-4154-93f0-11af41890948   \n",
       "\n",
       "                             title_token_plus_body_token indusrty_tags  \n",
       "53000  陸企 平安銀行 去年 淨利 RMB 年增 平安銀行 SZ 昨 公佈 年報 實現 營業收入 億...  {鋼鐵金屬, 金融相關}  "
      ]
     },
     "execution_count": 84,
     "metadata": {},
     "output_type": "execute_result"
    }
   ],
   "source": [
    "DataSet_vip_multi_industry[53000:53001]"
   ]
  },
  {
   "cell_type": "code",
   "execution_count": 85,
   "metadata": {
    "scrolled": true
   },
   "outputs": [
    {
     "data": {
      "text/plain": [
       "金融相關      0.926140\n",
       "鋼鐵金屬      0.759077\n",
       "百貨通路      0.731035\n",
       "控股        0.728121\n",
       "公用事業      0.726072\n",
       "營建地產      0.722910\n",
       "綜合        0.713306\n",
       "傳產其他      0.707625\n",
       "農林漁牧      0.706245\n",
       "航天軍工      0.693364\n",
       "生技醫療保健    0.680343\n",
       "科技相關      0.675615\n",
       "能源        0.672157\n",
       "傳播出版      0.666291\n",
       "運輸        0.656063\n",
       "電器電纜      0.649015\n",
       "水泥        0.647904\n",
       "觀光休閒娛樂    0.647706\n",
       "電機機械      0.643583\n",
       "食品飲料      0.619606\n",
       "建材居家用品    0.604949\n",
       "石化        0.604383\n",
       "車輛相關      0.603726\n",
       "化學工業      0.590855\n",
       "造紙        0.563337\n",
       "紡織        0.509572\n",
       "dtype: float64"
      ]
     },
     "execution_count": 85,
     "metadata": {},
     "output_type": "execute_result"
    }
   ],
   "source": [
    "array1=encoder.predict(DATA_M[[53000]])\n",
    "dict_simi={}\n",
    "for i in test_dict_collect_industry_50000:\n",
    "    array2=encoder.predict(DATA_S[test_dict_collect_industry_50000[i]])\n",
    "    dict_simi[i]=MeanSimilaritytwoindustry(array1,array2)\n",
    "pd.Series(dict_simi).sort_values(ascending=False) "
   ]
  },
  {
   "cell_type": "markdown",
   "metadata": {},
   "source": [
    "#### 文章內容與農林漁牧無關"
   ]
  },
  {
   "cell_type": "code",
   "execution_count": 79,
   "metadata": {},
   "outputs": [
    {
     "data": {
      "text/html": [
       "<div>\n",
       "<style scoped>\n",
       "    .dataframe tbody tr th:only-of-type {\n",
       "        vertical-align: middle;\n",
       "    }\n",
       "\n",
       "    .dataframe tbody tr th {\n",
       "        vertical-align: top;\n",
       "    }\n",
       "\n",
       "    .dataframe thead th {\n",
       "        text-align: right;\n",
       "    }\n",
       "</style>\n",
       "<table border=\"1\" class=\"dataframe\">\n",
       "  <thead>\n",
       "    <tr style=\"text-align: right;\">\n",
       "      <th></th>\n",
       "      <th>guid</th>\n",
       "      <th>title_token_plus_body_token</th>\n",
       "      <th>indusrty_tags</th>\n",
       "    </tr>\n",
       "  </thead>\n",
       "  <tbody>\n",
       "    <tr>\n",
       "      <th>38000</th>\n",
       "      <td>550bc5c8-5c43-4822-9e02-742998ae728e</td>\n",
       "      <td>供應 增長 瑞銀 估 下半年 鐵礦石 均價 每噸 美元 彭博社 報導 瑞銀 集團 UBS G...</td>\n",
       "      <td>{鋼鐵金屬, 農林漁牧}</td>\n",
       "    </tr>\n",
       "  </tbody>\n",
       "</table>\n",
       "</div>"
      ],
      "text/plain": [
       "                                       guid  \\\n",
       "38000  550bc5c8-5c43-4822-9e02-742998ae728e   \n",
       "\n",
       "                             title_token_plus_body_token indusrty_tags  \n",
       "38000  供應 增長 瑞銀 估 下半年 鐵礦石 均價 每噸 美元 彭博社 報導 瑞銀 集團 UBS G...  {鋼鐵金屬, 農林漁牧}  "
      ]
     },
     "execution_count": 79,
     "metadata": {},
     "output_type": "execute_result"
    }
   ],
   "source": [
    "DataSet_vip_multi_industry[38000:38001]"
   ]
  },
  {
   "cell_type": "code",
   "execution_count": 80,
   "metadata": {
    "scrolled": true
   },
   "outputs": [
    {
     "data": {
      "text/plain": [
       "鋼鐵金屬      0.888894\n",
       "能源        0.782641\n",
       "化學工業      0.732718\n",
       "金融相關      0.717614\n",
       "石化        0.709495\n",
       "公用事業      0.702166\n",
       "農林漁牧      0.696464\n",
       "水泥        0.689714\n",
       "食品飲料      0.682264\n",
       "航天軍工      0.676109\n",
       "百貨通路      0.661624\n",
       "綜合        0.651713\n",
       "電機機械      0.646360\n",
       "造紙        0.642028\n",
       "紡織        0.630067\n",
       "營建地產      0.626213\n",
       "控股        0.625690\n",
       "車輛相關      0.621137\n",
       "傳產其他      0.620755\n",
       "運輸        0.618249\n",
       "建材居家用品    0.614930\n",
       "科技相關      0.603041\n",
       "電器電纜      0.574346\n",
       "觀光休閒娛樂    0.549704\n",
       "傳播出版      0.537085\n",
       "生技醫療保健    0.509996\n",
       "dtype: float64"
      ]
     },
     "execution_count": 80,
     "metadata": {},
     "output_type": "execute_result"
    }
   ],
   "source": [
    "array1=encoder.predict(DATA_M[[38000]])\n",
    "dict_simi={}\n",
    "for i in test_dict_collect_industry_50000:\n",
    "    array2=encoder.predict(DATA_S[test_dict_collect_industry_50000[i]])\n",
    "    dict_simi[i]=MeanSimilaritytwoindustry(array1,array2)\n",
    "pd.Series(dict_simi).sort_values(ascending=False) "
   ]
  },
  {
   "cell_type": "markdown",
   "metadata": {},
   "source": [
    "#### 因為被標有玻璃歸類在建材居家\n",
    "<li>玻璃‧機殼‧鎂鋁合金外殼‧手機外殼‧可成‧MEMS‧貨幣市場"
   ]
  },
  {
   "cell_type": "code",
   "execution_count": 95,
   "metadata": {},
   "outputs": [
    {
     "data": {
      "text/html": [
       "<div>\n",
       "<style scoped>\n",
       "    .dataframe tbody tr th:only-of-type {\n",
       "        vertical-align: middle;\n",
       "    }\n",
       "\n",
       "    .dataframe tbody tr th {\n",
       "        vertical-align: top;\n",
       "    }\n",
       "\n",
       "    .dataframe thead th {\n",
       "        text-align: right;\n",
       "    }\n",
       "</style>\n",
       "<table border=\"1\" class=\"dataframe\">\n",
       "  <thead>\n",
       "    <tr style=\"text-align: right;\">\n",
       "      <th></th>\n",
       "      <th>guid</th>\n",
       "      <th>title_token_plus_body_token</th>\n",
       "      <th>indusrty_tags</th>\n",
       "    </tr>\n",
       "  </thead>\n",
       "  <tbody>\n",
       "    <tr>\n",
       "      <th>1636</th>\n",
       "      <td>9b877400-e8b6-4ae5-9010-7879b1318056</td>\n",
       "      <td>研調 產品 產能 調整 策略 奏效 TV 面板 價格 看漲 根據 TrendForce 光電...</td>\n",
       "      <td>{建材居家用品, 科技相關}</td>\n",
       "    </tr>\n",
       "  </tbody>\n",
       "</table>\n",
       "</div>"
      ],
      "text/plain": [
       "                                      guid  \\\n",
       "1636  9b877400-e8b6-4ae5-9010-7879b1318056   \n",
       "\n",
       "                            title_token_plus_body_token   indusrty_tags  \n",
       "1636  研調 產品 產能 調整 策略 奏效 TV 面板 價格 看漲 根據 TrendForce 光電...  {建材居家用品, 科技相關}  "
      ]
     },
     "execution_count": 95,
     "metadata": {},
     "output_type": "execute_result"
    }
   ],
   "source": [
    "DataSet_vip_multi_industry[DataSet_vip_multi_industry[\"guid\"].apply(lambda x :str(x))==\"9b877400-e8b6-4ae5-9010-7879b1318056\"]"
   ]
  },
  {
   "cell_type": "code",
   "execution_count": 96,
   "metadata": {
    "scrolled": true
   },
   "outputs": [
    {
     "data": {
      "text/plain": [
       "科技相關      0.932050\n",
       "控股        0.821549\n",
       "電機機械      0.713061\n",
       "航天軍工      0.705735\n",
       "電器電纜      0.705551\n",
       "傳產其他      0.696681\n",
       "建材居家用品    0.674944\n",
       "車輛相關      0.657589\n",
       "生技醫療保健    0.651227\n",
       "紡織        0.650486\n",
       "觀光休閒娛樂    0.644291\n",
       "化學工業      0.635216\n",
       "百貨通路      0.633494\n",
       "金融相關      0.633231\n",
       "食品飲料      0.630449\n",
       "公用事業      0.625324\n",
       "鋼鐵金屬      0.624210\n",
       "造紙        0.621107\n",
       "營建地產      0.618233\n",
       "石化        0.618177\n",
       "運輸        0.609174\n",
       "綜合        0.584989\n",
       "農林漁牧      0.572773\n",
       "能源        0.565507\n",
       "傳播出版      0.561970\n",
       "水泥        0.542632\n",
       "dtype: float64"
      ]
     },
     "execution_count": 96,
     "metadata": {},
     "output_type": "execute_result"
    }
   ],
   "source": [
    "array1=encoder.predict(DATA_M[[1636]])\n",
    "dict_simi={}\n",
    "for i in test_dict_collect_industry_50000:\n",
    "    array2=encoder.predict(DATA_S[test_dict_collect_industry_50000[i]])\n",
    "    dict_simi[i]=MeanSimilaritytwoindustry(array1,array2)\n",
    "pd.Series(dict_simi).sort_values(ascending=False) "
   ]
  },
  {
   "cell_type": "markdown",
   "metadata": {},
   "source": [
    "#### 3中2"
   ]
  },
  {
   "cell_type": "code",
   "execution_count": 97,
   "metadata": {},
   "outputs": [
    {
     "data": {
      "text/html": [
       "<div>\n",
       "<style scoped>\n",
       "    .dataframe tbody tr th:only-of-type {\n",
       "        vertical-align: middle;\n",
       "    }\n",
       "\n",
       "    .dataframe tbody tr th {\n",
       "        vertical-align: top;\n",
       "    }\n",
       "\n",
       "    .dataframe thead th {\n",
       "        text-align: right;\n",
       "    }\n",
       "</style>\n",
       "<table border=\"1\" class=\"dataframe\">\n",
       "  <thead>\n",
       "    <tr style=\"text-align: right;\">\n",
       "      <th></th>\n",
       "      <th>guid</th>\n",
       "      <th>title_token_plus_body_token</th>\n",
       "      <th>indusrty_tags</th>\n",
       "    </tr>\n",
       "  </thead>\n",
       "  <tbody>\n",
       "    <tr>\n",
       "      <th>15456</th>\n",
       "      <td>4ac0b71c-7dd9-45c0-ab11-a2056bf73615</td>\n",
       "      <td>神達 獲利 估年 成長 今年 行動通訊 事業 看 正向 神達 季 營收 年增 主因 Suba...</td>\n",
       "      <td>{車輛相關, 控股, 科技相關}</td>\n",
       "    </tr>\n",
       "  </tbody>\n",
       "</table>\n",
       "</div>"
      ],
      "text/plain": [
       "                                       guid  \\\n",
       "15456  4ac0b71c-7dd9-45c0-ab11-a2056bf73615   \n",
       "\n",
       "                             title_token_plus_body_token     indusrty_tags  \n",
       "15456  神達 獲利 估年 成長 今年 行動通訊 事業 看 正向 神達 季 營收 年增 主因 Suba...  {車輛相關, 控股, 科技相關}  "
      ]
     },
     "execution_count": 97,
     "metadata": {},
     "output_type": "execute_result"
    }
   ],
   "source": [
    "DataSet_vip_multi_industry[15456:15457]"
   ]
  },
  {
   "cell_type": "code",
   "execution_count": 98,
   "metadata": {
    "scrolled": true
   },
   "outputs": [
    {
     "data": {
      "text/plain": [
       "科技相關      0.921184\n",
       "控股        0.804462\n",
       "電器電纜      0.728809\n",
       "航天軍工      0.706152\n",
       "傳產其他      0.705711\n",
       "車輛相關      0.705059\n",
       "建材居家用品    0.698658\n",
       "電機機械      0.691643\n",
       "觀光休閒娛樂    0.667775\n",
       "化學工業      0.649252\n",
       "食品飲料      0.642521\n",
       "營建地產      0.639810\n",
       "紡織        0.639608\n",
       "生技醫療保健    0.635029\n",
       "運輸        0.626638\n",
       "金融相關      0.619277\n",
       "公用事業      0.618069\n",
       "百貨通路      0.613630\n",
       "石化        0.607786\n",
       "鋼鐵金屬      0.589217\n",
       "造紙        0.587665\n",
       "綜合        0.578892\n",
       "農林漁牧      0.577956\n",
       "水泥        0.568637\n",
       "傳播出版      0.566004\n",
       "能源        0.556857\n",
       "dtype: float64"
      ]
     },
     "execution_count": 98,
     "metadata": {},
     "output_type": "execute_result"
    }
   ],
   "source": [
    "array1=encoder.predict(DATA_M[[15456]])\n",
    "dict_simi={}\n",
    "for i in test_dict_collect_industry_50000:\n",
    "    array2=encoder.predict(DATA_S[test_dict_collect_industry_50000[i]])\n",
    "    dict_simi[i]=MeanSimilaritytwoindustry(array1,array2)\n",
    "pd.Series(dict_simi).sort_values(ascending=False) "
   ]
  },
  {
   "cell_type": "markdown",
   "metadata": {},
   "source": [
    "## General"
   ]
  },
  {
   "cell_type": "code",
   "execution_count": 114,
   "metadata": {},
   "outputs": [
    {
     "data": {
      "application/vnd.jupyter.widget-view+json": {
       "model_id": "3a86f8ec89074cd6a58b31a7b1f4cef1",
       "version_major": 2,
       "version_minor": 0
      },
      "text/plain": [
       "HBox(children=(IntProgress(value=0, max=7543), HTML(value='')))"
      ]
     },
     "metadata": {},
     "output_type": "display_data"
    }
   ],
   "source": [
    "li=[]\n",
    "dict_multi={k:encoder.predict(DATA_M[dict_multi_industry[k]]) for k in dict_multi_industry}\n",
    "dict_sing={k:encoder.predict(DATA_S[test_dict_collect_industry_50000[k]]) for k in test_dict_collect_industry_50000}\n",
    "for k1 in tqdm_notebook(dict_multi):\n",
    "    array1=dict_multi[k1]\n",
    "    for k2 in dict_sing:\n",
    "        array2=dict_sing[k2]\n",
    "        li.append((k1,k2,MeanSimilaritytwoindustry(array1,array2)))"
   ]
  },
  {
   "cell_type": "code",
   "execution_count": 125,
   "metadata": {},
   "outputs": [],
   "source": [
    "df=pd.DataFrame(li)\n",
    "df_pivot=df.pivot(index=0,columns=1,values=2)"
   ]
  },
  {
   "cell_type": "code",
   "execution_count": 145,
   "metadata": {},
   "outputs": [
    {
     "data": {
      "text/plain": [
       "1\n",
       "科技相關      0.859154\n",
       "控股        0.814668\n",
       "傳產其他      0.780235\n",
       "金融相關      0.741345\n",
       "營建地產      0.730089\n",
       "百貨通路      0.724355\n",
       "觀光休閒娛樂    0.722930\n",
       "航天軍工      0.722132\n",
       "電機機械      0.721738\n",
       "建材居家用品    0.715506\n",
       "電器電纜      0.708215\n",
       "運輸        0.677830\n",
       "綜合        0.674395\n",
       "車輛相關      0.672679\n",
       "生技醫療保健    0.666940\n",
       "公用事業      0.662395\n",
       "農林漁牧      0.661456\n",
       "鋼鐵金屬      0.658563\n",
       "食品飲料      0.646345\n",
       "紡織        0.644862\n",
       "傳播出版      0.641670\n",
       "化學工業      0.626199\n",
       "石化        0.598332\n",
       "造紙        0.591901\n",
       "水泥        0.588754\n",
       "能源        0.570511\n",
       "Name: {'傳播出版', '傳產其他', '科技相關', '營建地產'}, dtype: float64"
      ]
     },
     "execution_count": 145,
     "metadata": {},
     "output_type": "execute_result"
    }
   ],
   "source": [
    "df_pivot.iloc[5].sort_values(ascending=False)"
   ]
  },
  {
   "cell_type": "code",
   "execution_count": 254,
   "metadata": {},
   "outputs": [
    {
     "data": {
      "application/vnd.jupyter.widget-view+json": {
       "model_id": "14d33582bbb641df8927e370b98cf128",
       "version_major": 2,
       "version_minor": 0
      },
      "text/plain": [
       "HBox(children=(IntProgress(value=1, bar_style='info', max=1), HTML(value='')))"
      ]
     },
     "metadata": {},
     "output_type": "display_data"
    }
   ],
   "source": [
    "dict_AP=dict()\n",
    "for i,r in tqdm_notebook(df_pivot.iterrows()):\n",
    "    i_=eval(i)\n",
    "    i_=i_-set(('金屬礦採選',))\n",
    "    index=np.asarray(r.sort_values(ascending=False).index)\n",
    "    mask=np.isin(index,list(i_))\n",
    "    AP=((np.arange(len(i_))+1)/(np.where(mask)[0]+1)).mean()\n",
    "    dict_AP[i]=AP"
   ]
  },
  {
   "cell_type": "code",
   "execution_count": 256,
   "metadata": {},
   "outputs": [],
   "source": [
    "df_AP=pd.Series(dict_AP).sort_values(ascending=False)"
   ]
  },
  {
   "cell_type": "markdown",
   "metadata": {},
   "source": [
    "#### MAP"
   ]
  },
  {
   "cell_type": "code",
   "execution_count": 265,
   "metadata": {},
   "outputs": [
    {
     "name": "stdout",
     "output_type": "stream",
     "text": [
      "MAP: 0.6358941637531448\n"
     ]
    }
   ],
   "source": [
    "print(\"MAP:\",df_AP.mean())"
   ]
  },
  {
   "cell_type": "code",
   "execution_count": 245,
   "metadata": {},
   "outputs": [
    {
     "data": {
      "text/plain": [
       "{'金屬礦採選'}"
      ]
     },
     "execution_count": 245,
     "metadata": {},
     "output_type": "execute_result"
    }
   ],
   "source": []
  },
  {
   "cell_type": "code",
   "execution_count": null,
   "metadata": {},
   "outputs": [],
   "source": []
  }
 ],
 "metadata": {
  "kernelspec": {
   "display_name": "Python 3",
   "language": "python",
   "name": "python3"
  },
  "language_info": {
   "codemirror_mode": {
    "name": "ipython",
    "version": 3
   },
   "file_extension": ".py",
   "mimetype": "text/x-python",
   "name": "python",
   "nbconvert_exporter": "python",
   "pygments_lexer": "ipython3",
   "version": "3.5.5"
  }
 },
 "nbformat": 4,
 "nbformat_minor": 2
}
