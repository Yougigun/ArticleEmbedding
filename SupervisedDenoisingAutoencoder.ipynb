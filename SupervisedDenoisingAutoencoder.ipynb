{
 "cells": [
  {
   "cell_type": "code",
   "execution_count": 2,
   "metadata": {},
   "outputs": [
    {
     "name": "stderr",
     "output_type": "stream",
     "text": [
      "C:\\Users\\garyyu\\AppData\\Local\\Continuum\\anaconda3\\envs\\deeplearningcpu\\lib\\site-packages\\h5py\\__init__.py:36: FutureWarning: Conversion of the second argument of issubdtype from `float` to `np.floating` is deprecated. In future, it will be treated as `np.float64 == np.dtype(float).type`.\n",
      "  from ._conv import register_converters as _register_converters\n",
      "Using TensorFlow backend.\n"
     ]
    }
   ],
   "source": [
    "from keras.layers import Dense,Lambda,Input,Dot,Add,Subtract,GaussianDropout\n",
    "from keras.utils import Sequence,plot_model\n",
    "from keras.models import Model,load_model\n",
    "from keras import backend as K\n",
    "import numpy as np"
   ]
  },
  {
   "cell_type": "markdown",
   "metadata": {},
   "source": [
    "### Denoising Autoencoder with weak supervision"
   ]
  },
  {
   "cell_type": "code",
   "execution_count": 3,
   "metadata": {},
   "outputs": [],
   "source": [
    "# custommed function\n",
    "def tripletlossfunction(inputs):\n",
    "    r01=inputs[0]\n",
    "    r02=inputs[1]\n",
    "    loss=K.log(1+K.exp(r02-r01))\n",
    "    return loss\n",
    "def losspassfunction(y_true,y_pred):\n",
    "    return y_pred\n"
   ]
  },
  {
   "cell_type": "markdown",
   "metadata": {},
   "source": [
    "# Build model"
   ]
  },
  {
   "cell_type": "code",
   "execution_count": 5,
   "metadata": {},
   "outputs": [
    {
     "name": "stdout",
     "output_type": "stream",
     "text": [
      "__________________________________________________________________________________________________\n",
      "Layer (type)                    Output Shape         Param #     Connected to                     \n",
      "==================================================================================================\n",
      "anchor_input (InputLayer)       (None, 19404)        0                                            \n",
      "__________________________________________________________________________________________________\n",
      "positive_input (InputLayer)     (None, 19404)        0                                            \n",
      "__________________________________________________________________________________________________\n",
      "negative_input (InputLayer)     (None, 19404)        0                                            \n",
      "__________________________________________________________________________________________________\n",
      "encoder (Model)                 (None, 100)          1940400     anchor_input[0][0]               \n",
      "                                                                 positive_input[0][0]             \n",
      "                                                                 negative_input[0][0]             \n",
      "__________________________________________________________________________________________________\n",
      "decoder (Model)                 (None, 19404)        1959804     encoder[1][0]                    \n",
      "                                                                 encoder[2][0]                    \n",
      "                                                                 encoder[3][0]                    \n",
      "__________________________________________________________________________________________________\n",
      "anchor (Lambda)                 (None, 19404)        0           decoder[1][0]                    \n",
      "__________________________________________________________________________________________________\n",
      "positive (Lambda)               (None, 19404)        0           decoder[2][0]                    \n",
      "__________________________________________________________________________________________________\n",
      "negative (Lambda)               (None, 19404)        0           decoder[3][0]                    \n",
      "__________________________________________________________________________________________________\n",
      "triplet (Model)                 (None, 1)            0           encoder[1][0]                    \n",
      "                                                                 encoder[2][0]                    \n",
      "                                                                 encoder[3][0]                    \n",
      "==================================================================================================\n",
      "Total params: 3,900,204\n",
      "Trainable params: 3,900,204\n",
      "Non-trainable params: 0\n",
      "__________________________________________________________________________________________________\n"
     ]
    }
   ],
   "source": [
    "K.clear_session()\n",
    "np.random.seed(100)\n",
    "\n",
    "#parameter setting    \n",
    "BOW_dim=19404\n",
    "DR_dim=100\n",
    "loss_weights=[1,1,1,2]\n",
    "\n",
    "##Encoder\n",
    "x=Input((BOW_dim,),name=\"encoder_input\")\n",
    "y=GaussianDropout(rate=0.2,name=\"noise\")(x)\n",
    "# y=Dense(units=2000,activation=\"sigmoid\",name=\"Dense_1\")(y)\n",
    "y=Dense(units=DR_dim,activation=\"sigmoid\",name=\"Dense_1\",use_bias=False)(y)\n",
    "encoder=Model(x,y,name=\"encoder\")\n",
    "\n",
    "##Decoder\n",
    "x=Input((DR_dim,),name=\"input\") \n",
    "y=x\n",
    "y=Dense(units=BOW_dim,activation=\"sigmoid\",use_bias=True,name=\"Dense_1\")(y)\n",
    "# y=Dense(units=BOW_dim,activation=\"sigmoid\",name=\"Dense_2\")(y)\n",
    "decoder=Model(x,y,name=\"decoder\")\n",
    "\n",
    "##Tripletloss\n",
    "x0=Input((DR_dim,),name=\"anchor_input\")\n",
    "x1=Input((DR_dim,),name=\"positive_input\")\n",
    "x2=Input((DR_dim,),name=\"negative_input\")\n",
    "r01=Dot(axes=1,name=\"SimiPositive\")([x0,x1])\n",
    "r02=Dot(axes=1,name=\"SimiNegative\")([x0,x2])\n",
    "out=Lambda(tripletlossfunction,name=\"tripletlossfunction\")([r01,r02])\n",
    "tripletloss=Model(inputs=[x0,x1,x2],outputs=out,name=\"triplet\")\n",
    "\n",
    "#Build Tri-Autoencoder model\n",
    "x0=Input((BOW_dim,),name=\"anchor_input\")\n",
    "x1=Input((BOW_dim,),name=\"positive_input\")\n",
    "x2=Input((BOW_dim,),name=\"negative_input\")\n",
    "\n",
    "h0=encoder(x0)\n",
    "h1=encoder(x1)\n",
    "h2=encoder(x2)\n",
    "\n",
    "Lt=tripletloss([h0,h1,h2])\n",
    "\n",
    "y0=decoder(h0)\n",
    "y1=decoder(h1)\n",
    "y2=decoder(h2)\n",
    "\n",
    "y0=Lambda(lambda x :x ,name=\"anchor\")(y0)\n",
    "y1=Lambda(lambda x :x ,name=\"positive\")(y1)\n",
    "y2=Lambda(lambda x :x ,name=\"negative\")(y2)\n",
    "\n",
    "# triplet_loss\n",
    "\n",
    "Tri_AutoEncoder=Model(inputs=[x0,x1,x2],outputs=[y0,y1,y2,Lt])\n",
    "Tri_AutoEncoder.compile(optimizer=\"adam\",\n",
    "                        loss=['binary_crossentropy','binary_crossentropy','binary_crossentropy',losspassfunction],\n",
    "                        loss_weights=loss_weights\n",
    "                       )\n",
    "\n",
    "Tri_AutoEncoder.summary()"
   ]
  },
  {
   "cell_type": "markdown",
   "metadata": {},
   "source": [
    "# Data"
   ]
  },
  {
   "cell_type": "code",
   "execution_count": 8,
   "metadata": {},
   "outputs": [],
   "source": [
    "x0=np.random.randint(0,2,(32*3,BOW_dim))\n",
    "x1=np.random.randint(0,2,(32*3,BOW_dim))\n",
    "x2=np.random.randint(0,2,(32*3,BOW_dim))\n",
    "yt=np.random.randint(0,2,(32*3,1))\n",
    "X=[x0,x1,x2]\n",
    "Y=[x0,x1,x2,yt]"
   ]
  },
  {
   "cell_type": "markdown",
   "metadata": {},
   "source": [
    "# Train model"
   ]
  },
  {
   "cell_type": "code",
   "execution_count": 9,
   "metadata": {},
   "outputs": [
    {
     "name": "stdout",
     "output_type": "stream",
     "text": [
      "Epoch 1/5\n",
      "96/96 [==============================] - 1s 10ms/step - loss: 3.8139 - anchor_loss: 0.6936 - positive_loss: 0.6936 - negative_loss: 0.6936 - triplet_loss: 0.8666\n",
      "Epoch 2/5\n",
      "96/96 [==============================] - 0s 4ms/step - loss: 2.1552 - anchor_loss: 0.6923 - positive_loss: 0.6923 - negative_loss: 0.6924 - triplet_loss: 0.0391\n",
      "Epoch 3/5\n",
      "96/96 [==============================] - 0s 4ms/step - loss: 2.0951 - anchor_loss: 0.6917 - positive_loss: 0.6916 - negative_loss: 0.6918 - triplet_loss: 0.0100\n",
      "Epoch 4/5\n",
      "96/96 [==============================] - 0s 4ms/step - loss: 2.0771 - anchor_loss: 0.6916 - positive_loss: 0.6914 - negative_loss: 0.6917 - triplet_loss: 0.0012\n",
      "Epoch 5/5\n",
      "96/96 [==============================] - 0s 4ms/step - loss: 2.0759 - anchor_loss: 0.6916 - positive_loss: 0.6914 - negative_loss: 0.6916 - triplet_loss: 6.8855e-04\n"
     ]
    },
    {
     "data": {
      "text/plain": [
       "<keras.callbacks.History at 0x1c558632080>"
      ]
     },
     "execution_count": 9,
     "metadata": {},
     "output_type": "execute_result"
    }
   ],
   "source": [
    "Tri_AutoEncoder.fit(x=X,y=Y,epochs=5,batch_size=32)"
   ]
  },
  {
   "cell_type": "code",
   "execution_count": null,
   "metadata": {},
   "outputs": [],
   "source": []
  }
 ],
 "metadata": {
  "kernelspec": {
   "display_name": "Python 3",
   "language": "python",
   "name": "python3"
  },
  "language_info": {
   "codemirror_mode": {
    "name": "ipython",
    "version": 3
   },
   "file_extension": ".py",
   "mimetype": "text/x-python",
   "name": "python",
   "nbconvert_exporter": "python",
   "pygments_lexer": "ipython3",
   "version": "3.5.5"
  }
 },
 "nbformat": 4,
 "nbformat_minor": 2
}
